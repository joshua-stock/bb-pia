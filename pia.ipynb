{
 "cells": [
  {
   "cell_type": "markdown",
   "source": [
    "## Load adversary"
   ],
   "metadata": {
    "collapsed": false
   },
   "id": "356e3cd147019af5"
  },
  {
   "cell_type": "code",
   "outputs": [
    {
     "name": "stderr",
     "output_type": "stream",
     "text": [
      "2024-01-16 16:42:43.150231: E external/local_xla/xla/stream_executor/cuda/cuda_dnn.cc:9261] Unable to register cuDNN factory: Attempting to register factory for plugin cuDNN when one has already been registered\n",
      "2024-01-16 16:42:43.150265: E external/local_xla/xla/stream_executor/cuda/cuda_fft.cc:607] Unable to register cuFFT factory: Attempting to register factory for plugin cuFFT when one has already been registered\n",
      "2024-01-16 16:42:43.151138: E external/local_xla/xla/stream_executor/cuda/cuda_blas.cc:1515] Unable to register cuBLAS factory: Attempting to register factory for plugin cuBLAS when one has already been registered\n",
      "2024-01-16 16:42:43.156634: I tensorflow/core/platform/cpu_feature_guard.cc:182] This TensorFlow binary is optimized to use available CPU instructions in performance-critical operations.\n",
      "To enable the following instructions: AVX2 FMA, in other operations, rebuild TensorFlow with the appropriate compiler flags.\n",
      "2024-01-16 16:42:44.024179: W tensorflow/compiler/tf2tensorrt/utils/py_utils.cc:38] TF-TRT Warning: Could not find TensorRT\n"
     ]
    }
   ],
   "source": [
    "import numpy as np\n",
    "from tensorflow import keras\n",
    "\n",
    "adversary = keras.models.load_model('adv_0.52_test_r2')"
   ],
   "metadata": {
    "collapsed": true,
    "ExecuteTime": {
     "end_time": "2024-01-16T15:42:45.211107511Z",
     "start_time": "2024-01-16T15:42:42.729325989Z"
    }
   },
   "id": "initial_id",
   "execution_count": 1
  },
  {
   "cell_type": "markdown",
   "source": [
    "## Create (target) model"
   ],
   "metadata": {
    "collapsed": false
   },
   "id": "8e3131e765af9758"
  },
  {
   "cell_type": "code",
   "outputs": [],
   "source": [
    "from pia_functions import train_gradient_boosting_shadow_model, data_train_test\n",
    "import pandas as pd"
   ],
   "metadata": {
    "collapsed": false,
    "ExecuteTime": {
     "end_time": "2024-01-16T15:43:43.965682042Z",
     "start_time": "2024-01-16T15:43:43.563101101Z"
    }
   },
   "id": "6eeefbee2a431b4b",
   "execution_count": 2
  },
  {
   "cell_type": "code",
   "outputs": [],
   "source": [
    "# load data\n",
    "X_train, X_test, y_train, y_test, sensitive, sensitive_t = data_train_test()\n",
    "# create model\n",
    "gb = train_gradient_boosting_shadow_model(X_train, y_train, 0)"
   ],
   "metadata": {
    "collapsed": false,
    "ExecuteTime": {
     "end_time": "2024-01-16T15:44:00.574758942Z",
     "start_time": "2024-01-16T15:43:45.229601524Z"
    }
   },
   "id": "ec1ef61f793cc16d",
   "execution_count": 3
  },
  {
   "cell_type": "markdown",
   "source": [
    "## Generate model output"
   ],
   "metadata": {
    "collapsed": false
   },
   "id": "1a6315cffa45d03b"
  },
  {
   "cell_type": "code",
   "outputs": [],
   "source": [
    "# load synthetic model input\n",
    "model_input = pd.read_csv('data/syn_data.csv', names=X_train.columns)\n",
    "# generate model output\n",
    "out = gb.predict_proba(model_input)\n",
    "# reformat model output\n",
    "adversary_input = np.expand_dims(out.flatten(), axis=0)"
   ],
   "metadata": {
    "collapsed": false,
    "ExecuteTime": {
     "end_time": "2024-01-16T15:45:13.134120237Z",
     "start_time": "2024-01-16T15:45:12.928885162Z"
    }
   },
   "id": "38e529c09c7e28b2",
   "execution_count": 5
  },
  {
   "cell_type": "code",
   "outputs": [],
   "source": [
    "# next version (with new adversary):\n",
    "#model_input = pd.read_csv('data/syn_data-new.csv')\n",
    "#out = gb.predict_proba(model_input)\n",
    "#adversary_input = np.expand_dims(out[:,0], axis=0)"
   ],
   "metadata": {
    "collapsed": false
   },
   "id": "8fe3de3847d8a3a"
  },
  {
   "cell_type": "markdown",
   "source": [
    "## Attack"
   ],
   "metadata": {
    "collapsed": false
   },
   "id": "388940ef8c7e91c3"
  },
  {
   "cell_type": "code",
   "outputs": [
    {
     "name": "stdout",
     "output_type": "stream",
     "text": [
      "1/1 [==============================] - 0s 79ms/step\n"
     ]
    },
    {
     "data": {
      "text/plain": "array([[0.73505074]], dtype=float32)"
     },
     "execution_count": 6,
     "metadata": {},
     "output_type": "execute_result"
    }
   ],
   "source": [
    "# generate adversary prediction\n",
    "adversary.predict(adversary_input)"
   ],
   "metadata": {
    "collapsed": false,
    "ExecuteTime": {
     "end_time": "2024-01-16T15:45:17.899804469Z",
     "start_time": "2024-01-16T15:45:17.737525825Z"
    }
   },
   "id": "2f53922f2fec2760",
   "execution_count": 6
  },
  {
   "cell_type": "markdown",
   "source": [
    "Result interpretation: The adversary has inferred that 73.5% of the target model's training data are male samples. "
   ],
   "metadata": {
    "collapsed": false
   },
   "id": "a5c77491bbf26b64"
  },
  {
   "cell_type": "code",
   "outputs": [],
   "source": [],
   "metadata": {
    "collapsed": false
   },
   "id": "a8390eb83d6c1da8"
  }
 ],
 "metadata": {
  "kernelspec": {
   "display_name": "Python 3",
   "language": "python",
   "name": "python3"
  },
  "language_info": {
   "codemirror_mode": {
    "name": "ipython",
    "version": 2
   },
   "file_extension": ".py",
   "mimetype": "text/x-python",
   "name": "python",
   "nbconvert_exporter": "python",
   "pygments_lexer": "ipython2",
   "version": "2.7.6"
  }
 },
 "nbformat": 4,
 "nbformat_minor": 5
}
