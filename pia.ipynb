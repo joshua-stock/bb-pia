{
 "cells": [
  {
   "cell_type": "markdown",
   "id": "356e3cd147019af5",
   "metadata": {
    "collapsed": false
   },
   "source": [
    "## Load adversary"
   ]
  },
  {
   "cell_type": "code",
   "execution_count": 8,
   "id": "initial_id",
   "metadata": {
    "ExecuteTime": {
     "end_time": "2024-01-18T15:27:03.152859929Z",
     "start_time": "2024-01-18T15:26:59.936053204Z"
    },
    "collapsed": true
   },
   "outputs": [],
   "source": [
    "import numpy as np\n",
    "from tensorflow import keras\n",
    "\n",
    "adversary = keras.models.load_model('models/adv_new_0.65_test_r2')"
   ]
  },
  {
   "cell_type": "markdown",
   "id": "8e3131e765af9758",
   "metadata": {
    "collapsed": false
   },
   "source": [
    "## Create (target) model"
   ]
  },
  {
   "cell_type": "code",
   "execution_count": 9,
   "id": "6eeefbee2a431b4b",
   "metadata": {
    "ExecuteTime": {
     "end_time": "2024-01-18T15:27:03.154264Z",
     "start_time": "2024-01-18T15:27:03.152568308Z"
    },
    "collapsed": false
   },
   "outputs": [],
   "source": [
    "from pia_functions import train_gradient_boosting_shadow_model, data_train_test\n",
    "import pandas as pd"
   ]
  },
  {
   "cell_type": "code",
   "execution_count": 10,
   "id": "ec1ef61f793cc16d",
   "metadata": {
    "ExecuteTime": {
     "end_time": "2024-01-18T15:27:16.847674648Z",
     "start_time": "2024-01-18T15:27:03.152972218Z"
    },
    "collapsed": false
   },
   "outputs": [],
   "source": [
    "# load data\n",
    "X_train, X_test, y_train, y_test, sensitive, sensitive_t = data_train_test()\n",
    "# create model\n",
    "gb = train_gradient_boosting_shadow_model(X_train, y_train, 0)"
   ]
  },
  {
   "cell_type": "markdown",
   "id": "1a6315cffa45d03b",
   "metadata": {
    "collapsed": false
   },
   "source": [
    "## Generate model output"
   ]
  },
  {
   "cell_type": "code",
   "execution_count": 11,
   "id": "38e529c09c7e28b2",
   "metadata": {
    "ExecuteTime": {
     "end_time": "2024-01-18T15:27:16.873456404Z",
     "start_time": "2024-01-18T15:27:16.847195092Z"
    },
    "collapsed": false
   },
   "outputs": [],
   "source": [
    "# load synthetic model input\n",
    "model_input = pd.read_csv('data/syn_data-new.csv')\n",
    "# generate model output\n",
    "out = gb.predict_proba(model_input)\n",
    "# reformat model output\n",
    "adversary_input = np.expand_dims(out[:,0], axis=0)"
   ]
  },
  {
   "cell_type": "markdown",
   "id": "388940ef8c7e91c3",
   "metadata": {
    "collapsed": false
   },
   "source": [
    "## Attack"
   ]
  },
  {
   "cell_type": "code",
   "execution_count": 12,
   "id": "2f53922f2fec2760",
   "metadata": {
    "ExecuteTime": {
     "end_time": "2024-01-18T15:27:16.909460745Z",
     "start_time": "2024-01-18T15:27:16.907657273Z"
    },
    "collapsed": false
   },
   "outputs": [
    {
     "name": "stdout",
     "output_type": "stream",
     "text": [
      "1/1 [==============================] - 0s 81ms/step\n"
     ]
    },
    {
     "data": {
      "text/plain": [
       "array([[0.8010835]], dtype=float32)"
      ]
     },
     "execution_count": 12,
     "metadata": {},
     "output_type": "execute_result"
    }
   ],
   "source": [
    "# generate adversary prediction\n",
    "adversary.predict(adversary_input)"
   ]
  },
  {
   "cell_type": "markdown",
   "id": "a5c77491bbf26b64",
   "metadata": {
    "collapsed": false
   },
   "source": [
    "Result interpretation: The adversary has inferred that 80.1% of the target model's training data are male samples. "
   ]
  },
  {
   "cell_type": "code",
   "id": "a8390eb83d6c1da8",
   "metadata": {
    "collapsed": false
   },
   "outputs": [],
   "source": []
  }
 ],
 "metadata": {
  "kernelspec": {
   "display_name": "Python 3",
   "language": "python",
   "name": "python3"
  },
  "language_info": {
   "codemirror_mode": {
    "name": "ipython",
    "version": 2
   },
   "file_extension": ".py",
   "mimetype": "text/x-python",
   "name": "python",
   "nbconvert_exporter": "python",
   "pygments_lexer": "ipython2",
   "version": "2.7.6"
  }
 },
 "nbformat": 4,
 "nbformat_minor": 5
}
