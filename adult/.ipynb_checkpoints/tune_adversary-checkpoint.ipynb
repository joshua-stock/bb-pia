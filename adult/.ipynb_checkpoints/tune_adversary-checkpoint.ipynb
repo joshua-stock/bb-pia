{
 "cells": [
  {
   "cell_type": "code",
   "execution_count": 1,
   "id": "initial_id",
   "metadata": {
    "ExecuteTime": {
     "end_time": "2024-01-17T11:40:12.812482168Z",
     "start_time": "2024-01-17T11:40:09.808456824Z"
    },
    "tags": []
   },
   "outputs": [
    {
     "name": "stdout",
     "output_type": "stream",
     "text": [
      "Using TensorFlow backend\n"
     ]
    },
    {
     "name": "stderr",
     "output_type": "stream",
     "text": [
      "2024-01-17 11:39:37.091399: I tensorflow/tsl/cuda/cudart_stub.cc:28] Could not find cuda drivers on your machine, GPU will not be used.\n",
      "2024-01-17 11:39:37.131946: E tensorflow/compiler/xla/stream_executor/cuda/cuda_dnn.cc:9342] Unable to register cuDNN factory: Attempting to register factory for plugin cuDNN when one has already been registered\n",
      "2024-01-17 11:39:37.132023: E tensorflow/compiler/xla/stream_executor/cuda/cuda_fft.cc:609] Unable to register cuFFT factory: Attempting to register factory for plugin cuFFT when one has already been registered\n",
      "2024-01-17 11:39:37.132075: E tensorflow/compiler/xla/stream_executor/cuda/cuda_blas.cc:1518] Unable to register cuBLAS factory: Attempting to register factory for plugin cuBLAS when one has already been registered\n",
      "2024-01-17 11:39:37.143548: I tensorflow/tsl/cuda/cudart_stub.cc:28] Could not find cuda drivers on your machine, GPU will not be used.\n",
      "2024-01-17 11:39:37.144682: I tensorflow/core/platform/cpu_feature_guard.cc:182] This TensorFlow binary is optimized to use available CPU instructions in performance-critical operations.\n",
      "To enable the following instructions: AVX2 FMA, in other operations, rebuild TensorFlow with the appropriate compiler flags.\n",
      "2024-01-17 11:39:37.859175: W tensorflow/compiler/tf2tensorrt/utils/py_utils.cc:38] TF-TRT Warning: Could not find TensorRT\n"
     ]
    }
   ],
   "source": [
    "import keras_tuner\n",
    "from tensorflow import keras\n",
    "from keras_tuner.tuners import RandomSearch\n",
    "import pandas as pd"
   ]
  },
  {
   "cell_type": "code",
   "execution_count": 2,
   "id": "f15ee4d695a97d72",
   "metadata": {
    "ExecuteTime": {
     "end_time": "2024-01-17T11:40:22.092755345Z",
     "start_time": "2024-01-17T11:40:12.805851637Z"
    },
    "collapsed": false
   },
   "outputs": [],
   "source": [
    "#adv_df = pd.read_csv(\"./data/shadow_model_outputs.csv\")\n",
    "adv_df = pd.read_csv(\"data/shadow_model_outputs_proba-new.csv\")\n",
    "adv_ddf_shuffled = adv_df.sample(frac=1, random_state=1).reset_index(drop=True)#.drop(columns=[\"Unnamed: 0\"])\n",
    "adv_y = adv_ddf_shuffled[\"y\"]\n",
    "adv_X = adv_ddf_shuffled.drop(columns=[\"y\"])"
   ]
  },
  {
   "cell_type": "code",
   "execution_count": 3,
   "id": "3d8a9d532a4d438c",
   "metadata": {
    "ExecuteTime": {
     "end_time": "2024-01-17T11:40:26.468499372Z",
     "start_time": "2024-01-17T11:40:22.093280945Z"
    },
    "collapsed": false
   },
   "outputs": [],
   "source": [
    "adv_df_test = pd.read_csv(\"data/shadow_model_outputs_proba-new_test_set.csv\")\n",
    "#adv_df_test = pd.read_csv(\"./data/shadow_model_outputs_test_set.csv\")\n",
    "adv_ddf_shuffled_test = adv_df_test.sample(frac=1, random_state=1).reset_index(drop=True)#.drop(columns=[\"Unnamed: 0\"])\n",
    "adv_y_test = adv_ddf_shuffled_test[\"y\"]\n",
    "adv_X_test = adv_ddf_shuffled_test.drop(columns=[\"y\"])"
   ]
  },
  {
   "cell_type": "code",
   "execution_count": 13,
   "id": "3b2e58c46c956160",
   "metadata": {
    "ExecuteTime": {
     "end_time": "2024-01-17T14:17:25.062005227Z",
     "start_time": "2024-01-17T14:17:25.020458783Z"
    },
    "collapsed": false
   },
   "outputs": [],
   "source": [
    "class MyHyperModel(keras_tuner.HyperModel):\n",
    "    def build(self, hp):\n",
    "        model = keras.Sequential()\n",
    "        model.add(keras.layers.Dense(hp.Int('units_dense0', min_value=24, max_value=40, step=4)))\n",
    "        #if hp.Boolean(\"relu_dense0\"):\n",
    "        #    model.add(keras.layers.Activation(keras.activations.relu))\n",
    "        #model.add(keras.layers.Dropout(rate=hp.Float('dropout_rate', min_value=0.01, max_value=0.03, step=0.01)))\n",
    "        model.add(keras.layers.Dense(hp.Int('units_dense1', min_value=6, max_value=14, step=2)))\n",
    "        #if hp.Boolean(\"relu_dense1\"):\n",
    "        #    model.add(keras.layers.Activation(keras.activations.relu))\n",
    "        model.add(keras.layers.Dense(1))\n",
    "        model.compile(optimizer=\"adam\", loss=keras.losses.MeanSquaredError(), metrics=keras.metrics.R2Score())\n",
    "        return model\n",
    "    def fit(self, hp, model, *args, **kwargs):\n",
    "        return model.fit(\n",
    "            *args,\n",
    "            batch_size=hp.Choice(\"batch_size\", [10, 18, 24]),\n",
    "            **kwargs,\n",
    "        )\n"
   ]
  },
  {
   "cell_type": "code",
   "execution_count": 14,
   "id": "62ce3f3754416f4",
   "metadata": {
    "ExecuteTime": {
     "end_time": "2024-01-17T14:17:25.704984307Z",
     "start_time": "2024-01-17T14:17:25.685121582Z"
    },
    "collapsed": false
   },
   "outputs": [],
   "source": [
    "from keras_tuner import Objective\n",
    "tuner = RandomSearch(\n",
    "    MyHyperModel(),\n",
    "    #objective=keras_tuner.Objective('val_r2_score', direction='max'),\n",
    "    objective = Objective(name=\"val_r2_score\", direction=\"max\"),\n",
    "    max_trials = 50,\n",
    "    executions_per_trial = 4,\n",
    "    tuner_id=\"17.01.regression.adversary.cgpt\"\n",
    ")"
   ]
  },
  {
   "cell_type": "code",
   "execution_count": null,
   "id": "870e521b3fa80836",
   "metadata": {
    "collapsed": false,
    "is_executing": true
   },
   "outputs": [
    {
     "name": "stdout",
     "output_type": "stream",
     "text": [
      "Trial 36 Complete [00h 02m 30s]\n",
      "val_r2_score: 0.3863646537065506\n",
      "\n",
      "Best val_r2_score So Far: 0.38754263520240784\n",
      "Total elapsed time: 01h 40m 05s\n",
      "\n",
      "Search: Running Trial #37\n",
      "\n",
      "Value             |Best Value So Far |Hyperparameter\n",
      "24                |28                |units_dense0\n",
      "14                |6                 |units_dense1\n",
      "18                |10                |batch_size\n",
      "Epoch 1/200\n",
      "200/200 [==============================] - 2s 6ms/step - loss: 46.9086 - r2_score: -702.6303 - val_loss: 0.1252 - val_r2_score: -0.8780\n",
      "Epoch 2/200\n",
      "200/200 [==============================] - 1s 4ms/step - loss: 0.0047 - r2_score: 0.9292 - val_loss: 0.1079 - val_r2_score: -0.6191\n",
      "Epoch 3/200\n",
      "200/200 [==============================] - 1s 4ms/step - loss: 0.0024 - r2_score: 0.9647 - val_loss: 0.1082 - val_r2_score: -0.6226\n",
      "Epoch 4/200\n",
      "200/200 [==============================] - 1s 4ms/step - loss: 0.0016 - r2_score: 0.9758 - val_loss: 0.1070 - val_r2_score: -0.6051\n",
      "Epoch 5/200\n",
      "200/200 [==============================] - 1s 4ms/step - loss: 0.0014 - r2_score: 0.9793 - val_loss: 0.1086 - val_r2_score: -0.6285\n",
      "Epoch 6/200\n",
      "200/200 [==============================] - 1s 4ms/step - loss: 0.0011 - r2_score: 0.9839 - val_loss: 0.1026 - val_r2_score: -0.5391\n",
      "Epoch 7/200\n",
      "200/200 [==============================] - 1s 4ms/step - loss: 0.0013 - r2_score: 0.9809 - val_loss: 0.1069 - val_r2_score: -0.6037\n",
      "Epoch 8/200\n",
      "200/200 [==============================] - 1s 4ms/step - loss: 0.0016 - r2_score: 0.9762 - val_loss: 0.1087 - val_r2_score: -0.6298\n",
      "Epoch 9/200\n",
      "200/200 [==============================] - 1s 4ms/step - loss: 8.1010e-04 - r2_score: 0.9878 - val_loss: 0.1208 - val_r2_score: -0.8121\n",
      "Epoch 10/200\n",
      "200/200 [==============================] - 1s 3ms/step - loss: 0.0020 - r2_score: 0.9697 - val_loss: 0.1062 - val_r2_score: -0.5925\n",
      "Epoch 11/200\n",
      "200/200 [==============================] - 1s 4ms/step - loss: 0.0012 - r2_score: 0.9823 - val_loss: 0.1095 - val_r2_score: -0.6425\n",
      "Epoch 12/200\n",
      "200/200 [==============================] - 1s 4ms/step - loss: 0.0018 - r2_score: 0.9734 - val_loss: 0.1033 - val_r2_score: -0.5491\n",
      "Epoch 13/200\n",
      "200/200 [==============================] - 1s 4ms/step - loss: 0.0041 - r2_score: 0.9379 - val_loss: 0.1018 - val_r2_score: -0.5273\n",
      "Epoch 14/200\n",
      "200/200 [==============================] - 1s 4ms/step - loss: 0.6444 - r2_score: -8.6660 - val_loss: 0.0902 - val_r2_score: -0.3531\n",
      "Epoch 15/200\n",
      "200/200 [==============================] - 1s 4ms/step - loss: 0.0021 - r2_score: 0.9684 - val_loss: 0.0935 - val_r2_score: -0.4020\n",
      "Epoch 16/200\n",
      "200/200 [==============================] - 1s 3ms/step - loss: 0.0038 - r2_score: 0.9434 - val_loss: 0.0959 - val_r2_score: -0.4380\n",
      "Epoch 17/200\n",
      "200/200 [==============================] - 1s 4ms/step - loss: 0.2389 - r2_score: -2.5835 - val_loss: 0.2314 - val_r2_score: -2.4717\n",
      "Epoch 18/200\n",
      "200/200 [==============================] - 1s 4ms/step - loss: 0.0478 - r2_score: 0.2825 - val_loss: 0.4208 - val_r2_score: -5.3127\n",
      "Epoch 19/200\n",
      "200/200 [==============================] - 1s 4ms/step - loss: 0.1217 - r2_score: -0.8252 - val_loss: 0.0925 - val_r2_score: -0.3875\n",
      "Epoch 20/200\n",
      "200/200 [==============================] - 1s 3ms/step - loss: 0.1536 - r2_score: -1.3047 - val_loss: 0.1180 - val_r2_score: -0.7703\n",
      "Epoch 21/200\n",
      "200/200 [==============================] - 1s 4ms/step - loss: 0.0774 - r2_score: -0.1606 - val_loss: 0.1745 - val_r2_score: -1.6171\n",
      "Epoch 22/200\n",
      "200/200 [==============================] - 1s 3ms/step - loss: 0.1240 - r2_score: -0.8597 - val_loss: 0.1087 - val_r2_score: -0.6310\n",
      "Epoch 23/200\n",
      "200/200 [==============================] - 1s 3ms/step - loss: 0.0044 - r2_score: 0.9337 - val_loss: 0.0946 - val_r2_score: -0.4196\n",
      "Epoch 24/200\n",
      "200/200 [==============================] - 1s 3ms/step - loss: 0.0466 - r2_score: 0.3013 - val_loss: 0.2734 - val_r2_score: -3.1016\n",
      "Epoch 25/200\n",
      "200/200 [==============================] - 1s 3ms/step - loss: 0.0378 - r2_score: 0.4332 - val_loss: 0.1467 - val_r2_score: -1.1999\n",
      "Epoch 26/200\n",
      "200/200 [==============================] - 1s 3ms/step - loss: 0.0396 - r2_score: 0.4056 - val_loss: 0.0927 - val_r2_score: -0.3908\n",
      "Epoch 27/200\n",
      "200/200 [==============================] - 1s 3ms/step - loss: 0.0456 - r2_score: 0.3166 - val_loss: 0.0924 - val_r2_score: -0.3866\n",
      "Epoch 28/200\n",
      "200/200 [==============================] - 1s 4ms/step - loss: 0.0272 - r2_score: 0.5923 - val_loss: 0.0895 - val_r2_score: -0.3428\n",
      "Epoch 29/200\n",
      "200/200 [==============================] - 1s 3ms/step - loss: 0.0168 - r2_score: 0.7479 - val_loss: 0.0903 - val_r2_score: -0.3542\n",
      "Epoch 30/200\n",
      "200/200 [==============================] - 1s 4ms/step - loss: 0.0224 - r2_score: 0.6633 - val_loss: 0.0872 - val_r2_score: -0.3082\n",
      "Epoch 31/200\n",
      "200/200 [==============================] - 1s 4ms/step - loss: 0.0137 - r2_score: 0.7944 - val_loss: 0.0862 - val_r2_score: -0.2923\n",
      "Epoch 32/200\n",
      "200/200 [==============================] - 1s 3ms/step - loss: 0.0174 - r2_score: 0.7385 - val_loss: 0.0845 - val_r2_score: -0.2676\n",
      "Epoch 33/200\n",
      "200/200 [==============================] - 1s 3ms/step - loss: 0.0142 - r2_score: 0.7872 - val_loss: 0.0877 - val_r2_score: -0.3157\n",
      "Epoch 34/200\n",
      "200/200 [==============================] - 1s 3ms/step - loss: 0.0071 - r2_score: 0.8936 - val_loss: 0.0981 - val_r2_score: -0.4710\n",
      "Epoch 35/200\n",
      "200/200 [==============================] - 1s 4ms/step - loss: 0.0169 - r2_score: 0.7470 - val_loss: 0.0847 - val_r2_score: -0.2712\n",
      "Epoch 36/200\n",
      "200/200 [==============================] - 1s 3ms/step - loss: 0.0034 - r2_score: 0.9495 - val_loss: 0.0892 - val_r2_score: -0.3381\n",
      "Epoch 37/200\n",
      "200/200 [==============================] - 1s 5ms/step - loss: 0.0063 - r2_score: 0.9056 - val_loss: 0.0874 - val_r2_score: -0.3113\n",
      "Epoch 38/200\n",
      "200/200 [==============================] - 1s 7ms/step - loss: 0.0043 - r2_score: 0.9362 - val_loss: 0.0964 - val_r2_score: -0.4467\n",
      "Epoch 39/200\n",
      "200/200 [==============================] - 1s 7ms/step - loss: 0.0042 - r2_score: 0.9365 - val_loss: 0.0825 - val_r2_score: -0.2381\n",
      "Epoch 40/200\n",
      "200/200 [==============================] - 1s 4ms/step - loss: 0.0038 - r2_score: 0.9429 - val_loss: 0.0905 - val_r2_score: -0.3581\n",
      "Epoch 41/200\n",
      "200/200 [==============================] - 1s 3ms/step - loss: 0.0036 - r2_score: 0.9458 - val_loss: 0.0876 - val_r2_score: -0.3142\n",
      "Epoch 42/200\n",
      "200/200 [==============================] - 1s 6ms/step - loss: 0.0031 - r2_score: 0.9533 - val_loss: 0.0875 - val_r2_score: -0.3120\n",
      "Epoch 43/200\n",
      "200/200 [==============================] - 2s 8ms/step - loss: 0.0028 - r2_score: 0.9574 - val_loss: 0.0906 - val_r2_score: -0.3592\n",
      "Epoch 44/200\n",
      "200/200 [==============================] - 1s 6ms/step - loss: 0.0012 - r2_score: 0.9827 - val_loss: 0.0907 - val_r2_score: -0.3609\n",
      "Epoch 45/200\n",
      "200/200 [==============================] - 1s 4ms/step - loss: 0.0019 - r2_score: 0.9708 - val_loss: 0.0799 - val_r2_score: -0.1979\n",
      "Epoch 46/200\n",
      "200/200 [==============================] - 1s 6ms/step - loss: 0.0016 - r2_score: 0.9757 - val_loss: 0.0855 - val_r2_score: -0.2829\n",
      "Epoch 47/200\n",
      "200/200 [==============================] - 1s 7ms/step - loss: 4.6388e-04 - r2_score: 0.9930 - val_loss: 0.0833 - val_r2_score: -0.2491\n",
      "Epoch 48/200\n",
      "200/200 [==============================] - 1s 6ms/step - loss: 0.0012 - r2_score: 0.9823 - val_loss: 0.0830 - val_r2_score: -0.2453\n",
      "Epoch 1/200\n",
      "200/200 [==============================] - 2s 6ms/step - loss: 42.8229 - r2_score: -641.3427 - val_loss: 0.0833 - val_r2_score: -0.2492\n",
      "Epoch 2/200\n",
      "200/200 [==============================] - 1s 7ms/step - loss: 0.0081 - r2_score: 0.8781 - val_loss: 0.0784 - val_r2_score: -0.1766\n",
      "Epoch 3/200\n",
      "200/200 [==============================] - 1s 6ms/step - loss: 0.0034 - r2_score: 0.9496 - val_loss: 0.0812 - val_r2_score: -0.2180\n",
      "Epoch 4/200\n",
      "200/200 [==============================] - 1s 6ms/step - loss: 0.0018 - r2_score: 0.9724 - val_loss: 0.0835 - val_r2_score: -0.2526\n",
      "Epoch 5/200\n",
      "200/200 [==============================] - 1s 3ms/step - loss: 0.0013 - r2_score: 0.9805 - val_loss: 0.0821 - val_r2_score: -0.2318\n",
      "Epoch 6/200\n",
      "200/200 [==============================] - 1s 3ms/step - loss: 0.0015 - r2_score: 0.9778 - val_loss: 0.0779 - val_r2_score: -0.1688\n",
      "Epoch 7/200\n",
      "200/200 [==============================] - 1s 3ms/step - loss: 0.0012 - r2_score: 0.9818 - val_loss: 0.0825 - val_r2_score: -0.2379\n",
      "Epoch 8/200\n",
      "200/200 [==============================] - 1s 7ms/step - loss: 8.4600e-04 - r2_score: 0.9873 - val_loss: 0.0888 - val_r2_score: -0.3313\n",
      "Epoch 9/200\n",
      "200/200 [==============================] - 1s 4ms/step - loss: 9.3959e-04 - r2_score: 0.9859 - val_loss: 0.0919 - val_r2_score: -0.3790\n",
      "Epoch 10/200\n",
      "200/200 [==============================] - 1s 3ms/step - loss: 8.3700e-04 - r2_score: 0.9874 - val_loss: 0.0872 - val_r2_score: -0.3075\n",
      "Epoch 11/200\n",
      "  1/200 [..............................] - ETA: 1s - loss: 3.9266e-04 - r2_score: 0.9942"
     ]
    }
   ],
   "source": [
    "tuner.search(adv_X, adv_y, epochs=200, validation_data=(adv_X_test, adv_y_test), callbacks=[keras.callbacks.EarlyStopping('val_r2_score', patience=30)])"
   ]
  },
  {
   "cell_type": "code",
   "execution_count": null,
   "id": "f373e4e89d97638c",
   "metadata": {
    "collapsed": false
   },
   "outputs": [],
   "source": [
    "models = tuner.get_best_models(num_models=5)"
   ]
  },
  {
   "cell_type": "code",
   "execution_count": 17,
   "id": "190d4075d56d9237",
   "metadata": {
    "ExecuteTime": {
     "end_time": "2024-01-18T11:42:21.984008108Z",
     "start_time": "2024-01-18T11:42:21.555564322Z"
    },
    "collapsed": false
   },
   "outputs": [
    {
     "name": "stdout",
     "output_type": "stream",
     "text": [
      "Results summary\n",
      "Results in ./untitled_project\n",
      "Showing 10 best trials\n",
      "Objective(name=\"val_r2_score\", direction=\"max\")\n",
      "\n",
      "Trial 07 summary\n",
      "Hyperparameters:\n",
      "units_dense0: 28\n",
      "units_dense1: 6\n",
      "batch_size: 10\n",
      "Score: 0.38754263520240784\n",
      "\n",
      "Trial 35 summary\n",
      "Hyperparameters:\n",
      "units_dense0: 40\n",
      "units_dense1: 6\n",
      "batch_size: 24\n",
      "Score: 0.3863646537065506\n",
      "\n",
      "Trial 32 summary\n",
      "Hyperparameters:\n",
      "units_dense0: 36\n",
      "units_dense1: 6\n",
      "batch_size: 10\n",
      "Score: 0.3810035139322281\n",
      "\n",
      "Trial 29 summary\n",
      "Hyperparameters:\n",
      "units_dense0: 24\n",
      "units_dense1: 8\n",
      "batch_size: 24\n",
      "Score: 0.3312181830406189\n",
      "\n",
      "Trial 05 summary\n",
      "Hyperparameters:\n",
      "units_dense0: 32\n",
      "units_dense1: 12\n",
      "batch_size: 10\n",
      "Score: 0.32719068229198456\n",
      "\n",
      "Trial 27 summary\n",
      "Hyperparameters:\n",
      "units_dense0: 24\n",
      "units_dense1: 14\n",
      "batch_size: 10\n",
      "Score: 0.3196559399366379\n",
      "\n",
      "Trial 17 summary\n",
      "Hyperparameters:\n",
      "units_dense0: 40\n",
      "units_dense1: 12\n",
      "batch_size: 24\n",
      "Score: 0.302568644285202\n",
      "\n",
      "Trial 23 summary\n",
      "Hyperparameters:\n",
      "units_dense0: 32\n",
      "units_dense1: 6\n",
      "batch_size: 10\n",
      "Score: 0.29553239047527313\n",
      "\n",
      "Trial 43 summary\n",
      "Hyperparameters:\n",
      "units_dense0: 24\n",
      "units_dense1: 6\n",
      "batch_size: 18\n",
      "Score: 0.2878763824701309\n",
      "\n",
      "Trial 39 summary\n",
      "Hyperparameters:\n",
      "units_dense0: 24\n",
      "units_dense1: 8\n",
      "batch_size: 18\n",
      "Score: 0.28309178352355957\n"
     ]
    }
   ],
   "source": [
    "tuner.results_summary()"
   ]
  },
  {
   "cell_type": "code",
   "execution_count": null,
   "id": "40a598637b000634",
   "metadata": {
    "collapsed": false
   },
   "outputs": [],
   "source": [
    "best_model = models[0]"
   ]
  },
  {
   "cell_type": "code",
   "execution_count": 10,
   "id": "9e82a29b865e9809",
   "metadata": {
    "ExecuteTime": {
     "end_time": "2024-01-17T14:14:52.193884158Z",
     "start_time": "2024-01-17T14:14:52.163241705Z"
    },
    "collapsed": false
   },
   "outputs": [],
   "source": [
    "best_model.build(input_shape=(None,adv_X.shape[1],))"
   ]
  },
  {
   "cell_type": "code",
   "execution_count": 12,
   "id": "faba38dab7f4a9ad",
   "metadata": {
    "ExecuteTime": {
     "end_time": "2024-01-17T14:15:05.708180168Z",
     "start_time": "2024-01-17T14:15:04.863406573Z"
    },
    "collapsed": false
   },
   "outputs": [
    {
     "name": "stdout",
     "output_type": "stream",
     "text": [
      "WARNING:tensorflow:Skipping full serialization of Keras layer R2Score(name=r2_score,dtype=float32,class_aggregation=uniform_average,num_regressors=0), because it is not built.\n"
     ]
    },
    {
     "name": "stderr",
     "output_type": "stream",
     "text": [
      "WARNING:tensorflow:Skipping full serialization of Keras layer R2Score(name=r2_score,dtype=float32,class_aggregation=uniform_average,num_regressors=0), because it is not built.\n"
     ]
    },
    {
     "name": "stdout",
     "output_type": "stream",
     "text": [
      "INFO:tensorflow:Assets written to: adv_new_0.40_test_r2/assets\n"
     ]
    },
    {
     "name": "stderr",
     "output_type": "stream",
     "text": [
      "INFO:tensorflow:Assets written to: adv_new_0.40_test_r2/assets\n"
     ]
    }
   ],
   "source": [
    "best_model.save(\"models/adv_new_0.40_test_r2\")\n",
    "#X_train, y_train, X_test, y_test, _, _ = data_train_test(train_size=0.7)"
   ]
  },
  {
   "cell_type": "code",
   "execution_count": 40,
   "id": "6416edcaafdaac01",
   "metadata": {
    "ExecuteTime": {
     "end_time": "2023-12-14T08:40:53.062646670Z",
     "start_time": "2023-12-14T08:40:51.384868996Z"
    },
    "collapsed": false
   },
   "outputs": [
    {
     "name": "stdout",
     "output_type": "stream",
     "text": [
      "57/57 [==============================] - 0s 2ms/step\n"
     ]
    },
    {
     "data": {
      "text/plain": [
       "array([[0.5596606 ],\n",
       "       [0.4603508 ],\n",
       "       [0.4807027 ],\n",
       "       ...,\n",
       "       [0.62426335],\n",
       "       [0.4381116 ],\n",
       "       [0.584784  ]], dtype=float32)"
      ]
     },
     "execution_count": 40,
     "metadata": {},
     "output_type": "execute_result"
    }
   ],
   "source": [
    "best_model.predict(adv_X_test)"
   ]
  },
  {
   "cell_type": "markdown",
   "id": "22c608497f2af32a",
   "metadata": {
    "collapsed": false
   },
   "source": [
    "## Manual Tuning (new)"
   ]
  },
  {
   "cell_type": "code",
   "execution_count": 60,
   "id": "89da0cc1d72cf595",
   "metadata": {
    "ExecuteTime": {
     "end_time": "2024-01-18T15:22:00.160096835Z",
     "start_time": "2024-01-18T15:22:00.110640702Z"
    },
    "collapsed": false
   },
   "outputs": [],
   "source": [
    "manual_adversary = keras.Sequential()\n",
    "manual_adversary.add(keras.Input(shape=(adv_X.shape[1],)))\n",
    "manual_adversary.add(keras.layers.Dense(28))\n",
    "manual_adversary.add(keras.layers.Dense(6))\n",
    "manual_adversary.add(keras.layers.Dense(1))\n",
    "manual_adversary.compile(optimizer=keras.optimizers.Adam(), loss=keras.losses.MeanSquaredError(), metrics=keras.metrics.R2Score())"
   ]
  },
  {
   "cell_type": "code",
   "execution_count": 61,
   "id": "be9df74a5fd2f9ff",
   "metadata": {
    "ExecuteTime": {
     "end_time": "2024-01-18T15:22:25.207457288Z",
     "start_time": "2024-01-18T15:22:00.197813723Z"
    },
    "collapsed": false
   },
   "outputs": [
    {
     "name": "stdout",
     "output_type": "stream",
     "text": [
      "Epoch 1/200\n",
      "113/113 [==============================] - 1s 8ms/step - loss: 75.7465 - r2_score: -1135.1979 - val_loss: 0.0483 - val_r2_score: 0.2751\n",
      "Epoch 2/200\n",
      "113/113 [==============================] - 1s 5ms/step - loss: 0.0100 - r2_score: 0.8507 - val_loss: 0.0473 - val_r2_score: 0.2904\n",
      "Epoch 3/200\n",
      "113/113 [==============================] - 1s 7ms/step - loss: 0.0029 - r2_score: 0.9562 - val_loss: 0.0395 - val_r2_score: 0.4074\n",
      "Epoch 4/200\n",
      "113/113 [==============================] - 0s 4ms/step - loss: 0.0017 - r2_score: 0.9744 - val_loss: 0.0342 - val_r2_score: 0.4863\n",
      "Epoch 5/200\n",
      "113/113 [==============================] - 1s 7ms/step - loss: 0.0012 - r2_score: 0.9815 - val_loss: 0.0348 - val_r2_score: 0.4773\n",
      "Epoch 6/200\n",
      "113/113 [==============================] - 0s 4ms/step - loss: 0.0010 - r2_score: 0.9847 - val_loss: 0.0326 - val_r2_score: 0.5105\n",
      "Epoch 7/200\n",
      "113/113 [==============================] - 0s 3ms/step - loss: 7.8123e-04 - r2_score: 0.9883 - val_loss: 0.0367 - val_r2_score: 0.4489\n",
      "Epoch 8/200\n",
      "113/113 [==============================] - 0s 4ms/step - loss: 6.9006e-04 - r2_score: 0.9896 - val_loss: 0.0316 - val_r2_score: 0.5254\n",
      "Epoch 9/200\n",
      "113/113 [==============================] - 1s 5ms/step - loss: 6.9750e-04 - r2_score: 0.9895 - val_loss: 0.0311 - val_r2_score: 0.5342\n",
      "Epoch 10/200\n",
      "113/113 [==============================] - 1s 5ms/step - loss: 7.2424e-04 - r2_score: 0.9891 - val_loss: 0.0357 - val_r2_score: 0.4638\n",
      "Epoch 11/200\n",
      "113/113 [==============================] - 1s 6ms/step - loss: 6.1177e-04 - r2_score: 0.9908 - val_loss: 0.0360 - val_r2_score: 0.4603\n",
      "Epoch 12/200\n",
      "113/113 [==============================] - 1s 7ms/step - loss: 7.1908e-04 - r2_score: 0.9892 - val_loss: 0.0322 - val_r2_score: 0.5176\n",
      "Epoch 13/200\n",
      "113/113 [==============================] - 0s 3ms/step - loss: 5.2668e-04 - r2_score: 0.9921 - val_loss: 0.0345 - val_r2_score: 0.4818\n",
      "Epoch 14/200\n",
      "113/113 [==============================] - 0s 3ms/step - loss: 6.2844e-04 - r2_score: 0.9906 - val_loss: 0.0316 - val_r2_score: 0.5265\n",
      "Epoch 15/200\n",
      "113/113 [==============================] - 0s 3ms/step - loss: 7.5064e-04 - r2_score: 0.9887 - val_loss: 0.0399 - val_r2_score: 0.4018\n",
      "Epoch 16/200\n",
      "113/113 [==============================] - 1s 6ms/step - loss: 7.1604e-04 - r2_score: 0.9893 - val_loss: 0.0424 - val_r2_score: 0.3641\n",
      "Epoch 17/200\n",
      "113/113 [==============================] - 0s 4ms/step - loss: 9.7106e-04 - r2_score: 0.9854 - val_loss: 0.0313 - val_r2_score: 0.5302\n",
      "Epoch 18/200\n",
      "113/113 [==============================] - 1s 5ms/step - loss: 6.7981e-04 - r2_score: 0.9898 - val_loss: 0.0436 - val_r2_score: 0.3455\n",
      "Epoch 19/200\n",
      "113/113 [==============================] - 0s 4ms/step - loss: 0.0011 - r2_score: 0.9828 - val_loss: 0.0327 - val_r2_score: 0.5102\n",
      "Epoch 20/200\n",
      "113/113 [==============================] - 0s 4ms/step - loss: 0.0017 - r2_score: 0.9738 - val_loss: 0.0360 - val_r2_score: 0.4596\n",
      "Epoch 21/200\n",
      "113/113 [==============================] - 0s 3ms/step - loss: 0.0022 - r2_score: 0.9664 - val_loss: 0.0459 - val_r2_score: 0.3122\n",
      "Epoch 22/200\n",
      "113/113 [==============================] - 0s 3ms/step - loss: 0.0138 - r2_score: 0.7930 - val_loss: 0.4599 - val_r2_score: -5.8989\n",
      "Epoch 23/200\n",
      "113/113 [==============================] - 0s 4ms/step - loss: 0.5228 - r2_score: -6.8415 - val_loss: 0.0232 - val_r2_score: 0.6518\n",
      "Epoch 24/200\n",
      "113/113 [==============================] - 0s 3ms/step - loss: 0.7349 - r2_score: -10.0228 - val_loss: 0.0879 - val_r2_score: -0.3184\n",
      "Epoch 25/200\n",
      "113/113 [==============================] - 0s 4ms/step - loss: 0.0158 - r2_score: 0.7635 - val_loss: 0.0261 - val_r2_score: 0.6089\n",
      "Epoch 26/200\n",
      "113/113 [==============================] - 1s 5ms/step - loss: 0.3006 - r2_score: -3.5094 - val_loss: 0.1053 - val_r2_score: -0.5790\n",
      "Epoch 27/200\n",
      "113/113 [==============================] - 1s 5ms/step - loss: 0.1752 - r2_score: -1.6280 - val_loss: 1.2057 - val_r2_score: -17.0860\n",
      "Epoch 28/200\n",
      "113/113 [==============================] - 1s 6ms/step - loss: 0.1258 - r2_score: -0.8866 - val_loss: 0.0271 - val_r2_score: 0.5935\n",
      "Epoch 29/200\n",
      "113/113 [==============================] - 1s 7ms/step - loss: 0.2626 - r2_score: -2.9386 - val_loss: 0.0488 - val_r2_score: 0.2682\n",
      "Epoch 30/200\n",
      "113/113 [==============================] - 1s 7ms/step - loss: 0.1400 - r2_score: -1.1004 - val_loss: 0.0370 - val_r2_score: 0.4447\n",
      "Epoch 31/200\n",
      "113/113 [==============================] - 1s 7ms/step - loss: 0.5125 - r2_score: -6.6874 - val_loss: 0.0341 - val_r2_score: 0.4885\n",
      "Epoch 32/200\n",
      "113/113 [==============================] - 1s 7ms/step - loss: 0.0032 - r2_score: 0.9524 - val_loss: 0.0296 - val_r2_score: 0.5562\n",
      "Epoch 33/200\n",
      "113/113 [==============================] - 0s 4ms/step - loss: 0.0036 - r2_score: 0.9455 - val_loss: 0.0306 - val_r2_score: 0.5406\n",
      "Epoch 34/200\n",
      "113/113 [==============================] - 0s 3ms/step - loss: 0.0119 - r2_score: 0.8217 - val_loss: 0.0687 - val_r2_score: -0.0308\n",
      "Epoch 35/200\n",
      "113/113 [==============================] - 1s 5ms/step - loss: 0.3105 - r2_score: -3.6569 - val_loss: 0.0357 - val_r2_score: 0.4647\n",
      "Epoch 36/200\n",
      "113/113 [==============================] - 1s 5ms/step - loss: 0.0013 - r2_score: 0.9803 - val_loss: 0.0458 - val_r2_score: 0.3127\n",
      "Epoch 37/200\n",
      "113/113 [==============================] - 1s 5ms/step - loss: 0.0032 - r2_score: 0.9525 - val_loss: 0.0398 - val_r2_score: 0.4032\n",
      "Epoch 38/200\n",
      "113/113 [==============================] - 0s 4ms/step - loss: 0.1342 - r2_score: -1.0135 - val_loss: 0.0363 - val_r2_score: 0.4562\n",
      "Epoch 39/200\n",
      "113/113 [==============================] - 0s 4ms/step - loss: 0.0027 - r2_score: 0.9588 - val_loss: 0.0375 - val_r2_score: 0.4373\n",
      "Epoch 40/200\n",
      "113/113 [==============================] - 1s 5ms/step - loss: 0.0553 - r2_score: 0.1712 - val_loss: 0.0329 - val_r2_score: 0.5071\n",
      "Epoch 41/200\n",
      "113/113 [==============================] - 1s 7ms/step - loss: 0.0105 - r2_score: 0.8429 - val_loss: 0.2338 - val_r2_score: -2.5073\n",
      "Epoch 42/200\n",
      "113/113 [==============================] - 1s 7ms/step - loss: 0.1233 - r2_score: -0.8500 - val_loss: 0.0398 - val_r2_score: 0.4030\n",
      "Epoch 43/200\n",
      "113/113 [==============================] - 0s 3ms/step - loss: 7.1546e-04 - r2_score: 0.9893 - val_loss: 0.0350 - val_r2_score: 0.4745\n",
      "Epoch 43: early stopping\n"
     ]
    },
    {
     "data": {
      "text/plain": [
       "<keras.src.callbacks.History at 0x7f52a828f580>"
      ]
     },
     "execution_count": 61,
     "metadata": {},
     "output_type": "execute_result"
    }
   ],
   "source": [
    "checkpoint_filepath = 'models/manual_tuning_checkpoints/keras.weights'\n",
    "manual_adversary.fit(\n",
    "    adv_X, \n",
    "    adv_y, \n",
    "    epochs=200, \n",
    "    validation_data=(adv_X_test, adv_y_test), \n",
    "    callbacks=[\n",
    "        keras.callbacks.EarlyStopping('val_r2_score', mode='max', patience=20, verbose=1),\n",
    "        keras.callbacks.ModelCheckpoint(\n",
    "            filepath=checkpoint_filepath,\n",
    "            save_weights_only=True,\n",
    "            monitor='val_r2_score',\n",
    "            mode='max',\n",
    "            save_best_only=True)\n",
    "    ])"
   ]
  },
  {
   "cell_type": "code",
   "execution_count": 62,
   "id": "524b5723e40df1e",
   "metadata": {
    "ExecuteTime": {
     "end_time": "2024-01-18T15:22:49.883249471Z",
     "start_time": "2024-01-18T15:22:49.873779085Z"
    },
    "collapsed": false
   },
   "outputs": [
    {
     "data": {
      "text/plain": [
       "<tensorflow.python.checkpoint.checkpoint.CheckpointLoadStatus at 0x7f52a8197c40>"
      ]
     },
     "execution_count": 62,
     "metadata": {},
     "output_type": "execute_result"
    }
   ],
   "source": [
    "manual_adversary.load_weights(\"models/manual_tuning_checkpoints/keras.weights\")"
   ]
  },
  {
   "cell_type": "code",
   "execution_count": 63,
   "id": "2981728c74bc4d9a",
   "metadata": {
    "ExecuteTime": {
     "end_time": "2024-01-18T15:23:07.666908996Z",
     "start_time": "2024-01-18T15:23:07.186852827Z"
    },
    "collapsed": false
   },
   "outputs": [
    {
     "name": "stdout",
     "output_type": "stream",
     "text": [
      "57/57 [==============================] - 0s 2ms/step - loss: 0.0232 - r2_score: 0.6518\n"
     ]
    },
    {
     "data": {
      "text/plain": [
       "[0.02321377582848072, 0.6517935395240784]"
      ]
     },
     "execution_count": 63,
     "metadata": {},
     "output_type": "execute_result"
    }
   ],
   "source": [
    "manual_adversary.evaluate(adv_X_test, adv_y_test)"
   ]
  },
  {
   "cell_type": "code",
   "execution_count": 64,
   "id": "261039ea8f54d882",
   "metadata": {
    "ExecuteTime": {
     "end_time": "2024-01-18T15:23:49.295722667Z",
     "start_time": "2024-01-18T15:23:48.850945699Z"
    },
    "collapsed": false
   },
   "outputs": [
    {
     "name": "stdout",
     "output_type": "stream",
     "text": [
      "INFO:tensorflow:Assets written to: adv_new_0.65_test_r2/assets\n"
     ]
    },
    {
     "name": "stderr",
     "output_type": "stream",
     "text": [
      "INFO:tensorflow:Assets written to: adv_new_0.65_test_r2/assets\n"
     ]
    }
   ],
   "source": [
    "manual_adversary.save(\"adv_new_0.65_test_r2\")"
   ]
  },
  {
   "cell_type": "code",
   "id": "5c6a31a82b4d7b92",
   "metadata": {
    "collapsed": false
   },
   "outputs": [],
   "source": []
  }
 ],
 "metadata": {
  "kernelspec": {
   "display_name": "pia1",
   "language": "python",
   "name": "pia1"
  },
  "language_info": {
   "codemirror_mode": {
    "name": "ipython",
    "version": 3
   },
   "file_extension": ".py",
   "mimetype": "text/x-python",
   "name": "python",
   "nbconvert_exporter": "python",
   "pygments_lexer": "ipython3",
   "version": "3.10.9"
  }
 },
 "nbformat": 4,
 "nbformat_minor": 5
}
