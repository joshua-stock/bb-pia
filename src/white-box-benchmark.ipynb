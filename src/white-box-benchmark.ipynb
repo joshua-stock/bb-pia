{
 "cells": [
  {
   "cell_type": "code",
   "execution_count": 1,
   "id": "043a0251-32f8-43ed-85ba-daa81c32f4f2",
   "metadata": {},
   "outputs": [
    {
     "name": "stderr",
     "output_type": "stream",
     "text": [
      "2024-04-04 19:40:25.457938: I external/local_tsl/tsl/cuda/cudart_stub.cc:32] Could not find cuda drivers on your machine, GPU will not be used.\n",
      "2024-04-04 19:40:25.462678: I external/local_tsl/tsl/cuda/cudart_stub.cc:32] Could not find cuda drivers on your machine, GPU will not be used.\n",
      "2024-04-04 19:40:28.617026: W tensorflow/compiler/tf2tensorrt/utils/py_utils.cc:38] TF-TRT Warning: Could not find TensorRT\n"
     ]
    }
   ],
   "source": [
    "import keras\n",
    "\n",
    "m = keras.models.load_model('cifar/models/shadow_models/0.1/train/0.keras')"
   ]
  },
  {
   "cell_type": "code",
   "execution_count": 2,
   "id": "e2fd2214-6ef1-4070-a2ca-5dd78e801c01",
   "metadata": {},
   "outputs": [
    {
     "data": {
      "text/html": [
       "<pre style=\"white-space:pre;overflow-x:auto;line-height:normal;font-family:Menlo,'DejaVu Sans Mono',consolas,'Courier New',monospace\"><span style=\"font-weight: bold\">Model: \"sequential\"</span>\n",
       "</pre>\n"
      ],
      "text/plain": [
       "\u001b[1mModel: \"sequential\"\u001b[0m\n"
      ]
     },
     "metadata": {},
     "output_type": "display_data"
    },
    {
     "data": {
      "text/html": [
       "<pre style=\"white-space:pre;overflow-x:auto;line-height:normal;font-family:Menlo,'DejaVu Sans Mono',consolas,'Courier New',monospace\">┏━━━━━━━━━━━━━━━━━━━━━━━━━━━━━━━━━┳━━━━━━━━━━━━━━━━━━━━━━━━┳━━━━━━━━━━━━━━━┓\n",
       "┃<span style=\"font-weight: bold\"> Layer (type)                    </span>┃<span style=\"font-weight: bold\"> Output Shape           </span>┃<span style=\"font-weight: bold\">       Param # </span>┃\n",
       "┡━━━━━━━━━━━━━━━━━━━━━━━━━━━━━━━━━╇━━━━━━━━━━━━━━━━━━━━━━━━╇━━━━━━━━━━━━━━━┩\n",
       "│ random_flip (<span style=\"color: #0087ff; text-decoration-color: #0087ff\">RandomFlip</span>)        │ (<span style=\"color: #00d7ff; text-decoration-color: #00d7ff\">None</span>, <span style=\"color: #00af00; text-decoration-color: #00af00\">32</span>, <span style=\"color: #00af00; text-decoration-color: #00af00\">32</span>, <span style=\"color: #00af00; text-decoration-color: #00af00\">3</span>)      │             <span style=\"color: #00af00; text-decoration-color: #00af00\">0</span> │\n",
       "├─────────────────────────────────┼────────────────────────┼───────────────┤\n",
       "│ conv2d (<span style=\"color: #0087ff; text-decoration-color: #0087ff\">Conv2D</span>)                 │ (<span style=\"color: #00d7ff; text-decoration-color: #00d7ff\">None</span>, <span style=\"color: #00af00; text-decoration-color: #00af00\">32</span>, <span style=\"color: #00af00; text-decoration-color: #00af00\">32</span>, <span style=\"color: #00af00; text-decoration-color: #00af00\">32</span>)     │           <span style=\"color: #00af00; text-decoration-color: #00af00\">896</span> │\n",
       "├─────────────────────────────────┼────────────────────────┼───────────────┤\n",
       "│ group_normalization             │ (<span style=\"color: #00d7ff; text-decoration-color: #00d7ff\">None</span>, <span style=\"color: #00af00; text-decoration-color: #00af00\">32</span>, <span style=\"color: #00af00; text-decoration-color: #00af00\">32</span>, <span style=\"color: #00af00; text-decoration-color: #00af00\">32</span>)     │            <span style=\"color: #00af00; text-decoration-color: #00af00\">64</span> │\n",
       "│ (<span style=\"color: #0087ff; text-decoration-color: #0087ff\">GroupNormalization</span>)            │                        │               │\n",
       "├─────────────────────────────────┼────────────────────────┼───────────────┤\n",
       "│ max_pooling2d (<span style=\"color: #0087ff; text-decoration-color: #0087ff\">MaxPooling2D</span>)    │ (<span style=\"color: #00d7ff; text-decoration-color: #00d7ff\">None</span>, <span style=\"color: #00af00; text-decoration-color: #00af00\">16</span>, <span style=\"color: #00af00; text-decoration-color: #00af00\">16</span>, <span style=\"color: #00af00; text-decoration-color: #00af00\">32</span>)     │             <span style=\"color: #00af00; text-decoration-color: #00af00\">0</span> │\n",
       "├─────────────────────────────────┼────────────────────────┼───────────────┤\n",
       "│ conv2d_1 (<span style=\"color: #0087ff; text-decoration-color: #0087ff\">Conv2D</span>)               │ (<span style=\"color: #00d7ff; text-decoration-color: #00d7ff\">None</span>, <span style=\"color: #00af00; text-decoration-color: #00af00\">16</span>, <span style=\"color: #00af00; text-decoration-color: #00af00\">16</span>, <span style=\"color: #00af00; text-decoration-color: #00af00\">32</span>)     │         <span style=\"color: #00af00; text-decoration-color: #00af00\">9,248</span> │\n",
       "├─────────────────────────────────┼────────────────────────┼───────────────┤\n",
       "│ group_normalization_1           │ (<span style=\"color: #00d7ff; text-decoration-color: #00d7ff\">None</span>, <span style=\"color: #00af00; text-decoration-color: #00af00\">16</span>, <span style=\"color: #00af00; text-decoration-color: #00af00\">16</span>, <span style=\"color: #00af00; text-decoration-color: #00af00\">32</span>)     │            <span style=\"color: #00af00; text-decoration-color: #00af00\">64</span> │\n",
       "│ (<span style=\"color: #0087ff; text-decoration-color: #0087ff\">GroupNormalization</span>)            │                        │               │\n",
       "├─────────────────────────────────┼────────────────────────┼───────────────┤\n",
       "│ max_pooling2d_1 (<span style=\"color: #0087ff; text-decoration-color: #0087ff\">MaxPooling2D</span>)  │ (<span style=\"color: #00d7ff; text-decoration-color: #00d7ff\">None</span>, <span style=\"color: #00af00; text-decoration-color: #00af00\">8</span>, <span style=\"color: #00af00; text-decoration-color: #00af00\">8</span>, <span style=\"color: #00af00; text-decoration-color: #00af00\">32</span>)       │             <span style=\"color: #00af00; text-decoration-color: #00af00\">0</span> │\n",
       "├─────────────────────────────────┼────────────────────────┼───────────────┤\n",
       "│ conv2d_2 (<span style=\"color: #0087ff; text-decoration-color: #0087ff\">Conv2D</span>)               │ (<span style=\"color: #00d7ff; text-decoration-color: #00d7ff\">None</span>, <span style=\"color: #00af00; text-decoration-color: #00af00\">8</span>, <span style=\"color: #00af00; text-decoration-color: #00af00\">8</span>, <span style=\"color: #00af00; text-decoration-color: #00af00\">64</span>)       │        <span style=\"color: #00af00; text-decoration-color: #00af00\">18,496</span> │\n",
       "├─────────────────────────────────┼────────────────────────┼───────────────┤\n",
       "│ group_normalization_2           │ (<span style=\"color: #00d7ff; text-decoration-color: #00d7ff\">None</span>, <span style=\"color: #00af00; text-decoration-color: #00af00\">8</span>, <span style=\"color: #00af00; text-decoration-color: #00af00\">8</span>, <span style=\"color: #00af00; text-decoration-color: #00af00\">64</span>)       │           <span style=\"color: #00af00; text-decoration-color: #00af00\">128</span> │\n",
       "│ (<span style=\"color: #0087ff; text-decoration-color: #0087ff\">GroupNormalization</span>)            │                        │               │\n",
       "├─────────────────────────────────┼────────────────────────┼───────────────┤\n",
       "│ max_pooling2d_2 (<span style=\"color: #0087ff; text-decoration-color: #0087ff\">MaxPooling2D</span>)  │ (<span style=\"color: #00d7ff; text-decoration-color: #00d7ff\">None</span>, <span style=\"color: #00af00; text-decoration-color: #00af00\">4</span>, <span style=\"color: #00af00; text-decoration-color: #00af00\">4</span>, <span style=\"color: #00af00; text-decoration-color: #00af00\">64</span>)       │             <span style=\"color: #00af00; text-decoration-color: #00af00\">0</span> │\n",
       "├─────────────────────────────────┼────────────────────────┼───────────────┤\n",
       "│ flatten (<span style=\"color: #0087ff; text-decoration-color: #0087ff\">Flatten</span>)               │ (<span style=\"color: #00d7ff; text-decoration-color: #00d7ff\">None</span>, <span style=\"color: #00af00; text-decoration-color: #00af00\">1024</span>)           │             <span style=\"color: #00af00; text-decoration-color: #00af00\">0</span> │\n",
       "├─────────────────────────────────┼────────────────────────┼───────────────┤\n",
       "│ dense (<span style=\"color: #0087ff; text-decoration-color: #0087ff\">Dense</span>)                   │ (<span style=\"color: #00d7ff; text-decoration-color: #00d7ff\">None</span>, <span style=\"color: #00af00; text-decoration-color: #00af00\">512</span>)            │       <span style=\"color: #00af00; text-decoration-color: #00af00\">524,800</span> │\n",
       "├─────────────────────────────────┼────────────────────────┼───────────────┤\n",
       "│ group_normalization_3           │ (<span style=\"color: #00d7ff; text-decoration-color: #00d7ff\">None</span>, <span style=\"color: #00af00; text-decoration-color: #00af00\">512</span>)            │         <span style=\"color: #00af00; text-decoration-color: #00af00\">1,024</span> │\n",
       "│ (<span style=\"color: #0087ff; text-decoration-color: #0087ff\">GroupNormalization</span>)            │                        │               │\n",
       "├─────────────────────────────────┼────────────────────────┼───────────────┤\n",
       "│ dense_1 (<span style=\"color: #0087ff; text-decoration-color: #0087ff\">Dense</span>)                 │ (<span style=\"color: #00d7ff; text-decoration-color: #00d7ff\">None</span>, <span style=\"color: #00af00; text-decoration-color: #00af00\">10</span>)             │         <span style=\"color: #00af00; text-decoration-color: #00af00\">5,130</span> │\n",
       "└─────────────────────────────────┴────────────────────────┴───────────────┘\n",
       "</pre>\n"
      ],
      "text/plain": [
       "┏━━━━━━━━━━━━━━━━━━━━━━━━━━━━━━━━━┳━━━━━━━━━━━━━━━━━━━━━━━━┳━━━━━━━━━━━━━━━┓\n",
       "┃\u001b[1m \u001b[0m\u001b[1mLayer (type)                   \u001b[0m\u001b[1m \u001b[0m┃\u001b[1m \u001b[0m\u001b[1mOutput Shape          \u001b[0m\u001b[1m \u001b[0m┃\u001b[1m \u001b[0m\u001b[1m      Param #\u001b[0m\u001b[1m \u001b[0m┃\n",
       "┡━━━━━━━━━━━━━━━━━━━━━━━━━━━━━━━━━╇━━━━━━━━━━━━━━━━━━━━━━━━╇━━━━━━━━━━━━━━━┩\n",
       "│ random_flip (\u001b[38;5;33mRandomFlip\u001b[0m)        │ (\u001b[38;5;45mNone\u001b[0m, \u001b[38;5;34m32\u001b[0m, \u001b[38;5;34m32\u001b[0m, \u001b[38;5;34m3\u001b[0m)      │             \u001b[38;5;34m0\u001b[0m │\n",
       "├─────────────────────────────────┼────────────────────────┼───────────────┤\n",
       "│ conv2d (\u001b[38;5;33mConv2D\u001b[0m)                 │ (\u001b[38;5;45mNone\u001b[0m, \u001b[38;5;34m32\u001b[0m, \u001b[38;5;34m32\u001b[0m, \u001b[38;5;34m32\u001b[0m)     │           \u001b[38;5;34m896\u001b[0m │\n",
       "├─────────────────────────────────┼────────────────────────┼───────────────┤\n",
       "│ group_normalization             │ (\u001b[38;5;45mNone\u001b[0m, \u001b[38;5;34m32\u001b[0m, \u001b[38;5;34m32\u001b[0m, \u001b[38;5;34m32\u001b[0m)     │            \u001b[38;5;34m64\u001b[0m │\n",
       "│ (\u001b[38;5;33mGroupNormalization\u001b[0m)            │                        │               │\n",
       "├─────────────────────────────────┼────────────────────────┼───────────────┤\n",
       "│ max_pooling2d (\u001b[38;5;33mMaxPooling2D\u001b[0m)    │ (\u001b[38;5;45mNone\u001b[0m, \u001b[38;5;34m16\u001b[0m, \u001b[38;5;34m16\u001b[0m, \u001b[38;5;34m32\u001b[0m)     │             \u001b[38;5;34m0\u001b[0m │\n",
       "├─────────────────────────────────┼────────────────────────┼───────────────┤\n",
       "│ conv2d_1 (\u001b[38;5;33mConv2D\u001b[0m)               │ (\u001b[38;5;45mNone\u001b[0m, \u001b[38;5;34m16\u001b[0m, \u001b[38;5;34m16\u001b[0m, \u001b[38;5;34m32\u001b[0m)     │         \u001b[38;5;34m9,248\u001b[0m │\n",
       "├─────────────────────────────────┼────────────────────────┼───────────────┤\n",
       "│ group_normalization_1           │ (\u001b[38;5;45mNone\u001b[0m, \u001b[38;5;34m16\u001b[0m, \u001b[38;5;34m16\u001b[0m, \u001b[38;5;34m32\u001b[0m)     │            \u001b[38;5;34m64\u001b[0m │\n",
       "│ (\u001b[38;5;33mGroupNormalization\u001b[0m)            │                        │               │\n",
       "├─────────────────────────────────┼────────────────────────┼───────────────┤\n",
       "│ max_pooling2d_1 (\u001b[38;5;33mMaxPooling2D\u001b[0m)  │ (\u001b[38;5;45mNone\u001b[0m, \u001b[38;5;34m8\u001b[0m, \u001b[38;5;34m8\u001b[0m, \u001b[38;5;34m32\u001b[0m)       │             \u001b[38;5;34m0\u001b[0m │\n",
       "├─────────────────────────────────┼────────────────────────┼───────────────┤\n",
       "│ conv2d_2 (\u001b[38;5;33mConv2D\u001b[0m)               │ (\u001b[38;5;45mNone\u001b[0m, \u001b[38;5;34m8\u001b[0m, \u001b[38;5;34m8\u001b[0m, \u001b[38;5;34m64\u001b[0m)       │        \u001b[38;5;34m18,496\u001b[0m │\n",
       "├─────────────────────────────────┼────────────────────────┼───────────────┤\n",
       "│ group_normalization_2           │ (\u001b[38;5;45mNone\u001b[0m, \u001b[38;5;34m8\u001b[0m, \u001b[38;5;34m8\u001b[0m, \u001b[38;5;34m64\u001b[0m)       │           \u001b[38;5;34m128\u001b[0m │\n",
       "│ (\u001b[38;5;33mGroupNormalization\u001b[0m)            │                        │               │\n",
       "├─────────────────────────────────┼────────────────────────┼───────────────┤\n",
       "│ max_pooling2d_2 (\u001b[38;5;33mMaxPooling2D\u001b[0m)  │ (\u001b[38;5;45mNone\u001b[0m, \u001b[38;5;34m4\u001b[0m, \u001b[38;5;34m4\u001b[0m, \u001b[38;5;34m64\u001b[0m)       │             \u001b[38;5;34m0\u001b[0m │\n",
       "├─────────────────────────────────┼────────────────────────┼───────────────┤\n",
       "│ flatten (\u001b[38;5;33mFlatten\u001b[0m)               │ (\u001b[38;5;45mNone\u001b[0m, \u001b[38;5;34m1024\u001b[0m)           │             \u001b[38;5;34m0\u001b[0m │\n",
       "├─────────────────────────────────┼────────────────────────┼───────────────┤\n",
       "│ dense (\u001b[38;5;33mDense\u001b[0m)                   │ (\u001b[38;5;45mNone\u001b[0m, \u001b[38;5;34m512\u001b[0m)            │       \u001b[38;5;34m524,800\u001b[0m │\n",
       "├─────────────────────────────────┼────────────────────────┼───────────────┤\n",
       "│ group_normalization_3           │ (\u001b[38;5;45mNone\u001b[0m, \u001b[38;5;34m512\u001b[0m)            │         \u001b[38;5;34m1,024\u001b[0m │\n",
       "│ (\u001b[38;5;33mGroupNormalization\u001b[0m)            │                        │               │\n",
       "├─────────────────────────────────┼────────────────────────┼───────────────┤\n",
       "│ dense_1 (\u001b[38;5;33mDense\u001b[0m)                 │ (\u001b[38;5;45mNone\u001b[0m, \u001b[38;5;34m10\u001b[0m)             │         \u001b[38;5;34m5,130\u001b[0m │\n",
       "└─────────────────────────────────┴────────────────────────┴───────────────┘\n"
      ]
     },
     "metadata": {},
     "output_type": "display_data"
    },
    {
     "data": {
      "text/html": [
       "<pre style=\"white-space:pre;overflow-x:auto;line-height:normal;font-family:Menlo,'DejaVu Sans Mono',consolas,'Courier New',monospace\"><span style=\"font-weight: bold\"> Total params: </span><span style=\"color: #00af00; text-decoration-color: #00af00\">1,679,552</span> (6.41 MB)\n",
       "</pre>\n"
      ],
      "text/plain": [
       "\u001b[1m Total params: \u001b[0m\u001b[38;5;34m1,679,552\u001b[0m (6.41 MB)\n"
      ]
     },
     "metadata": {},
     "output_type": "display_data"
    },
    {
     "data": {
      "text/html": [
       "<pre style=\"white-space:pre;overflow-x:auto;line-height:normal;font-family:Menlo,'DejaVu Sans Mono',consolas,'Courier New',monospace\"><span style=\"font-weight: bold\"> Trainable params: </span><span style=\"color: #00af00; text-decoration-color: #00af00\">559,850</span> (2.14 MB)\n",
       "</pre>\n"
      ],
      "text/plain": [
       "\u001b[1m Trainable params: \u001b[0m\u001b[38;5;34m559,850\u001b[0m (2.14 MB)\n"
      ]
     },
     "metadata": {},
     "output_type": "display_data"
    },
    {
     "data": {
      "text/html": [
       "<pre style=\"white-space:pre;overflow-x:auto;line-height:normal;font-family:Menlo,'DejaVu Sans Mono',consolas,'Courier New',monospace\"><span style=\"font-weight: bold\"> Non-trainable params: </span><span style=\"color: #00af00; text-decoration-color: #00af00\">0</span> (0.00 B)\n",
       "</pre>\n"
      ],
      "text/plain": [
       "\u001b[1m Non-trainable params: \u001b[0m\u001b[38;5;34m0\u001b[0m (0.00 B)\n"
      ]
     },
     "metadata": {},
     "output_type": "display_data"
    },
    {
     "data": {
      "text/html": [
       "<pre style=\"white-space:pre;overflow-x:auto;line-height:normal;font-family:Menlo,'DejaVu Sans Mono',consolas,'Courier New',monospace\"><span style=\"font-weight: bold\"> Optimizer params: </span><span style=\"color: #00af00; text-decoration-color: #00af00\">1,119,702</span> (4.27 MB)\n",
       "</pre>\n"
      ],
      "text/plain": [
       "\u001b[1m Optimizer params: \u001b[0m\u001b[38;5;34m1,119,702\u001b[0m (4.27 MB)\n"
      ]
     },
     "metadata": {},
     "output_type": "display_data"
    }
   ],
   "source": [
    "m.summary()"
   ]
  },
  {
   "cell_type": "code",
   "execution_count": 5,
   "id": "6432b88e-3eed-4a1b-9770-697a74b04561",
   "metadata": {},
   "outputs": [
    {
     "data": {
      "text/plain": [
       "14"
      ]
     },
     "execution_count": 5,
     "metadata": {},
     "output_type": "execute_result"
    }
   ],
   "source": [
    "len(m.layers)"
   ]
  },
  {
   "cell_type": "code",
   "execution_count": 6,
   "id": "fec0fe08-eab1-4718-82ac-f9083760d0af",
   "metadata": {},
   "outputs": [],
   "source": [
    "dense_1 = m.layers[11]"
   ]
  },
  {
   "cell_type": "code",
   "execution_count": 7,
   "id": "b05426e2-e800-419b-a0e3-22bb5e804086",
   "metadata": {},
   "outputs": [],
   "source": [
    "dense_2 = m.layers[13]"
   ]
  },
  {
   "cell_type": "code",
   "execution_count": 10,
   "id": "4ecb1f2e-d224-4a51-af3c-1ecd4bd040d5",
   "metadata": {},
   "outputs": [
    {
     "data": {
      "text/plain": [
       "[<KerasVariable shape=(1024, 512), dtype=float32, path=dense/kernel>,\n",
       " <KerasVariable shape=(512,), dtype=float32, path=dense/bias>]"
      ]
     },
     "execution_count": 10,
     "metadata": {},
     "output_type": "execute_result"
    }
   ],
   "source": [
    "dense_1.weights"
   ]
  },
  {
   "cell_type": "code",
   "execution_count": 13,
   "id": "fbd0b17b-4276-4852-ab21-7e1f277b7937",
   "metadata": {},
   "outputs": [
    {
     "data": {
      "text/plain": [
       "[<KerasVariable shape=(512, 10), dtype=float32, path=dense_1/kernel>,\n",
       " <KerasVariable shape=(10,), dtype=float32, path=dense_1/bias>]"
      ]
     },
     "execution_count": 13,
     "metadata": {},
     "output_type": "execute_result"
    }
   ],
   "source": [
    "dense_2.weights"
   ]
  },
  {
   "cell_type": "code",
   "execution_count": 11,
   "id": "fc5b0b7a-93d0-4c6c-8a21-a0a50e28db7f",
   "metadata": {},
   "outputs": [],
   "source": [
    "conv_1 = m.layers[1]"
   ]
  },
  {
   "cell_type": "code",
   "execution_count": 12,
   "id": "8f7320ac-4ef3-4fc5-a620-de54a84a8f1d",
   "metadata": {},
   "outputs": [
    {
     "data": {
      "text/plain": [
       "[<KerasVariable shape=(3, 3, 3, 32), dtype=float32, path=conv2d/kernel>,\n",
       " <KerasVariable shape=(32,), dtype=float32, path=conv2d/bias>]"
      ]
     },
     "execution_count": 12,
     "metadata": {},
     "output_type": "execute_result"
    }
   ],
   "source": [
    "conv_1.weights"
   ]
  },
  {
   "cell_type": "code",
   "execution_count": 14,
   "id": "c66b323f-8413-4cb0-80eb-2e49d23c6c35",
   "metadata": {},
   "outputs": [
    {
     "data": {
      "text/plain": [
       "[<KerasVariable shape=(3, 3, 32, 32), dtype=float32, path=conv2d_1/kernel>,\n",
       " <KerasVariable shape=(32,), dtype=float32, path=conv2d_1/bias>]"
      ]
     },
     "execution_count": 14,
     "metadata": {},
     "output_type": "execute_result"
    }
   ],
   "source": [
    "conv_2 = m.layers[4]\n",
    "conv_2.weights"
   ]
  },
  {
   "cell_type": "code",
   "execution_count": 44,
   "id": "b28eefb0-6c74-4513-9dfb-53e0031de88b",
   "metadata": {
    "tags": []
   },
   "outputs": [],
   "source": [
    "def do_read_single_model_params(m):\n",
    "    layer_indices_for_adv = [\n",
    "        1, #conv2d\n",
    "        4, #conv2d_1\n",
    "        7, #conv2d_2\n",
    "        11, #dense\n",
    "        13 #dense_1\n",
    "    ]\n",
    "    return [m.layers[i].weights for i in layer_indices_for_adv]\n",
    "\n",
    "adv_inputs = do_read_single_model_params(m)"
   ]
  },
  {
   "cell_type": "code",
   "execution_count": 77,
   "id": "ed840717-a025-4ee0-a829-ac4cedd58adb",
   "metadata": {},
   "outputs": [],
   "source": [
    "def transform_input_name(name):\n",
    "    return name.replace(\"/\", \"-\")"
   ]
  },
  {
   "cell_type": "code",
   "execution_count": 49,
   "id": "08bbd933-2cb7-49dd-bf9b-530dc744c90d",
   "metadata": {},
   "outputs": [],
   "source": [
    "def read_single_model_params(path):\n",
    "    model = keras.models.load_model(path)\n",
    "    return do_read_single_model_params(model)"
   ]
  },
  {
   "cell_type": "code",
   "execution_count": 57,
   "id": "6100d98f-66a2-465d-89b5-5450ca928a7f",
   "metadata": {},
   "outputs": [],
   "source": [
    "import multiprocessing as mp\n",
    "\n",
    "def read_mult_model_params_mp(paths, nr_cpu):\n",
    "    #pool = mp.Pool(nr_cpu)\n",
    "    #w_b = pool.map(read_single_model_params, paths)\n",
    "    #pool.close()\n",
    "    \n",
    "    w_b = [read_single_model_params(p) for p in paths]\n",
    "    \n",
    "    return w_b"
   ]
  },
  {
   "cell_type": "code",
   "execution_count": 62,
   "id": "7f29591c-132f-4e7b-83cd-240c93bf3081",
   "metadata": {},
   "outputs": [],
   "source": [
    "models_per_y = 2 # 200\n",
    "all_y = [0.1, 0.2, 0.3, 0.4, 0.5]#, 0.6, 0.7, 0.8, 0.9]]\n",
    "base_path = \"cifar/models/shadow_models\"\n",
    "paths = [f\"{base_path}/{j}/train/{i}.keras\" for i in range(models_per_y) for j in all_y]\n",
    "\n",
    "wb = read_mult_model_params_mp(paths, 10)"
   ]
  },
  {
   "cell_type": "code",
   "execution_count": 64,
   "id": "984222d6-f13f-444e-b91b-7fd34562f94f",
   "metadata": {},
   "outputs": [
    {
     "data": {
      "text/plain": [
       "array([0.1, 0.1, 0.2, 0.2, 0.3, 0.3, 0.4, 0.4, 0.5, 0.5])"
      ]
     },
     "execution_count": 64,
     "metadata": {},
     "output_type": "execute_result"
    }
   ],
   "source": [
    "import numpy as np\n",
    "\n",
    "y = np.repeat(all_y, models_per_y)\n",
    "y"
   ]
  },
  {
   "cell_type": "code",
   "execution_count": 92,
   "id": "b86f8a43-e842-42bb-8e95-3f1b39647331",
   "metadata": {},
   "outputs": [],
   "source": [
    "import tensorflow as tf\n",
    "\n",
    "def get_dataset(wb, y):\n",
    "    def my_generator():\n",
    "        for w, my_y in zip(wb, y):\n",
    "            flattened_w = [item for row in w for item in row]\n",
    "            yield {transform_input_name(single_weight.path): single_weight for single_weight in flattened_w}, my_y\n",
    "    \n",
    "    out_types = {transform_input_name(single_weight.path): tf.float32 for w in wb[1] for single_weight in w}\n",
    "    return tf.data.Dataset.from_generator(my_generator, output_types=(out_types, tf.int32))"
   ]
  },
  {
   "cell_type": "code",
   "execution_count": 90,
   "id": "93d5bedc-892d-4767-bff1-6a25c0bbcd38",
   "metadata": {},
   "outputs": [
    {
     "data": {
      "text/plain": [
       "[[<KerasVariable shape=(3, 3, 3, 32), dtype=float32, path=conv2d_600/kernel>,\n",
       "  <KerasVariable shape=(32,), dtype=float32, path=conv2d_600/bias>],\n",
       " [<KerasVariable shape=(3, 3, 32, 32), dtype=float32, path=conv2d_601/kernel>,\n",
       "  <KerasVariable shape=(32,), dtype=float32, path=conv2d_601/bias>],\n",
       " [<KerasVariable shape=(3, 3, 32, 64), dtype=float32, path=conv2d_602/kernel>,\n",
       "  <KerasVariable shape=(64,), dtype=float32, path=conv2d_602/bias>],\n",
       " [<KerasVariable shape=(1024, 512), dtype=float32, path=dense_400/kernel>,\n",
       "  <KerasVariable shape=(512,), dtype=float32, path=dense_400/bias>],\n",
       " [<KerasVariable shape=(512, 10), dtype=float32, path=dense_401/kernel>,\n",
       "  <KerasVariable shape=(10,), dtype=float32, path=dense_401/bias>]]"
      ]
     },
     "execution_count": 90,
     "metadata": {},
     "output_type": "execute_result"
    }
   ],
   "source": [
    "flat_wb = [item for row in wb for item in row]\n",
    "even_flatter_wb = [item for row in flat_wb for item in row]\n",
    "flat_wb\n",
    "wb[1]"
   ]
  },
  {
   "cell_type": "code",
   "execution_count": 93,
   "id": "69bf79dc-4283-444d-a6ec-3998fdd702fe",
   "metadata": {},
   "outputs": [
    {
     "data": {
      "text/plain": [
       "<_FlatMapDataset element_spec=({'conv2d_600-kernel': TensorSpec(shape=<unknown>, dtype=tf.float32, name=None), 'conv2d_600-bias': TensorSpec(shape=<unknown>, dtype=tf.float32, name=None), 'conv2d_601-kernel': TensorSpec(shape=<unknown>, dtype=tf.float32, name=None), 'conv2d_601-bias': TensorSpec(shape=<unknown>, dtype=tf.float32, name=None), 'conv2d_602-kernel': TensorSpec(shape=<unknown>, dtype=tf.float32, name=None), 'conv2d_602-bias': TensorSpec(shape=<unknown>, dtype=tf.float32, name=None), 'dense_400-kernel': TensorSpec(shape=<unknown>, dtype=tf.float32, name=None), 'dense_400-bias': TensorSpec(shape=<unknown>, dtype=tf.float32, name=None), 'dense_401-kernel': TensorSpec(shape=<unknown>, dtype=tf.float32, name=None), 'dense_401-bias': TensorSpec(shape=<unknown>, dtype=tf.float32, name=None)}, TensorSpec(shape=<unknown>, dtype=tf.int32, name=None))>"
      ]
     },
     "execution_count": 93,
     "metadata": {},
     "output_type": "execute_result"
    }
   ],
   "source": [
    "ds = get_dataset(wb, y)\n",
    "ds\n"
   ]
  },
  {
   "cell_type": "markdown",
   "id": "94f00cf5-5403-4602-906c-1b1bb916e514",
   "metadata": {},
   "source": [
    "conv_1 weights: KerasVariable shape=(3, 3, 3, 32)\n",
    "3x3 filter für 3 channels, 32 stück\n",
    "Die Reihenfolge *innerhalb* der filter ist wichtig, aber die Reihenfolge der filter selbst ist nicht relevant."
   ]
  },
  {
   "cell_type": "code",
   "execution_count": 24,
   "id": "6fb5de0b-3211-4a41-86a8-db1fc9dd48f4",
   "metadata": {
    "tags": []
   },
   "outputs": [],
   "source": [
    "class ConvSplitter(keras.layers.Layer):\n",
    "    def __init__(self, neurons):\n",
    "        super().__init__()\n",
    "        self.neurons = neurons\n",
    "    \n",
    "    #overwrite get_config for being able to save and load model\n",
    "    def get_config(self):\n",
    "        config = {\n",
    "            \"neurons\" : self.neurons\n",
    "        }\n",
    "        base_config = super().get_config()\n",
    "        return dict(list(base_config.items()) + list(config.items()))\n",
    "\n",
    "    def call(self, inputs):\n",
    "        return [inputs[:, :, :, :, i] for i in range(self.neurons)]\n",
    "\n",
    "    \n",
    "    \n",
    "class WeightsSplitter(keras.layers.Layer):\n",
    "    def __init__(self, neurons):\n",
    "        super().__init__()\n",
    "        self.neurons = neurons\n",
    "    \n",
    "    #overwrite get_config for being able to save and load model\n",
    "    def get_config(self):\n",
    "        config = {\n",
    "            \"neurons\" : self.neurons\n",
    "        }\n",
    "        base_config = super().get_config()\n",
    "        return dict(list(base_config.items()) + list(config.items()))\n",
    "\n",
    "    def call(self, inputs):\n",
    "        return [inputs[:, :, i] for i in range(self.neurons)]\n",
    "\n",
    "    \n",
    "    \n",
    "class BiasSplitter(keras.layers.Layer):\n",
    "    def __init__(self, neurons):\n",
    "        super().__init__()\n",
    "        self.neurons = neurons\n",
    "        \n",
    "    #overwrite get_config for being able to save and load model\n",
    "    def get_config(self):\n",
    "        config = {\n",
    "            \"neurons\" : self.neurons\n",
    "        }\n",
    "        base_config = super().get_config()\n",
    "        return dict(list(base_config.items()) + list(config.items()))\n",
    "\n",
    "    def call(self, inputs):\n",
    "        return [inputs[:, i] for i in range(self.neurons)]\n"
   ]
  },
  {
   "cell_type": "code",
   "execution_count": 73,
   "id": "0b612807-1529-4a23-91ef-a459c3ec035e",
   "metadata": {},
   "outputs": [],
   "source": [
    "from keras import layers\n",
    "\n",
    "def get_wb_meta_clf(adv_inputs):\n",
    "    inputs = []\n",
    "    kernel_splitters = []\n",
    "    bias_splitters = []\n",
    "    \n",
    "    phi_layers = []\n",
    "    for i in range(len(adv_inputs)):\n",
    "        for my_input in adv_inputs[i]:\n",
    "            keras_input = keras.Input(shape=my_input.shape, name=transform_input_name(my_input.path))\n",
    "            inputs.append(keras_input)\n",
    "            if my_input.path.find(\"conv\") >= 0 and my_input.path.find(\"kernel\") >= 0:\n",
    "                kernel_splitters.append(ConvSplitter(my_input.shape[3])(keras_input))\n",
    "            elif my_input.path.find(\"bias\") >= 0:\n",
    "                bias_splitters.append(BiasSplitter(my_input.shape[0])(keras_input))\n",
    "            else:\n",
    "                kernel_splitters.append(WeightsSplitter(my_input.shape[1])(keras_input))\n",
    "                \n",
    "    phi_layers = []\n",
    "    for kernels, biases in zip(kernel_splitters, bias_splitters):\n",
    "        channel_outputs = []\n",
    "        for w, b in zip(kernels, biases):\n",
    "            flatten_w = layers.Flatten()(w)\n",
    "            reshaped_b = layers.Reshape((1,))(b)\n",
    "            concat = layers.concatenate([flatten_w, reshaped_b])\n",
    "            phi = layers.Dense(10, activation=\"relu\")(concat)\n",
    "            # ? phi = layers.Dropout(0.5)(phi)\n",
    "            channel_outputs.append(phi)\n",
    "        my_phi = layers.Add()(channel_outputs)\n",
    "        phi_layers.append(my_phi)\n",
    "    \n",
    "    x = layers.BatchNormalization()(layers.concatenate(phi_layers))\n",
    "    x = layers.Dense(30, activation='relu')(x)\n",
    "    x = layers.Dense(8, activation='relu')(x)\n",
    "    output = layers.Dense(1)(x)\n",
    "    \n",
    "    return keras.Model(inputs=inputs, outputs=output)\n",
    "    \n",
    "    # manual_adversary.compile(optimizer=keras.optimizers.Adam(), loss=keras.losses.MeanSquaredError(), metrics=[keras.metrics.R2Score()])\n",
    "    \n"
   ]
  },
  {
   "cell_type": "code",
   "execution_count": 39,
   "id": "1f5037d8-7916-4421-a535-578b34e4f5ab",
   "metadata": {},
   "outputs": [],
   "source": [
    "meta_clf = get_wb_meta_clf(adv_inputs)"
   ]
  },
  {
   "cell_type": "code",
   "execution_count": 42,
   "id": "6804afa3-cbae-44dd-a3eb-6bac0490f920",
   "metadata": {},
   "outputs": [],
   "source": [
    "#"
   ]
  },
  {
   "cell_type": "code",
   "execution_count": 41,
   "id": "51918eb5-931c-4ab4-8048-2fc269e23428",
   "metadata": {},
   "outputs": [],
   "source": [
    "meta_clf.compile(optimizer=keras.optimizers.Adam(), loss=keras.losses.MeanSquaredError(), metrics=[keras.metrics.R2Score()])"
   ]
  },
  {
   "cell_type": "code",
   "execution_count": null,
   "id": "6a42ca21-3168-434a-949d-a58909a980c5",
   "metadata": {},
   "outputs": [],
   "source": []
  }
 ],
 "metadata": {
  "kernelspec": {
   "display_name": "pia-tf",
   "language": "python",
   "name": "pia-tf"
  },
  "language_info": {
   "codemirror_mode": {
    "name": "ipython",
    "version": 3
   },
   "file_extension": ".py",
   "mimetype": "text/x-python",
   "name": "python",
   "nbconvert_exporter": "python",
   "pygments_lexer": "ipython3",
   "version": "3.10.9"
  }
 },
 "nbformat": 4,
 "nbformat_minor": 5
}
