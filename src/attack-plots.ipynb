{
 "cells": [
  {
   "cell_type": "code",
   "execution_count": 12,
   "id": "6dd3d967-2852-41dd-ac77-765033fade46",
   "metadata": {},
   "outputs": [],
   "source": [
    "all_d = [0.1, 0.2, 0.3, 0.4, 0.5, 0.6, 0.7, 0.8, 0.9]"
   ]
  },
  {
   "cell_type": "code",
   "execution_count": 143,
   "id": "1d1adf0c-1f77-480d-bc85-668cfb46f922",
   "metadata": {},
   "outputs": [],
   "source": [
    "def to_four_classes(val):\n",
    "    if val<=0.25:\n",
    "        return 0\n",
    "    if val<=0.5:\n",
    "        return 1\n",
    "    if val<=0.75:\n",
    "        return 2\n",
    "    else:\n",
    "        return 3"
   ]
  },
  {
   "cell_type": "markdown",
   "id": "8a4b5b37-badb-4227-83ea-80b2813a6719",
   "metadata": {},
   "source": [
    "## Adult"
   ]
  },
  {
   "cell_type": "code",
   "execution_count": 42,
   "id": "c0e154eb-21de-493a-a55c-896c14fedf5d",
   "metadata": {},
   "outputs": [],
   "source": [
    "import pandas as pd\n",
    "adv_df = pd.read_csv(\"adult/data/shadow_model_outputs_proba-new_test_set.csv\")"
   ]
  },
  {
   "cell_type": "code",
   "execution_count": 50,
   "id": "d0dfc172-8aeb-4a3a-9359-31bb8feeeda5",
   "metadata": {},
   "outputs": [],
   "source": [
    "adult_adv = keras.models.load_model('adult/models/adult_adv_0.72_test_r2.keras')"
   ]
  },
  {
   "cell_type": "code",
   "execution_count": 142,
   "id": "e41064cd-1030-4cee-af45-ac1974c6adc0",
   "metadata": {},
   "outputs": [],
   "source": [
    "# measure accuracy\n",
    "all_out_adult = adult_adv(adv_df.drop(columns=\"y\"))"
   ]
  },
  {
   "cell_type": "code",
   "execution_count": 168,
   "id": "ea0c2c92-307d-4de4-9224-9fb39896bb6e",
   "metadata": {},
   "outputs": [
    {
     "data": {
      "text/plain": [
       "0.3977777777777778"
      ]
     },
     "execution_count": 168,
     "metadata": {},
     "output_type": "execute_result"
    }
   ],
   "source": [
    "classification_adult = [to_four_classes(out) == to_four_classes(y) for out, y in zip(all_out_adult, adv_df[\"y\"])]\n",
    "classification_adult.count(True)/len(classification_adult)"
   ]
  },
  {
   "cell_type": "code",
   "execution_count": 46,
   "id": "33bd1ca6-6b75-411d-96bf-92f3b1f10c89",
   "metadata": {},
   "outputs": [],
   "source": [
    "all_adult = []\n",
    "for d in all_d:\n",
    "    all_adult.append(adv_df[adv_df[\"y\"]==d])"
   ]
  },
  {
   "cell_type": "code",
   "execution_count": 125,
   "id": "14a123f0-371d-414b-8dea-88791d699d60",
   "metadata": {},
   "outputs": [],
   "source": [
    "adult_maes = []\n",
    "adult_mean_output = []\n",
    "\n",
    "for adv_test in all_adult:\n",
    "    adv_y_test = adv_test[\"y\"]\n",
    "    adv_X_test = adv_test.drop(columns=[\"y\"])\n",
    "    mae = keras.metrics.MeanAbsoluteError()\n",
    "    out = adult_adv(adv_X_test)\n",
    "    m = mae(adv_y_test, out).numpy()\n",
    "    adult_mean_output.append(np.array(out).mean())\n",
    "    adult_maes.append(m)"
   ]
  },
  {
   "cell_type": "code",
   "execution_count": 126,
   "id": "19dae801-ddd3-4b93-a5b2-636497cf4d05",
   "metadata": {},
   "outputs": [
    {
     "data": {
      "text/plain": [
       "[0.29290128,\n",
       " 0.24803197,\n",
       " 0.41366032,\n",
       " 0.51766515,\n",
       " 0.5921355,\n",
       " 0.618554,\n",
       " 0.7270807,\n",
       " 0.6593976,\n",
       " 0.65592515]"
      ]
     },
     "execution_count": 126,
     "metadata": {},
     "output_type": "execute_result"
    }
   ],
   "source": [
    "adult_mean_output"
   ]
  },
  {
   "cell_type": "markdown",
   "id": "0fb67a65-32ff-4128-9972-7f1f525f4ee5",
   "metadata": {},
   "source": [
    "## UTKFace"
   ]
  },
  {
   "cell_type": "code",
   "execution_count": 1,
   "id": "4b347fee-9c71-4c44-9eeb-97093bcbcf94",
   "metadata": {},
   "outputs": [
    {
     "name": "stderr",
     "output_type": "stream",
     "text": [
      "2024-04-27 16:47:18.575258: I external/local_tsl/tsl/cuda/cudart_stub.cc:32] Could not find cuda drivers on your machine, GPU will not be used.\n",
      "2024-04-27 16:47:18.580185: I external/local_tsl/tsl/cuda/cudart_stub.cc:32] Could not find cuda drivers on your machine, GPU will not be used.\n",
      "2024-04-27 16:47:21.877127: W tensorflow/compiler/tf2tensorrt/utils/py_utils.cc:38] TF-TRT Warning: Could not find TensorRT\n"
     ]
    }
   ],
   "source": [
    "import keras\n",
    "\n",
    "adversary = keras.models.load_model('utkface/models/adv_v2_0.63_r2.keras')"
   ]
  },
  {
   "cell_type": "code",
   "execution_count": 4,
   "id": "3b510af3-4551-4f12-8e3f-479a5b3d3a4c",
   "metadata": {},
   "outputs": [],
   "source": [
    "import pandas as pd\n",
    "\n",
    "all_adv_test = [pd.read_csv(f\"utkface/data/shadow_model_outputs/{dist}/test.csv\") for dist in all_d]"
   ]
  },
  {
   "cell_type": "code",
   "execution_count": 149,
   "id": "c66ea49b-1080-42dc-a1a6-fbee3b3249df",
   "metadata": {},
   "outputs": [],
   "source": [
    "# measure accuracy\n",
    "all_out_utk = adversary(pd.concat(all_adv_test).drop(columns=\"y\"))"
   ]
  },
  {
   "cell_type": "code",
   "execution_count": 167,
   "id": "291e5d93-4a44-488a-bdab-3c9a86e5d6f0",
   "metadata": {},
   "outputs": [
    {
     "data": {
      "text/plain": [
       "0.4488888888888889"
      ]
     },
     "execution_count": 167,
     "metadata": {},
     "output_type": "execute_result"
    }
   ],
   "source": [
    "classification_utk = [to_four_classes(out) == to_four_classes(y) for out, y in zip(all_out_utk, pd.concat(all_adv_test)[\"y\"])]\n",
    "classification_utk.count(True)/len(classification_utk)"
   ]
  },
  {
   "cell_type": "code",
   "execution_count": 127,
   "id": "962e277d-aa29-40ec-b3d5-6e7600c6a34a",
   "metadata": {},
   "outputs": [],
   "source": [
    "utk_maes = []\n",
    "utk_mean_output = []\n",
    "\n",
    "for adv_test, d in zip(all_adv_test, all_d):\n",
    "    adv_y_test = adv_test[\"y\"]\n",
    "    adv_X_test = adv_test.drop(columns=[\"y\"])\n",
    "    mae = keras.metrics.MeanAbsoluteError()\n",
    "    out = adversary(adv_X_test)\n",
    "    m = mae(adv_y_test, out).numpy()\n",
    "    utk_mean_output.append(np.array(out).mean())\n",
    "    utk_maes.append(m)"
   ]
  },
  {
   "cell_type": "code",
   "execution_count": 132,
   "id": "b88f3a1b-31a8-4fdc-9615-fef3271cbae6",
   "metadata": {},
   "outputs": [
    {
     "data": {
      "text/plain": [
       "[0.27484733,\n",
       " 0.3760082,\n",
       " 0.42236623,\n",
       " 0.47667214,\n",
       " 0.5431321,\n",
       " 0.58170485,\n",
       " 0.5959058,\n",
       " 0.63321024,\n",
       " 0.64048094]"
      ]
     },
     "execution_count": 132,
     "metadata": {},
     "output_type": "execute_result"
    }
   ],
   "source": [
    "utk_mean_output"
   ]
  },
  {
   "cell_type": "code",
   "execution_count": 17,
   "id": "f66d1e36-974b-40b4-b0a6-4fc754ed3147",
   "metadata": {},
   "outputs": [
    {
     "data": {
      "text/plain": [
       "[0.17484735,\n",
       " 0.17600821,\n",
       " 0.12236618,\n",
       " 0.085059844,\n",
       " 0.05526917,\n",
       " 0.053429887,\n",
       " 0.10544886,\n",
       " 0.16678973,\n",
       " 0.259519]"
      ]
     },
     "execution_count": 17,
     "metadata": {},
     "output_type": "execute_result"
    }
   ],
   "source": [
    "utk_maes"
   ]
  },
  {
   "cell_type": "markdown",
   "id": "2fd7c9b1-1c67-46cd-ad31-867fad0648a2",
   "metadata": {},
   "source": [
    "## CIFAR-10"
   ]
  },
  {
   "cell_type": "code",
   "execution_count": 20,
   "id": "9ffda60d-e05b-4232-90f4-8a47658926db",
   "metadata": {},
   "outputs": [],
   "source": [
    "adv_test_cifar = [pd.read_csv(f\"cifar_new_new/data/shadow_model_outputs/{dist}/test.csv\") for dist in all_d]"
   ]
  },
  {
   "cell_type": "code",
   "execution_count": 22,
   "id": "44d0c01d-090b-4076-b459-ba1ae1790ee9",
   "metadata": {},
   "outputs": [
    {
     "name": "stderr",
     "output_type": "stream",
     "text": [
      "/informatik2/svs/home/stock/anaconda3/envs/pia-tf2/lib/python3.10/site-packages/keras/src/saving/saving_lib.py:418: UserWarning: Skipping variable loading for optimizer 'adam', because it has 14 variables whereas the saved optimizer has 2 variables. \n",
      "  trackable.load_own_variables(weights_store.get(inner_path))\n"
     ]
    }
   ],
   "source": [
    "cifar_adv = keras.models.load_model('cifar/models/cifar-adv_0.62_test_r2.keras')"
   ]
  },
  {
   "cell_type": "code",
   "execution_count": 151,
   "id": "0d1b41c9-f291-45d2-9554-b025ebf9fa7a",
   "metadata": {},
   "outputs": [],
   "source": [
    "# measure accuracy\n",
    "all_out_cifar = cifar_adv(pd.concat(adv_test_cifar).drop(columns=\"y\"))"
   ]
  },
  {
   "cell_type": "code",
   "execution_count": 166,
   "id": "ec24af3d-55ad-48d8-96e9-f452f554eb84",
   "metadata": {},
   "outputs": [
    {
     "data": {
      "text/plain": [
       "0.4922222222222222"
      ]
     },
     "execution_count": 166,
     "metadata": {},
     "output_type": "execute_result"
    }
   ],
   "source": [
    "classification_cifar = [to_four_classes(out) == to_four_classes(y) for out, y in zip(all_out_cifar, pd.concat(adv_test_cifar)[\"y\"])]\n",
    "classification_cifar.count(True) / len(classification_cifar)"
   ]
  },
  {
   "cell_type": "code",
   "execution_count": 128,
   "id": "1866e92a-bddd-4ac7-a329-c4facfff9f96",
   "metadata": {},
   "outputs": [],
   "source": [
    "cifar_maes = []\n",
    "cifar_mean_output = []\n",
    "\n",
    "for adv_test in adv_test_cifar:\n",
    "    adv_y_test = adv_test[\"y\"]\n",
    "    adv_X_test = adv_test.drop(columns=[\"y\"])\n",
    "    out = cifar_adv(adv_X_test)\n",
    "    mae = keras.metrics.MeanAbsoluteError()\n",
    "    m = mae(adv_y_test, out).numpy()\n",
    "    cifar_mean_output.append(np.array(out).mean())\n",
    "    cifar_maes.append(m)"
   ]
  },
  {
   "cell_type": "code",
   "execution_count": 131,
   "id": "f6475328-391f-4359-ab32-ea9a442cd8ec",
   "metadata": {},
   "outputs": [
    {
     "data": {
      "text/plain": [
       "[0.37891167,\n",
       " 0.33837262,\n",
       " 0.3068717,\n",
       " 0.32162377,\n",
       " 0.5416798,\n",
       " 0.5606562,\n",
       " 0.615737,\n",
       " 0.6735314,\n",
       " 0.7246678]"
      ]
     },
     "execution_count": 131,
     "metadata": {},
     "output_type": "execute_result"
    }
   ],
   "source": [
    "cifar_mean_output"
   ]
  },
  {
   "cell_type": "code",
   "execution_count": 32,
   "id": "43598a87-d8ad-44a4-914b-327cde3571e2",
   "metadata": {},
   "outputs": [
    {
     "data": {
      "text/plain": [
       "[0.2789116,\n",
       " 0.13837264,\n",
       " 0.044110894,\n",
       " 0.087120555,\n",
       " 0.064873174,\n",
       " 0.061440688,\n",
       " 0.08833109,\n",
       " 0.12881975,\n",
       " 0.17533214]"
      ]
     },
     "execution_count": 32,
     "metadata": {},
     "output_type": "execute_result"
    }
   ],
   "source": [
    "cifar_maes"
   ]
  },
  {
   "cell_type": "code",
   "execution_count": 58,
   "id": "4114f909-898c-4a7a-8656-c9b92d2b72ae",
   "metadata": {},
   "outputs": [],
   "source": [
    "import pandas as pd\n",
    "\n",
    "attack_eval = pd.DataFrame({\"dist\": all_d, \"adult\": adult_maes, \"utk\": utk_maes, \"cifar\": cifar_maes})"
   ]
  },
  {
   "cell_type": "code",
   "execution_count": 137,
   "id": "fee8b2eb-fa50-4a6e-ad79-00bdc1c286b5",
   "metadata": {},
   "outputs": [],
   "source": [
    "attack_eval.to_csv('bb-mean-error-eval.csv', index=False)"
   ]
  },
  {
   "cell_type": "code",
   "execution_count": 138,
   "id": "18102f16-8f93-41aa-a29a-2ea232ede9b5",
   "metadata": {},
   "outputs": [],
   "source": [
    "attack_eval_wb = pd.DataFrame({\"dist\": all_d, \"adult\": adult_mean_output, \"utk\": utk_mean_output, \"cifar\": cifar_mean_output})\n",
    "attack_eval_wb.to_csv('bb-mean-output-eval.csv', index=False)"
   ]
  },
  {
   "cell_type": "markdown",
   "id": "36820dc8-3fb7-464b-ae53-9f4e44322ebc",
   "metadata": {},
   "source": [
    "# White-box\n",
    "### CIFAR"
   ]
  },
  {
   "cell_type": "code",
   "execution_count": 62,
   "id": "f91be8a6-0741-48c4-b500-e01e9cfd71b3",
   "metadata": {},
   "outputs": [],
   "source": [
    "from common.whitebox_utils import get_wb_meta_clf, do_read_single_model_params\n",
    "import keras\n",
    "\n",
    "m_c = keras.models.load_model('cifar/models/shadow_models/0.1/train/0.keras')\n",
    "adv_input_c = do_read_single_model_params(m_c)"
   ]
  },
  {
   "cell_type": "code",
   "execution_count": 63,
   "id": "a3d3917f-42bf-4a32-877d-047e10c23f0e",
   "metadata": {},
   "outputs": [],
   "source": [
    "adv_c = get_wb_meta_clf(adv_input_c)"
   ]
  },
  {
   "cell_type": "code",
   "execution_count": 64,
   "id": "3e713a7d-66ca-44f6-b4c6-747697dfd68b",
   "metadata": {},
   "outputs": [],
   "source": [
    "adv_c.load_weights('cifar/models/wb_adv_cifar_0.6_test_r2.weights.h5')"
   ]
  },
  {
   "cell_type": "code",
   "execution_count": 108,
   "id": "c534cbc8-4e69-4dd2-a540-e0ce6138d39d",
   "metadata": {},
   "outputs": [],
   "source": [
    "import tensorflow as tf\n",
    "ds_test = tf.data.Dataset.load(\"cifar/data/white-box/test-data\").batch(10).as_numpy_iterator()"
   ]
  },
  {
   "cell_type": "code",
   "execution_count": 109,
   "id": "98acbe6a-1196-4a81-b8a7-7f4001caba12",
   "metadata": {},
   "outputs": [
    {
     "name": "stderr",
     "output_type": "stream",
     "text": [
      "2024-04-29 15:16:15.632278: W tensorflow/core/framework/local_rendezvous.cc:404] Local rendezvous is aborting with status: OUT_OF_RANGE: End of sequence\n"
     ]
    }
   ],
   "source": [
    "results = []\n",
    "for x, y in ds_test:\n",
    "    results.extend(adv_c(x))"
   ]
  },
  {
   "cell_type": "code",
   "execution_count": null,
   "id": "7768a9bc-59c2-4545-ae42-da423991378a",
   "metadata": {},
   "outputs": [],
   "source": [
    "split_results = np.array_split(results, len(all_d))"
   ]
  },
  {
   "cell_type": "code",
   "execution_count": 157,
   "id": "769a0e78-edc4-4d45-b270-393ec480e05e",
   "metadata": {},
   "outputs": [],
   "source": [
    "true_y = np.repeat(all_d, len(split_results[0]))"
   ]
  },
  {
   "cell_type": "code",
   "execution_count": 165,
   "id": "14f3f5a7-baa0-461a-bf91-acfdbf0dc3e8",
   "metadata": {},
   "outputs": [
    {
     "data": {
      "text/plain": [
       "0.6244444444444445"
      ]
     },
     "execution_count": 165,
     "metadata": {},
     "output_type": "execute_result"
    }
   ],
   "source": [
    "classification_wb_cifar = [to_four_classes(out.numpy())==to_four_classes(y) for out, y in zip(results, true_y)]\n",
    "classification_wb_cifar.count(True) / len(classification_wb_cifar)"
   ]
  },
  {
   "cell_type": "code",
   "execution_count": 110,
   "id": "aad7fc53-4f1d-41a5-a6b5-0224a3b2ef6e",
   "metadata": {},
   "outputs": [],
   "source": [
    "cifar_maes_wb = []\n",
    "for r, d in zip(split_results, all_d):\n",
    "    mae = keras.metrics.MeanAbsoluteError()\n",
    "    m = mae(np.repeat(d, len(r)), r).numpy()\n",
    "    cifar_maes_wb.append(m)"
   ]
  },
  {
   "cell_type": "code",
   "execution_count": 129,
   "id": "760eabc7-edb2-4342-9bdc-15a86aea1e81",
   "metadata": {},
   "outputs": [],
   "source": [
    "cifar_wb_mean_output = []\n",
    "for r in split_results:\n",
    "    cifar_wb_mean_output.append(np.array(r).mean())"
   ]
  },
  {
   "cell_type": "code",
   "execution_count": 130,
   "id": "63056e25-77ad-4008-b236-a68e7619f625",
   "metadata": {},
   "outputs": [
    {
     "data": {
      "text/plain": [
       "[0.4511328,\n",
       " 0.38811004,\n",
       " 0.34906772,\n",
       " 0.34949586,\n",
       " 0.35675773,\n",
       " 0.45573235,\n",
       " 0.60958815,\n",
       " 0.7390651,\n",
       " 0.87239337]"
      ]
     },
     "execution_count": 130,
     "metadata": {},
     "output_type": "execute_result"
    }
   ],
   "source": [
    "cifar_wb_mean_output"
   ]
  },
  {
   "cell_type": "code",
   "execution_count": 111,
   "id": "89aa4b1d-b90d-4df9-a09d-4dd06023759f",
   "metadata": {},
   "outputs": [
    {
     "data": {
      "text/plain": [
       "[0.3511328,\n",
       " 0.18811007,\n",
       " 0.05223444,\n",
       " 0.05121453,\n",
       " 0.1432423,\n",
       " 0.14457516,\n",
       " 0.093326166,\n",
       " 0.07568662,\n",
       " 0.053421985]"
      ]
     },
     "execution_count": 111,
     "metadata": {},
     "output_type": "execute_result"
    }
   ],
   "source": [
    "cifar_maes_wb"
   ]
  },
  {
   "cell_type": "markdown",
   "id": "2499d63d-8d40-4fc5-b65a-188fa34e888d",
   "metadata": {},
   "source": [
    "## UTKFace"
   ]
  },
  {
   "cell_type": "code",
   "execution_count": 113,
   "id": "1a006147-b3d8-46e8-9659-e640eb999432",
   "metadata": {},
   "outputs": [],
   "source": [
    "utk_base_path = \"utkface/models/shadow_models\"\n",
    "m_u = keras.models.load_model(f'{utk_base_path}/0.1/train/0.keras')\n",
    "adv_input_u = do_read_single_model_params(m_u)"
   ]
  },
  {
   "cell_type": "code",
   "execution_count": 115,
   "id": "45aeec33-a70a-4bf6-a11c-2ea28faf7875",
   "metadata": {},
   "outputs": [],
   "source": [
    "adv_u = get_wb_meta_clf(adv_input_u)"
   ]
  },
  {
   "cell_type": "code",
   "execution_count": 116,
   "id": "eb17370e-eb8c-40cb-8686-b0d80f02a404",
   "metadata": {},
   "outputs": [],
   "source": [
    "adv_u.load_weights(f\"utkface/models/wb_adv_utk_0.86_test_r2.weights.h5\")"
   ]
  },
  {
   "cell_type": "code",
   "execution_count": 117,
   "id": "1f616167-7658-4a63-8040-cda74408a8eb",
   "metadata": {},
   "outputs": [],
   "source": [
    "ds_test_utk = tf.data.Dataset.load(\"utkface/data/white-box/test-data\").batch(8).as_numpy_iterator()"
   ]
  },
  {
   "cell_type": "code",
   "execution_count": 118,
   "id": "ca39f67f-46a7-497d-8d44-0bef4cadf2e9",
   "metadata": {},
   "outputs": [
    {
     "name": "stderr",
     "output_type": "stream",
     "text": [
      "2024-04-29 15:26:35.591444: W tensorflow/core/framework/local_rendezvous.cc:404] Local rendezvous is aborting with status: OUT_OF_RANGE: End of sequence\n"
     ]
    }
   ],
   "source": [
    "results_u = []\n",
    "for x, y in ds_test_utk:\n",
    "    results_u.extend(adv_u(x))"
   ]
  },
  {
   "cell_type": "code",
   "execution_count": 172,
   "id": "2ddd5b27-5ecf-4211-a2bd-8f93c8d93fd4",
   "metadata": {
    "collapsed": true,
    "jupyter": {
     "outputs_hidden": true
    }
   },
   "outputs": [
    {
     "data": {
      "text/plain": [
       "[<tf.Tensor: shape=(1,), dtype=float32, numpy=array([0.0644605], dtype=float32)>,\n",
       " <tf.Tensor: shape=(1,), dtype=float32, numpy=array([0.1379275], dtype=float32)>,\n",
       " <tf.Tensor: shape=(1,), dtype=float32, numpy=array([0.10558614], dtype=float32)>,\n",
       " <tf.Tensor: shape=(1,), dtype=float32, numpy=array([0.1000615], dtype=float32)>,\n",
       " <tf.Tensor: shape=(1,), dtype=float32, numpy=array([0.1063081], dtype=float32)>,\n",
       " <tf.Tensor: shape=(1,), dtype=float32, numpy=array([0.11164455], dtype=float32)>,\n",
       " <tf.Tensor: shape=(1,), dtype=float32, numpy=array([0.09851196], dtype=float32)>,\n",
       " <tf.Tensor: shape=(1,), dtype=float32, numpy=array([0.08040319], dtype=float32)>,\n",
       " <tf.Tensor: shape=(1,), dtype=float32, numpy=array([0.13257666], dtype=float32)>,\n",
       " <tf.Tensor: shape=(1,), dtype=float32, numpy=array([0.1037863], dtype=float32)>,\n",
       " <tf.Tensor: shape=(1,), dtype=float32, numpy=array([0.10100242], dtype=float32)>,\n",
       " <tf.Tensor: shape=(1,), dtype=float32, numpy=array([0.0408865], dtype=float32)>,\n",
       " <tf.Tensor: shape=(1,), dtype=float32, numpy=array([0.08367432], dtype=float32)>,\n",
       " <tf.Tensor: shape=(1,), dtype=float32, numpy=array([0.06169203], dtype=float32)>,\n",
       " <tf.Tensor: shape=(1,), dtype=float32, numpy=array([0.09673718], dtype=float32)>,\n",
       " <tf.Tensor: shape=(1,), dtype=float32, numpy=array([0.09049137], dtype=float32)>,\n",
       " <tf.Tensor: shape=(1,), dtype=float32, numpy=array([0.02404696], dtype=float32)>,\n",
       " <tf.Tensor: shape=(1,), dtype=float32, numpy=array([0.05567126], dtype=float32)>,\n",
       " <tf.Tensor: shape=(1,), dtype=float32, numpy=array([0.08417174], dtype=float32)>,\n",
       " <tf.Tensor: shape=(1,), dtype=float32, numpy=array([0.12110619], dtype=float32)>,\n",
       " <tf.Tensor: shape=(1,), dtype=float32, numpy=array([0.1524176], dtype=float32)>,\n",
       " <tf.Tensor: shape=(1,), dtype=float32, numpy=array([0.11020005], dtype=float32)>,\n",
       " <tf.Tensor: shape=(1,), dtype=float32, numpy=array([0.00661293], dtype=float32)>,\n",
       " <tf.Tensor: shape=(1,), dtype=float32, numpy=array([0.11992474], dtype=float32)>,\n",
       " <tf.Tensor: shape=(1,), dtype=float32, numpy=array([0.13546142], dtype=float32)>,\n",
       " <tf.Tensor: shape=(1,), dtype=float32, numpy=array([0.09655173], dtype=float32)>,\n",
       " <tf.Tensor: shape=(1,), dtype=float32, numpy=array([0.11227962], dtype=float32)>,\n",
       " <tf.Tensor: shape=(1,), dtype=float32, numpy=array([0.057382], dtype=float32)>,\n",
       " <tf.Tensor: shape=(1,), dtype=float32, numpy=array([0.12285025], dtype=float32)>,\n",
       " <tf.Tensor: shape=(1,), dtype=float32, numpy=array([0.11884898], dtype=float32)>,\n",
       " <tf.Tensor: shape=(1,), dtype=float32, numpy=array([0.15175438], dtype=float32)>,\n",
       " <tf.Tensor: shape=(1,), dtype=float32, numpy=array([0.09897213], dtype=float32)>,\n",
       " <tf.Tensor: shape=(1,), dtype=float32, numpy=array([0.08227067], dtype=float32)>,\n",
       " <tf.Tensor: shape=(1,), dtype=float32, numpy=array([0.07811002], dtype=float32)>,\n",
       " <tf.Tensor: shape=(1,), dtype=float32, numpy=array([0.12821758], dtype=float32)>,\n",
       " <tf.Tensor: shape=(1,), dtype=float32, numpy=array([0.10911997], dtype=float32)>,\n",
       " <tf.Tensor: shape=(1,), dtype=float32, numpy=array([0.09621692], dtype=float32)>,\n",
       " <tf.Tensor: shape=(1,), dtype=float32, numpy=array([0.08928161], dtype=float32)>,\n",
       " <tf.Tensor: shape=(1,), dtype=float32, numpy=array([0.03754544], dtype=float32)>,\n",
       " <tf.Tensor: shape=(1,), dtype=float32, numpy=array([0.11615776], dtype=float32)>,\n",
       " <tf.Tensor: shape=(1,), dtype=float32, numpy=array([0.10157972], dtype=float32)>,\n",
       " <tf.Tensor: shape=(1,), dtype=float32, numpy=array([0.06408915], dtype=float32)>,\n",
       " <tf.Tensor: shape=(1,), dtype=float32, numpy=array([0.07548486], dtype=float32)>,\n",
       " <tf.Tensor: shape=(1,), dtype=float32, numpy=array([0.11214578], dtype=float32)>,\n",
       " <tf.Tensor: shape=(1,), dtype=float32, numpy=array([0.09608657], dtype=float32)>,\n",
       " <tf.Tensor: shape=(1,), dtype=float32, numpy=array([0.06029986], dtype=float32)>,\n",
       " <tf.Tensor: shape=(1,), dtype=float32, numpy=array([0.12026577], dtype=float32)>,\n",
       " <tf.Tensor: shape=(1,), dtype=float32, numpy=array([0.08454466], dtype=float32)>,\n",
       " <tf.Tensor: shape=(1,), dtype=float32, numpy=array([0.13701014], dtype=float32)>,\n",
       " <tf.Tensor: shape=(1,), dtype=float32, numpy=array([0.0075216], dtype=float32)>,\n",
       " <tf.Tensor: shape=(1,), dtype=float32, numpy=array([0.25166962], dtype=float32)>,\n",
       " <tf.Tensor: shape=(1,), dtype=float32, numpy=array([0.21392149], dtype=float32)>,\n",
       " <tf.Tensor: shape=(1,), dtype=float32, numpy=array([0.28858936], dtype=float32)>,\n",
       " <tf.Tensor: shape=(1,), dtype=float32, numpy=array([0.22422245], dtype=float32)>,\n",
       " <tf.Tensor: shape=(1,), dtype=float32, numpy=array([0.19721684], dtype=float32)>,\n",
       " <tf.Tensor: shape=(1,), dtype=float32, numpy=array([0.2356981], dtype=float32)>,\n",
       " <tf.Tensor: shape=(1,), dtype=float32, numpy=array([0.27543116], dtype=float32)>,\n",
       " <tf.Tensor: shape=(1,), dtype=float32, numpy=array([0.22943696], dtype=float32)>,\n",
       " <tf.Tensor: shape=(1,), dtype=float32, numpy=array([0.19959211], dtype=float32)>,\n",
       " <tf.Tensor: shape=(1,), dtype=float32, numpy=array([0.31420457], dtype=float32)>,\n",
       " <tf.Tensor: shape=(1,), dtype=float32, numpy=array([0.20507738], dtype=float32)>,\n",
       " <tf.Tensor: shape=(1,), dtype=float32, numpy=array([0.18190175], dtype=float32)>,\n",
       " <tf.Tensor: shape=(1,), dtype=float32, numpy=array([0.20300962], dtype=float32)>,\n",
       " <tf.Tensor: shape=(1,), dtype=float32, numpy=array([0.16607678], dtype=float32)>,\n",
       " <tf.Tensor: shape=(1,), dtype=float32, numpy=array([0.27226704], dtype=float32)>,\n",
       " <tf.Tensor: shape=(1,), dtype=float32, numpy=array([0.18271586], dtype=float32)>,\n",
       " <tf.Tensor: shape=(1,), dtype=float32, numpy=array([0.27929094], dtype=float32)>,\n",
       " <tf.Tensor: shape=(1,), dtype=float32, numpy=array([0.16957486], dtype=float32)>,\n",
       " <tf.Tensor: shape=(1,), dtype=float32, numpy=array([0.24562582], dtype=float32)>,\n",
       " <tf.Tensor: shape=(1,), dtype=float32, numpy=array([0.23098767], dtype=float32)>,\n",
       " <tf.Tensor: shape=(1,), dtype=float32, numpy=array([0.26928914], dtype=float32)>,\n",
       " <tf.Tensor: shape=(1,), dtype=float32, numpy=array([0.15551078], dtype=float32)>,\n",
       " <tf.Tensor: shape=(1,), dtype=float32, numpy=array([0.10956541], dtype=float32)>,\n",
       " <tf.Tensor: shape=(1,), dtype=float32, numpy=array([0.19537708], dtype=float32)>,\n",
       " <tf.Tensor: shape=(1,), dtype=float32, numpy=array([0.3450122], dtype=float32)>,\n",
       " <tf.Tensor: shape=(1,), dtype=float32, numpy=array([0.3258254], dtype=float32)>,\n",
       " <tf.Tensor: shape=(1,), dtype=float32, numpy=array([0.21245645], dtype=float32)>,\n",
       " <tf.Tensor: shape=(1,), dtype=float32, numpy=array([0.19335745], dtype=float32)>,\n",
       " <tf.Tensor: shape=(1,), dtype=float32, numpy=array([0.24176839], dtype=float32)>,\n",
       " <tf.Tensor: shape=(1,), dtype=float32, numpy=array([0.24088868], dtype=float32)>,\n",
       " <tf.Tensor: shape=(1,), dtype=float32, numpy=array([0.21854354], dtype=float32)>,\n",
       " <tf.Tensor: shape=(1,), dtype=float32, numpy=array([0.24604401], dtype=float32)>,\n",
       " <tf.Tensor: shape=(1,), dtype=float32, numpy=array([0.15678082], dtype=float32)>,\n",
       " <tf.Tensor: shape=(1,), dtype=float32, numpy=array([0.22541094], dtype=float32)>,\n",
       " <tf.Tensor: shape=(1,), dtype=float32, numpy=array([0.18203531], dtype=float32)>,\n",
       " <tf.Tensor: shape=(1,), dtype=float32, numpy=array([0.16089562], dtype=float32)>,\n",
       " <tf.Tensor: shape=(1,), dtype=float32, numpy=array([0.1763663], dtype=float32)>,\n",
       " <tf.Tensor: shape=(1,), dtype=float32, numpy=array([0.1694083], dtype=float32)>,\n",
       " <tf.Tensor: shape=(1,), dtype=float32, numpy=array([0.11749347], dtype=float32)>,\n",
       " <tf.Tensor: shape=(1,), dtype=float32, numpy=array([0.17695652], dtype=float32)>,\n",
       " <tf.Tensor: shape=(1,), dtype=float32, numpy=array([0.20249243], dtype=float32)>,\n",
       " <tf.Tensor: shape=(1,), dtype=float32, numpy=array([0.21613413], dtype=float32)>,\n",
       " <tf.Tensor: shape=(1,), dtype=float32, numpy=array([0.17158733], dtype=float32)>,\n",
       " <tf.Tensor: shape=(1,), dtype=float32, numpy=array([0.19441637], dtype=float32)>,\n",
       " <tf.Tensor: shape=(1,), dtype=float32, numpy=array([0.19018343], dtype=float32)>,\n",
       " <tf.Tensor: shape=(1,), dtype=float32, numpy=array([0.20775884], dtype=float32)>,\n",
       " <tf.Tensor: shape=(1,), dtype=float32, numpy=array([0.2242677], dtype=float32)>,\n",
       " <tf.Tensor: shape=(1,), dtype=float32, numpy=array([0.21030083], dtype=float32)>,\n",
       " <tf.Tensor: shape=(1,), dtype=float32, numpy=array([0.2870065], dtype=float32)>,\n",
       " <tf.Tensor: shape=(1,), dtype=float32, numpy=array([0.13461201], dtype=float32)>,\n",
       " <tf.Tensor: shape=(1,), dtype=float32, numpy=array([0.26320398], dtype=float32)>,\n",
       " <tf.Tensor: shape=(1,), dtype=float32, numpy=array([0.4283875], dtype=float32)>,\n",
       " <tf.Tensor: shape=(1,), dtype=float32, numpy=array([0.37561512], dtype=float32)>,\n",
       " <tf.Tensor: shape=(1,), dtype=float32, numpy=array([0.28299138], dtype=float32)>,\n",
       " <tf.Tensor: shape=(1,), dtype=float32, numpy=array([0.39025477], dtype=float32)>,\n",
       " <tf.Tensor: shape=(1,), dtype=float32, numpy=array([0.37852395], dtype=float32)>,\n",
       " <tf.Tensor: shape=(1,), dtype=float32, numpy=array([0.42002693], dtype=float32)>,\n",
       " <tf.Tensor: shape=(1,), dtype=float32, numpy=array([0.408716], dtype=float32)>,\n",
       " <tf.Tensor: shape=(1,), dtype=float32, numpy=array([0.39003146], dtype=float32)>,\n",
       " <tf.Tensor: shape=(1,), dtype=float32, numpy=array([0.2913032], dtype=float32)>,\n",
       " <tf.Tensor: shape=(1,), dtype=float32, numpy=array([0.45980254], dtype=float32)>,\n",
       " <tf.Tensor: shape=(1,), dtype=float32, numpy=array([0.33507493], dtype=float32)>,\n",
       " <tf.Tensor: shape=(1,), dtype=float32, numpy=array([0.3593421], dtype=float32)>,\n",
       " <tf.Tensor: shape=(1,), dtype=float32, numpy=array([0.4117362], dtype=float32)>,\n",
       " <tf.Tensor: shape=(1,), dtype=float32, numpy=array([0.4922459], dtype=float32)>,\n",
       " <tf.Tensor: shape=(1,), dtype=float32, numpy=array([0.35107794], dtype=float32)>,\n",
       " <tf.Tensor: shape=(1,), dtype=float32, numpy=array([0.38359973], dtype=float32)>,\n",
       " <tf.Tensor: shape=(1,), dtype=float32, numpy=array([0.36591852], dtype=float32)>,\n",
       " <tf.Tensor: shape=(1,), dtype=float32, numpy=array([0.32010147], dtype=float32)>,\n",
       " <tf.Tensor: shape=(1,), dtype=float32, numpy=array([0.39750573], dtype=float32)>,\n",
       " <tf.Tensor: shape=(1,), dtype=float32, numpy=array([0.43601197], dtype=float32)>,\n",
       " <tf.Tensor: shape=(1,), dtype=float32, numpy=array([0.24873325], dtype=float32)>,\n",
       " <tf.Tensor: shape=(1,), dtype=float32, numpy=array([0.43492544], dtype=float32)>,\n",
       " <tf.Tensor: shape=(1,), dtype=float32, numpy=array([0.40488207], dtype=float32)>,\n",
       " <tf.Tensor: shape=(1,), dtype=float32, numpy=array([0.43174583], dtype=float32)>,\n",
       " <tf.Tensor: shape=(1,), dtype=float32, numpy=array([0.31472775], dtype=float32)>,\n",
       " <tf.Tensor: shape=(1,), dtype=float32, numpy=array([0.42932633], dtype=float32)>,\n",
       " <tf.Tensor: shape=(1,), dtype=float32, numpy=array([0.3465956], dtype=float32)>,\n",
       " <tf.Tensor: shape=(1,), dtype=float32, numpy=array([0.36927417], dtype=float32)>,\n",
       " <tf.Tensor: shape=(1,), dtype=float32, numpy=array([0.29893214], dtype=float32)>,\n",
       " <tf.Tensor: shape=(1,), dtype=float32, numpy=array([0.46737215], dtype=float32)>,\n",
       " <tf.Tensor: shape=(1,), dtype=float32, numpy=array([0.4191522], dtype=float32)>,\n",
       " <tf.Tensor: shape=(1,), dtype=float32, numpy=array([0.30306906], dtype=float32)>,\n",
       " <tf.Tensor: shape=(1,), dtype=float32, numpy=array([0.4241484], dtype=float32)>,\n",
       " <tf.Tensor: shape=(1,), dtype=float32, numpy=array([0.37996313], dtype=float32)>,\n",
       " <tf.Tensor: shape=(1,), dtype=float32, numpy=array([0.35957515], dtype=float32)>,\n",
       " <tf.Tensor: shape=(1,), dtype=float32, numpy=array([0.43052322], dtype=float32)>,\n",
       " <tf.Tensor: shape=(1,), dtype=float32, numpy=array([0.24812815], dtype=float32)>,\n",
       " <tf.Tensor: shape=(1,), dtype=float32, numpy=array([0.27266636], dtype=float32)>,\n",
       " <tf.Tensor: shape=(1,), dtype=float32, numpy=array([0.3294022], dtype=float32)>,\n",
       " <tf.Tensor: shape=(1,), dtype=float32, numpy=array([0.42185754], dtype=float32)>,\n",
       " <tf.Tensor: shape=(1,), dtype=float32, numpy=array([0.352972], dtype=float32)>,\n",
       " <tf.Tensor: shape=(1,), dtype=float32, numpy=array([0.33173606], dtype=float32)>,\n",
       " <tf.Tensor: shape=(1,), dtype=float32, numpy=array([0.385202], dtype=float32)>,\n",
       " <tf.Tensor: shape=(1,), dtype=float32, numpy=array([0.34431323], dtype=float32)>,\n",
       " <tf.Tensor: shape=(1,), dtype=float32, numpy=array([0.3736085], dtype=float32)>,\n",
       " <tf.Tensor: shape=(1,), dtype=float32, numpy=array([0.44049755], dtype=float32)>,\n",
       " <tf.Tensor: shape=(1,), dtype=float32, numpy=array([0.27614963], dtype=float32)>,\n",
       " <tf.Tensor: shape=(1,), dtype=float32, numpy=array([0.36121184], dtype=float32)>,\n",
       " <tf.Tensor: shape=(1,), dtype=float32, numpy=array([0.34963602], dtype=float32)>,\n",
       " <tf.Tensor: shape=(1,), dtype=float32, numpy=array([0.5051193], dtype=float32)>,\n",
       " <tf.Tensor: shape=(1,), dtype=float32, numpy=array([0.54062265], dtype=float32)>,\n",
       " <tf.Tensor: shape=(1,), dtype=float32, numpy=array([0.42883506], dtype=float32)>,\n",
       " <tf.Tensor: shape=(1,), dtype=float32, numpy=array([0.34857115], dtype=float32)>,\n",
       " <tf.Tensor: shape=(1,), dtype=float32, numpy=array([0.45703283], dtype=float32)>,\n",
       " <tf.Tensor: shape=(1,), dtype=float32, numpy=array([0.5655704], dtype=float32)>,\n",
       " <tf.Tensor: shape=(1,), dtype=float32, numpy=array([0.45463726], dtype=float32)>,\n",
       " <tf.Tensor: shape=(1,), dtype=float32, numpy=array([0.56529856], dtype=float32)>,\n",
       " <tf.Tensor: shape=(1,), dtype=float32, numpy=array([0.39246872], dtype=float32)>,\n",
       " <tf.Tensor: shape=(1,), dtype=float32, numpy=array([0.4162203], dtype=float32)>,\n",
       " <tf.Tensor: shape=(1,), dtype=float32, numpy=array([0.49138522], dtype=float32)>,\n",
       " <tf.Tensor: shape=(1,), dtype=float32, numpy=array([0.47444332], dtype=float32)>,\n",
       " <tf.Tensor: shape=(1,), dtype=float32, numpy=array([0.48915628], dtype=float32)>,\n",
       " <tf.Tensor: shape=(1,), dtype=float32, numpy=array([0.40825313], dtype=float32)>,\n",
       " <tf.Tensor: shape=(1,), dtype=float32, numpy=array([0.4996988], dtype=float32)>,\n",
       " <tf.Tensor: shape=(1,), dtype=float32, numpy=array([0.45036072], dtype=float32)>,\n",
       " <tf.Tensor: shape=(1,), dtype=float32, numpy=array([0.5888154], dtype=float32)>,\n",
       " <tf.Tensor: shape=(1,), dtype=float32, numpy=array([0.5820899], dtype=float32)>,\n",
       " <tf.Tensor: shape=(1,), dtype=float32, numpy=array([0.5718579], dtype=float32)>,\n",
       " <tf.Tensor: shape=(1,), dtype=float32, numpy=array([0.4839385], dtype=float32)>,\n",
       " <tf.Tensor: shape=(1,), dtype=float32, numpy=array([0.40207827], dtype=float32)>,\n",
       " <tf.Tensor: shape=(1,), dtype=float32, numpy=array([0.43729743], dtype=float32)>,\n",
       " <tf.Tensor: shape=(1,), dtype=float32, numpy=array([0.4628334], dtype=float32)>,\n",
       " <tf.Tensor: shape=(1,), dtype=float32, numpy=array([0.4334619], dtype=float32)>,\n",
       " <tf.Tensor: shape=(1,), dtype=float32, numpy=array([0.51203614], dtype=float32)>,\n",
       " <tf.Tensor: shape=(1,), dtype=float32, numpy=array([0.37185508], dtype=float32)>,\n",
       " <tf.Tensor: shape=(1,), dtype=float32, numpy=array([0.47695568], dtype=float32)>,\n",
       " <tf.Tensor: shape=(1,), dtype=float32, numpy=array([0.47516233], dtype=float32)>,\n",
       " <tf.Tensor: shape=(1,), dtype=float32, numpy=array([0.4181753], dtype=float32)>,\n",
       " <tf.Tensor: shape=(1,), dtype=float32, numpy=array([0.4263476], dtype=float32)>,\n",
       " <tf.Tensor: shape=(1,), dtype=float32, numpy=array([0.3543771], dtype=float32)>,\n",
       " <tf.Tensor: shape=(1,), dtype=float32, numpy=array([0.50837183], dtype=float32)>,\n",
       " <tf.Tensor: shape=(1,), dtype=float32, numpy=array([0.49384758], dtype=float32)>,\n",
       " <tf.Tensor: shape=(1,), dtype=float32, numpy=array([0.5786586], dtype=float32)>,\n",
       " <tf.Tensor: shape=(1,), dtype=float32, numpy=array([0.49814788], dtype=float32)>,\n",
       " <tf.Tensor: shape=(1,), dtype=float32, numpy=array([0.5745587], dtype=float32)>,\n",
       " <tf.Tensor: shape=(1,), dtype=float32, numpy=array([0.5408776], dtype=float32)>,\n",
       " <tf.Tensor: shape=(1,), dtype=float32, numpy=array([0.36672425], dtype=float32)>,\n",
       " <tf.Tensor: shape=(1,), dtype=float32, numpy=array([0.46873572], dtype=float32)>,\n",
       " <tf.Tensor: shape=(1,), dtype=float32, numpy=array([0.3652613], dtype=float32)>,\n",
       " <tf.Tensor: shape=(1,), dtype=float32, numpy=array([0.4802695], dtype=float32)>,\n",
       " <tf.Tensor: shape=(1,), dtype=float32, numpy=array([0.554411], dtype=float32)>,\n",
       " <tf.Tensor: shape=(1,), dtype=float32, numpy=array([0.44097573], dtype=float32)>,\n",
       " <tf.Tensor: shape=(1,), dtype=float32, numpy=array([0.5169734], dtype=float32)>,\n",
       " <tf.Tensor: shape=(1,), dtype=float32, numpy=array([0.422122], dtype=float32)>,\n",
       " <tf.Tensor: shape=(1,), dtype=float32, numpy=array([0.4040304], dtype=float32)>,\n",
       " <tf.Tensor: shape=(1,), dtype=float32, numpy=array([0.4656885], dtype=float32)>,\n",
       " <tf.Tensor: shape=(1,), dtype=float32, numpy=array([0.44666022], dtype=float32)>,\n",
       " <tf.Tensor: shape=(1,), dtype=float32, numpy=array([0.507195], dtype=float32)>,\n",
       " <tf.Tensor: shape=(1,), dtype=float32, numpy=array([0.48274273], dtype=float32)>,\n",
       " <tf.Tensor: shape=(1,), dtype=float32, numpy=array([0.4420335], dtype=float32)>,\n",
       " <tf.Tensor: shape=(1,), dtype=float32, numpy=array([0.63271403], dtype=float32)>,\n",
       " <tf.Tensor: shape=(1,), dtype=float32, numpy=array([0.5789684], dtype=float32)>,\n",
       " <tf.Tensor: shape=(1,), dtype=float32, numpy=array([0.6429657], dtype=float32)>,\n",
       " <tf.Tensor: shape=(1,), dtype=float32, numpy=array([0.52342105], dtype=float32)>,\n",
       " <tf.Tensor: shape=(1,), dtype=float32, numpy=array([0.5801147], dtype=float32)>,\n",
       " <tf.Tensor: shape=(1,), dtype=float32, numpy=array([0.7090621], dtype=float32)>,\n",
       " <tf.Tensor: shape=(1,), dtype=float32, numpy=array([0.5307648], dtype=float32)>,\n",
       " <tf.Tensor: shape=(1,), dtype=float32, numpy=array([0.5579718], dtype=float32)>,\n",
       " <tf.Tensor: shape=(1,), dtype=float32, numpy=array([0.56556535], dtype=float32)>,\n",
       " <tf.Tensor: shape=(1,), dtype=float32, numpy=array([0.4707909], dtype=float32)>,\n",
       " <tf.Tensor: shape=(1,), dtype=float32, numpy=array([0.58445156], dtype=float32)>,\n",
       " <tf.Tensor: shape=(1,), dtype=float32, numpy=array([0.60109866], dtype=float32)>,\n",
       " <tf.Tensor: shape=(1,), dtype=float32, numpy=array([0.6961119], dtype=float32)>,\n",
       " <tf.Tensor: shape=(1,), dtype=float32, numpy=array([0.5851854], dtype=float32)>,\n",
       " <tf.Tensor: shape=(1,), dtype=float32, numpy=array([0.5358428], dtype=float32)>,\n",
       " <tf.Tensor: shape=(1,), dtype=float32, numpy=array([0.57066035], dtype=float32)>,\n",
       " <tf.Tensor: shape=(1,), dtype=float32, numpy=array([0.467339], dtype=float32)>,\n",
       " <tf.Tensor: shape=(1,), dtype=float32, numpy=array([0.52528775], dtype=float32)>,\n",
       " <tf.Tensor: shape=(1,), dtype=float32, numpy=array([0.5511068], dtype=float32)>,\n",
       " <tf.Tensor: shape=(1,), dtype=float32, numpy=array([0.50725764], dtype=float32)>,\n",
       " <tf.Tensor: shape=(1,), dtype=float32, numpy=array([0.44037962], dtype=float32)>,\n",
       " <tf.Tensor: shape=(1,), dtype=float32, numpy=array([0.63760376], dtype=float32)>,\n",
       " <tf.Tensor: shape=(1,), dtype=float32, numpy=array([0.48484626], dtype=float32)>,\n",
       " <tf.Tensor: shape=(1,), dtype=float32, numpy=array([0.44875547], dtype=float32)>,\n",
       " <tf.Tensor: shape=(1,), dtype=float32, numpy=array([0.51037896], dtype=float32)>,\n",
       " <tf.Tensor: shape=(1,), dtype=float32, numpy=array([0.5534353], dtype=float32)>,\n",
       " <tf.Tensor: shape=(1,), dtype=float32, numpy=array([0.64868367], dtype=float32)>,\n",
       " <tf.Tensor: shape=(1,), dtype=float32, numpy=array([0.63804364], dtype=float32)>,\n",
       " <tf.Tensor: shape=(1,), dtype=float32, numpy=array([0.4311883], dtype=float32)>,\n",
       " <tf.Tensor: shape=(1,), dtype=float32, numpy=array([0.5624764], dtype=float32)>,\n",
       " <tf.Tensor: shape=(1,), dtype=float32, numpy=array([0.53304386], dtype=float32)>,\n",
       " <tf.Tensor: shape=(1,), dtype=float32, numpy=array([0.59245837], dtype=float32)>,\n",
       " <tf.Tensor: shape=(1,), dtype=float32, numpy=array([0.5879953], dtype=float32)>,\n",
       " <tf.Tensor: shape=(1,), dtype=float32, numpy=array([0.7122562], dtype=float32)>,\n",
       " <tf.Tensor: shape=(1,), dtype=float32, numpy=array([0.57998335], dtype=float32)>,\n",
       " <tf.Tensor: shape=(1,), dtype=float32, numpy=array([0.6488584], dtype=float32)>,\n",
       " <tf.Tensor: shape=(1,), dtype=float32, numpy=array([0.5100149], dtype=float32)>,\n",
       " <tf.Tensor: shape=(1,), dtype=float32, numpy=array([0.64077806], dtype=float32)>,\n",
       " <tf.Tensor: shape=(1,), dtype=float32, numpy=array([0.5406118], dtype=float32)>,\n",
       " <tf.Tensor: shape=(1,), dtype=float32, numpy=array([0.5519546], dtype=float32)>,\n",
       " <tf.Tensor: shape=(1,), dtype=float32, numpy=array([0.6405438], dtype=float32)>,\n",
       " <tf.Tensor: shape=(1,), dtype=float32, numpy=array([0.6121323], dtype=float32)>,\n",
       " <tf.Tensor: shape=(1,), dtype=float32, numpy=array([0.5164936], dtype=float32)>,\n",
       " <tf.Tensor: shape=(1,), dtype=float32, numpy=array([0.42737922], dtype=float32)>,\n",
       " <tf.Tensor: shape=(1,), dtype=float32, numpy=array([0.62200546], dtype=float32)>,\n",
       " <tf.Tensor: shape=(1,), dtype=float32, numpy=array([0.5595038], dtype=float32)>,\n",
       " <tf.Tensor: shape=(1,), dtype=float32, numpy=array([0.68086135], dtype=float32)>,\n",
       " <tf.Tensor: shape=(1,), dtype=float32, numpy=array([0.50878817], dtype=float32)>,\n",
       " <tf.Tensor: shape=(1,), dtype=float32, numpy=array([0.73007166], dtype=float32)>,\n",
       " <tf.Tensor: shape=(1,), dtype=float32, numpy=array([0.4724056], dtype=float32)>,\n",
       " <tf.Tensor: shape=(1,), dtype=float32, numpy=array([0.5697303], dtype=float32)>,\n",
       " <tf.Tensor: shape=(1,), dtype=float32, numpy=array([0.5701122], dtype=float32)>,\n",
       " <tf.Tensor: shape=(1,), dtype=float32, numpy=array([0.67729545], dtype=float32)>,\n",
       " <tf.Tensor: shape=(1,), dtype=float32, numpy=array([0.6596184], dtype=float32)>,\n",
       " <tf.Tensor: shape=(1,), dtype=float32, numpy=array([0.5794738], dtype=float32)>,\n",
       " <tf.Tensor: shape=(1,), dtype=float32, numpy=array([0.6593989], dtype=float32)>,\n",
       " <tf.Tensor: shape=(1,), dtype=float32, numpy=array([0.66562915], dtype=float32)>,\n",
       " <tf.Tensor: shape=(1,), dtype=float32, numpy=array([0.51314855], dtype=float32)>,\n",
       " <tf.Tensor: shape=(1,), dtype=float32, numpy=array([0.5563897], dtype=float32)>,\n",
       " <tf.Tensor: shape=(1,), dtype=float32, numpy=array([0.65875506], dtype=float32)>,\n",
       " <tf.Tensor: shape=(1,), dtype=float32, numpy=array([0.60234773], dtype=float32)>,\n",
       " <tf.Tensor: shape=(1,), dtype=float32, numpy=array([0.6160176], dtype=float32)>,\n",
       " <tf.Tensor: shape=(1,), dtype=float32, numpy=array([0.6765305], dtype=float32)>,\n",
       " <tf.Tensor: shape=(1,), dtype=float32, numpy=array([0.6325472], dtype=float32)>,\n",
       " <tf.Tensor: shape=(1,), dtype=float32, numpy=array([0.55173635], dtype=float32)>,\n",
       " <tf.Tensor: shape=(1,), dtype=float32, numpy=array([0.6230724], dtype=float32)>,\n",
       " <tf.Tensor: shape=(1,), dtype=float32, numpy=array([0.82168376], dtype=float32)>,\n",
       " <tf.Tensor: shape=(1,), dtype=float32, numpy=array([0.5345542], dtype=float32)>,\n",
       " <tf.Tensor: shape=(1,), dtype=float32, numpy=array([0.6567453], dtype=float32)>,\n",
       " <tf.Tensor: shape=(1,), dtype=float32, numpy=array([0.58248055], dtype=float32)>,\n",
       " <tf.Tensor: shape=(1,), dtype=float32, numpy=array([0.5001911], dtype=float32)>,\n",
       " <tf.Tensor: shape=(1,), dtype=float32, numpy=array([0.7956097], dtype=float32)>,\n",
       " <tf.Tensor: shape=(1,), dtype=float32, numpy=array([0.5684371], dtype=float32)>,\n",
       " <tf.Tensor: shape=(1,), dtype=float32, numpy=array([0.513318], dtype=float32)>,\n",
       " <tf.Tensor: shape=(1,), dtype=float32, numpy=array([0.55235624], dtype=float32)>,\n",
       " <tf.Tensor: shape=(1,), dtype=float32, numpy=array([0.63116413], dtype=float32)>,\n",
       " <tf.Tensor: shape=(1,), dtype=float32, numpy=array([0.6172304], dtype=float32)>,\n",
       " <tf.Tensor: shape=(1,), dtype=float32, numpy=array([0.7347101], dtype=float32)>,\n",
       " <tf.Tensor: shape=(1,), dtype=float32, numpy=array([0.5435262], dtype=float32)>,\n",
       " <tf.Tensor: shape=(1,), dtype=float32, numpy=array([0.46106344], dtype=float32)>,\n",
       " <tf.Tensor: shape=(1,), dtype=float32, numpy=array([0.5768617], dtype=float32)>,\n",
       " <tf.Tensor: shape=(1,), dtype=float32, numpy=array([0.54972243], dtype=float32)>,\n",
       " <tf.Tensor: shape=(1,), dtype=float32, numpy=array([0.6418214], dtype=float32)>,\n",
       " <tf.Tensor: shape=(1,), dtype=float32, numpy=array([0.74119234], dtype=float32)>,\n",
       " <tf.Tensor: shape=(1,), dtype=float32, numpy=array([0.66416836], dtype=float32)>,\n",
       " <tf.Tensor: shape=(1,), dtype=float32, numpy=array([0.6938952], dtype=float32)>,\n",
       " <tf.Tensor: shape=(1,), dtype=float32, numpy=array([0.59217644], dtype=float32)>,\n",
       " <tf.Tensor: shape=(1,), dtype=float32, numpy=array([0.64881384], dtype=float32)>,\n",
       " <tf.Tensor: shape=(1,), dtype=float32, numpy=array([0.6176959], dtype=float32)>,\n",
       " <tf.Tensor: shape=(1,), dtype=float32, numpy=array([0.66150856], dtype=float32)>,\n",
       " <tf.Tensor: shape=(1,), dtype=float32, numpy=array([0.6414635], dtype=float32)>,\n",
       " <tf.Tensor: shape=(1,), dtype=float32, numpy=array([0.6340003], dtype=float32)>,\n",
       " <tf.Tensor: shape=(1,), dtype=float32, numpy=array([0.69864976], dtype=float32)>,\n",
       " <tf.Tensor: shape=(1,), dtype=float32, numpy=array([0.57181156], dtype=float32)>,\n",
       " <tf.Tensor: shape=(1,), dtype=float32, numpy=array([0.6724942], dtype=float32)>,\n",
       " <tf.Tensor: shape=(1,), dtype=float32, numpy=array([0.566121], dtype=float32)>,\n",
       " <tf.Tensor: shape=(1,), dtype=float32, numpy=array([0.7242744], dtype=float32)>,\n",
       " <tf.Tensor: shape=(1,), dtype=float32, numpy=array([0.66724896], dtype=float32)>,\n",
       " <tf.Tensor: shape=(1,), dtype=float32, numpy=array([0.6825491], dtype=float32)>,\n",
       " <tf.Tensor: shape=(1,), dtype=float32, numpy=array([0.73863864], dtype=float32)>,\n",
       " <tf.Tensor: shape=(1,), dtype=float32, numpy=array([0.67531705], dtype=float32)>,\n",
       " <tf.Tensor: shape=(1,), dtype=float32, numpy=array([0.6003008], dtype=float32)>,\n",
       " <tf.Tensor: shape=(1,), dtype=float32, numpy=array([0.7830615], dtype=float32)>,\n",
       " <tf.Tensor: shape=(1,), dtype=float32, numpy=array([0.6771679], dtype=float32)>,\n",
       " <tf.Tensor: shape=(1,), dtype=float32, numpy=array([0.7282115], dtype=float32)>,\n",
       " <tf.Tensor: shape=(1,), dtype=float32, numpy=array([0.7262287], dtype=float32)>,\n",
       " <tf.Tensor: shape=(1,), dtype=float32, numpy=array([0.7844728], dtype=float32)>,\n",
       " <tf.Tensor: shape=(1,), dtype=float32, numpy=array([0.6670636], dtype=float32)>,\n",
       " <tf.Tensor: shape=(1,), dtype=float32, numpy=array([0.7423543], dtype=float32)>,\n",
       " <tf.Tensor: shape=(1,), dtype=float32, numpy=array([0.63549244], dtype=float32)>,\n",
       " <tf.Tensor: shape=(1,), dtype=float32, numpy=array([0.7702799], dtype=float32)>,\n",
       " <tf.Tensor: shape=(1,), dtype=float32, numpy=array([0.7918359], dtype=float32)>,\n",
       " <tf.Tensor: shape=(1,), dtype=float32, numpy=array([0.7169024], dtype=float32)>,\n",
       " <tf.Tensor: shape=(1,), dtype=float32, numpy=array([0.56601703], dtype=float32)>,\n",
       " <tf.Tensor: shape=(1,), dtype=float32, numpy=array([0.5573821], dtype=float32)>,\n",
       " <tf.Tensor: shape=(1,), dtype=float32, numpy=array([0.63325113], dtype=float32)>,\n",
       " <tf.Tensor: shape=(1,), dtype=float32, numpy=array([0.78169334], dtype=float32)>,\n",
       " <tf.Tensor: shape=(1,), dtype=float32, numpy=array([0.7607901], dtype=float32)>,\n",
       " <tf.Tensor: shape=(1,), dtype=float32, numpy=array([0.6642302], dtype=float32)>,\n",
       " <tf.Tensor: shape=(1,), dtype=float32, numpy=array([0.564546], dtype=float32)>,\n",
       " <tf.Tensor: shape=(1,), dtype=float32, numpy=array([0.5661971], dtype=float32)>,\n",
       " <tf.Tensor: shape=(1,), dtype=float32, numpy=array([0.6737306], dtype=float32)>,\n",
       " <tf.Tensor: shape=(1,), dtype=float32, numpy=array([0.64360833], dtype=float32)>,\n",
       " <tf.Tensor: shape=(1,), dtype=float32, numpy=array([0.58486944], dtype=float32)>,\n",
       " <tf.Tensor: shape=(1,), dtype=float32, numpy=array([0.5747461], dtype=float32)>,\n",
       " <tf.Tensor: shape=(1,), dtype=float32, numpy=array([0.6464988], dtype=float32)>,\n",
       " <tf.Tensor: shape=(1,), dtype=float32, numpy=array([0.73549294], dtype=float32)>,\n",
       " <tf.Tensor: shape=(1,), dtype=float32, numpy=array([0.5837447], dtype=float32)>,\n",
       " <tf.Tensor: shape=(1,), dtype=float32, numpy=array([0.6296358], dtype=float32)>,\n",
       " <tf.Tensor: shape=(1,), dtype=float32, numpy=array([0.704499], dtype=float32)>,\n",
       " <tf.Tensor: shape=(1,), dtype=float32, numpy=array([0.73774004], dtype=float32)>,\n",
       " <tf.Tensor: shape=(1,), dtype=float32, numpy=array([0.8134687], dtype=float32)>,\n",
       " <tf.Tensor: shape=(1,), dtype=float32, numpy=array([0.65701604], dtype=float32)>,\n",
       " <tf.Tensor: shape=(1,), dtype=float32, numpy=array([0.7404822], dtype=float32)>,\n",
       " <tf.Tensor: shape=(1,), dtype=float32, numpy=array([0.74896705], dtype=float32)>,\n",
       " <tf.Tensor: shape=(1,), dtype=float32, numpy=array([0.72545815], dtype=float32)>,\n",
       " <tf.Tensor: shape=(1,), dtype=float32, numpy=array([0.5992578], dtype=float32)>,\n",
       " <tf.Tensor: shape=(1,), dtype=float32, numpy=array([0.6715816], dtype=float32)>,\n",
       " <tf.Tensor: shape=(1,), dtype=float32, numpy=array([0.5867303], dtype=float32)>,\n",
       " <tf.Tensor: shape=(1,), dtype=float32, numpy=array([0.7673422], dtype=float32)>,\n",
       " <tf.Tensor: shape=(1,), dtype=float32, numpy=array([0.74954855], dtype=float32)>,\n",
       " <tf.Tensor: shape=(1,), dtype=float32, numpy=array([0.60925245], dtype=float32)>,\n",
       " <tf.Tensor: shape=(1,), dtype=float32, numpy=array([0.6698557], dtype=float32)>,\n",
       " <tf.Tensor: shape=(1,), dtype=float32, numpy=array([0.64956427], dtype=float32)>,\n",
       " <tf.Tensor: shape=(1,), dtype=float32, numpy=array([0.7096995], dtype=float32)>,\n",
       " <tf.Tensor: shape=(1,), dtype=float32, numpy=array([0.5702211], dtype=float32)>,\n",
       " <tf.Tensor: shape=(1,), dtype=float32, numpy=array([0.71002173], dtype=float32)>,\n",
       " <tf.Tensor: shape=(1,), dtype=float32, numpy=array([0.6972225], dtype=float32)>,\n",
       " <tf.Tensor: shape=(1,), dtype=float32, numpy=array([0.75554967], dtype=float32)>,\n",
       " <tf.Tensor: shape=(1,), dtype=float32, numpy=array([0.72570276], dtype=float32)>,\n",
       " <tf.Tensor: shape=(1,), dtype=float32, numpy=array([0.7160454], dtype=float32)>,\n",
       " <tf.Tensor: shape=(1,), dtype=float32, numpy=array([0.63717514], dtype=float32)>,\n",
       " <tf.Tensor: shape=(1,), dtype=float32, numpy=array([0.6964625], dtype=float32)>,\n",
       " <tf.Tensor: shape=(1,), dtype=float32, numpy=array([0.6427667], dtype=float32)>,\n",
       " <tf.Tensor: shape=(1,), dtype=float32, numpy=array([0.7232826], dtype=float32)>,\n",
       " <tf.Tensor: shape=(1,), dtype=float32, numpy=array([0.7396467], dtype=float32)>,\n",
       " <tf.Tensor: shape=(1,), dtype=float32, numpy=array([0.79544103], dtype=float32)>,\n",
       " <tf.Tensor: shape=(1,), dtype=float32, numpy=array([0.635197], dtype=float32)>,\n",
       " <tf.Tensor: shape=(1,), dtype=float32, numpy=array([0.8077744], dtype=float32)>,\n",
       " <tf.Tensor: shape=(1,), dtype=float32, numpy=array([0.72641027], dtype=float32)>,\n",
       " <tf.Tensor: shape=(1,), dtype=float32, numpy=array([0.75097346], dtype=float32)>,\n",
       " <tf.Tensor: shape=(1,), dtype=float32, numpy=array([0.77117705], dtype=float32)>,\n",
       " <tf.Tensor: shape=(1,), dtype=float32, numpy=array([0.71141696], dtype=float32)>,\n",
       " <tf.Tensor: shape=(1,), dtype=float32, numpy=array([0.6307585], dtype=float32)>,\n",
       " <tf.Tensor: shape=(1,), dtype=float32, numpy=array([0.63689953], dtype=float32)>,\n",
       " <tf.Tensor: shape=(1,), dtype=float32, numpy=array([0.7327744], dtype=float32)>,\n",
       " <tf.Tensor: shape=(1,), dtype=float32, numpy=array([0.838372], dtype=float32)>,\n",
       " <tf.Tensor: shape=(1,), dtype=float32, numpy=array([0.741408], dtype=float32)>,\n",
       " <tf.Tensor: shape=(1,), dtype=float32, numpy=array([0.7909838], dtype=float32)>,\n",
       " <tf.Tensor: shape=(1,), dtype=float32, numpy=array([0.68791676], dtype=float32)>,\n",
       " <tf.Tensor: shape=(1,), dtype=float32, numpy=array([0.6155153], dtype=float32)>,\n",
       " <tf.Tensor: shape=(1,), dtype=float32, numpy=array([0.7355156], dtype=float32)>,\n",
       " <tf.Tensor: shape=(1,), dtype=float32, numpy=array([0.6690235], dtype=float32)>,\n",
       " <tf.Tensor: shape=(1,), dtype=float32, numpy=array([0.63850105], dtype=float32)>,\n",
       " <tf.Tensor: shape=(1,), dtype=float32, numpy=array([0.7453058], dtype=float32)>,\n",
       " <tf.Tensor: shape=(1,), dtype=float32, numpy=array([0.7437955], dtype=float32)>,\n",
       " <tf.Tensor: shape=(1,), dtype=float32, numpy=array([0.7573023], dtype=float32)>,\n",
       " <tf.Tensor: shape=(1,), dtype=float32, numpy=array([0.6982281], dtype=float32)>,\n",
       " <tf.Tensor: shape=(1,), dtype=float32, numpy=array([0.6062436], dtype=float32)>,\n",
       " <tf.Tensor: shape=(1,), dtype=float32, numpy=array([0.7116581], dtype=float32)>,\n",
       " <tf.Tensor: shape=(1,), dtype=float32, numpy=array([0.8296857], dtype=float32)>,\n",
       " <tf.Tensor: shape=(1,), dtype=float32, numpy=array([0.726035], dtype=float32)>,\n",
       " <tf.Tensor: shape=(1,), dtype=float32, numpy=array([0.7037542], dtype=float32)>,\n",
       " <tf.Tensor: shape=(1,), dtype=float32, numpy=array([0.8383101], dtype=float32)>,\n",
       " <tf.Tensor: shape=(1,), dtype=float32, numpy=array([0.83427846], dtype=float32)>,\n",
       " <tf.Tensor: shape=(1,), dtype=float32, numpy=array([0.805346], dtype=float32)>,\n",
       " <tf.Tensor: shape=(1,), dtype=float32, numpy=array([0.6066861], dtype=float32)>,\n",
       " <tf.Tensor: shape=(1,), dtype=float32, numpy=array([0.73149276], dtype=float32)>,\n",
       " <tf.Tensor: shape=(1,), dtype=float32, numpy=array([0.6563542], dtype=float32)>,\n",
       " <tf.Tensor: shape=(1,), dtype=float32, numpy=array([0.70958424], dtype=float32)>,\n",
       " <tf.Tensor: shape=(1,), dtype=float32, numpy=array([0.7269467], dtype=float32)>,\n",
       " <tf.Tensor: shape=(1,), dtype=float32, numpy=array([0.75546], dtype=float32)>,\n",
       " <tf.Tensor: shape=(1,), dtype=float32, numpy=array([0.838969], dtype=float32)>,\n",
       " <tf.Tensor: shape=(1,), dtype=float32, numpy=array([0.66722107], dtype=float32)>,\n",
       " <tf.Tensor: shape=(1,), dtype=float32, numpy=array([0.7320889], dtype=float32)>,\n",
       " <tf.Tensor: shape=(1,), dtype=float32, numpy=array([0.7049345], dtype=float32)>,\n",
       " <tf.Tensor: shape=(1,), dtype=float32, numpy=array([0.70008135], dtype=float32)>,\n",
       " <tf.Tensor: shape=(1,), dtype=float32, numpy=array([0.7374464], dtype=float32)>,\n",
       " <tf.Tensor: shape=(1,), dtype=float32, numpy=array([0.76996076], dtype=float32)>,\n",
       " <tf.Tensor: shape=(1,), dtype=float32, numpy=array([0.84000885], dtype=float32)>,\n",
       " <tf.Tensor: shape=(1,), dtype=float32, numpy=array([0.81773865], dtype=float32)>,\n",
       " <tf.Tensor: shape=(1,), dtype=float32, numpy=array([0.68366456], dtype=float32)>,\n",
       " <tf.Tensor: shape=(1,), dtype=float32, numpy=array([0.7281631], dtype=float32)>,\n",
       " <tf.Tensor: shape=(1,), dtype=float32, numpy=array([0.66136396], dtype=float32)>,\n",
       " <tf.Tensor: shape=(1,), dtype=float32, numpy=array([0.78451586], dtype=float32)>,\n",
       " <tf.Tensor: shape=(1,), dtype=float32, numpy=array([0.9097774], dtype=float32)>,\n",
       " <tf.Tensor: shape=(1,), dtype=float32, numpy=array([0.85158455], dtype=float32)>,\n",
       " <tf.Tensor: shape=(1,), dtype=float32, numpy=array([0.7722961], dtype=float32)>,\n",
       " <tf.Tensor: shape=(1,), dtype=float32, numpy=array([0.77205455], dtype=float32)>,\n",
       " <tf.Tensor: shape=(1,), dtype=float32, numpy=array([0.7261709], dtype=float32)>,\n",
       " <tf.Tensor: shape=(1,), dtype=float32, numpy=array([0.7327393], dtype=float32)>,\n",
       " <tf.Tensor: shape=(1,), dtype=float32, numpy=array([0.7867805], dtype=float32)>,\n",
       " <tf.Tensor: shape=(1,), dtype=float32, numpy=array([0.6717824], dtype=float32)>,\n",
       " <tf.Tensor: shape=(1,), dtype=float32, numpy=array([0.6986067], dtype=float32)>,\n",
       " <tf.Tensor: shape=(1,), dtype=float32, numpy=array([0.5515871], dtype=float32)>,\n",
       " <tf.Tensor: shape=(1,), dtype=float32, numpy=array([0.71402276], dtype=float32)>,\n",
       " <tf.Tensor: shape=(1,), dtype=float32, numpy=array([0.7375119], dtype=float32)>,\n",
       " <tf.Tensor: shape=(1,), dtype=float32, numpy=array([0.6824794], dtype=float32)>,\n",
       " <tf.Tensor: shape=(1,), dtype=float32, numpy=array([0.6712893], dtype=float32)>,\n",
       " <tf.Tensor: shape=(1,), dtype=float32, numpy=array([0.71847975], dtype=float32)>,\n",
       " <tf.Tensor: shape=(1,), dtype=float32, numpy=array([0.7261107], dtype=float32)>,\n",
       " <tf.Tensor: shape=(1,), dtype=float32, numpy=array([0.810421], dtype=float32)>,\n",
       " <tf.Tensor: shape=(1,), dtype=float32, numpy=array([0.64683735], dtype=float32)>,\n",
       " <tf.Tensor: shape=(1,), dtype=float32, numpy=array([0.71433604], dtype=float32)>,\n",
       " <tf.Tensor: shape=(1,), dtype=float32, numpy=array([0.69974303], dtype=float32)>,\n",
       " <tf.Tensor: shape=(1,), dtype=float32, numpy=array([0.7151115], dtype=float32)>,\n",
       " <tf.Tensor: shape=(1,), dtype=float32, numpy=array([0.78877294], dtype=float32)>,\n",
       " <tf.Tensor: shape=(1,), dtype=float32, numpy=array([0.72516584], dtype=float32)>,\n",
       " <tf.Tensor: shape=(1,), dtype=float32, numpy=array([0.6627501], dtype=float32)>,\n",
       " <tf.Tensor: shape=(1,), dtype=float32, numpy=array([0.6883737], dtype=float32)>,\n",
       " <tf.Tensor: shape=(1,), dtype=float32, numpy=array([0.8354844], dtype=float32)>,\n",
       " <tf.Tensor: shape=(1,), dtype=float32, numpy=array([0.66048086], dtype=float32)>,\n",
       " <tf.Tensor: shape=(1,), dtype=float32, numpy=array([0.75163007], dtype=float32)>,\n",
       " <tf.Tensor: shape=(1,), dtype=float32, numpy=array([0.79096246], dtype=float32)>,\n",
       " <tf.Tensor: shape=(1,), dtype=float32, numpy=array([0.89716196], dtype=float32)>,\n",
       " <tf.Tensor: shape=(1,), dtype=float32, numpy=array([0.8415078], dtype=float32)>,\n",
       " <tf.Tensor: shape=(1,), dtype=float32, numpy=array([0.74234605], dtype=float32)>,\n",
       " <tf.Tensor: shape=(1,), dtype=float32, numpy=array([0.77085185], dtype=float32)>,\n",
       " <tf.Tensor: shape=(1,), dtype=float32, numpy=array([0.6351998], dtype=float32)>,\n",
       " <tf.Tensor: shape=(1,), dtype=float32, numpy=array([0.72752047], dtype=float32)>,\n",
       " <tf.Tensor: shape=(1,), dtype=float32, numpy=array([0.76554096], dtype=float32)>,\n",
       " <tf.Tensor: shape=(1,), dtype=float32, numpy=array([0.80619204], dtype=float32)>,\n",
       " <tf.Tensor: shape=(1,), dtype=float32, numpy=array([0.8955995], dtype=float32)>,\n",
       " <tf.Tensor: shape=(1,), dtype=float32, numpy=array([0.7258551], dtype=float32)>,\n",
       " <tf.Tensor: shape=(1,), dtype=float32, numpy=array([0.69109416], dtype=float32)>,\n",
       " <tf.Tensor: shape=(1,), dtype=float32, numpy=array([0.6704885], dtype=float32)>,\n",
       " <tf.Tensor: shape=(1,), dtype=float32, numpy=array([0.85195875], dtype=float32)>,\n",
       " <tf.Tensor: shape=(1,), dtype=float32, numpy=array([0.77081096], dtype=float32)>,\n",
       " <tf.Tensor: shape=(1,), dtype=float32, numpy=array([0.892105], dtype=float32)>]"
      ]
     },
     "execution_count": 172,
     "metadata": {},
     "output_type": "execute_result"
    }
   ],
   "source": [
    "results_u"
   ]
  },
  {
   "cell_type": "code",
   "execution_count": null,
   "id": "e66366ff-c9f2-4e35-8588-7785fc53b022",
   "metadata": {},
   "outputs": [],
   "source": [
    "split_results_u = np.array_split(results_u, len(all_d))"
   ]
  },
  {
   "cell_type": "code",
   "execution_count": 174,
   "id": "8b2ae3d0-5e06-40e0-84d5-b885d4226e4d",
   "metadata": {},
   "outputs": [],
   "source": [
    "true_y_utk = np.repeat(all_d, len(split_results_u[0]))"
   ]
  },
  {
   "cell_type": "code",
   "execution_count": 176,
   "id": "a35cb996-af4b-45a8-ac2a-0cd6d70b5f76",
   "metadata": {},
   "outputs": [
    {
     "data": {
      "text/plain": [
       "0.6755555555555556"
      ]
     },
     "execution_count": 176,
     "metadata": {},
     "output_type": "execute_result"
    }
   ],
   "source": [
    "classification_wb_utk = [to_four_classes(out.numpy())==to_four_classes(y) for out, y in zip(results_u, true_y_utk)]\n",
    "classification_wb_utk.count(True) / len(classification_wb_utk)"
   ]
  },
  {
   "cell_type": "code",
   "execution_count": 119,
   "id": "c19ce74f-15dc-43bc-83c8-d5546b0a3fe4",
   "metadata": {},
   "outputs": [],
   "source": [
    "utk_maes_wb = []\n",
    "for r, d in zip(split_results_u, all_d):\n",
    "    mae = keras.metrics.MeanAbsoluteError()\n",
    "    m = mae(np.repeat(d, len(r)), r).numpy()\n",
    "    utk_maes_wb.append(m)"
   ]
  },
  {
   "cell_type": "code",
   "execution_count": 133,
   "id": "b0e196f8-84f8-4338-9a35-b794c26922ad",
   "metadata": {},
   "outputs": [],
   "source": [
    "utk_wb_mean_output = []\n",
    "for r in split_results_u:\n",
    "    utk_wb_mean_output.append(np.array(r).mean())"
   ]
  },
  {
   "cell_type": "code",
   "execution_count": 134,
   "id": "59e7aaf3-b438-4735-843d-702711c42d39",
   "metadata": {},
   "outputs": [
    {
     "data": {
      "text/plain": [
       "[0.09359901,\n",
       " 0.21448511,\n",
       " 0.36983597,\n",
       " 0.4720241,\n",
       " 0.5682048,\n",
       " 0.620875,\n",
       " 0.6815449,\n",
       " 0.7226862,\n",
       " 0.74826056]"
      ]
     },
     "execution_count": 134,
     "metadata": {},
     "output_type": "execute_result"
    }
   ],
   "source": [
    "utk_wb_mean_output"
   ]
  },
  {
   "cell_type": "code",
   "execution_count": 120,
   "id": "e367c286-c41d-4911-aeee-b3cc7c8fa7a3",
   "metadata": {},
   "outputs": [
    {
     "data": {
      "text/plain": [
       "[0.025130322,\n",
       " 0.03922014,\n",
       " 0.07855163,\n",
       " 0.08005384,\n",
       " 0.083696306,\n",
       " 0.0638503,\n",
       " 0.06336475,\n",
       " 0.08502324,\n",
       " 0.15213047]"
      ]
     },
     "execution_count": 120,
     "metadata": {},
     "output_type": "execute_result"
    }
   ],
   "source": [
    "utk_maes_wb"
   ]
  },
  {
   "cell_type": "code",
   "execution_count": 121,
   "id": "255c907b-3e43-485e-900b-8161705a2e53",
   "metadata": {},
   "outputs": [],
   "source": [
    "attack_eval_wb = pd.DataFrame({\"dist\": all_d, \"utk\": utk_maes_wb, \"cifar\": cifar_maes_wb})"
   ]
  },
  {
   "cell_type": "code",
   "execution_count": 136,
   "id": "f3540095-2ea4-4909-8f38-e0e3d3b29ce0",
   "metadata": {},
   "outputs": [],
   "source": [
    "attack_eval_wb.to_csv('wb-mean-error-eval.csv', index=False)"
   ]
  },
  {
   "cell_type": "code",
   "execution_count": 135,
   "id": "3c056dc4-5374-4fa3-a977-72614e53f767",
   "metadata": {},
   "outputs": [],
   "source": [
    "mean_output_wb = pd.DataFrame({\"dist\": all_d, \"utk\": utk_wb_mean_output, \"cifar\": cifar_wb_mean_output})\n",
    "mean_output_wb.to_csv('wb-mean-output-eval.csv')"
   ]
  },
  {
   "cell_type": "code",
   "execution_count": null,
   "id": "431a1374-d82f-4c22-83ab-3a2aa9256915",
   "metadata": {},
   "outputs": [],
   "source": []
  }
 ],
 "metadata": {
  "kernelspec": {
   "display_name": "pia-tf2",
   "language": "python",
   "name": "pia-tf2"
  },
  "language_info": {
   "codemirror_mode": {
    "name": "ipython",
    "version": 3
   },
   "file_extension": ".py",
   "mimetype": "text/x-python",
   "name": "python",
   "nbconvert_exporter": "python",
   "pygments_lexer": "ipython3",
   "version": "3.10.9"
  }
 },
 "nbformat": 4,
 "nbformat_minor": 5
}
