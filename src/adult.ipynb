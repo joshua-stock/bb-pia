{
 "cells": [
  {
   "cell_type": "markdown",
   "id": "356e3cd147019af5",
   "metadata": {
    "collapsed": false
   },
   "source": [
    "## Load adversary"
   ]
  },
  {
   "cell_type": "code",
   "execution_count": 1,
   "id": "initial_id",
   "metadata": {
    "ExecuteTime": {
     "end_time": "2024-01-29T12:30:29.102300226Z",
     "start_time": "2024-01-29T12:30:24.478913465Z"
    },
    "collapsed": true
   },
   "outputs": [
    {
     "name": "stderr",
     "output_type": "stream",
     "text": [
      "2024-01-29 13:30:25.512067: E external/local_xla/xla/stream_executor/cuda/cuda_dnn.cc:9261] Unable to register cuDNN factory: Attempting to register factory for plugin cuDNN when one has already been registered\n",
      "2024-01-29 13:30:25.512125: E external/local_xla/xla/stream_executor/cuda/cuda_fft.cc:607] Unable to register cuFFT factory: Attempting to register factory for plugin cuFFT when one has already been registered\n",
      "2024-01-29 13:30:25.541238: E external/local_xla/xla/stream_executor/cuda/cuda_blas.cc:1515] Unable to register cuBLAS factory: Attempting to register factory for plugin cuBLAS when one has already been registered\n",
      "2024-01-29 13:30:25.659455: I tensorflow/core/platform/cpu_feature_guard.cc:182] This TensorFlow binary is optimized to use available CPU instructions in performance-critical operations.\n",
      "To enable the following instructions: AVX2 FMA, in other operations, rebuild TensorFlow with the appropriate compiler flags.\n",
      "2024-01-29 13:30:26.874212: W tensorflow/compiler/tf2tensorrt/utils/py_utils.cc:38] TF-TRT Warning: Could not find TensorRT\n"
     ]
    }
   ],
   "source": [
    "import numpy as np\n",
    "from tensorflow import keras\n",
    "\n",
    "adversary = keras.models.load_model('adult/models/adv_new_0.65_test_r2')"
   ]
  },
  {
   "cell_type": "markdown",
   "id": "8e3131e765af9758",
   "metadata": {
    "collapsed": false
   },
   "source": [
    "## Create (target) model"
   ]
  },
  {
   "cell_type": "code",
   "execution_count": 2,
   "id": "6eeefbee2a431b4b",
   "metadata": {
    "ExecuteTime": {
     "end_time": "2024-01-29T12:30:29.892716965Z",
     "start_time": "2024-01-29T12:30:29.105966475Z"
    },
    "collapsed": false
   },
   "outputs": [],
   "source": [
    "from adult_functions import train_gradient_boosting_shadow_model, data_train_test\n",
    "import pandas as pd"
   ]
  },
  {
   "cell_type": "code",
   "execution_count": 3,
   "id": "ec1ef61f793cc16d",
   "metadata": {
    "ExecuteTime": {
     "end_time": "2024-01-29T12:30:47.129461739Z",
     "start_time": "2024-01-29T12:30:29.809618047Z"
    },
    "collapsed": false
   },
   "outputs": [],
   "source": [
    "# load data\n",
    "X_train, X_test, y_train, y_test, sensitive, sensitive_t = data_train_test()\n",
    "# create model\n",
    "gb = train_gradient_boosting_shadow_model(X_train, y_train, 0)"
   ]
  },
  {
   "cell_type": "markdown",
   "id": "1a6315cffa45d03b",
   "metadata": {
    "collapsed": false
   },
   "source": [
    "## Generate model output"
   ]
  },
  {
   "cell_type": "code",
   "execution_count": 4,
   "id": "38e529c09c7e28b2",
   "metadata": {
    "ExecuteTime": {
     "end_time": "2024-01-29T12:30:47.401825166Z",
     "start_time": "2024-01-29T12:30:47.132322448Z"
    },
    "collapsed": false
   },
   "outputs": [],
   "source": [
    "# load synthetic model input\n",
    "model_input = pd.read_csv('adult/data/syn_data-new.csv')\n",
    "# generate model output\n",
    "out = gb.predict_proba(model_input)\n",
    "# reformat model output\n",
    "adversary_input = np.expand_dims(out[:,0], axis=0)"
   ]
  },
  {
   "cell_type": "markdown",
   "id": "388940ef8c7e91c3",
   "metadata": {
    "collapsed": false
   },
   "source": [
    "## Attack"
   ]
  },
  {
   "cell_type": "code",
   "execution_count": 5,
   "id": "2f53922f2fec2760",
   "metadata": {
    "ExecuteTime": {
     "end_time": "2024-01-29T12:30:47.583108092Z",
     "start_time": "2024-01-29T12:30:47.400975702Z"
    },
    "collapsed": false
   },
   "outputs": [
    {
     "name": "stdout",
     "output_type": "stream",
     "text": [
      "1/1 [==============================] - 0s 92ms/step\n"
     ]
    },
    {
     "data": {
      "text/plain": [
       "array([[0.8010835]], dtype=float32)"
      ]
     },
     "execution_count": 5,
     "metadata": {},
     "output_type": "execute_result"
    }
   ],
   "source": [
    "# generate adversary prediction\n",
    "adversary.predict(adversary_input)"
   ]
  },
  {
   "cell_type": "markdown",
   "id": "a5c77491bbf26b64",
   "metadata": {
    "collapsed": false
   },
   "source": [
    "Result interpretation: The adversary has inferred that 80.1% of the target model's training data are male samples. "
   ]
  },
  {
   "cell_type": "code",
   "id": "a8390eb83d6c1da8",
   "metadata": {
    "collapsed": false
   },
   "outputs": [],
   "source": []
  }
 ],
 "metadata": {
  "kernelspec": {
   "display_name": "Python 3",
   "language": "python",
   "name": "python3"
  },
  "language_info": {
   "codemirror_mode": {
    "name": "ipython",
    "version": 2
   },
   "file_extension": ".py",
   "mimetype": "text/x-python",
   "name": "python",
   "nbconvert_exporter": "python",
   "pygments_lexer": "ipython2",
   "version": "2.7.6"
  }
 },
 "nbformat": 4,
 "nbformat_minor": 5
}
