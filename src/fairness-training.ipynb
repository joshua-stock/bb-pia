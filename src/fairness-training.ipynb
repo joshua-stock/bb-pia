{
 "cells": [
  {
   "cell_type": "code",
   "execution_count": 1,
   "id": "initial_id",
   "metadata": {
    "ExecuteTime": {
     "end_time": "2024-06-20T16:35:55.752113Z",
     "start_time": "2024-06-20T16:35:36.860063Z"
    },
    "collapsed": true
   },
   "outputs": [
    {
     "name": "stderr",
     "output_type": "stream",
     "text": [
      "2024-06-20 18:35:37.651399: I external/local_tsl/tsl/cuda/cudart_stub.cc:32] Could not find cuda drivers on your machine, GPU will not be used.\n",
      "2024-06-20 18:35:37.655762: I external/local_tsl/tsl/cuda/cudart_stub.cc:32] Could not find cuda drivers on your machine, GPU will not be used.\n",
      "2024-06-20 18:35:40.259482: W tensorflow/compiler/tf2tensorrt/utils/py_utils.cc:38] TF-TRT Warning: Could not find TensorRT\n"
     ]
    }
   ],
   "source": [
    "from utk_functions import data_train_test_utk\n",
    "\n",
    "X_train, X_test, Y_train, Y_test, sensitive, sensitive_t = data_train_test_utk()"
   ]
  },
  {
   "cell_type": "code",
   "execution_count": 2,
   "id": "7149e9163d9576f2",
   "metadata": {},
   "outputs": [
    {
     "name": "stdout",
     "output_type": "stream",
     "text": [
      "hello\n"
     ]
    }
   ],
   "source": [
    "print(\"hello\")"
   ]
  },
  {
   "cell_type": "code",
   "execution_count": 3,
   "id": "6aa6a24766853214",
   "metadata": {},
   "outputs": [],
   "source": [
    "from common.functions import *"
   ]
  },
  {
   "cell_type": "code",
   "execution_count": 10,
   "id": "c708a613d4768180",
   "metadata": {
    "ExecuteTime": {
     "end_time": "2024-06-20T16:36:32.480681Z",
     "start_time": "2024-06-20T16:36:32.340415Z"
    }
   },
   "outputs": [],
   "source": [
    "training_lambda = 0.0\n",
    "sensitive_categorical = tf.keras.utils.to_categorical(sensitive)\n",
    "model = get_fairness_lucasnet_model(\n",
    "    pia_adv,\n",
    "    input_set,\n",
    "    sensitive=sensitive_categorical,\n",
    "    training_lambda=training_lambda,\n",
    "    num_classes=2,\n",
    "    input_shape=(64, 64, 3))\n",
    "model.compile(optimizer=Adam(), loss=CategoricalCrossentropy(), metrics=['accuracy'])#, model.p_rule_metric, model.adversary_metric])"
   ]
  },
  {
   "cell_type": "code",
   "execution_count": 11,
   "id": "e186732d20e6e370",
   "metadata": {
    "ExecuteTime": {
     "end_time": "2024-06-20T16:37:58.615628Z",
     "start_time": "2024-06-20T16:36:33.102469Z"
    }
   },
   "outputs": [
    {
     "name": "stdout",
     "output_type": "stream",
     "text": [
      "Epoch 1/2\n",
      "\u001b[1m1/1\u001b[0m \u001b[32m━━━━━━━━━━━━━━━━━━━━\u001b[0m\u001b[37m\u001b[0m \u001b[1m48s\u001b[0m 48s/step - accuracy: 0.4644 - loss: 0.0000e+00 - val_accuracy: 0.5242 - val_loss: 8.0007\n",
      "Epoch 2/2\n",
      "\u001b[1m1/1\u001b[0m \u001b[32m━━━━━━━━━━━━━━━━━━━━\u001b[0m\u001b[37m\u001b[0m \u001b[1m37s\u001b[0m 37s/step - accuracy: 0.5211 - loss: 0.0000e+00 - val_accuracy: 0.7038 - val_loss: 1.6550\n"
     ]
    }
   ],
   "source": [
    "hist = model.fit(\n",
    "    X_train,\n",
    "    Y_train,\n",
    "    epochs=2,\n",
    "    validation_data=(X_test, Y_test),\n",
    "    batch_size=X_train.shape[0],\n",
    "    #verbose=0\n",
    "    #callbacks=[tf.keras.callbacks.EarlyStopping(monitor='val_accuracy', patience=5)]\n",
    ")"
   ]
  },
  {
   "cell_type": "code",
   "execution_count": null,
   "id": "d01fdeee29058a39",
   "metadata": {},
   "outputs": [],
   "source": []
  },
  {
   "cell_type": "code",
   "execution_count": null,
   "id": "4c2122c2be6f22b9",
   "metadata": {},
   "outputs": [],
   "source": [
    "\n",
    "\n",
    "patience = 5\n",
    "decrease = 0\n",
    "best_val_acc = 0\n",
    "best_model_weights = None\n",
    "my_history = {\n",
    "    'accuracy': [],\n",
    "    'val_accuracy': [],\n",
    "    'p_rule': [],\n",
    "    'adversary_prediction': []\n",
    "}\n",
    "\n",
    "for i in range(100):\n",
    "    hist = model.fit(\n",
    "        X_train,\n",
    "        Y_train,\n",
    "        epochs=1,\n",
    "        validation_data=(X_test, Y_test),\n",
    "        batch_size=X_train.shape[0],\n",
    "        verbose=0\n",
    "        #callbacks=[tf.keras.callbacks.EarlyStopping(monitor='val_accuracy', patience=5)]\n",
    "    )\n",
    "    \n",
    "    # check pia adversary output\n",
    "    y_pred_for_adv = model(model.adv_input)\n",
    "    # last column of prediction is redundant\n",
    "    num_columns = y_pred_for_adv.shape[1]-1\n",
    "    y_pred_for_adv = y_pred_for_adv[:, 0:num_columns]\n",
    "    y_pred_for_adv = Flatten()(y_pred_for_adv)\n",
    "    # reshape as model input\n",
    "    my_x = tf.reshape(y_pred_for_adv, (1, y_pred_for_adv.shape[0]*y_pred_for_adv.shape[1]))\n",
    "\n",
    "    adversary_prediction = model.pia_adversary(my_x)[0][0]\n",
    "    p_rule_value = model.p_rule(model(X_train, training=False), model.sensitive)\n",
    "    \n",
    "    val_acc = hist.history['val_accuracy'][-1]\n",
    "    print(f\"ROUND {i} acc: {hist.history['accuracy'][-1]} val_acc: {val_acc} + p_rule: {p_rule_value} adv_pred: {adversary_prediction}\")\n",
    "    \n",
    "    for k, v in zip(my_history.keys(), [hist.history['accuracy'][-1], val_acc, p_rule_value, adversary_prediction]):\n",
    "        my_history[k].append(v)\n",
    "    \n",
    "    if val_acc > best_val_acc:\n",
    "        best_val_acc = val_acc\n",
    "        decrease = 0\n",
    "        best_model_weights = model.get_weights()\n",
    "    else:\n",
    "        decrease += 1\n",
    "        if decrease >= patience:\n",
    "            print(\"STOPPING\")\n",
    "            break\n",
    "    \n",
    "    "
   ]
  },
  {
   "cell_type": "code",
   "execution_count": null,
   "id": "ef1e7fa03da7503e",
   "metadata": {},
   "outputs": [],
   "source": [
    "my_history['p_rule'][0].numpy()"
   ]
  },
  {
   "cell_type": "code",
   "execution_count": null,
   "id": "bd5ab3bc6aaa03d8",
   "metadata": {},
   "outputs": [],
   "source": [
    "\n",
    "new_hist = {\n",
    "    'accuracy': my_history['accuracy'],\n",
    "    'val_accuracy': my_history['val_accuracy'],\n",
    "    'p_rule': [float(v.numpy()) for v in my_history['p_rule']],\n",
    "    'adversary_prediction': [float(v.numpy()) for v in my_history['adversary_prediction']]\n",
    "}"
   ]
  },
  {
   "cell_type": "code",
   "execution_count": null,
   "id": "b1582df35910c780",
   "metadata": {},
   "outputs": [],
   "source": [
    "import json\n",
    "\n",
    "\n",
    "\n",
    "with open('simpletest.json', 'w') as json_file:\n",
    "    json.dump(new_hist, json_file)"
   ]
  },
  {
   "cell_type": "code",
   "execution_count": null,
   "id": "acdbdca9dcdfd85f",
   "metadata": {},
   "outputs": [],
   "source": [
    "import matplotlib.pyplot as plt\n",
    "\n",
    "def plot_history(history, training_lambda):\n",
    "    plt.figure(figsize=(12, 6))\n",
    "    plt.plot(history.history['accuracy'])\n",
    "    plt.plot(history.history['val_accuracy'])\n",
    "    plt.plot(history.history['p_rule'])\n",
    "    plt.plot(history.history['adversary_prediction'])\n",
    "    plt.title(f'Lambda {training_lambda}: Acc, p_rule, pia_adv')\n",
    "    plt.ylabel('Accuracy')\n",
    "    plt.xlabel('Epoch')\n",
    "    plt.legend(['Train acc', 'Test acc', 'p-rule', 'adversary prediction'], loc='upper left')\n",
    "    plt.show()\n"
   ]
  },
  {
   "cell_type": "code",
   "execution_count": null,
   "id": "dc74d61565c62e",
   "metadata": {},
   "outputs": [],
   "source": [
    "model_history.history"
   ]
  },
  {
   "cell_type": "code",
   "execution_count": null,
   "id": "7fc61c5c8f0a1537",
   "metadata": {},
   "outputs": [],
   "source": [
    "plot_history(model_history, training_lambda)"
   ]
  },
  {
   "cell_type": "code",
   "execution_count": null,
   "id": "b1c2c2a5dc959462",
   "metadata": {},
   "outputs": [],
   "source": [
    "X_train.shape"
   ]
  },
  {
   "cell_type": "code",
   "execution_count": 4,
   "id": "8ce228196e2b9542",
   "metadata": {
    "ExecuteTime": {
     "end_time": "2024-06-20T16:35:55.846359Z",
     "start_time": "2024-06-20T16:35:55.771722Z"
    }
   },
   "outputs": [],
   "source": [
    "import keras\n",
    "\n",
    "manual_adversary = keras.Sequential()\n",
    "manual_adversary.add(keras.Input(shape=(13233,)))\n",
    "#manual_adversary.add(keras.layers.Dropout(0.2))\n",
    "manual_adversary.add(keras.layers.Dense(10, activation='relu'))\n",
    "#manual_adversary.add(keras.layers.Dropout(0.05))\n",
    "manual_adversary.add(keras.layers.Dense(5, activation='relu'))\n",
    "#manual_adversary.add(keras.layers.Dropout(0.1))\n",
    "manual_adversary.add(keras.layers.Dense(1))\n",
    "manual_adversary.compile(optimizer=keras.optimizers.Adam(), loss=keras.losses.MeanSquaredError(), metrics=[keras.metrics.R2Score()])"
   ]
  },
  {
   "cell_type": "code",
   "execution_count": 5,
   "id": "8aee47f8dc8c1c00",
   "metadata": {
    "ExecuteTime": {
     "end_time": "2024-06-20T16:35:55.853605Z",
     "start_time": "2024-06-20T16:35:55.849016Z"
    }
   },
   "outputs": [],
   "source": [
    "pia_adv = manual_adversary"
   ]
  },
  {
   "cell_type": "code",
   "execution_count": 6,
   "id": "ac578cce4a7caa94",
   "metadata": {
    "ExecuteTime": {
     "end_time": "2024-06-20T16:35:55.878177Z",
     "start_time": "2024-06-20T16:35:55.856047Z"
    }
   },
   "outputs": [
    {
     "name": "stderr",
     "output_type": "stream",
     "text": [
      "/informatik2/svs/home/stock/anaconda3/envs/pia-tf2/lib/python3.10/site-packages/keras/src/saving/saving_lib.py:418: UserWarning: Skipping variable loading for optimizer 'adam', because it has 2 variables whereas the saved optimizer has 14 variables. \n",
      "  trackable.load_own_variables(weights_store.get(inner_path))\n"
     ]
    }
   ],
   "source": [
    "pia_adv.load_weights(\"utkface/models/manual_tuning_checkpoints-2/keras.weights.h5\")"
   ]
  },
  {
   "cell_type": "code",
   "execution_count": 7,
   "id": "5a2f76e4b6c83d3b",
   "metadata": {
    "ExecuteTime": {
     "end_time": "2024-06-20T16:36:04.771648Z",
     "start_time": "2024-06-20T16:35:56.948194Z"
    }
   },
   "outputs": [],
   "source": [
    "from utk_functions import get_lbfw_dataset\n",
    "\n",
    "input_set = get_lbfw_dataset()"
   ]
  },
  {
   "cell_type": "code",
   "execution_count": null,
   "id": "6e65af367dae55a5",
   "metadata": {},
   "outputs": [],
   "source": [
    "pd.array(sensitive).value_counts().iloc[0] / len(sensitive)"
   ]
  },
  {
   "cell_type": "code",
   "execution_count": null,
   "id": "ecb39818a96fee55",
   "metadata": {},
   "outputs": [],
   "source": [
    "model_l0 = model"
   ]
  },
  {
   "cell_type": "code",
   "execution_count": null,
   "id": "fb340b98795baed9",
   "metadata": {},
   "outputs": [],
   "source": [
    "model_l0 = model"
   ]
  },
  {
   "cell_type": "code",
   "execution_count": null,
   "id": "23e03722d4ac1e6c",
   "metadata": {},
   "outputs": [],
   "source": [
    "pred_0 = model_l0(X_train)"
   ]
  },
  {
   "cell_type": "code",
   "execution_count": null,
   "id": "4dc4dc04e0c0c428",
   "metadata": {},
   "outputs": [],
   "source": [
    "pred_01 = model_l01(X_train)"
   ]
  },
  {
   "cell_type": "code",
   "execution_count": null,
   "id": "611ad574a8909490",
   "metadata": {},
   "outputs": [],
   "source": [
    "adv_pred = model.adversary(np.reshape(pred, (30000, 10)))"
   ]
  },
  {
   "cell_type": "code",
   "execution_count": null,
   "id": "ee6033acb069d3aa",
   "metadata": {},
   "outputs": [],
   "source": [
    "adv_pred"
   ]
  },
  {
   "cell_type": "code",
   "execution_count": null,
   "id": "b66e0eec9b515423",
   "metadata": {},
   "outputs": [],
   "source": [
    "sensitive"
   ]
  },
  {
   "cell_type": "code",
   "execution_count": null,
   "id": "989a966e5836333e",
   "metadata": {},
   "outputs": [],
   "source": [
    "def p_rule(y_pred, z_values, threshold=0.5):\n",
    "    y_z_1 = y_pred[z_values == 1] > threshold if threshold else y_pred[z_values == 1]\n",
    "    y_z_0 = y_pred[z_values == 0] > threshold if threshold else y_pred[z_values == 0]\n",
    "    odds = y_z_1.mean() / y_z_0.mean()\n",
    "    return np.min([odds, 1/odds]) * 100"
   ]
  },
  {
   "cell_type": "code",
   "execution_count": null,
   "id": "d913e38341ffa037",
   "metadata": {},
   "outputs": [],
   "source": [
    "p_rule(pred_0.numpy(), sensitive) # lambda = 0.0"
   ]
  },
  {
   "cell_type": "code",
   "execution_count": null,
   "id": "300658cd1f68a852",
   "metadata": {},
   "outputs": [],
   "source": [
    "p_rule(pred_01.numpy(), sensitive) # lambda = 0.1"
   ]
  },
  {
   "cell_type": "code",
   "execution_count": null,
   "id": "15fdd50d740e2ac4",
   "metadata": {},
   "outputs": [],
   "source": [
    "pred_01.shape"
   ]
  },
  {
   "cell_type": "code",
   "execution_count": null,
   "id": "60eebdfe16208419",
   "metadata": {},
   "outputs": [],
   "source": [
    "sensitive.shape"
   ]
  },
  {
   "cell_type": "code",
   "execution_count": null,
   "id": "a8e0a7a918544448",
   "metadata": {},
   "outputs": [],
   "source": [
    "pred_01[sensitive == 1] > 0.5# if threshold else y_pred[sensitive == 1]"
   ]
  },
  {
   "cell_type": "code",
   "execution_count": null,
   "id": "949157c5fb0fffbe",
   "metadata": {},
   "outputs": [],
   "source": [
    "for p in pred_01[:10]:\n",
    "    # return index of element with highest value in p:\n",
    "    print(np.argmax(p))"
   ]
  },
  {
   "cell_type": "markdown",
   "id": "773ad4a47478ac10",
   "metadata": {},
   "source": [
    "## results"
   ]
  },
  {
   "cell_type": "code",
   "execution_count": 3,
   "id": "3ffa749656bdffe",
   "metadata": {
    "ExecuteTime": {
     "end_time": "2024-06-24T17:36:36.125362Z",
     "start_time": "2024-06-24T17:36:36.117047Z"
    }
   },
   "outputs": [],
   "source": [
    "training_lambdas = [0.0, 0.1, 0.2, 0.3, 0.4, 0.5]\n",
    "runs = range(10) ## PRELIMINARY\n",
    "dists = [0.3, 0.4, 0.5, 0.6, 0.7, 0.8]\n",
    "resultspath = 'utkface/results/fairness-4/'\n",
    "\n",
    "#all_results = [json.loads(open(f'{resultspath}result-l{l}-d{d}-r{r}.json').read()) for l in training_lambdas for r in runs for d in dists]"
   ]
  },
  {
   "cell_type": "code",
   "execution_count": 5,
   "id": "6197f26197a95239",
   "metadata": {
    "ExecuteTime": {
     "end_time": "2024-06-24T17:36:45.796029Z",
     "start_time": "2024-06-24T17:36:45.778423Z"
    }
   },
   "outputs": [
    {
     "data": {
      "text/plain": [
       "array([0.1, 0.1, 0.1, 0.2, 0.2, 0.2])"
      ]
     },
     "execution_count": 5,
     "metadata": {},
     "output_type": "execute_result"
    }
   ],
   "source": [
    "np.repeat([0.1, 0.2], 3)"
   ]
  },
  {
   "cell_type": "code",
   "execution_count": 8,
   "id": "639c5de3a536cad",
   "metadata": {
    "ExecuteTime": {
     "end_time": "2024-06-24T17:40:32.510390Z",
     "start_time": "2024-06-24T17:40:32.208701Z"
    }
   },
   "outputs": [
    {
     "data": {
      "image/png": "[encoded data removed]",
      "text/plain": [
       "<Figure size 1000x600 with 1 Axes>"
      ]
     },
     "metadata": {},
     "output_type": "display_data"
    }
   ],
   "source": [
    "import pandas as pd\n",
    "import numpy as np\n",
    "import json\n",
    "import seaborn as sns\n",
    "import matplotlib.pyplot as plt\n",
    "\n",
    "all_target_values = []\n",
    "target = 'p_rule'\n",
    "for l in training_lambdas:\n",
    "    target_values = []\n",
    "    for d in [0.7]: #dists:\n",
    "        for r in runs:\n",
    "            data = json.loads(open(f'{resultspath}result-l{l}-d{d}-r{r}.json').read())\n",
    "            sums = np.array(data['p_rule'])# + 1.2 * np.array(data['val_accuracy'])\n",
    "            max_index = np.argmax(sums)\n",
    "            p_rules = data[target][max_index]\n",
    "            target_values.append(p_rules)\n",
    "    \n",
    "        all_target_values.append(target_values)\n",
    "        \n",
    "    #df = pd.DataFrame({\n",
    "    #    'value': target_values,\n",
    "    #    'distributions': np.repeat(dists, len(runs))\n",
    "    #})\n",
    "    \n",
    "\n",
    "    # Create the plot\n",
    "    #plt.figure(figsize=(10, 6))\n",
    "    #plt.title(f'{target} lambda={l}')\n",
    "    #sns.pointplot(data=df, x='distributions', y='value', errorbar='sd')\n",
    "    #plt.show()\n",
    "    \n",
    "dff = pd.DataFrame({\n",
    "    'value': [item for sublist in all_target_values for item in sublist],\n",
    "    'lambda': np.repeat(training_lambdas, len(runs)),\n",
    "})\n",
    "plt.figure(figsize=(10, 6))\n",
    "plt.title(f'{target} all lambdas')\n",
    "sns.pointplot(data=dff, x='lambda', y='value', errorbar='sd')\n",
    "plt.show()"
   ]
  },
  {
   "cell_type": "code",
   "execution_count": 16,
   "id": "bf74561f67c931c7",
   "metadata": {
    "ExecuteTime": {
     "end_time": "2024-06-21T07:58:21.460740Z",
     "start_time": "2024-06-21T07:58:21.453863Z"
    }
   },
   "outputs": [
    {
     "data": {
      "text/plain": [
       "[0.61962890625,\n",
       " 0.787109375,\n",
       " 0.9677734375,\n",
       " 0.97265625,\n",
       " 0.83154296875,\n",
       " 0.93359375,\n",
       " 0.40478515625,\n",
       " 0.95361328125,\n",
       " 0.92626953125,\n",
       " 0.9248046875,\n",
       " 0.87548828125,\n",
       " 0.9287109375]"
      ]
     },
     "execution_count": 16,
     "metadata": {},
     "output_type": "execute_result"
    }
   ],
   "source": [
    "all_p_rules"
   ]
  },
  {
   "cell_type": "code",
   "execution_count": null,
   "id": "372dcfc1053ffb1a",
   "metadata": {},
   "outputs": [],
   "source": [
    "p_rules"
   ]
  },
  {
   "cell_type": "code",
   "execution_count": null,
   "id": "b6cd5b6770ad9ab0",
   "metadata": {},
   "outputs": [],
   "source": [
    "results_l0_d03 = [json.loads(open(f'{resultspath}result-l0.0-d0.3-r{r}.json').read()) for r in runs]"
   ]
  },
  {
   "cell_type": "code",
   "execution_count": null,
   "id": "c4a816a6613831e2",
   "metadata": {},
   "outputs": [],
   "source": [
    "df = pd.DataFrame({\n",
    "    'value': [item for sublist in results_l0_d03 for item in sublist['val_accuracy']],\n",
    "    'epoch': [i for sublist in results_l0_d03 for i in range(len(sublist['val_accuracy']))],\n",
    "})"
   ]
  },
  {
   "cell_type": "code",
   "execution_count": null,
   "id": "85203a430889b021",
   "metadata": {},
   "outputs": [],
   "source": [
    "import pandas as pd\n",
    "import seaborn as sns\n",
    "import matplotlib.pyplot as plt\n",
    "import json\n",
    "\n",
    "training_lambdas = [0.0, 0.05, 0.1, 0.15]\n",
    "runs = range(10)\n",
    "dists = [0.3, 0.5, 0.7]\n",
    "resultspath = 'utkface/results/fairness/'\n",
    "target = 'val_accuracy'\n",
    "\n",
    "for l in training_lambdas:\n",
    "    for d in dists:\n",
    "        results = [json.loads(open(f'{resultspath}result-l{l}-d{d}-r{r}.json').read()) for r in runs]\n",
    "\n",
    "        df = pd.DataFrame({\n",
    "            'value': [item for sublist in results for item in sublist[target]],\n",
    "            'epoch': [i for sublist in results for i in range(len(sublist[target]))],\n",
    "        })\n",
    "#results_l0_d03 = [json.loads(open(f'{resultspath}result-l0.0-d0.3-r{r}.json').read()) for r in runs]\n",
    "\n",
    "        # Create the plot\n",
    "        plt.figure(figsize=(10, 6))\n",
    "        plt.title(f'{target} lambda={l} dist={d}')\n",
    "        sns.pointplot(data=df, x='epoch', y='value', errorbar='sd')\n",
    "        plt.show()"
   ]
  },
  {
   "cell_type": "code",
   "execution_count": null,
   "id": "534b4ef436fd0d54",
   "metadata": {},
   "outputs": [],
   "source": []
  }
 ],
 "metadata": {
  "kernelspec": {
   "display_name": "pia-tf2",
   "language": "python",
   "name": "pia-tf2"
  },
  "language_info": {
   "codemirror_mode": {
    "name": "ipython",
    "version": 2
   },
   "file_extension": ".py",
   "mimetype": "text/x-python",
   "name": "python",
   "nbconvert_exporter": "python",
   "pygments_lexer": "ipython2",
   "version": "2.7.6"
  }
 },
 "nbformat": 4,
 "nbformat_minor": 5
}
