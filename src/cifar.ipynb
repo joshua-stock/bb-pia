{
 "cells": [
  {
   "cell_type": "code",
   "execution_count": 1,
   "id": "initial_id",
   "metadata": {
    "ExecuteTime": {
     "end_time": "2024-02-26T17:06:01.949829Z",
     "start_time": "2024-02-26T17:05:51.535902Z"
    },
    "collapsed": true,
    "jupyter": {
     "outputs_hidden": true
    }
   },
   "outputs": [
    {
     "name": "stderr",
     "output_type": "stream",
     "text": [
      "2024-02-26 17:05:52.171961: E external/local_xla/xla/stream_executor/cuda/cuda_dnn.cc:9261] Unable to register cuDNN factory: Attempting to register factory for plugin cuDNN when one has already been registered\n",
      "2024-02-26 17:05:52.172045: E external/local_xla/xla/stream_executor/cuda/cuda_fft.cc:607] Unable to register cuFFT factory: Attempting to register factory for plugin cuFFT when one has already been registered\n",
      "2024-02-26 17:05:52.196270: E external/local_xla/xla/stream_executor/cuda/cuda_blas.cc:1515] Unable to register cuBLAS factory: Attempting to register factory for plugin cuBLAS when one has already been registered\n",
      "2024-02-26 17:05:52.245218: I tensorflow/core/platform/cpu_feature_guard.cc:182] This TensorFlow binary is optimized to use available CPU instructions in performance-critical operations.\n",
      "To enable the following instructions: AVX2 FMA, in other operations, rebuild TensorFlow with the appropriate compiler flags.\n",
      "2024-02-26 17:05:53.086946: W tensorflow/compiler/tf2tensorrt/utils/py_utils.cc:38] TF-TRT Warning: Could not find TensorRT\n"
     ]
    }
   ],
   "source": [
    "import numpy as np\n",
    "\n",
    "from cifar_functions import *\n",
    "\n",
    "X_train, X_test, Y_train, Y_test, sensitive, sensitive_t = data_train_test_cifar()"
   ]
  },
  {
   "cell_type": "code",
   "execution_count": 6,
   "id": "9dacf402c25e0aa6",
   "metadata": {
    "ExecuteTime": {
     "end_time": "2024-02-26T17:08:13.739910Z",
     "start_time": "2024-02-26T17:08:13.411547Z"
    },
    "collapsed": false
   },
   "outputs": [],
   "source": [
    "import matplotlib.pyplot as plt\n",
    "\n",
    "def plot_history(history, dist=None):\n",
    "    plt.figure(figsize=(12, 6))\n",
    "    plt.subplot(1, 2, 1)\n",
    "    plt.plot(history.history['accuracy'])\n",
    "    plt.plot(history.history['val_accuracy'])\n",
    "    plt.title(f'Model accuracy ({\"\" if dist == None else dist*100}% old)')\n",
    "    plt.ylabel('Accuracy')\n",
    "    plt.xlabel('Epoch')\n",
    "    plt.legend(['Train', 'Test'], loc='upper left')\n",
    "\n",
    "    # Plot training & validation loss values\n",
    "    plt.subplot(1, 2, 2)\n",
    "    plt.plot(history.history['loss'])\n",
    "    plt.plot(history.history['val_loss'])\n",
    "    plt.title('Model loss')\n",
    "    plt.ylabel('Loss')\n",
    "    plt.xlabel('Epoch')\n",
    "    plt.legend(['Train', 'Test'], loc='upper left')\n",
    "    plt.tight_layout()"
   ]
  },
  {
   "cell_type": "code",
   "execution_count": 2,
   "id": "1be3f736898b9ebf",
   "metadata": {
    "ExecuteTime": {
     "end_time": "2024-02-26T17:06:02.040649Z",
     "start_time": "2024-02-26T17:06:01.978975Z"
    },
    "collapsed": false
   },
   "outputs": [
    {
     "data": {
      "text/plain": [
       "(30000, 32, 32, 3)"
      ]
     },
     "execution_count": 2,
     "metadata": {},
     "output_type": "execute_result"
    }
   ],
   "source": [
    "X_train.shape"
   ]
  },
  {
   "cell_type": "code",
   "execution_count": 3,
   "id": "630ce17490f17dd9",
   "metadata": {
    "ExecuteTime": {
     "end_time": "2024-02-26T17:06:03.091757Z",
     "start_time": "2024-02-26T17:06:02.041815Z"
    },
    "collapsed": false
   },
   "outputs": [
    {
     "data": {
      "text/plain": [
       "TensorShape([30000, 10])"
      ]
     },
     "execution_count": 3,
     "metadata": {},
     "output_type": "execute_result"
    }
   ],
   "source": [
    "Y_train.shape"
   ]
  },
  {
   "cell_type": "code",
   "execution_count": 4,
   "id": "992bef9f86e121e7",
   "metadata": {
    "ExecuteTime": {
     "end_time": "2024-02-26T17:06:06.540891Z",
     "start_time": "2024-02-26T17:06:06.532326Z"
    },
    "collapsed": false
   },
   "outputs": [],
   "source": [
    "from common.functions import *"
   ]
  },
  {
   "cell_type": "code",
   "execution_count": 5,
   "id": "134d76ae5c6a9df7",
   "metadata": {
    "ExecuteTime": {
     "end_time": "2024-02-26T17:08:07.573215Z",
     "start_time": "2024-02-26T17:06:06.622749Z"
    },
    "collapsed": false
   },
   "outputs": [
    {
     "name": "stdout",
     "output_type": "stream",
     "text": [
      "Epoch 1/5\n"
     ]
    },
    {
     "name": "stderr",
     "output_type": "stream",
     "text": [
      "2024-02-26 17:06:09.354141: W external/local_tsl/tsl/framework/cpu_allocator_impl.cc:83] Allocation of 368640000 exceeds 10% of free system memory.\n"
     ]
    },
    {
     "name": "stdout",
     "output_type": "stream",
     "text": [
      "\u001b[1m935/938\u001b[0m \u001b[32m━━━━━━━━━━━━━━━━━━━\u001b[0m\u001b[37m━\u001b[0m \u001b[1m0s\u001b[0m 18ms/step - accuracy: 0.4253 - loss: 1.6644"
     ]
    },
    {
     "name": "stderr",
     "output_type": "stream",
     "text": [
      "2024-02-26 17:06:33.255240: W external/local_tsl/tsl/framework/cpu_allocator_impl.cc:83] Allocation of 368640000 exceeds 10% of free system memory.\n"
     ]
    },
    {
     "name": "stdout",
     "output_type": "stream",
     "text": [
      "\u001b[1m938/938\u001b[0m \u001b[32m━━━━━━━━━━━━━━━━━━━━\u001b[0m\u001b[37m\u001b[0m \u001b[1m34s\u001b[0m 34ms/step - accuracy: 0.4256 - loss: 1.6632 - val_accuracy: 0.5999 - val_loss: 1.1248\n",
      "Epoch 2/5\n",
      "\u001b[1m938/938\u001b[0m \u001b[32m━━━━━━━━━━━━━━━━━━━━\u001b[0m\u001b[37m\u001b[0m \u001b[1m22s\u001b[0m 23ms/step - accuracy: 0.6375 - loss: 1.0240 - val_accuracy: 0.6621 - val_loss: 0.9737\n",
      "Epoch 3/5\n",
      "\u001b[1m938/938\u001b[0m \u001b[32m━━━━━━━━━━━━━━━━━━━━\u001b[0m\u001b[37m\u001b[0m \u001b[1m21s\u001b[0m 22ms/step - accuracy: 0.7059 - loss: 0.8482 - val_accuracy: 0.6926 - val_loss: 0.8811\n",
      "Epoch 4/5\n",
      "\u001b[1m938/938\u001b[0m \u001b[32m━━━━━━━━━━━━━━━━━━━━\u001b[0m\u001b[37m\u001b[0m \u001b[1m21s\u001b[0m 22ms/step - accuracy: 0.7444 - loss: 0.7199 - val_accuracy: 0.7015 - val_loss: 0.8693\n",
      "Epoch 5/5\n",
      "\u001b[1m938/938\u001b[0m \u001b[32m━━━━━━━━━━━━━━━━━━━━\u001b[0m\u001b[37m\u001b[0m \u001b[1m21s\u001b[0m 22ms/step - accuracy: 0.7885 - loss: 0.6177 - val_accuracy: 0.7178 - val_loss: 0.8290\n"
     ]
    },
    {
     "data": {
      "text/plain": [
       "(<Sequential name=sequential, built=True>,\n",
       " <keras.src.callbacks.history.History at 0x7f59b14a2e30>)"
      ]
     },
     "execution_count": 5,
     "metadata": {},
     "output_type": "execute_result"
    }
   ],
   "source": [
    "model, history = fit_lucasnet(X_train, Y_train, X_test, Y_test, verbose=1, input_shape=(32, 32, 3), num_classes=10)"
   ]
  },
  {
   "cell_type": "code",
   "execution_count": 8,
   "id": "8342b40f84e9407f",
   "metadata": {
    "ExecuteTime": {
     "end_time": "2024-02-26T16:52:20.380930Z",
     "start_time": "2024-02-26T16:52:20.367671Z"
    },
    "collapsed": false
   },
   "outputs": [
    {
     "data": {
      "text/plain": [
       "<tf.Tensor: shape=(1, 10), dtype=float32, numpy=array([[0., 0., 0., 1., 0., 0., 0., 0., 0., 0.]], dtype=float32)>"
      ]
     },
     "execution_count": 8,
     "metadata": {},
     "output_type": "execute_result"
    }
   ],
   "source": [
    "Y_train[3]"
   ]
  },
  {
   "cell_type": "code",
   "execution_count": 7,
   "id": "a3f0842d32e66716",
   "metadata": {
    "ExecuteTime": {
     "end_time": "2024-02-27T17:27:07.673886Z",
     "start_time": "2024-02-27T17:26:58.672855Z"
    },
    "collapsed": false
   },
   "outputs": [
    {
     "name": "stdout",
     "output_type": "stream",
     "text": [
      "Downloading data from https://www.cs.toronto.edu/~kriz/cifar-100-python.tar.gz\n",
      "\u001b[1m169001437/169001437\u001b[0m \u001b[32m━━━━━━━━━━━━━━━━━━━━\u001b[0m\u001b[37m\u001b[0m \u001b[1m7s\u001b[0m 0us/step\n"
     ]
    }
   ],
   "source": [
    "import keras\n",
    "\n",
    "cifar100 = keras.datasets.cifar100\n",
    "(x_train, y_train), (x_test, y_test) = cifar100.load_data()"
   ]
  },
  {
   "cell_type": "code",
   "execution_count": 8,
   "id": "8c83ca449b41a500",
   "metadata": {
    "ExecuteTime": {
     "end_time": "2024-02-27T17:28:27.750389Z",
     "start_time": "2024-02-27T17:28:27.745757Z"
    },
    "collapsed": false
   },
   "outputs": [
    {
     "data": {
      "text/plain": [
       "(50000, 1)"
      ]
     },
     "execution_count": 8,
     "metadata": {},
     "output_type": "execute_result"
    }
   ],
   "source": [
    "\n",
    "y_train.shape"
   ]
  },
  {
   "cell_type": "code",
   "execution_count": 9,
   "id": "1f57457c38a94fa0",
   "metadata": {
    "ExecuteTime": {
     "end_time": "2024-02-27T17:28:34.791414Z",
     "start_time": "2024-02-27T17:28:34.783665Z"
    },
    "collapsed": false
   },
   "outputs": [
    {
     "data": {
      "text/plain": [
       "array([[19],\n",
       "       [29],\n",
       "       [ 0],\n",
       "       ...,\n",
       "       [ 3],\n",
       "       [ 7],\n",
       "       [73]])"
      ]
     },
     "execution_count": 9,
     "metadata": {},
     "output_type": "execute_result"
    }
   ],
   "source": [
    "y_train"
   ]
  },
  {
   "cell_type": "code",
   "execution_count": 1,
   "id": "519b1940d7a8e748",
   "metadata": {
    "ExecuteTime": {
     "end_time": "2024-02-27T17:47:13.519748Z",
     "start_time": "2024-02-27T17:47:07.824188Z"
    },
    "collapsed": false
   },
   "outputs": [
    {
     "name": "stderr",
     "output_type": "stream",
     "text": [
      "2024-02-27 17:47:08.853590: E external/local_xla/xla/stream_executor/cuda/cuda_dnn.cc:9261] Unable to register cuDNN factory: Attempting to register factory for plugin cuDNN when one has already been registered\n",
      "2024-02-27 17:47:08.853718: E external/local_xla/xla/stream_executor/cuda/cuda_fft.cc:607] Unable to register cuFFT factory: Attempting to register factory for plugin cuFFT when one has already been registered\n",
      "2024-02-27 17:47:08.915711: E external/local_xla/xla/stream_executor/cuda/cuda_blas.cc:1515] Unable to register cuBLAS factory: Attempting to register factory for plugin cuBLAS when one has already been registered\n",
      "2024-02-27 17:47:09.046325: I tensorflow/core/platform/cpu_feature_guard.cc:182] This TensorFlow binary is optimized to use available CPU instructions in performance-critical operations.\n",
      "To enable the following instructions: AVX2 FMA, in other operations, rebuild TensorFlow with the appropriate compiler flags.\n",
      "2024-02-27 17:47:10.102645: W tensorflow/compiler/tf2tensorrt/utils/py_utils.cc:38] TF-TRT Warning: Could not find TensorRT\n"
     ]
    }
   ],
   "source": [
    "from cifar_functions import get_cifar_input_set\n",
    "\n",
    "x, y = get_cifar_input_set()"
   ]
  },
  {
   "cell_type": "code",
   "execution_count": 2,
   "id": "1a6d2e3744216fcd",
   "metadata": {
    "ExecuteTime": {
     "end_time": "2024-02-27T17:47:20.335759Z",
     "start_time": "2024-02-27T17:47:20.329553Z"
    },
    "collapsed": false
   },
   "outputs": [
    {
     "data": {
      "text/plain": [
       "(18000, 32, 32, 3)"
      ]
     },
     "execution_count": 2,
     "metadata": {},
     "output_type": "execute_result"
    }
   ],
   "source": [
    "x.shape"
   ]
  },
  {
   "cell_type": "code",
   "execution_count": 3,
   "id": "2549fc9470291385",
   "metadata": {
    "ExecuteTime": {
     "end_time": "2024-02-27T17:47:23.279683Z",
     "start_time": "2024-02-27T17:47:23.275428Z"
    },
    "collapsed": false
   },
   "outputs": [
    {
     "data": {
      "text/plain": [
       "(18000, 1)"
      ]
     },
     "execution_count": 3,
     "metadata": {},
     "output_type": "execute_result"
    }
   ],
   "source": [
    "y.shape"
   ]
  },
  {
   "cell_type": "code",
   "execution_count": 1,
   "id": "633fea0b9b40dbad",
   "metadata": {
    "ExecuteTime": {
     "end_time": "2024-02-28T10:28:33.917718Z",
     "start_time": "2024-02-28T10:27:49.917714Z"
    },
    "collapsed": false
   },
   "outputs": [
    {
     "name": "stderr",
     "output_type": "stream",
     "text": [
      "2024-02-28 10:27:50.475194: E external/local_xla/xla/stream_executor/cuda/cuda_dnn.cc:9261] Unable to register cuDNN factory: Attempting to register factory for plugin cuDNN when one has already been registered\n",
      "2024-02-28 10:27:50.475259: E external/local_xla/xla/stream_executor/cuda/cuda_fft.cc:607] Unable to register cuFFT factory: Attempting to register factory for plugin cuFFT when one has already been registered\n",
      "2024-02-28 10:27:50.477290: E external/local_xla/xla/stream_executor/cuda/cuda_blas.cc:1515] Unable to register cuBLAS factory: Attempting to register factory for plugin cuBLAS when one has already been registered\n",
      "2024-02-28 10:27:50.490027: I tensorflow/core/platform/cpu_feature_guard.cc:182] This TensorFlow binary is optimized to use available CPU instructions in performance-critical operations.\n",
      "To enable the following instructions: AVX2 FMA, in other operations, rebuild TensorFlow with the appropriate compiler flags.\n",
      "2024-02-28 10:27:51.354480: W tensorflow/compiler/tf2tensorrt/utils/py_utils.cc:38] TF-TRT Warning: Could not find TensorRT\n"
     ]
    },
    {
     "name": "stdout",
     "output_type": "stream",
     "text": [
      "now computing dist 0.7\n",
      "now computing dist 0.8\n",
      "now computing dist 0.9\n"
     ]
    }
   ],
   "source": [
    "from cifar_functions import *\n",
    "distributed_datasets = get_distributed_cifar_sets(distributions=[0.7,0.8,0.9])"
   ]
  },
  {
   "cell_type": "code",
   "execution_count": 2,
   "id": "3572f5d6166eabaa",
   "metadata": {
    "ExecuteTime": {
     "end_time": "2024-02-28T10:30:54.089787Z",
     "start_time": "2024-02-28T10:30:54.084098Z"
    },
    "collapsed": false
   },
   "outputs": [
    {
     "name": "stdout",
     "output_type": "stream",
     "text": [
      "(17142, 10)\n",
      "(15000, 10)\n",
      "(13333, 10)\n"
     ]
    }
   ],
   "source": [
    "for ds in distributed_datasets:\n",
    "    print(ds.y_train.shape)"
   ]
  },
  {
   "cell_type": "code",
   "execution_count": 1,
   "id": "be5bf7739cb4f3f4",
   "metadata": {
    "ExecuteTime": {
     "end_time": "2024-02-29T09:01:32.986592Z",
     "start_time": "2024-02-29T09:01:29.230012Z"
    },
    "collapsed": false
   },
   "outputs": [
    {
     "name": "stderr",
     "output_type": "stream",
     "text": [
      "2024-02-29 10:01:29.508875: I tensorflow/tsl/cuda/cudart_stub.cc:28] Could not find cuda drivers on your machine, GPU will not be used.\n",
      "2024-02-29 10:01:29.571705: E tensorflow/compiler/xla/stream_executor/cuda/cuda_dnn.cc:9342] Unable to register cuDNN factory: Attempting to register factory for plugin cuDNN when one has already been registered\n",
      "2024-02-29 10:01:29.571745: E tensorflow/compiler/xla/stream_executor/cuda/cuda_fft.cc:609] Unable to register cuFFT factory: Attempting to register factory for plugin cuFFT when one has already been registered\n",
      "2024-02-29 10:01:29.571788: E tensorflow/compiler/xla/stream_executor/cuda/cuda_blas.cc:1518] Unable to register cuBLAS factory: Attempting to register factory for plugin cuBLAS when one has already been registered\n",
      "2024-02-29 10:01:29.583407: I tensorflow/tsl/cuda/cudart_stub.cc:28] Could not find cuda drivers on your machine, GPU will not be used.\n",
      "2024-02-29 10:01:29.584408: I tensorflow/core/platform/cpu_feature_guard.cc:182] This TensorFlow binary is optimized to use available CPU instructions in performance-critical operations.\n",
      "To enable the following instructions: AVX2 FMA, in other operations, rebuild TensorFlow with the appropriate compiler flags.\n",
      "2024-02-29 10:01:30.854141: W tensorflow/compiler/tf2tensorrt/utils/py_utils.cc:38] TF-TRT Warning: Could not find TensorRT\n"
     ]
    }
   ],
   "source": [
    "from cifar_functions import get_distributed_cifar_sets, get_cifar_input_set\n",
    "from common.functions import train_shadow_models"
   ]
  },
  {
   "cell_type": "code",
   "execution_count": 2,
   "id": "84840cc302a65282",
   "metadata": {
    "ExecuteTime": {
     "end_time": "2024-02-29T09:02:16.394393Z",
     "start_time": "2024-02-29T09:01:57.256853Z"
    },
    "collapsed": false
   },
   "outputs": [
    {
     "name": "stdout",
     "output_type": "stream",
     "text": [
      "now computing dist 0.1\n"
     ]
    }
   ],
   "source": [
    "base_path = \"cifar\"  # for saving models and output data\n",
    "test_run = True\n",
    "n_shadow_models = 2\n",
    "distributions = [0.1]#, 0.2, 0.3, 0.4, 0.5, 0.6, 0.7, 0.8, 0.9]\n",
    "save_models = False\n",
    "input_shape = (32, 32, 3)\n",
    "num_classes = 10\n",
    "model_input = get_cifar_input_set()\n",
    "distributed_datasets = get_distributed_cifar_sets(distributions=distributions)"
   ]
  },
  {
   "cell_type": "code",
   "execution_count": 4,
   "id": "3888e5cd1cf66c77",
   "metadata": {
    "ExecuteTime": {
     "end_time": "2024-02-29T09:05:32.069313Z",
     "start_time": "2024-02-29T09:03:46.488529Z"
    },
    "collapsed": false
   },
   "outputs": [],
   "source": [
    "from common.functions import generate_shadow_model_outputs\n",
    "ds = distributed_datasets[0]\n",
    "load_model_path = f\"{base_path}/models/shadow_models/{str(ds.distribution)}/{'test' if test_run else 'train'}/\"\n",
    "\n",
    "save_model_path = None\n",
    "outputs = generate_shadow_model_outputs(ds, model_input, load_model_path, save_model_path, n_shadow_models=n_shadow_models, use_test_data=test_run, input_shape=input_shape, num_classes=num_classes)\n"
   ]
  },
  {
   "cell_type": "code",
   "execution_count": 5,
   "id": "4ed45e7f3a41fc63",
   "metadata": {
    "ExecuteTime": {
     "end_time": "2024-02-29T09:05:32.081285Z",
     "start_time": "2024-02-29T09:05:32.072389Z"
    },
    "collapsed": false
   },
   "outputs": [
    {
     "data": {
      "text/plain": [
       "(2, 16200)"
      ]
     },
     "execution_count": 5,
     "metadata": {},
     "output_type": "execute_result"
    }
   ],
   "source": [
    "outputs.shape\n",
    "#adv_df = pd.DataFrame(outputs)"
   ]
  },
  {
   "cell_type": "markdown",
   "id": "683dfec6620d299",
   "metadata": {
    "collapsed": false
   },
   "source": [
    "# Adversary"
   ]
  },
  {
   "cell_type": "code",
   "execution_count": 71,
   "id": "13a5060a999c4cdb",
   "metadata": {
    "ExecuteTime": {
     "end_time": "2024-03-11T08:46:57.627134Z",
     "start_time": "2024-03-11T08:42:59.006457Z"
    },
    "collapsed": false
   },
   "outputs": [],
   "source": [
    "import pandas as pd\n",
    "\n",
    "dists = [0.1, 0.2, 0.3, 0.4, 0.5, 0.6, 0.7, 0.8, 0.9]\n",
    "all_train = []\n",
    "for dist in dists:\n",
    "    a = pd.read_csv(f\"cifar/data/shadow_model_outputs/{dist}/train.csv\")\n",
    "    b = pd.read_csv(f\"cifar_new/data/shadow_model_outputs/{dist}/train.csv\")\n",
    "    all_train.append(pd.concat([a,b]))\n",
    "adv_train = pd.concat(all_train)\n",
    "adv_test = pd.concat([pd.read_csv(f\"cifar_new/data/shadow_model_outputs/{dist}/test.csv\") for dist in dists])"
   ]
  },
  {
   "cell_type": "code",
   "execution_count": 72,
   "id": "84751ffe4fa36d31",
   "metadata": {
    "ExecuteTime": {
     "end_time": "2024-03-11T08:47:00.145026Z",
     "start_time": "2024-03-11T08:46:57.686329Z"
    },
    "collapsed": false
   },
   "outputs": [],
   "source": [
    "adv_y = adv_train[\"y\"]\n",
    "adv_X = adv_train.drop(columns=[\"y\"])\n",
    "adv_y_test = adv_test[\"y\"]\n",
    "adv_X_test = adv_test.drop(columns=[\"y\"])"
   ]
  },
  {
   "cell_type": "code",
   "execution_count": 73,
   "id": "51db4959138935db",
   "metadata": {
    "ExecuteTime": {
     "end_time": "2024-03-11T08:47:00.154612Z",
     "start_time": "2024-03-11T08:47:00.147238Z"
    },
    "collapsed": false
   },
   "outputs": [
    {
     "data": {
      "text/plain": [
       "(2700, 45360)"
      ]
     },
     "execution_count": 73,
     "metadata": {},
     "output_type": "execute_result"
    }
   ],
   "source": [
    "adv_X.shape"
   ]
  },
  {
   "cell_type": "code",
   "execution_count": 74,
   "id": "35c981a70ce5fa4e",
   "metadata": {
    "ExecuteTime": {
     "end_time": "2024-03-11T08:47:00.192028Z",
     "start_time": "2024-03-11T08:47:00.156245Z"
    },
    "collapsed": false
   },
   "outputs": [
    {
     "data": {
      "text/plain": [
       "(900, 45360)"
      ]
     },
     "execution_count": 74,
     "metadata": {},
     "output_type": "execute_result"
    }
   ],
   "source": [
    "adv_X_test.shape"
   ]
  },
  {
   "cell_type": "code",
   "execution_count": 83,
   "id": "26a0820d6dac46a5",
   "metadata": {
    "ExecuteTime": {
     "end_time": "2024-03-11T09:00:56.816344Z",
     "start_time": "2024-03-11T09:00:56.508849Z"
    },
    "collapsed": false
   },
   "outputs": [],
   "source": [
    "import keras\n",
    "from keras import regularizers\n",
    "\n",
    "manual_adversary = keras.Sequential()\n",
    "manual_adversary.add(keras.Input(shape=(adv_X.shape[1],)))\n",
    "manual_adversary.add(keras.layers.Dense(8, activation='relu', kernel_regularizer=regularizers.l2(0.01)))\n",
    "manual_adversary.add(keras.layers.Dropout(0.3))\n",
    "manual_adversary.add(keras.layers.Dense(8, activation='relu', kernel_regularizer=regularizers.l2(0.04)))\n",
    "manual_adversary.add(keras.layers.Dense(1))\n",
    "manual_adversary.compile(optimizer=keras.optimizers.Adam(), loss=keras.losses.MeanSquaredError(), metrics=[keras.metrics.R2Score()])\n",
    "\n"
   ]
  },
  {
   "cell_type": "code",
   "execution_count": 84,
   "id": "aa29e36d1d596223",
   "metadata": {
    "ExecuteTime": {
     "end_time": "2024-03-11T09:01:38.974453Z",
     "start_time": "2024-03-11T09:00:56.952436Z"
    },
    "collapsed": false
   },
   "outputs": [
    {
     "name": "stdout",
     "output_type": "stream",
     "text": [
      "Epoch 1/200\n",
      "85/85 [==============================] - 3s 21ms/step - loss: 0.8400 - r2_score: -4.9782 - val_loss: 0.4996 - val_r2_score: -0.8654\n",
      "Epoch 2/200\n",
      "85/85 [==============================] - 1s 9ms/step - loss: 0.4179 - r2_score: -0.3679 - val_loss: 0.3919 - val_r2_score: -0.6180\n",
      "Epoch 3/200\n",
      "85/85 [==============================] - 1s 7ms/step - loss: 0.3333 - r2_score: -0.2102 - val_loss: 0.3183 - val_r2_score: -0.4142\n",
      "Epoch 4/200\n",
      "85/85 [==============================] - 1s 9ms/step - loss: 0.2741 - r2_score: -0.0791 - val_loss: 0.2883 - val_r2_score: -0.5933\n",
      "Epoch 5/200\n",
      "85/85 [==============================] - 1s 10ms/step - loss: 0.2272 - r2_score: 0.0920 - val_loss: 0.2499 - val_r2_score: -0.4603\n",
      "Epoch 6/200\n",
      "85/85 [==============================] - 1s 7ms/step - loss: 0.1948 - r2_score: 0.1985 - val_loss: 0.2193 - val_r2_score: -0.3229\n",
      "Epoch 7/200\n",
      "85/85 [==============================] - 1s 7ms/step - loss: 0.1733 - r2_score: 0.2475 - val_loss: 0.1895 - val_r2_score: -0.1131\n",
      "Epoch 8/200\n",
      "85/85 [==============================] - 1s 6ms/step - loss: 0.1522 - r2_score: 0.3473 - val_loss: 0.1856 - val_r2_score: -0.2398\n",
      "Epoch 9/200\n",
      "85/85 [==============================] - 1s 7ms/step - loss: 0.1392 - r2_score: 0.3779 - val_loss: 0.1638 - val_r2_score: -0.0652\n",
      "Epoch 10/200\n",
      "85/85 [==============================] - 1s 6ms/step - loss: 0.1292 - r2_score: 0.4003 - val_loss: 0.1742 - val_r2_score: -0.3259\n",
      "Epoch 11/200\n",
      "85/85 [==============================] - 1s 6ms/step - loss: 0.1198 - r2_score: 0.4325 - val_loss: 0.1571 - val_r2_score: -0.1830\n",
      "Epoch 12/200\n",
      "85/85 [==============================] - 1s 6ms/step - loss: 0.1107 - r2_score: 0.4698 - val_loss: 0.1566 - val_r2_score: -0.2588\n",
      "Epoch 13/200\n",
      "85/85 [==============================] - 1s 7ms/step - loss: 0.1071 - r2_score: 0.4432 - val_loss: 0.1386 - val_r2_score: -0.0597\n",
      "Epoch 14/200\n",
      "85/85 [==============================] - 1s 6ms/step - loss: 0.1034 - r2_score: 0.4371 - val_loss: 0.1392 - val_r2_score: -0.1391\n",
      "Epoch 15/200\n",
      "85/85 [==============================] - 1s 7ms/step - loss: 0.0949 - r2_score: 0.4978 - val_loss: 0.1342 - val_r2_score: -0.1262\n",
      "Epoch 16/200\n",
      "85/85 [==============================] - 1s 6ms/step - loss: 0.0934 - r2_score: 0.4587 - val_loss: 0.1359 - val_r2_score: -0.1919\n",
      "Epoch 17/200\n",
      "85/85 [==============================] - 1s 7ms/step - loss: 0.0891 - r2_score: 0.4791 - val_loss: 0.1217 - val_r2_score: -0.0439\n",
      "Epoch 18/200\n",
      "85/85 [==============================] - 1s 6ms/step - loss: 0.0845 - r2_score: 0.4895 - val_loss: 0.1243 - val_r2_score: -0.1263\n",
      "Epoch 19/200\n",
      "85/85 [==============================] - 1s 6ms/step - loss: 0.0836 - r2_score: 0.4623 - val_loss: 0.1236 - val_r2_score: -0.1524\n",
      "Epoch 20/200\n",
      "85/85 [==============================] - 1s 8ms/step - loss: 0.0811 - r2_score: 0.4657 - val_loss: 0.1227 - val_r2_score: -0.1795\n",
      "Epoch 21/200\n",
      "85/85 [==============================] - 1s 7ms/step - loss: 0.0780 - r2_score: 0.4737 - val_loss: 0.1134 - val_r2_score: -0.0676\n",
      "Epoch 22/200\n",
      "85/85 [==============================] - 1s 6ms/step - loss: 0.0781 - r2_score: 0.4433 - val_loss: 0.1114 - val_r2_score: -0.0739\n",
      "Epoch 23/200\n",
      "85/85 [==============================] - 1s 6ms/step - loss: 0.0731 - r2_score: 0.4841 - val_loss: 0.1100 - val_r2_score: -0.0820\n",
      "Epoch 24/200\n",
      "85/85 [==============================] - 1s 6ms/step - loss: 0.0712 - r2_score: 0.4857 - val_loss: 0.1086 - val_r2_score: -0.0909\n",
      "Epoch 25/200\n",
      "85/85 [==============================] - 1s 6ms/step - loss: 0.0698 - r2_score: 0.4790 - val_loss: 0.1121 - val_r2_score: -0.1667\n",
      "Epoch 26/200\n",
      "85/85 [==============================] - 1s 7ms/step - loss: 0.0686 - r2_score: 0.4741 - val_loss: 0.1041 - val_r2_score: -0.0641\n",
      "Epoch 27/200\n",
      "85/85 [==============================] - 1s 6ms/step - loss: 0.0702 - r2_score: 0.4397 - val_loss: 0.1094 - val_r2_score: -0.1758\n",
      "Epoch 28/200\n",
      "85/85 [==============================] - 1s 6ms/step - loss: 0.0682 - r2_score: 0.4326 - val_loss: 0.1060 - val_r2_score: -0.1416\n",
      "Epoch 29/200\n",
      "85/85 [==============================] - 1s 7ms/step - loss: 0.0634 - r2_score: 0.4825 - val_loss: 0.0976 - val_r2_score: -0.0386\n",
      "Epoch 30/200\n",
      "85/85 [==============================] - 1s 6ms/step - loss: 0.0620 - r2_score: 0.4806 - val_loss: 0.1007 - val_r2_score: -0.1113\n",
      "Epoch 31/200\n",
      "85/85 [==============================] - 1s 6ms/step - loss: 0.0646 - r2_score: 0.4323 - val_loss: 0.1004 - val_r2_score: -0.0947\n",
      "Epoch 32/200\n",
      "85/85 [==============================] - 1s 6ms/step - loss: 0.0623 - r2_score: 0.4530 - val_loss: 0.0988 - val_r2_score: -0.1059\n",
      "Epoch 33/200\n",
      "85/85 [==============================] - 1s 7ms/step - loss: 0.0590 - r2_score: 0.4731 - val_loss: 0.0921 - val_r2_score: -0.0372\n",
      "Epoch 34/200\n",
      "85/85 [==============================] - 1s 6ms/step - loss: 0.0584 - r2_score: 0.4614 - val_loss: 0.0954 - val_r2_score: -0.1008\n",
      "Epoch 35/200\n",
      "85/85 [==============================] - 1s 6ms/step - loss: 0.0585 - r2_score: 0.4546 - val_loss: 0.0956 - val_r2_score: -0.1031\n",
      "Epoch 36/200\n",
      "85/85 [==============================] - 1s 6ms/step - loss: 0.0559 - r2_score: 0.4689 - val_loss: 0.0913 - val_r2_score: -0.0675\n",
      "Epoch 37/200\n",
      "85/85 [==============================] - 1s 6ms/step - loss: 0.0552 - r2_score: 0.4577 - val_loss: 0.0895 - val_r2_score: -0.0660\n",
      "Epoch 38/200\n",
      "85/85 [==============================] - 1s 6ms/step - loss: 0.0520 - r2_score: 0.4876 - val_loss: 0.0935 - val_r2_score: -0.1431\n",
      "Epoch 39/200\n",
      "85/85 [==============================] - 1s 6ms/step - loss: 0.0516 - r2_score: 0.4903 - val_loss: 0.0874 - val_r2_score: -0.0510\n",
      "Epoch 40/200\n",
      "85/85 [==============================] - 1s 6ms/step - loss: 0.0545 - r2_score: 0.4384 - val_loss: 0.0894 - val_r2_score: -0.0806\n",
      "Epoch 41/200\n",
      "85/85 [==============================] - 1s 7ms/step - loss: 0.0516 - r2_score: 0.4608 - val_loss: 0.0836 - val_r2_score: -0.0287\n",
      "Epoch 42/200\n",
      "85/85 [==============================] - 1s 6ms/step - loss: 0.0523 - r2_score: 0.4366 - val_loss: 0.0915 - val_r2_score: -0.1610\n",
      "Epoch 43/200\n",
      "85/85 [==============================] - 1s 7ms/step - loss: 0.0496 - r2_score: 0.4613 - val_loss: 0.0821 - val_r2_score: -0.0251\n",
      "Epoch 44/200\n",
      "85/85 [==============================] - 1s 7ms/step - loss: 0.0498 - r2_score: 0.4502 - val_loss: 0.0841 - val_r2_score: -0.0744\n",
      "Epoch 45/200\n",
      "85/85 [==============================] - 1s 6ms/step - loss: 0.0477 - r2_score: 0.4685 - val_loss: 0.0914 - val_r2_score: -0.1881\n",
      "Epoch 46/200\n",
      "85/85 [==============================] - 1s 6ms/step - loss: 0.0505 - r2_score: 0.4281 - val_loss: 0.0826 - val_r2_score: -0.0702\n",
      "Epoch 47/200\n",
      "85/85 [==============================] - 1s 6ms/step - loss: 0.0465 - r2_score: 0.4648 - val_loss: 0.0822 - val_r2_score: -0.0782\n",
      "Epoch 48/200\n",
      "85/85 [==============================] - 1s 6ms/step - loss: 0.0452 - r2_score: 0.4692 - val_loss: 0.0810 - val_r2_score: -0.0662\n",
      "Epoch 49/200\n",
      "85/85 [==============================] - 1s 6ms/step - loss: 0.0453 - r2_score: 0.4657 - val_loss: 0.0811 - val_r2_score: -0.0745\n",
      "Epoch 50/200\n",
      "85/85 [==============================] - 1s 6ms/step - loss: 0.0460 - r2_score: 0.4460 - val_loss: 0.0801 - val_r2_score: -0.0651\n",
      "Epoch 51/200\n",
      "85/85 [==============================] - 1s 7ms/step - loss: 0.0433 - r2_score: 0.4773 - val_loss: 0.0894 - val_r2_score: -0.2112\n",
      "Epoch 52/200\n",
      "85/85 [==============================] - 1s 6ms/step - loss: 0.0428 - r2_score: 0.4834 - val_loss: 0.0830 - val_r2_score: -0.1230\n",
      "Epoch 53/200\n",
      "85/85 [==============================] - 1s 6ms/step - loss: 0.0450 - r2_score: 0.4440 - val_loss: 0.0821 - val_r2_score: -0.1139\n",
      "Epoch 54/200\n",
      "85/85 [==============================] - 1s 6ms/step - loss: 0.0464 - r2_score: 0.4306 - val_loss: 0.0812 - val_r2_score: -0.0993\n",
      "Epoch 55/200\n",
      "85/85 [==============================] - 1s 6ms/step - loss: 0.0432 - r2_score: 0.4581 - val_loss: 0.0862 - val_r2_score: -0.1726\n",
      "Epoch 56/200\n",
      "85/85 [==============================] - 1s 6ms/step - loss: 0.0442 - r2_score: 0.4528 - val_loss: 0.0765 - val_r2_score: -0.0489\n",
      "Epoch 57/200\n",
      "85/85 [==============================] - 1s 6ms/step - loss: 0.0422 - r2_score: 0.4614 - val_loss: 0.0759 - val_r2_score: -0.0417\n",
      "Epoch 58/200\n",
      "85/85 [==============================] - 1s 12ms/step - loss: 0.0417 - r2_score: 0.4643 - val_loss: 0.0750 - val_r2_score: -0.0390\n",
      "Epoch 59/200\n",
      "85/85 [==============================] - 1s 6ms/step - loss: 0.0455 - r2_score: 0.4245 - val_loss: 0.0794 - val_r2_score: -0.0767\n",
      "Epoch 60/200\n",
      "85/85 [==============================] - 1s 6ms/step - loss: 0.0424 - r2_score: 0.4516 - val_loss: 0.0803 - val_r2_score: -0.1249\n",
      "Epoch 61/200\n",
      "85/85 [==============================] - 1s 6ms/step - loss: 0.0424 - r2_score: 0.4484 - val_loss: 0.0769 - val_r2_score: -0.0772\n",
      "Epoch 62/200\n",
      "85/85 [==============================] - 1s 6ms/step - loss: 0.0402 - r2_score: 0.4799 - val_loss: 0.0830 - val_r2_score: -0.1560\n",
      "Epoch 63/200\n",
      "85/85 [==============================] - 1s 6ms/step - loss: 0.0420 - r2_score: 0.4617 - val_loss: 0.0832 - val_r2_score: -0.1714\n",
      "Epoch 63: early stopping\n"
     ]
    }
   ],
   "source": [
    "checkpoint_filepath = \"cifar/models/manual_tuning_checkpoints/keras.weights.h5\"\n",
    "\n",
    "history = manual_adversary.fit(\n",
    "    adv_X,\n",
    "    adv_y,\n",
    "    epochs=200,\n",
    "    validation_data=(adv_X_test, adv_y_test),\n",
    "    callbacks=[\n",
    "        keras.callbacks.EarlyStopping('val_r2_score', mode='max', patience=20, verbose=1),\n",
    "        keras.callbacks.ModelCheckpoint(\n",
    "            filepath=checkpoint_filepath,\n",
    "            save_weights_only=True,\n",
    "            monitor='val_r2_score',\n",
    "            mode='max',\n",
    "            save_best_only=True)\n",
    "    ])"
   ]
  },
  {
   "cell_type": "code",
   "execution_count": 68,
   "id": "d58b6ceca2269ba4",
   "metadata": {
    "ExecuteTime": {
     "end_time": "2024-03-07T10:47:51.875403Z",
     "start_time": "2024-03-07T10:47:51.209676Z"
    },
    "collapsed": false
   },
   "outputs": [
    {
     "data": {
      "image/png": "[encoded data removed]",
      "text/plain": [
       "<Figure size 1200x600 with 2 Axes>"
      ]
     },
     "metadata": {},
     "output_type": "display_data"
    }
   ],
   "source": [
    "plot_history(history)"
   ]
  },
  {
   "cell_type": "code",
   "execution_count": 7,
   "id": "100fc2f3c66f1f24",
   "metadata": {
    "ExecuteTime": {
     "end_time": "2024-03-04T16:46:33.001256Z",
     "start_time": "2024-03-04T16:46:31.795102Z"
    },
    "collapsed": false
   },
   "outputs": [],
   "source": [
    "import matplotlib.pyplot as plt\n",
    "def plot_history(history, dist=None):\n",
    "    plt.figure(figsize=(12, 6))\n",
    "    plt.subplot(1, 2, 1)\n",
    "    plt.plot(history.history['r2_score'][1:])\n",
    "    plt.plot(history.history['val_r2_score'][1:])\n",
    "    plt.title(f'Model r2 score ({\"\" if dist == None else dist*100}% old)')\n",
    "    plt.ylabel('R2 Score')\n",
    "    plt.xlabel('Epoch')\n",
    "    plt.legend(['Train', 'Test'], loc='upper left')\n",
    "\n",
    "    # Plot training & validation loss values\n",
    "    plt.subplot(1, 2, 2)\n",
    "    plt.plot(history.history['loss'][1:])\n",
    "    plt.plot(history.history['val_loss'][1:])\n",
    "    plt.title('Model loss')\n",
    "    plt.ylabel('Loss')\n",
    "    plt.xlabel('Epoch')\n",
    "    plt.legend(['Train', 'Test'], loc='upper left')\n",
    "    plt.tight_layout()"
   ]
  },
  {
   "cell_type": "code",
   "id": "f67226fbed02ea07",
   "metadata": {
    "collapsed": false
   },
   "outputs": [],
   "source": []
  },
  {
   "cell_type": "code",
   "id": "9adcf4f9ebd0c4da",
   "metadata": {
    "collapsed": false
   },
   "outputs": [],
   "source": []
  }
 ],
 "metadata": {
  "kernelspec": {
   "display_name": "pia-tf",
   "language": "python",
   "name": "pia-tf"
  },
  "language_info": {
   "codemirror_mode": {
    "name": "ipython",
    "version": 3
   },
   "file_extension": ".py",
   "mimetype": "text/x-python",
   "name": "python",
   "nbconvert_exporter": "python",
   "pygments_lexer": "ipython3",
   "version": "3.10.9"
  }
 },
 "nbformat": 4,
 "nbformat_minor": 5
}
