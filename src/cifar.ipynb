{
 "cells": [
  {
   "cell_type": "code",
   "execution_count": 1,
   "id": "initial_id",
   "metadata": {
    "ExecuteTime": {
     "end_time": "2024-02-26T17:06:01.949829Z",
     "start_time": "2024-02-26T17:05:51.535902Z"
    },
    "collapsed": true,
    "jupyter": {
     "outputs_hidden": true
    }
   },
   "outputs": [
    {
     "name": "stderr",
     "output_type": "stream",
     "text": [
      "2024-02-26 17:05:52.171961: E external/local_xla/xla/stream_executor/cuda/cuda_dnn.cc:9261] Unable to register cuDNN factory: Attempting to register factory for plugin cuDNN when one has already been registered\n",
      "2024-02-26 17:05:52.172045: E external/local_xla/xla/stream_executor/cuda/cuda_fft.cc:607] Unable to register cuFFT factory: Attempting to register factory for plugin cuFFT when one has already been registered\n",
      "2024-02-26 17:05:52.196270: E external/local_xla/xla/stream_executor/cuda/cuda_blas.cc:1515] Unable to register cuBLAS factory: Attempting to register factory for plugin cuBLAS when one has already been registered\n",
      "2024-02-26 17:05:52.245218: I tensorflow/core/platform/cpu_feature_guard.cc:182] This TensorFlow binary is optimized to use available CPU instructions in performance-critical operations.\n",
      "To enable the following instructions: AVX2 FMA, in other operations, rebuild TensorFlow with the appropriate compiler flags.\n",
      "2024-02-26 17:05:53.086946: W tensorflow/compiler/tf2tensorrt/utils/py_utils.cc:38] TF-TRT Warning: Could not find TensorRT\n"
     ]
    }
   ],
   "source": [
    "import numpy as np\n",
    "\n",
    "from cifar_functions import *\n",
    "\n",
    "X_train, X_test, Y_train, Y_test, sensitive, sensitive_t = data_train_test_cifar()"
   ]
  },
  {
   "cell_type": "code",
   "execution_count": 6,
   "id": "9dacf402c25e0aa6",
   "metadata": {
    "ExecuteTime": {
     "end_time": "2024-02-26T17:08:13.739910Z",
     "start_time": "2024-02-26T17:08:13.411547Z"
    },
    "collapsed": false
   },
   "outputs": [],
   "source": [
    "import matplotlib.pyplot as plt\n",
    "\n",
    "def plot_history(history, dist=None):\n",
    "    plt.figure(figsize=(12, 6))\n",
    "    plt.subplot(1, 2, 1)\n",
    "    plt.plot(history.history['accuracy'])\n",
    "    plt.plot(history.history['val_accuracy'])\n",
    "    plt.title(f'Model accuracy ({\"\" if dist == None else dist*100}% old)')\n",
    "    plt.ylabel('Accuracy')\n",
    "    plt.xlabel('Epoch')\n",
    "    plt.legend(['Train', 'Test'], loc='upper left')\n",
    "\n",
    "    # Plot training & validation loss values\n",
    "    plt.subplot(1, 2, 2)\n",
    "    plt.plot(history.history['loss'])\n",
    "    plt.plot(history.history['val_loss'])\n",
    "    plt.title('Model loss')\n",
    "    plt.ylabel('Loss')\n",
    "    plt.xlabel('Epoch')\n",
    "    plt.legend(['Train', 'Test'], loc='upper left')\n",
    "    plt.tight_layout()"
   ]
  },
  {
   "cell_type": "code",
   "execution_count": 2,
   "id": "1be3f736898b9ebf",
   "metadata": {
    "ExecuteTime": {
     "end_time": "2024-02-26T17:06:02.040649Z",
     "start_time": "2024-02-26T17:06:01.978975Z"
    },
    "collapsed": false
   },
   "outputs": [
    {
     "data": {
      "text/plain": [
       "(30000, 32, 32, 3)"
      ]
     },
     "execution_count": 2,
     "metadata": {},
     "output_type": "execute_result"
    }
   ],
   "source": [
    "X_train.shape"
   ]
  },
  {
   "cell_type": "code",
   "execution_count": 3,
   "id": "630ce17490f17dd9",
   "metadata": {
    "ExecuteTime": {
     "end_time": "2024-02-26T17:06:03.091757Z",
     "start_time": "2024-02-26T17:06:02.041815Z"
    },
    "collapsed": false
   },
   "outputs": [
    {
     "data": {
      "text/plain": [
       "TensorShape([30000, 10])"
      ]
     },
     "execution_count": 3,
     "metadata": {},
     "output_type": "execute_result"
    }
   ],
   "source": [
    "Y_train.shape"
   ]
  },
  {
   "cell_type": "code",
   "execution_count": 4,
   "id": "992bef9f86e121e7",
   "metadata": {
    "ExecuteTime": {
     "end_time": "2024-02-26T17:06:06.540891Z",
     "start_time": "2024-02-26T17:06:06.532326Z"
    },
    "collapsed": false
   },
   "outputs": [],
   "source": [
    "from common.functions import *"
   ]
  },
  {
   "cell_type": "code",
   "execution_count": 5,
   "id": "134d76ae5c6a9df7",
   "metadata": {
    "ExecuteTime": {
     "end_time": "2024-02-26T17:08:07.573215Z",
     "start_time": "2024-02-26T17:06:06.622749Z"
    },
    "collapsed": false
   },
   "outputs": [
    {
     "name": "stdout",
     "output_type": "stream",
     "text": [
      "Epoch 1/5\n"
     ]
    },
    {
     "name": "stderr",
     "output_type": "stream",
     "text": [
      "2024-02-26 17:06:09.354141: W external/local_tsl/tsl/framework/cpu_allocator_impl.cc:83] Allocation of 368640000 exceeds 10% of free system memory.\n"
     ]
    },
    {
     "name": "stdout",
     "output_type": "stream",
     "text": [
      "\u001b[1m935/938\u001b[0m \u001b[32m━━━━━━━━━━━━━━━━━━━\u001b[0m\u001b[37m━\u001b[0m \u001b[1m0s\u001b[0m 18ms/step - accuracy: 0.4253 - loss: 1.6644"
     ]
    },
    {
     "name": "stderr",
     "output_type": "stream",
     "text": [
      "2024-02-26 17:06:33.255240: W external/local_tsl/tsl/framework/cpu_allocator_impl.cc:83] Allocation of 368640000 exceeds 10% of free system memory.\n"
     ]
    },
    {
     "name": "stdout",
     "output_type": "stream",
     "text": [
      "\u001b[1m938/938\u001b[0m \u001b[32m━━━━━━━━━━━━━━━━━━━━\u001b[0m\u001b[37m\u001b[0m \u001b[1m34s\u001b[0m 34ms/step - accuracy: 0.4256 - loss: 1.6632 - val_accuracy: 0.5999 - val_loss: 1.1248\n",
      "Epoch 2/5\n",
      "\u001b[1m938/938\u001b[0m \u001b[32m━━━━━━━━━━━━━━━━━━━━\u001b[0m\u001b[37m\u001b[0m \u001b[1m22s\u001b[0m 23ms/step - accuracy: 0.6375 - loss: 1.0240 - val_accuracy: 0.6621 - val_loss: 0.9737\n",
      "Epoch 3/5\n",
      "\u001b[1m938/938\u001b[0m \u001b[32m━━━━━━━━━━━━━━━━━━━━\u001b[0m\u001b[37m\u001b[0m \u001b[1m21s\u001b[0m 22ms/step - accuracy: 0.7059 - loss: 0.8482 - val_accuracy: 0.6926 - val_loss: 0.8811\n",
      "Epoch 4/5\n",
      "\u001b[1m938/938\u001b[0m \u001b[32m━━━━━━━━━━━━━━━━━━━━\u001b[0m\u001b[37m\u001b[0m \u001b[1m21s\u001b[0m 22ms/step - accuracy: 0.7444 - loss: 0.7199 - val_accuracy: 0.7015 - val_loss: 0.8693\n",
      "Epoch 5/5\n",
      "\u001b[1m938/938\u001b[0m \u001b[32m━━━━━━━━━━━━━━━━━━━━\u001b[0m\u001b[37m\u001b[0m \u001b[1m21s\u001b[0m 22ms/step - accuracy: 0.7885 - loss: 0.6177 - val_accuracy: 0.7178 - val_loss: 0.8290\n"
     ]
    },
    {
     "data": {
      "text/plain": [
       "(<Sequential name=sequential, built=True>,\n",
       " <keras.src.callbacks.history.History at 0x7f59b14a2e30>)"
      ]
     },
     "execution_count": 5,
     "metadata": {},
     "output_type": "execute_result"
    }
   ],
   "source": [
    "model, history = fit_lucasnet(X_train, Y_train, X_test, Y_test, verbose=1, input_shape=(32, 32, 3), num_classes=10)"
   ]
  },
  {
   "cell_type": "code",
   "execution_count": 8,
   "id": "8342b40f84e9407f",
   "metadata": {
    "ExecuteTime": {
     "end_time": "2024-02-26T16:52:20.380930Z",
     "start_time": "2024-02-26T16:52:20.367671Z"
    },
    "collapsed": false
   },
   "outputs": [
    {
     "data": {
      "text/plain": [
       "<tf.Tensor: shape=(1, 10), dtype=float32, numpy=array([[0., 0., 0., 1., 0., 0., 0., 0., 0., 0.]], dtype=float32)>"
      ]
     },
     "execution_count": 8,
     "metadata": {},
     "output_type": "execute_result"
    }
   ],
   "source": [
    "Y_train[3]"
   ]
  },
  {
   "cell_type": "code",
   "execution_count": 7,
   "id": "a3f0842d32e66716",
   "metadata": {
    "ExecuteTime": {
     "end_time": "2024-02-27T17:27:07.673886Z",
     "start_time": "2024-02-27T17:26:58.672855Z"
    },
    "collapsed": false
   },
   "outputs": [
    {
     "name": "stdout",
     "output_type": "stream",
     "text": [
      "Downloading data from https://www.cs.toronto.edu/~kriz/cifar-100-python.tar.gz\n",
      "\u001b[1m169001437/169001437\u001b[0m \u001b[32m━━━━━━━━━━━━━━━━━━━━\u001b[0m\u001b[37m\u001b[0m \u001b[1m7s\u001b[0m 0us/step\n"
     ]
    }
   ],
   "source": [
    "import keras\n",
    "\n",
    "cifar100 = keras.datasets.cifar100\n",
    "(x_train, y_train), (x_test, y_test) = cifar100.load_data()"
   ]
  },
  {
   "cell_type": "code",
   "execution_count": 8,
   "id": "8c83ca449b41a500",
   "metadata": {
    "ExecuteTime": {
     "end_time": "2024-02-27T17:28:27.750389Z",
     "start_time": "2024-02-27T17:28:27.745757Z"
    },
    "collapsed": false
   },
   "outputs": [
    {
     "data": {
      "text/plain": [
       "(50000, 1)"
      ]
     },
     "execution_count": 8,
     "metadata": {},
     "output_type": "execute_result"
    }
   ],
   "source": [
    "\n",
    "y_train.shape"
   ]
  },
  {
   "cell_type": "code",
   "execution_count": 9,
   "id": "1f57457c38a94fa0",
   "metadata": {
    "ExecuteTime": {
     "end_time": "2024-02-27T17:28:34.791414Z",
     "start_time": "2024-02-27T17:28:34.783665Z"
    },
    "collapsed": false
   },
   "outputs": [
    {
     "data": {
      "text/plain": [
       "array([[19],\n",
       "       [29],\n",
       "       [ 0],\n",
       "       ...,\n",
       "       [ 3],\n",
       "       [ 7],\n",
       "       [73]])"
      ]
     },
     "execution_count": 9,
     "metadata": {},
     "output_type": "execute_result"
    }
   ],
   "source": [
    "y_train"
   ]
  },
  {
   "cell_type": "code",
   "execution_count": 1,
   "id": "519b1940d7a8e748",
   "metadata": {
    "ExecuteTime": {
     "end_time": "2024-02-27T17:47:13.519748Z",
     "start_time": "2024-02-27T17:47:07.824188Z"
    },
    "collapsed": false
   },
   "outputs": [
    {
     "name": "stderr",
     "output_type": "stream",
     "text": [
      "2024-02-27 17:47:08.853590: E external/local_xla/xla/stream_executor/cuda/cuda_dnn.cc:9261] Unable to register cuDNN factory: Attempting to register factory for plugin cuDNN when one has already been registered\n",
      "2024-02-27 17:47:08.853718: E external/local_xla/xla/stream_executor/cuda/cuda_fft.cc:607] Unable to register cuFFT factory: Attempting to register factory for plugin cuFFT when one has already been registered\n",
      "2024-02-27 17:47:08.915711: E external/local_xla/xla/stream_executor/cuda/cuda_blas.cc:1515] Unable to register cuBLAS factory: Attempting to register factory for plugin cuBLAS when one has already been registered\n",
      "2024-02-27 17:47:09.046325: I tensorflow/core/platform/cpu_feature_guard.cc:182] This TensorFlow binary is optimized to use available CPU instructions in performance-critical operations.\n",
      "To enable the following instructions: AVX2 FMA, in other operations, rebuild TensorFlow with the appropriate compiler flags.\n",
      "2024-02-27 17:47:10.102645: W tensorflow/compiler/tf2tensorrt/utils/py_utils.cc:38] TF-TRT Warning: Could not find TensorRT\n"
     ]
    }
   ],
   "source": [
    "from cifar_functions import get_cifar_input_set\n",
    "\n",
    "x, y = get_cifar_input_set()"
   ]
  },
  {
   "cell_type": "code",
   "execution_count": 2,
   "id": "1a6d2e3744216fcd",
   "metadata": {
    "ExecuteTime": {
     "end_time": "2024-02-27T17:47:20.335759Z",
     "start_time": "2024-02-27T17:47:20.329553Z"
    },
    "collapsed": false
   },
   "outputs": [
    {
     "data": {
      "text/plain": [
       "(18000, 32, 32, 3)"
      ]
     },
     "execution_count": 2,
     "metadata": {},
     "output_type": "execute_result"
    }
   ],
   "source": [
    "x.shape"
   ]
  },
  {
   "cell_type": "code",
   "execution_count": 3,
   "id": "2549fc9470291385",
   "metadata": {
    "ExecuteTime": {
     "end_time": "2024-02-27T17:47:23.279683Z",
     "start_time": "2024-02-27T17:47:23.275428Z"
    },
    "collapsed": false
   },
   "outputs": [
    {
     "data": {
      "text/plain": [
       "(18000, 1)"
      ]
     },
     "execution_count": 3,
     "metadata": {},
     "output_type": "execute_result"
    }
   ],
   "source": [
    "y.shape"
   ]
  },
  {
   "cell_type": "code",
   "execution_count": 1,
   "id": "633fea0b9b40dbad",
   "metadata": {
    "ExecuteTime": {
     "end_time": "2024-02-28T10:28:33.917718Z",
     "start_time": "2024-02-28T10:27:49.917714Z"
    },
    "collapsed": false
   },
   "outputs": [
    {
     "name": "stderr",
     "output_type": "stream",
     "text": [
      "2024-02-28 10:27:50.475194: E external/local_xla/xla/stream_executor/cuda/cuda_dnn.cc:9261] Unable to register cuDNN factory: Attempting to register factory for plugin cuDNN when one has already been registered\n",
      "2024-02-28 10:27:50.475259: E external/local_xla/xla/stream_executor/cuda/cuda_fft.cc:607] Unable to register cuFFT factory: Attempting to register factory for plugin cuFFT when one has already been registered\n",
      "2024-02-28 10:27:50.477290: E external/local_xla/xla/stream_executor/cuda/cuda_blas.cc:1515] Unable to register cuBLAS factory: Attempting to register factory for plugin cuBLAS when one has already been registered\n",
      "2024-02-28 10:27:50.490027: I tensorflow/core/platform/cpu_feature_guard.cc:182] This TensorFlow binary is optimized to use available CPU instructions in performance-critical operations.\n",
      "To enable the following instructions: AVX2 FMA, in other operations, rebuild TensorFlow with the appropriate compiler flags.\n",
      "2024-02-28 10:27:51.354480: W tensorflow/compiler/tf2tensorrt/utils/py_utils.cc:38] TF-TRT Warning: Could not find TensorRT\n"
     ]
    },
    {
     "name": "stdout",
     "output_type": "stream",
     "text": [
      "now computing dist 0.7\n",
      "now computing dist 0.8\n",
      "now computing dist 0.9\n"
     ]
    }
   ],
   "source": [
    "from cifar_functions import *\n",
    "distributed_datasets = get_distributed_cifar_sets(distributions=[0.7,0.8,0.9])"
   ]
  },
  {
   "cell_type": "code",
   "execution_count": 2,
   "id": "3572f5d6166eabaa",
   "metadata": {
    "ExecuteTime": {
     "end_time": "2024-02-28T10:30:54.089787Z",
     "start_time": "2024-02-28T10:30:54.084098Z"
    },
    "collapsed": false
   },
   "outputs": [
    {
     "name": "stdout",
     "output_type": "stream",
     "text": [
      "(17142, 10)\n",
      "(15000, 10)\n",
      "(13333, 10)\n"
     ]
    }
   ],
   "source": [
    "for ds in distributed_datasets:\n",
    "    print(ds.y_train.shape)"
   ]
  },
  {
   "cell_type": "code",
   "execution_count": 1,
   "id": "be5bf7739cb4f3f4",
   "metadata": {
    "ExecuteTime": {
     "end_time": "2024-02-29T09:01:32.986592Z",
     "start_time": "2024-02-29T09:01:29.230012Z"
    },
    "collapsed": false
   },
   "outputs": [
    {
     "name": "stderr",
     "output_type": "stream",
     "text": [
      "2024-02-29 10:01:29.508875: I tensorflow/tsl/cuda/cudart_stub.cc:28] Could not find cuda drivers on your machine, GPU will not be used.\n",
      "2024-02-29 10:01:29.571705: E tensorflow/compiler/xla/stream_executor/cuda/cuda_dnn.cc:9342] Unable to register cuDNN factory: Attempting to register factory for plugin cuDNN when one has already been registered\n",
      "2024-02-29 10:01:29.571745: E tensorflow/compiler/xla/stream_executor/cuda/cuda_fft.cc:609] Unable to register cuFFT factory: Attempting to register factory for plugin cuFFT when one has already been registered\n",
      "2024-02-29 10:01:29.571788: E tensorflow/compiler/xla/stream_executor/cuda/cuda_blas.cc:1518] Unable to register cuBLAS factory: Attempting to register factory for plugin cuBLAS when one has already been registered\n",
      "2024-02-29 10:01:29.583407: I tensorflow/tsl/cuda/cudart_stub.cc:28] Could not find cuda drivers on your machine, GPU will not be used.\n",
      "2024-02-29 10:01:29.584408: I tensorflow/core/platform/cpu_feature_guard.cc:182] This TensorFlow binary is optimized to use available CPU instructions in performance-critical operations.\n",
      "To enable the following instructions: AVX2 FMA, in other operations, rebuild TensorFlow with the appropriate compiler flags.\n",
      "2024-02-29 10:01:30.854141: W tensorflow/compiler/tf2tensorrt/utils/py_utils.cc:38] TF-TRT Warning: Could not find TensorRT\n"
     ]
    }
   ],
   "source": [
    "from cifar_functions import get_distributed_cifar_sets, get_cifar_input_set\n",
    "from common.functions import train_shadow_models"
   ]
  },
  {
   "cell_type": "code",
   "execution_count": 2,
   "id": "84840cc302a65282",
   "metadata": {
    "ExecuteTime": {
     "end_time": "2024-02-29T09:02:16.394393Z",
     "start_time": "2024-02-29T09:01:57.256853Z"
    },
    "collapsed": false
   },
   "outputs": [
    {
     "name": "stdout",
     "output_type": "stream",
     "text": [
      "now computing dist 0.1\n"
     ]
    }
   ],
   "source": [
    "base_path = \"cifar\"  # for saving models and output data\n",
    "test_run = True\n",
    "n_shadow_models = 2\n",
    "distributions = [0.1]#, 0.2, 0.3, 0.4, 0.5, 0.6, 0.7, 0.8, 0.9]\n",
    "save_models = False\n",
    "input_shape = (32, 32, 3)\n",
    "num_classes = 10\n",
    "model_input = get_cifar_input_set()\n",
    "distributed_datasets = get_distributed_cifar_sets(distributions=distributions)"
   ]
  },
  {
   "cell_type": "code",
   "execution_count": 4,
   "id": "3888e5cd1cf66c77",
   "metadata": {
    "ExecuteTime": {
     "end_time": "2024-02-29T09:05:32.069313Z",
     "start_time": "2024-02-29T09:03:46.488529Z"
    },
    "collapsed": false
   },
   "outputs": [],
   "source": [
    "from common.functions import generate_shadow_model_outputs\n",
    "ds = distributed_datasets[0]\n",
    "load_model_path = f\"{base_path}/models/shadow_models/{str(ds.distribution)}/{'test' if test_run else 'train'}/\"\n",
    "\n",
    "save_model_path = None\n",
    "outputs = generate_shadow_model_outputs(ds, model_input, load_model_path, save_model_path, n_shadow_models=n_shadow_models, use_test_data=test_run, input_shape=input_shape, num_classes=num_classes)\n"
   ]
  },
  {
   "cell_type": "code",
   "execution_count": 5,
   "id": "4ed45e7f3a41fc63",
   "metadata": {
    "ExecuteTime": {
     "end_time": "2024-02-29T09:05:32.081285Z",
     "start_time": "2024-02-29T09:05:32.072389Z"
    },
    "collapsed": false
   },
   "outputs": [
    {
     "data": {
      "text/plain": [
       "(2, 16200)"
      ]
     },
     "execution_count": 5,
     "metadata": {},
     "output_type": "execute_result"
    }
   ],
   "source": [
    "outputs.shape\n",
    "#adv_df = pd.DataFrame(outputs)"
   ]
  },
  {
   "cell_type": "markdown",
   "id": "683dfec6620d299",
   "metadata": {
    "collapsed": false
   },
   "source": [
    "# Adversary"
   ]
  },
  {
   "cell_type": "code",
   "execution_count": 1,
   "id": "13a5060a999c4cdb",
   "metadata": {
    "ExecuteTime": {
     "end_time": "2024-03-04T16:43:30.483998Z",
     "start_time": "2024-03-04T16:42:50.593264Z"
    },
    "collapsed": false
   },
   "outputs": [],
   "source": [
    "import pandas as pd\n",
    "\n",
    "dists = [0.1, 0.2, 0.3, 0.4, 0.5, 0.6, 0.7, 0.8, 0.9]\n",
    "\n",
    "adv_train = pd.concat([pd.read_csv(f\"cifar/data/shadow_model_outputs/{dist}/train.csv\") for dist in dists])\n",
    "adv_test = pd.concat([pd.read_csv(f\"cifar/data/shadow_model_outputs/{dist}/test.csv\") for dist in dists])"
   ]
  },
  {
   "cell_type": "code",
   "execution_count": 2,
   "id": "84751ffe4fa36d31",
   "metadata": {
    "ExecuteTime": {
     "end_time": "2024-03-04T16:43:30.954582Z",
     "start_time": "2024-03-04T16:43:30.486661Z"
    },
    "collapsed": false
   },
   "outputs": [],
   "source": [
    "adv_y = adv_train[\"y\"]\n",
    "adv_X = adv_train.drop(columns=[\"y\"])\n",
    "adv_y_test = adv_test[\"y\"]\n",
    "adv_X_test = adv_test.drop(columns=[\"y\"])"
   ]
  },
  {
   "cell_type": "code",
   "execution_count": 9,
   "id": "51db4959138935db",
   "metadata": {
    "ExecuteTime": {
     "end_time": "2024-03-04T16:50:18.594767Z",
     "start_time": "2024-03-04T16:50:18.588952Z"
    },
    "collapsed": false
   },
   "outputs": [
    {
     "data": {
      "text/plain": [
       "(1800, 16201)"
      ]
     },
     "execution_count": 9,
     "metadata": {},
     "output_type": "execute_result"
    }
   ],
   "source": [
    "adv_train.shape"
   ]
  },
  {
   "cell_type": "code",
   "execution_count": 20,
   "id": "fa05ec4e5e63e399",
   "metadata": {
    "ExecuteTime": {
     "end_time": "2024-03-04T17:22:31.501726Z",
     "start_time": "2024-03-04T16:55:44.241054Z"
    },
    "collapsed": false
   },
   "outputs": [
    {
     "data": {
      "text/html": [
       "<style>#sk-container-id-1 {color: black;background-color: white;}#sk-container-id-1 pre{padding: 0;}#sk-container-id-1 div.sk-toggleable {background-color: white;}#sk-container-id-1 label.sk-toggleable__label {cursor: pointer;display: block;width: 100%;margin-bottom: 0;padding: 0.3em;box-sizing: border-box;text-align: center;}#sk-container-id-1 label.sk-toggleable__label-arrow:before {content: \"▸\";float: left;margin-right: 0.25em;color: #696969;}#sk-container-id-1 label.sk-toggleable__label-arrow:hover:before {color: black;}#sk-container-id-1 div.sk-estimator:hover label.sk-toggleable__label-arrow:before {color: black;}#sk-container-id-1 div.sk-toggleable__content {max-height: 0;max-width: 0;overflow: hidden;text-align: left;background-color: #f0f8ff;}#sk-container-id-1 div.sk-toggleable__content pre {margin: 0.2em;color: black;border-radius: 0.25em;background-color: #f0f8ff;}#sk-container-id-1 input.sk-toggleable__control:checked~div.sk-toggleable__content {max-height: 200px;max-width: 100%;overflow: auto;}#sk-container-id-1 input.sk-toggleable__control:checked~label.sk-toggleable__label-arrow:before {content: \"▾\";}#sk-container-id-1 div.sk-estimator input.sk-toggleable__control:checked~label.sk-toggleable__label {background-color: #d4ebff;}#sk-container-id-1 div.sk-label input.sk-toggleable__control:checked~label.sk-toggleable__label {background-color: #d4ebff;}#sk-container-id-1 input.sk-hidden--visually {border: 0;clip: rect(1px 1px 1px 1px);clip: rect(1px, 1px, 1px, 1px);height: 1px;margin: -1px;overflow: hidden;padding: 0;position: absolute;width: 1px;}#sk-container-id-1 div.sk-estimator {font-family: monospace;background-color: #f0f8ff;border: 1px dotted black;border-radius: 0.25em;box-sizing: border-box;margin-bottom: 0.5em;}#sk-container-id-1 div.sk-estimator:hover {background-color: #d4ebff;}#sk-container-id-1 div.sk-parallel-item::after {content: \"\";width: 100%;border-bottom: 1px solid gray;flex-grow: 1;}#sk-container-id-1 div.sk-label:hover label.sk-toggleable__label {background-color: #d4ebff;}#sk-container-id-1 div.sk-serial::before {content: \"\";position: absolute;border-left: 1px solid gray;box-sizing: border-box;top: 0;bottom: 0;left: 50%;z-index: 0;}#sk-container-id-1 div.sk-serial {display: flex;flex-direction: column;align-items: center;background-color: white;padding-right: 0.2em;padding-left: 0.2em;position: relative;}#sk-container-id-1 div.sk-item {position: relative;z-index: 1;}#sk-container-id-1 div.sk-parallel {display: flex;align-items: stretch;justify-content: center;background-color: white;position: relative;}#sk-container-id-1 div.sk-item::before, #sk-container-id-1 div.sk-parallel-item::before {content: \"\";position: absolute;border-left: 1px solid gray;box-sizing: border-box;top: 0;bottom: 0;left: 50%;z-index: -1;}#sk-container-id-1 div.sk-parallel-item {display: flex;flex-direction: column;z-index: 1;position: relative;background-color: white;}#sk-container-id-1 div.sk-parallel-item:first-child::after {align-self: flex-end;width: 50%;}#sk-container-id-1 div.sk-parallel-item:last-child::after {align-self: flex-start;width: 50%;}#sk-container-id-1 div.sk-parallel-item:only-child::after {width: 0;}#sk-container-id-1 div.sk-dashed-wrapped {border: 1px dashed gray;margin: 0 0.4em 0.5em 0.4em;box-sizing: border-box;padding-bottom: 0.4em;background-color: white;}#sk-container-id-1 div.sk-label label {font-family: monospace;font-weight: bold;display: inline-block;line-height: 1.2em;}#sk-container-id-1 div.sk-label-container {text-align: center;}#sk-container-id-1 div.sk-container {/* jupyter's `normalize.less` sets `[hidden] { display: none; }` but bootstrap.min.css set `[hidden] { display: none !important; }` so we also need the `!important` here to be able to override the default hidden behavior on the sphinx rendered scikit-learn.org. See: https://github.com/scikit-learn/scikit-learn/issues/21755 */display: inline-block !important;position: relative;}#sk-container-id-1 div.sk-text-repr-fallback {display: none;}</style><div id=\"sk-container-id-1\" class=\"sk-top-container\"><div class=\"sk-text-repr-fallback\"><pre>RandomForestRegressor(max_depth=10, random_state=0)</pre><b>In a Jupyter environment, please rerun this cell to show the HTML representation or trust the notebook. <br />On GitHub, the HTML representation is unable to render, please try loading this page with nbviewer.org.</b></div><div class=\"sk-container\" hidden><div class=\"sk-item\"><div class=\"sk-estimator sk-toggleable\"><input class=\"sk-toggleable__control sk-hidden--visually\" id=\"sk-estimator-id-1\" type=\"checkbox\" checked><label for=\"sk-estimator-id-1\" class=\"sk-toggleable__label sk-toggleable__label-arrow\">RandomForestRegressor</label><div class=\"sk-toggleable__content\"><pre>RandomForestRegressor(max_depth=10, random_state=0)</pre></div></div></div></div></div>"
      ],
      "text/plain": [
       "RandomForestRegressor(max_depth=10, random_state=0)"
      ]
     },
     "execution_count": 20,
     "metadata": {},
     "output_type": "execute_result"
    }
   ],
   "source": [
    "from sklearn.ensemble import RandomForestRegressor\n",
    "\n",
    "adv_regressor = RandomForestRegressor(n_estimators=100, max_depth=10, random_state=0)\n",
    "adv_regressor.fit(adv_X, adv_y)"
   ]
  },
  {
   "cell_type": "code",
   "execution_count": 21,
   "id": "c90f44a6f9b4a4e2",
   "metadata": {
    "ExecuteTime": {
     "end_time": "2024-03-04T17:22:31.871318Z",
     "start_time": "2024-03-04T17:22:31.505964Z"
    },
    "collapsed": false
   },
   "outputs": [
    {
     "data": {
      "text/plain": [
       "-0.10714509494162217"
      ]
     },
     "execution_count": 21,
     "metadata": {},
     "output_type": "execute_result"
    }
   ],
   "source": [
    "adv_regressor.score(adv_X_test, adv_y_test)"
   ]
  },
  {
   "cell_type": "code",
   "execution_count": 18,
   "id": "26a0820d6dac46a5",
   "metadata": {
    "ExecuteTime": {
     "end_time": "2024-03-04T16:54:16.207310Z",
     "start_time": "2024-03-04T16:54:16.152254Z"
    },
    "collapsed": false
   },
   "outputs": [],
   "source": [
    "import keras\n",
    "\n",
    "manual_adversary = keras.Sequential()\n",
    "manual_adversary.add(keras.Input(shape=(adv_X.shape[1],)))\n",
    "manual_adversary.add(keras.layers.Dense(64))#, activation='relu'))\n",
    "manual_adversary.add(keras.layers.Dense(32))#, activation='relu'))\n",
    "manual_adversary.add(keras.layers.Dense(1))\n",
    "manual_adversary.compile(optimizer=keras.optimizers.Adam(), loss=keras.losses.MeanSquaredError(), metrics=[keras.metrics.R2Score()])"
   ]
  },
  {
   "cell_type": "code",
   "execution_count": 19,
   "id": "aa29e36d1d596223",
   "metadata": {
    "ExecuteTime": {
     "end_time": "2024-03-04T16:54:42.211828Z",
     "start_time": "2024-03-04T16:54:16.660859Z"
    },
    "collapsed": false
   },
   "outputs": [
    {
     "name": "stdout",
     "output_type": "stream",
     "text": [
      "Epoch 1/200\n",
      "57/57 [==============================] - 3s 32ms/step - loss: 16.3530 - r2_score: -244.2953 - val_loss: 0.4411 - val_r2_score: -5.6167\n",
      "Epoch 2/200\n",
      "57/57 [==============================] - 1s 9ms/step - loss: 0.1190 - r2_score: -0.7847 - val_loss: 0.0863 - val_r2_score: -0.2951\n",
      "Epoch 3/200\n",
      "57/57 [==============================] - 1s 9ms/step - loss: 0.0643 - r2_score: 0.0362 - val_loss: 0.0819 - val_r2_score: -0.2283\n",
      "Epoch 4/200\n",
      "57/57 [==============================] - 0s 9ms/step - loss: 0.0460 - r2_score: 0.3098 - val_loss: 0.0784 - val_r2_score: -0.1766\n",
      "Epoch 5/200\n",
      "57/57 [==============================] - 1s 9ms/step - loss: 0.0359 - r2_score: 0.4612 - val_loss: 0.0780 - val_r2_score: -0.1700\n",
      "Epoch 6/200\n",
      "57/57 [==============================] - 0s 7ms/step - loss: 0.0278 - r2_score: 0.5823 - val_loss: 0.0886 - val_r2_score: -0.3287\n",
      "Epoch 7/200\n",
      "57/57 [==============================] - 0s 7ms/step - loss: 0.0221 - r2_score: 0.6681 - val_loss: 0.0788 - val_r2_score: -0.1827\n",
      "Epoch 8/200\n",
      "57/57 [==============================] - 0s 9ms/step - loss: 0.0173 - r2_score: 0.7411 - val_loss: 0.0732 - val_r2_score: -0.0982\n",
      "Epoch 9/200\n",
      "57/57 [==============================] - 0s 8ms/step - loss: 0.0133 - r2_score: 0.8012 - val_loss: 0.0764 - val_r2_score: -0.1457\n",
      "Epoch 10/200\n",
      "57/57 [==============================] - 1s 20ms/step - loss: 0.0108 - r2_score: 0.8385 - val_loss: 0.0715 - val_r2_score: -0.0727\n",
      "Epoch 11/200\n",
      "57/57 [==============================] - 1s 9ms/step - loss: 0.0089 - r2_score: 0.8670 - val_loss: 0.0710 - val_r2_score: -0.0648\n",
      "Epoch 12/200\n",
      "57/57 [==============================] - 0s 7ms/step - loss: 0.0074 - r2_score: 0.8889 - val_loss: 0.0712 - val_r2_score: -0.0682\n",
      "Epoch 13/200\n",
      "57/57 [==============================] - 0s 8ms/step - loss: 0.0055 - r2_score: 0.9170 - val_loss: 0.0747 - val_r2_score: -0.1211\n",
      "Epoch 14/200\n",
      "57/57 [==============================] - 0s 7ms/step - loss: 0.0046 - r2_score: 0.9315 - val_loss: 0.0729 - val_r2_score: -0.0937\n",
      "Epoch 15/200\n",
      "57/57 [==============================] - 0s 8ms/step - loss: 0.0033 - r2_score: 0.9499 - val_loss: 0.0733 - val_r2_score: -0.0989\n",
      "Epoch 16/200\n",
      "57/57 [==============================] - 0s 8ms/step - loss: 0.0026 - r2_score: 0.9615 - val_loss: 0.0713 - val_r2_score: -0.0700\n",
      "Epoch 17/200\n",
      "57/57 [==============================] - 0s 7ms/step - loss: 0.0023 - r2_score: 0.9654 - val_loss: 0.0724 - val_r2_score: -0.0853\n",
      "Epoch 18/200\n",
      "57/57 [==============================] - 0s 8ms/step - loss: 0.0018 - r2_score: 0.9724 - val_loss: 0.0747 - val_r2_score: -0.1203\n",
      "Epoch 19/200\n",
      "57/57 [==============================] - 0s 8ms/step - loss: 0.0013 - r2_score: 0.9798 - val_loss: 0.0722 - val_r2_score: -0.0830\n",
      "Epoch 20/200\n",
      "57/57 [==============================] - 1s 15ms/step - loss: 0.0011 - r2_score: 0.9832 - val_loss: 0.0709 - val_r2_score: -0.0639\n",
      "Epoch 21/200\n",
      "57/57 [==============================] - 0s 8ms/step - loss: 9.2119e-04 - r2_score: 0.9862 - val_loss: 0.0752 - val_r2_score: -0.1283\n",
      "Epoch 22/200\n",
      "57/57 [==============================] - 0s 8ms/step - loss: 7.1469e-04 - r2_score: 0.9893 - val_loss: 0.0731 - val_r2_score: -0.0970\n",
      "Epoch 23/200\n",
      "57/57 [==============================] - 0s 8ms/step - loss: 5.6180e-04 - r2_score: 0.9916 - val_loss: 0.0723 - val_r2_score: -0.0846\n",
      "Epoch 24/200\n",
      "57/57 [==============================] - 0s 8ms/step - loss: 4.2885e-04 - r2_score: 0.9936 - val_loss: 0.0721 - val_r2_score: -0.0813\n",
      "Epoch 25/200\n",
      "57/57 [==============================] - 0s 7ms/step - loss: 3.4258e-04 - r2_score: 0.9949 - val_loss: 0.0721 - val_r2_score: -0.0820\n",
      "Epoch 26/200\n",
      "57/57 [==============================] - 0s 7ms/step - loss: 2.5079e-04 - r2_score: 0.9962 - val_loss: 0.0718 - val_r2_score: -0.0763\n",
      "Epoch 27/200\n",
      "57/57 [==============================] - 0s 7ms/step - loss: 2.0216e-04 - r2_score: 0.9970 - val_loss: 0.0714 - val_r2_score: -0.0716\n",
      "Epoch 28/200\n",
      "57/57 [==============================] - 0s 9ms/step - loss: 1.6884e-04 - r2_score: 0.9975 - val_loss: 0.0706 - val_r2_score: -0.0587\n",
      "Epoch 29/200\n",
      "57/57 [==============================] - 0s 7ms/step - loss: 1.5618e-04 - r2_score: 0.9977 - val_loss: 0.0720 - val_r2_score: -0.0805\n",
      "Epoch 30/200\n",
      "57/57 [==============================] - 0s 8ms/step - loss: 1.0789e-04 - r2_score: 0.9984 - val_loss: 0.0724 - val_r2_score: -0.0853\n",
      "Epoch 31/200\n",
      "57/57 [==============================] - 0s 8ms/step - loss: 7.3117e-05 - r2_score: 0.9989 - val_loss: 0.0713 - val_r2_score: -0.0694\n",
      "Epoch 32/200\n",
      "57/57 [==============================] - 0s 8ms/step - loss: 6.4840e-05 - r2_score: 0.9990 - val_loss: 0.0721 - val_r2_score: -0.0822\n",
      "Epoch 33/200\n",
      "57/57 [==============================] - 0s 7ms/step - loss: 4.6969e-05 - r2_score: 0.9993 - val_loss: 0.0718 - val_r2_score: -0.0776\n",
      "Epoch 34/200\n",
      "57/57 [==============================] - 0s 8ms/step - loss: 3.2907e-05 - r2_score: 0.9995 - val_loss: 0.0723 - val_r2_score: -0.0841\n",
      "Epoch 35/200\n",
      "57/57 [==============================] - 0s 7ms/step - loss: 2.8042e-05 - r2_score: 0.9996 - val_loss: 0.0718 - val_r2_score: -0.0763\n",
      "Epoch 36/200\n",
      "57/57 [==============================] - 0s 8ms/step - loss: 2.1684e-05 - r2_score: 0.9997 - val_loss: 0.0716 - val_r2_score: -0.0739\n",
      "Epoch 37/200\n",
      "57/57 [==============================] - 0s 8ms/step - loss: 1.2717e-05 - r2_score: 0.9998 - val_loss: 0.0719 - val_r2_score: -0.0788\n",
      "Epoch 38/200\n",
      "57/57 [==============================] - 0s 7ms/step - loss: 9.1864e-06 - r2_score: 0.9999 - val_loss: 0.0721 - val_r2_score: -0.0815\n",
      "Epoch 39/200\n",
      "57/57 [==============================] - 0s 8ms/step - loss: 9.4977e-06 - r2_score: 0.9999 - val_loss: 0.0718 - val_r2_score: -0.0772\n",
      "Epoch 40/200\n",
      "57/57 [==============================] - 0s 8ms/step - loss: 6.1155e-06 - r2_score: 0.9999 - val_loss: 0.0718 - val_r2_score: -0.0772\n",
      "Epoch 41/200\n",
      "57/57 [==============================] - 0s 7ms/step - loss: 3.4278e-06 - r2_score: 0.9999 - val_loss: 0.0719 - val_r2_score: -0.0787\n",
      "Epoch 42/200\n",
      "57/57 [==============================] - 0s 7ms/step - loss: 2.3912e-06 - r2_score: 1.0000 - val_loss: 0.0716 - val_r2_score: -0.0747\n",
      "Epoch 43/200\n",
      "57/57 [==============================] - 0s 8ms/step - loss: 1.9515e-06 - r2_score: 1.0000 - val_loss: 0.0717 - val_r2_score: -0.0762\n",
      "Epoch 44/200\n",
      "57/57 [==============================] - 0s 7ms/step - loss: 1.2657e-06 - r2_score: 1.0000 - val_loss: 0.0718 - val_r2_score: -0.0771\n",
      "Epoch 45/200\n",
      "57/57 [==============================] - 0s 7ms/step - loss: 8.2690e-07 - r2_score: 1.0000 - val_loss: 0.0717 - val_r2_score: -0.0759\n",
      "Epoch 46/200\n",
      "57/57 [==============================] - 0s 7ms/step - loss: 6.9549e-07 - r2_score: 1.0000 - val_loss: 0.0719 - val_r2_score: -0.0778\n",
      "Epoch 47/200\n",
      "57/57 [==============================] - 0s 7ms/step - loss: 3.8566e-07 - r2_score: 1.0000 - val_loss: 0.0719 - val_r2_score: -0.0779\n",
      "Epoch 48/200\n",
      "57/57 [==============================] - 0s 8ms/step - loss: 3.7441e-07 - r2_score: 1.0000 - val_loss: 0.0717 - val_r2_score: -0.0762\n",
      "Epoch 48: early stopping\n"
     ]
    }
   ],
   "source": [
    "checkpoint_filepath = \"cifar/models/manual_tuning_checkpoints/keras.weights.h5\"\n",
    "\n",
    "\n",
    "history = manual_adversary.fit(\n",
    "    adv_X,\n",
    "    adv_y,\n",
    "    epochs=200,\n",
    "    validation_data=(adv_X_test, adv_y_test),\n",
    "    callbacks=[\n",
    "        keras.callbacks.EarlyStopping('val_r2_score', mode='max', patience=20, verbose=1),\n",
    "        keras.callbacks.ModelCheckpoint(\n",
    "            filepath=checkpoint_filepath,\n",
    "            save_weights_only=True,\n",
    "            monitor='val_r2_score',\n",
    "            mode='max',\n",
    "            save_best_only=True)\n",
    "    ])"
   ]
  },
  {
   "cell_type": "code",
   "execution_count": 15,
   "id": "d58b6ceca2269ba4",
   "metadata": {
    "ExecuteTime": {
     "end_time": "2024-03-04T16:52:41.966845Z",
     "start_time": "2024-03-04T16:52:41.330380Z"
    },
    "collapsed": false
   },
   "outputs": [
    {
     "data": {
      "image/png": "[encoded data removed]",
      "text/plain": [
       "<Figure size 1200x600 with 2 Axes>"
      ]
     },
     "metadata": {},
     "output_type": "display_data"
    }
   ],
   "source": [
    "plot_history(history)"
   ]
  },
  {
   "cell_type": "code",
   "execution_count": 7,
   "id": "100fc2f3c66f1f24",
   "metadata": {
    "ExecuteTime": {
     "end_time": "2024-03-04T16:46:33.001256Z",
     "start_time": "2024-03-04T16:46:31.795102Z"
    },
    "collapsed": false
   },
   "outputs": [],
   "source": [
    "import matplotlib.pyplot as plt\n",
    "def plot_history(history, dist=None):\n",
    "    plt.figure(figsize=(12, 6))\n",
    "    plt.subplot(1, 2, 1)\n",
    "    plt.plot(history.history['r2_score'][1:])\n",
    "    plt.plot(history.history['val_r2_score'][1:])\n",
    "    plt.title(f'Model r2 score ({\"\" if dist == None else dist*100}% old)')\n",
    "    plt.ylabel('R2 Score')\n",
    "    plt.xlabel('Epoch')\n",
    "    plt.legend(['Train', 'Test'], loc='upper left')\n",
    "\n",
    "    # Plot training & validation loss values\n",
    "    plt.subplot(1, 2, 2)\n",
    "    plt.plot(history.history['loss'][1:])\n",
    "    plt.plot(history.history['val_loss'][1:])\n",
    "    plt.title('Model loss')\n",
    "    plt.ylabel('Loss')\n",
    "    plt.xlabel('Epoch')\n",
    "    plt.legend(['Train', 'Test'], loc='upper left')\n",
    "    plt.tight_layout()"
   ]
  },
  {
   "cell_type": "code",
   "id": "f67226fbed02ea07",
   "metadata": {
    "collapsed": false
   },
   "outputs": [],
   "source": []
  },
  {
   "cell_type": "code",
   "id": "9adcf4f9ebd0c4da",
   "metadata": {
    "collapsed": false
   },
   "outputs": [],
   "source": []
  }
 ],
 "metadata": {
  "kernelspec": {
   "display_name": "pia-tf",
   "language": "python",
   "name": "pia-tf"
  },
  "language_info": {
   "codemirror_mode": {
    "name": "ipython",
    "version": 3
   },
   "file_extension": ".py",
   "mimetype": "text/x-python",
   "name": "python",
   "nbconvert_exporter": "python",
   "pygments_lexer": "ipython3",
   "version": "3.10.9"
  }
 },
 "nbformat": 4,
 "nbformat_minor": 5
}
