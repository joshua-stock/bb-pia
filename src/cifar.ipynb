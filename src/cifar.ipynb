{
 "cells": [
  {
   "cell_type": "code",
   "execution_count": 1,
   "id": "initial_id",
   "metadata": {
    "ExecuteTime": {
     "end_time": "2024-02-26T17:06:01.949829Z",
     "start_time": "2024-02-26T17:05:51.535902Z"
    },
    "collapsed": true,
    "jupyter": {
     "outputs_hidden": true
    }
   },
   "outputs": [
    {
     "name": "stderr",
     "output_type": "stream",
     "text": [
      "2024-02-26 17:05:52.171961: E external/local_xla/xla/stream_executor/cuda/cuda_dnn.cc:9261] Unable to register cuDNN factory: Attempting to register factory for plugin cuDNN when one has already been registered\n",
      "2024-02-26 17:05:52.172045: E external/local_xla/xla/stream_executor/cuda/cuda_fft.cc:607] Unable to register cuFFT factory: Attempting to register factory for plugin cuFFT when one has already been registered\n",
      "2024-02-26 17:05:52.196270: E external/local_xla/xla/stream_executor/cuda/cuda_blas.cc:1515] Unable to register cuBLAS factory: Attempting to register factory for plugin cuBLAS when one has already been registered\n",
      "2024-02-26 17:05:52.245218: I tensorflow/core/platform/cpu_feature_guard.cc:182] This TensorFlow binary is optimized to use available CPU instructions in performance-critical operations.\n",
      "To enable the following instructions: AVX2 FMA, in other operations, rebuild TensorFlow with the appropriate compiler flags.\n",
      "2024-02-26 17:05:53.086946: W tensorflow/compiler/tf2tensorrt/utils/py_utils.cc:38] TF-TRT Warning: Could not find TensorRT\n"
     ]
    }
   ],
   "source": [
    "import numpy as np\n",
    "\n",
    "from cifar_functions import *\n",
    "\n",
    "X_train, X_test, Y_train, Y_test, sensitive, sensitive_t = data_train_test_cifar()"
   ]
  },
  {
   "cell_type": "code",
   "execution_count": 8,
   "id": "9dacf402c25e0aa6",
   "metadata": {
    "ExecuteTime": {
     "end_time": "2024-03-13T08:31:20.242543Z",
     "start_time": "2024-03-13T08:31:19.825307Z"
    },
    "collapsed": false
   },
   "outputs": [],
   "source": [
    "import matplotlib.pyplot as plt\n",
    "\n",
    "def plot_history(history, dist=None):\n",
    "    plt.figure(figsize=(12, 6))\n",
    "    plt.subplot(1, 2, 1)\n",
    "    plt.plot(history.history['accuracy'])\n",
    "    plt.plot(history.history['val_accuracy'])\n",
    "    plt.title(f'Model accuracy ({\"\" if dist == None else dist*100}% old)')\n",
    "    plt.ylabel('Accuracy')\n",
    "    plt.xlabel('Epoch')\n",
    "    plt.legend(['Train', 'Test'], loc='upper left')\n",
    "\n",
    "    # Plot training & validation loss values\n",
    "    plt.subplot(1, 2, 2)\n",
    "    plt.plot(history.history['loss'])\n",
    "    plt.plot(history.history['val_loss'])\n",
    "    plt.title('Model loss')\n",
    "    plt.ylabel('Loss')\n",
    "    plt.xlabel('Epoch')\n",
    "    plt.legend(['Train', 'Test'], loc='upper left')\n",
    "    plt.tight_layout()"
   ]
  },
  {
   "cell_type": "code",
   "execution_count": 2,
   "id": "1be3f736898b9ebf",
   "metadata": {
    "ExecuteTime": {
     "end_time": "2024-02-26T17:06:02.040649Z",
     "start_time": "2024-02-26T17:06:01.978975Z"
    },
    "collapsed": false
   },
   "outputs": [
    {
     "data": {
      "text/plain": [
       "(30000, 32, 32, 3)"
      ]
     },
     "execution_count": 2,
     "metadata": {},
     "output_type": "execute_result"
    }
   ],
   "source": [
    "X_train.shape"
   ]
  },
  {
   "cell_type": "code",
   "execution_count": 3,
   "id": "630ce17490f17dd9",
   "metadata": {
    "ExecuteTime": {
     "end_time": "2024-02-26T17:06:03.091757Z",
     "start_time": "2024-02-26T17:06:02.041815Z"
    },
    "collapsed": false
   },
   "outputs": [
    {
     "data": {
      "text/plain": [
       "TensorShape([30000, 10])"
      ]
     },
     "execution_count": 3,
     "metadata": {},
     "output_type": "execute_result"
    }
   ],
   "source": [
    "Y_train.shape"
   ]
  },
  {
   "cell_type": "code",
   "execution_count": 4,
   "id": "992bef9f86e121e7",
   "metadata": {
    "ExecuteTime": {
     "end_time": "2024-02-26T17:06:06.540891Z",
     "start_time": "2024-02-26T17:06:06.532326Z"
    },
    "collapsed": false
   },
   "outputs": [],
   "source": [
    "from common.functions import *"
   ]
  },
  {
   "cell_type": "code",
   "execution_count": 5,
   "id": "134d76ae5c6a9df7",
   "metadata": {
    "ExecuteTime": {
     "end_time": "2024-02-26T17:08:07.573215Z",
     "start_time": "2024-02-26T17:06:06.622749Z"
    },
    "collapsed": false
   },
   "outputs": [
    {
     "name": "stdout",
     "output_type": "stream",
     "text": [
      "Epoch 1/5\n"
     ]
    },
    {
     "name": "stderr",
     "output_type": "stream",
     "text": [
      "2024-02-26 17:06:09.354141: W external/local_tsl/tsl/framework/cpu_allocator_impl.cc:83] Allocation of 368640000 exceeds 10% of free system memory.\n"
     ]
    },
    {
     "name": "stdout",
     "output_type": "stream",
     "text": [
      "\u001b[1m935/938\u001b[0m \u001b[32m━━━━━━━━━━━━━━━━━━━\u001b[0m\u001b[37m━\u001b[0m \u001b[1m0s\u001b[0m 18ms/step - accuracy: 0.4253 - loss: 1.6644"
     ]
    },
    {
     "name": "stderr",
     "output_type": "stream",
     "text": [
      "2024-02-26 17:06:33.255240: W external/local_tsl/tsl/framework/cpu_allocator_impl.cc:83] Allocation of 368640000 exceeds 10% of free system memory.\n"
     ]
    },
    {
     "name": "stdout",
     "output_type": "stream",
     "text": [
      "\u001b[1m938/938\u001b[0m \u001b[32m━━━━━━━━━━━━━━━━━━━━\u001b[0m\u001b[37m\u001b[0m \u001b[1m34s\u001b[0m 34ms/step - accuracy: 0.4256 - loss: 1.6632 - val_accuracy: 0.5999 - val_loss: 1.1248\n",
      "Epoch 2/5\n",
      "\u001b[1m938/938\u001b[0m \u001b[32m━━━━━━━━━━━━━━━━━━━━\u001b[0m\u001b[37m\u001b[0m \u001b[1m22s\u001b[0m 23ms/step - accuracy: 0.6375 - loss: 1.0240 - val_accuracy: 0.6621 - val_loss: 0.9737\n",
      "Epoch 3/5\n",
      "\u001b[1m938/938\u001b[0m \u001b[32m━━━━━━━━━━━━━━━━━━━━\u001b[0m\u001b[37m\u001b[0m \u001b[1m21s\u001b[0m 22ms/step - accuracy: 0.7059 - loss: 0.8482 - val_accuracy: 0.6926 - val_loss: 0.8811\n",
      "Epoch 4/5\n",
      "\u001b[1m938/938\u001b[0m \u001b[32m━━━━━━━━━━━━━━━━━━━━\u001b[0m\u001b[37m\u001b[0m \u001b[1m21s\u001b[0m 22ms/step - accuracy: 0.7444 - loss: 0.7199 - val_accuracy: 0.7015 - val_loss: 0.8693\n",
      "Epoch 5/5\n",
      "\u001b[1m938/938\u001b[0m \u001b[32m━━━━━━━━━━━━━━━━━━━━\u001b[0m\u001b[37m\u001b[0m \u001b[1m21s\u001b[0m 22ms/step - accuracy: 0.7885 - loss: 0.6177 - val_accuracy: 0.7178 - val_loss: 0.8290\n"
     ]
    },
    {
     "data": {
      "text/plain": [
       "(<Sequential name=sequential, built=True>,\n",
       " <keras.src.callbacks.history.History at 0x7f59b14a2e30>)"
      ]
     },
     "execution_count": 5,
     "metadata": {},
     "output_type": "execute_result"
    }
   ],
   "source": [
    "model, history = fit_lucasnet(X_train, Y_train, X_test, Y_test, verbose=1, input_shape=(32, 32, 3), num_classes=10)"
   ]
  },
  {
   "cell_type": "code",
   "execution_count": 8,
   "id": "8342b40f84e9407f",
   "metadata": {
    "ExecuteTime": {
     "end_time": "2024-02-26T16:52:20.380930Z",
     "start_time": "2024-02-26T16:52:20.367671Z"
    },
    "collapsed": false
   },
   "outputs": [
    {
     "data": {
      "text/plain": [
       "<tf.Tensor: shape=(1, 10), dtype=float32, numpy=array([[0., 0., 0., 1., 0., 0., 0., 0., 0., 0.]], dtype=float32)>"
      ]
     },
     "execution_count": 8,
     "metadata": {},
     "output_type": "execute_result"
    }
   ],
   "source": [
    "Y_train[3]"
   ]
  },
  {
   "cell_type": "code",
   "execution_count": 7,
   "id": "a3f0842d32e66716",
   "metadata": {
    "ExecuteTime": {
     "end_time": "2024-02-27T17:27:07.673886Z",
     "start_time": "2024-02-27T17:26:58.672855Z"
    },
    "collapsed": false
   },
   "outputs": [
    {
     "name": "stdout",
     "output_type": "stream",
     "text": [
      "Downloading data from https://www.cs.toronto.edu/~kriz/cifar-100-python.tar.gz\n",
      "\u001b[1m169001437/169001437\u001b[0m \u001b[32m━━━━━━━━━━━━━━━━━━━━\u001b[0m\u001b[37m\u001b[0m \u001b[1m7s\u001b[0m 0us/step\n"
     ]
    }
   ],
   "source": [
    "import keras\n",
    "\n",
    "cifar100 = keras.datasets.cifar100\n",
    "(x_train, y_train), (x_test, y_test) = cifar100.load_data()"
   ]
  },
  {
   "cell_type": "code",
   "execution_count": 8,
   "id": "8c83ca449b41a500",
   "metadata": {
    "ExecuteTime": {
     "end_time": "2024-02-27T17:28:27.750389Z",
     "start_time": "2024-02-27T17:28:27.745757Z"
    },
    "collapsed": false
   },
   "outputs": [
    {
     "data": {
      "text/plain": [
       "(50000, 1)"
      ]
     },
     "execution_count": 8,
     "metadata": {},
     "output_type": "execute_result"
    }
   ],
   "source": [
    "\n",
    "y_train.shape"
   ]
  },
  {
   "cell_type": "code",
   "execution_count": 9,
   "id": "1f57457c38a94fa0",
   "metadata": {
    "ExecuteTime": {
     "end_time": "2024-02-27T17:28:34.791414Z",
     "start_time": "2024-02-27T17:28:34.783665Z"
    },
    "collapsed": false
   },
   "outputs": [
    {
     "data": {
      "text/plain": [
       "array([[19],\n",
       "       [29],\n",
       "       [ 0],\n",
       "       ...,\n",
       "       [ 3],\n",
       "       [ 7],\n",
       "       [73]])"
      ]
     },
     "execution_count": 9,
     "metadata": {},
     "output_type": "execute_result"
    }
   ],
   "source": [
    "y_train"
   ]
  },
  {
   "cell_type": "code",
   "execution_count": 1,
   "id": "519b1940d7a8e748",
   "metadata": {
    "ExecuteTime": {
     "end_time": "2024-02-27T17:47:13.519748Z",
     "start_time": "2024-02-27T17:47:07.824188Z"
    },
    "collapsed": false
   },
   "outputs": [
    {
     "name": "stderr",
     "output_type": "stream",
     "text": [
      "2024-02-27 17:47:08.853590: E external/local_xla/xla/stream_executor/cuda/cuda_dnn.cc:9261] Unable to register cuDNN factory: Attempting to register factory for plugin cuDNN when one has already been registered\n",
      "2024-02-27 17:47:08.853718: E external/local_xla/xla/stream_executor/cuda/cuda_fft.cc:607] Unable to register cuFFT factory: Attempting to register factory for plugin cuFFT when one has already been registered\n",
      "2024-02-27 17:47:08.915711: E external/local_xla/xla/stream_executor/cuda/cuda_blas.cc:1515] Unable to register cuBLAS factory: Attempting to register factory for plugin cuBLAS when one has already been registered\n",
      "2024-02-27 17:47:09.046325: I tensorflow/core/platform/cpu_feature_guard.cc:182] This TensorFlow binary is optimized to use available CPU instructions in performance-critical operations.\n",
      "To enable the following instructions: AVX2 FMA, in other operations, rebuild TensorFlow with the appropriate compiler flags.\n",
      "2024-02-27 17:47:10.102645: W tensorflow/compiler/tf2tensorrt/utils/py_utils.cc:38] TF-TRT Warning: Could not find TensorRT\n"
     ]
    }
   ],
   "source": [
    "from cifar_functions import get_cifar_input_set\n",
    "\n",
    "x, y = get_cifar_input_set()"
   ]
  },
  {
   "cell_type": "code",
   "execution_count": 2,
   "id": "1a6d2e3744216fcd",
   "metadata": {
    "ExecuteTime": {
     "end_time": "2024-02-27T17:47:20.335759Z",
     "start_time": "2024-02-27T17:47:20.329553Z"
    },
    "collapsed": false
   },
   "outputs": [
    {
     "data": {
      "text/plain": [
       "(18000, 32, 32, 3)"
      ]
     },
     "execution_count": 2,
     "metadata": {},
     "output_type": "execute_result"
    }
   ],
   "source": [
    "x.shape"
   ]
  },
  {
   "cell_type": "code",
   "execution_count": 3,
   "id": "2549fc9470291385",
   "metadata": {
    "ExecuteTime": {
     "end_time": "2024-02-27T17:47:23.279683Z",
     "start_time": "2024-02-27T17:47:23.275428Z"
    },
    "collapsed": false
   },
   "outputs": [
    {
     "data": {
      "text/plain": [
       "(18000, 1)"
      ]
     },
     "execution_count": 3,
     "metadata": {},
     "output_type": "execute_result"
    }
   ],
   "source": [
    "y.shape"
   ]
  },
  {
   "cell_type": "code",
   "execution_count": 1,
   "id": "633fea0b9b40dbad",
   "metadata": {
    "ExecuteTime": {
     "end_time": "2024-02-28T10:28:33.917718Z",
     "start_time": "2024-02-28T10:27:49.917714Z"
    },
    "collapsed": false
   },
   "outputs": [
    {
     "name": "stderr",
     "output_type": "stream",
     "text": [
      "2024-02-28 10:27:50.475194: E external/local_xla/xla/stream_executor/cuda/cuda_dnn.cc:9261] Unable to register cuDNN factory: Attempting to register factory for plugin cuDNN when one has already been registered\n",
      "2024-02-28 10:27:50.475259: E external/local_xla/xla/stream_executor/cuda/cuda_fft.cc:607] Unable to register cuFFT factory: Attempting to register factory for plugin cuFFT when one has already been registered\n",
      "2024-02-28 10:27:50.477290: E external/local_xla/xla/stream_executor/cuda/cuda_blas.cc:1515] Unable to register cuBLAS factory: Attempting to register factory for plugin cuBLAS when one has already been registered\n",
      "2024-02-28 10:27:50.490027: I tensorflow/core/platform/cpu_feature_guard.cc:182] This TensorFlow binary is optimized to use available CPU instructions in performance-critical operations.\n",
      "To enable the following instructions: AVX2 FMA, in other operations, rebuild TensorFlow with the appropriate compiler flags.\n",
      "2024-02-28 10:27:51.354480: W tensorflow/compiler/tf2tensorrt/utils/py_utils.cc:38] TF-TRT Warning: Could not find TensorRT\n"
     ]
    },
    {
     "name": "stdout",
     "output_type": "stream",
     "text": [
      "now computing dist 0.7\n",
      "now computing dist 0.8\n",
      "now computing dist 0.9\n"
     ]
    }
   ],
   "source": [
    "from cifar_functions import *\n",
    "distributed_datasets = get_distributed_cifar_sets(distributions=[0.7,0.8,0.9])"
   ]
  },
  {
   "cell_type": "code",
   "execution_count": 2,
   "id": "3572f5d6166eabaa",
   "metadata": {
    "ExecuteTime": {
     "end_time": "2024-02-28T10:30:54.089787Z",
     "start_time": "2024-02-28T10:30:54.084098Z"
    },
    "collapsed": false
   },
   "outputs": [
    {
     "name": "stdout",
     "output_type": "stream",
     "text": [
      "(17142, 10)\n",
      "(15000, 10)\n",
      "(13333, 10)\n"
     ]
    }
   ],
   "source": [
    "for ds in distributed_datasets:\n",
    "    print(ds.y_train.shape)"
   ]
  },
  {
   "cell_type": "code",
   "execution_count": 1,
   "id": "be5bf7739cb4f3f4",
   "metadata": {
    "ExecuteTime": {
     "end_time": "2024-02-29T09:01:32.986592Z",
     "start_time": "2024-02-29T09:01:29.230012Z"
    },
    "collapsed": false
   },
   "outputs": [
    {
     "name": "stderr",
     "output_type": "stream",
     "text": [
      "2024-02-29 10:01:29.508875: I tensorflow/tsl/cuda/cudart_stub.cc:28] Could not find cuda drivers on your machine, GPU will not be used.\n",
      "2024-02-29 10:01:29.571705: E tensorflow/compiler/xla/stream_executor/cuda/cuda_dnn.cc:9342] Unable to register cuDNN factory: Attempting to register factory for plugin cuDNN when one has already been registered\n",
      "2024-02-29 10:01:29.571745: E tensorflow/compiler/xla/stream_executor/cuda/cuda_fft.cc:609] Unable to register cuFFT factory: Attempting to register factory for plugin cuFFT when one has already been registered\n",
      "2024-02-29 10:01:29.571788: E tensorflow/compiler/xla/stream_executor/cuda/cuda_blas.cc:1518] Unable to register cuBLAS factory: Attempting to register factory for plugin cuBLAS when one has already been registered\n",
      "2024-02-29 10:01:29.583407: I tensorflow/tsl/cuda/cudart_stub.cc:28] Could not find cuda drivers on your machine, GPU will not be used.\n",
      "2024-02-29 10:01:29.584408: I tensorflow/core/platform/cpu_feature_guard.cc:182] This TensorFlow binary is optimized to use available CPU instructions in performance-critical operations.\n",
      "To enable the following instructions: AVX2 FMA, in other operations, rebuild TensorFlow with the appropriate compiler flags.\n",
      "2024-02-29 10:01:30.854141: W tensorflow/compiler/tf2tensorrt/utils/py_utils.cc:38] TF-TRT Warning: Could not find TensorRT\n"
     ]
    }
   ],
   "source": [
    "from cifar_functions import get_distributed_cifar_sets, get_cifar_input_set\n",
    "from common.functions import train_shadow_models"
   ]
  },
  {
   "cell_type": "code",
   "execution_count": 2,
   "id": "84840cc302a65282",
   "metadata": {
    "ExecuteTime": {
     "end_time": "2024-02-29T09:02:16.394393Z",
     "start_time": "2024-02-29T09:01:57.256853Z"
    },
    "collapsed": false
   },
   "outputs": [
    {
     "name": "stdout",
     "output_type": "stream",
     "text": [
      "now computing dist 0.1\n"
     ]
    }
   ],
   "source": [
    "base_path = \"cifar\"  # for saving models and output data\n",
    "test_run = True\n",
    "n_shadow_models = 2\n",
    "distributions = [0.1]#, 0.2, 0.3, 0.4, 0.5, 0.6, 0.7, 0.8, 0.9]\n",
    "save_models = False\n",
    "input_shape = (32, 32, 3)\n",
    "num_classes = 10\n",
    "model_input = get_cifar_input_set()\n",
    "distributed_datasets = get_distributed_cifar_sets(distributions=distributions)"
   ]
  },
  {
   "cell_type": "code",
   "execution_count": 4,
   "id": "3888e5cd1cf66c77",
   "metadata": {
    "ExecuteTime": {
     "end_time": "2024-02-29T09:05:32.069313Z",
     "start_time": "2024-02-29T09:03:46.488529Z"
    },
    "collapsed": false
   },
   "outputs": [],
   "source": [
    "from common.functions import generate_shadow_model_outputs\n",
    "ds = distributed_datasets[0]\n",
    "load_model_path = f\"{base_path}/models/shadow_models/{str(ds.distribution)}/{'test' if test_run else 'train'}/\"\n",
    "\n",
    "save_model_path = None\n",
    "outputs = generate_shadow_model_outputs(ds, model_input, load_model_path, save_model_path, n_shadow_models=n_shadow_models, use_test_data=test_run, input_shape=input_shape, num_classes=num_classes)\n"
   ]
  },
  {
   "cell_type": "code",
   "execution_count": 5,
   "id": "4ed45e7f3a41fc63",
   "metadata": {
    "ExecuteTime": {
     "end_time": "2024-02-29T09:05:32.081285Z",
     "start_time": "2024-02-29T09:05:32.072389Z"
    },
    "collapsed": false
   },
   "outputs": [
    {
     "data": {
      "text/plain": [
       "(2, 16200)"
      ]
     },
     "execution_count": 5,
     "metadata": {},
     "output_type": "execute_result"
    }
   ],
   "source": [
    "outputs.shape\n",
    "#adv_df = pd.DataFrame(outputs)"
   ]
  },
  {
   "cell_type": "markdown",
   "id": "683dfec6620d299",
   "metadata": {
    "collapsed": false
   },
   "source": [
    "# Adversary"
   ]
  },
  {
   "cell_type": "code",
   "execution_count": 1,
   "id": "13a5060a999c4cdb",
   "metadata": {
    "ExecuteTime": {
     "end_time": "2024-03-13T08:55:27.082633Z",
     "start_time": "2024-03-13T08:54:54.758286Z"
    },
    "collapsed": false
   },
   "outputs": [],
   "source": [
    "import pandas as pd\n",
    "from joblib import Parallel, delayed\n",
    "\n",
    "def load_and_concat(dist):\n",
    "    a = pd.read_csv(f\"cifar/data/shadow_model_outputs/{dist}/train.csv\")\n",
    "    b = pd.read_csv(f\"cifar_new/data/shadow_model_outputs/{dist}/train.csv\")\n",
    "    return pd.concat([a,b])\n",
    "\n",
    "dists = [0.1, 0.2, 0.3, 0.4, 0.5, 0.6, 0.7, 0.8, 0.9]\n",
    "\n",
    "all_train = Parallel(n_jobs=-1)(delayed(load_and_concat)(dist) for dist in dists)\n",
    "adv_train = pd.concat(all_train)\n",
    "\n",
    "adv_test = pd.concat(Parallel(n_jobs=-1)(delayed(pd.read_csv)(f\"cifar_new_new/data/shadow_model_outputs/{dist}/test.csv\") for dist in dists))"
   ]
  },
  {
   "cell_type": "code",
   "execution_count": 2,
   "id": "84751ffe4fa36d31",
   "metadata": {
    "ExecuteTime": {
     "end_time": "2024-03-13T08:55:34.477450Z",
     "start_time": "2024-03-13T08:55:27.121598Z"
    },
    "collapsed": false
   },
   "outputs": [],
   "source": [
    "adv_y = adv_train[\"y\"]\n",
    "adv_X = adv_train.drop(columns=[\"y\"])\n",
    "adv_y_test = adv_test[\"y\"]\n",
    "adv_X_test = adv_test.drop(columns=[\"y\"])"
   ]
  },
  {
   "cell_type": "code",
   "execution_count": 3,
   "id": "51db4959138935db",
   "metadata": {
    "ExecuteTime": {
     "end_time": "2024-03-13T08:55:34.564681Z",
     "start_time": "2024-03-13T08:55:34.498839Z"
    },
    "collapsed": false
   },
   "outputs": [
    {
     "data": {
      "text/plain": [
       "(2700, 45360)"
      ]
     },
     "execution_count": 3,
     "metadata": {},
     "output_type": "execute_result"
    }
   ],
   "source": [
    "adv_X.shape"
   ]
  },
  {
   "cell_type": "code",
   "execution_count": 4,
   "id": "35c981a70ce5fa4e",
   "metadata": {
    "ExecuteTime": {
     "end_time": "2024-03-13T08:55:36.505061Z",
     "start_time": "2024-03-13T08:55:34.568567Z"
    },
    "collapsed": false
   },
   "outputs": [
    {
     "data": {
      "text/plain": [
       "(900, 45360)"
      ]
     },
     "execution_count": 4,
     "metadata": {},
     "output_type": "execute_result"
    }
   ],
   "source": [
    "adv_X_test.shape"
   ]
  },
  {
   "cell_type": "code",
   "execution_count": 11,
   "id": "26a0820d6dac46a5",
   "metadata": {
    "ExecuteTime": {
     "end_time": "2024-03-13T08:32:17.155397Z",
     "start_time": "2024-03-13T08:32:17.086310Z"
    },
    "collapsed": false
   },
   "outputs": [],
   "source": [
    "import keras\n",
    "from keras import regularizers\n",
    "\n",
    "manual_adversary = keras.Sequential()\n",
    "manual_adversary.add(keras.Input(shape=(adv_X.shape[1],)))\n",
    "manual_adversary.add(keras.layers.Dense(8, activation='relu'))#, kernel_regularizer=regularizers.l2(0.01)))\n",
    "#manual_adversary.add(keras.layers.Dropout(0.3))\n",
    "manual_adversary.add(keras.layers.Dense(8, activation='relu'))#, kernel_regularizer=regularizers.l2(0.04)))\n",
    "manual_adversary.add(keras.layers.Dense(1))\n",
    "manual_adversary.compile(optimizer=keras.optimizers.Adam(), loss=keras.losses.MeanSquaredError(), metrics=[keras.metrics.R2Score()])\n",
    "\n"
   ]
  },
  {
   "cell_type": "code",
   "execution_count": 12,
   "id": "aa29e36d1d596223",
   "metadata": {
    "ExecuteTime": {
     "end_time": "2024-03-13T08:32:45.969385Z",
     "start_time": "2024-03-13T08:32:17.222280Z"
    },
    "collapsed": false
   },
   "outputs": [
    {
     "name": "stdout",
     "output_type": "stream",
     "text": [
      "Epoch 1/200\n"
     ]
    },
    {
     "name": "stderr",
     "output_type": "stream",
     "text": [
      "2024-03-13 08:32:25.903609: W external/local_tsl/tsl/framework/cpu_allocator_impl.cc:83] Allocation of 489888000 exceeds 10% of free system memory.\n"
     ]
    },
    {
     "name": "stdout",
     "output_type": "stream",
     "text": [
      "\u001b[1m73/85\u001b[0m \u001b[32m━━━━━━━━━━━━━━━━━\u001b[0m\u001b[37m━━━\u001b[0m \u001b[1m0s\u001b[0m 7ms/step - loss: 0.0884 - r2_score: -0.3285"
     ]
    },
    {
     "name": "stderr",
     "output_type": "stream",
     "text": [
      "2024-03-13 08:32:31.187319: W external/local_tsl/tsl/framework/cpu_allocator_impl.cc:83] Allocation of 163296000 exceeds 10% of free system memory.\n"
     ]
    },
    {
     "name": "stdout",
     "output_type": "stream",
     "text": [
      "\u001b[1m85/85\u001b[0m \u001b[32m━━━━━━━━━━━━━━━━━━━━\u001b[0m\u001b[37m\u001b[0m \u001b[1m5s\u001b[0m 44ms/step - loss: 0.0813 - r2_score: -0.2218 - val_loss: 0.0267 - val_r2_score: 0.6047\n",
      "Epoch 2/200\n",
      "\u001b[1m85/85\u001b[0m \u001b[32m━━━━━━━━━━━━━━━━━━━━\u001b[0m\u001b[37m\u001b[0m \u001b[1m2s\u001b[0m 23ms/step - loss: 0.0104 - r2_score: 0.8473 - val_loss: 0.0273 - val_r2_score: 0.5966\n",
      "Epoch 3/200\n",
      "\u001b[1m85/85\u001b[0m \u001b[32m━━━━━━━━━━━━━━━━━━━━\u001b[0m\u001b[37m\u001b[0m \u001b[1m1s\u001b[0m 8ms/step - loss: 0.0045 - r2_score: 0.9327 - val_loss: 0.0299 - val_r2_score: 0.5692\n",
      "Epoch 4/200\n",
      "\u001b[1m85/85\u001b[0m \u001b[32m━━━━━━━━━━━━━━━━━━━━\u001b[0m\u001b[37m\u001b[0m \u001b[1m0s\u001b[0m 5ms/step - loss: 0.0022 - r2_score: 0.9671 - val_loss: 0.0294 - val_r2_score: 0.5751\n",
      "Epoch 5/200\n",
      "\u001b[1m85/85\u001b[0m \u001b[32m━━━━━━━━━━━━━━━━━━━━\u001b[0m\u001b[37m\u001b[0m \u001b[1m0s\u001b[0m 4ms/step - loss: 0.0011 - r2_score: 0.9828 - val_loss: 0.0307 - val_r2_score: 0.5590\n",
      "Epoch 6/200\n",
      "\u001b[1m85/85\u001b[0m \u001b[32m━━━━━━━━━━━━━━━━━━━━\u001b[0m\u001b[37m\u001b[0m \u001b[1m0s\u001b[0m 4ms/step - loss: 6.2133e-04 - r2_score: 0.9906 - val_loss: 0.0311 - val_r2_score: 0.5521\n",
      "Epoch 7/200\n",
      "\u001b[1m85/85\u001b[0m \u001b[32m━━━━━━━━━━━━━━━━━━━━\u001b[0m\u001b[37m\u001b[0m \u001b[1m0s\u001b[0m 6ms/step - loss: 3.7321e-04 - r2_score: 0.9944 - val_loss: 0.0310 - val_r2_score: 0.5513\n",
      "Epoch 8/200\n",
      "\u001b[1m85/85\u001b[0m \u001b[32m━━━━━━━━━━━━━━━━━━━━\u001b[0m\u001b[37m\u001b[0m \u001b[1m0s\u001b[0m 5ms/step - loss: 2.4162e-04 - r2_score: 0.9963 - val_loss: 0.0316 - val_r2_score: 0.5462\n",
      "Epoch 9/200\n",
      "\u001b[1m85/85\u001b[0m \u001b[32m━━━━━━━━━━━━━━━━━━━━\u001b[0m\u001b[37m\u001b[0m \u001b[1m0s\u001b[0m 5ms/step - loss: 9.9417e-05 - r2_score: 0.9985 - val_loss: 0.0310 - val_r2_score: 0.5527\n",
      "Epoch 10/200\n",
      "\u001b[1m85/85\u001b[0m \u001b[32m━━━━━━━━━━━━━━━━━━━━\u001b[0m\u001b[37m\u001b[0m \u001b[1m0s\u001b[0m 5ms/step - loss: 9.9738e-05 - r2_score: 0.9984 - val_loss: 0.0315 - val_r2_score: 0.5472\n",
      "Epoch 11/200\n",
      "\u001b[1m85/85\u001b[0m \u001b[32m━━━━━━━━━━━━━━━━━━━━\u001b[0m\u001b[37m\u001b[0m \u001b[1m1s\u001b[0m 6ms/step - loss: 4.4161e-05 - r2_score: 0.9993 - val_loss: 0.0317 - val_r2_score: 0.5461\n",
      "Epoch 12/200\n",
      "\u001b[1m85/85\u001b[0m \u001b[32m━━━━━━━━━━━━━━━━━━━━\u001b[0m\u001b[37m\u001b[0m \u001b[1m1s\u001b[0m 15ms/step - loss: 1.8075e-05 - r2_score: 0.9997 - val_loss: 0.0315 - val_r2_score: 0.5473\n",
      "Epoch 13/200\n",
      "\u001b[1m85/85\u001b[0m \u001b[32m━━━━━━━━━━━━━━━━━━━━\u001b[0m\u001b[37m\u001b[0m \u001b[1m1s\u001b[0m 7ms/step - loss: 1.1438e-05 - r2_score: 0.9998 - val_loss: 0.0318 - val_r2_score: 0.5446\n",
      "Epoch 14/200\n",
      "\u001b[1m85/85\u001b[0m \u001b[32m━━━━━━━━━━━━━━━━━━━━\u001b[0m\u001b[37m\u001b[0m \u001b[1m1s\u001b[0m 7ms/step - loss: 1.1278e-05 - r2_score: 0.9998 - val_loss: 0.0315 - val_r2_score: 0.5471\n",
      "Epoch 15/200\n",
      "\u001b[1m85/85\u001b[0m \u001b[32m━━━━━━━━━━━━━━━━━━━━\u001b[0m\u001b[37m\u001b[0m \u001b[1m1s\u001b[0m 8ms/step - loss: 7.0912e-06 - r2_score: 0.9999 - val_loss: 0.0316 - val_r2_score: 0.5472\n",
      "Epoch 16/200\n",
      "\u001b[1m85/85\u001b[0m \u001b[32m━━━━━━━━━━━━━━━━━━━━\u001b[0m\u001b[37m\u001b[0m \u001b[1m0s\u001b[0m 5ms/step - loss: 3.5957e-06 - r2_score: 0.9999 - val_loss: 0.0317 - val_r2_score: 0.5458\n",
      "Epoch 17/200\n",
      "\u001b[1m85/85\u001b[0m \u001b[32m━━━━━━━━━━━━━━━━━━━━\u001b[0m\u001b[37m\u001b[0m \u001b[1m1s\u001b[0m 6ms/step - loss: 2.9206e-06 - r2_score: 1.0000 - val_loss: 0.0317 - val_r2_score: 0.5457\n",
      "Epoch 18/200\n",
      "\u001b[1m85/85\u001b[0m \u001b[32m━━━━━━━━━━━━━━━━━━━━\u001b[0m\u001b[37m\u001b[0m \u001b[1m0s\u001b[0m 5ms/step - loss: 2.1149e-06 - r2_score: 1.0000 - val_loss: 0.0316 - val_r2_score: 0.5463\n",
      "Epoch 19/200\n",
      "\u001b[1m85/85\u001b[0m \u001b[32m━━━━━━━━━━━━━━━━━━━━\u001b[0m\u001b[37m\u001b[0m \u001b[1m1s\u001b[0m 12ms/step - loss: 1.6926e-06 - r2_score: 1.0000 - val_loss: 0.0316 - val_r2_score: 0.5469\n",
      "Epoch 20/200\n",
      "\u001b[1m85/85\u001b[0m \u001b[32m━━━━━━━━━━━━━━━━━━━━\u001b[0m\u001b[37m\u001b[0m \u001b[1m1s\u001b[0m 9ms/step - loss: 4.1837e-06 - r2_score: 0.9999 - val_loss: 0.0316 - val_r2_score: 0.5470\n",
      "Epoch 21/200\n",
      "\u001b[1m85/85\u001b[0m \u001b[32m━━━━━━━━━━━━━━━━━━━━\u001b[0m\u001b[37m\u001b[0m \u001b[1m0s\u001b[0m 4ms/step - loss: 7.3981e-06 - r2_score: 0.9999 - val_loss: 0.0315 - val_r2_score: 0.5478\n",
      "Epoch 21: early stopping\n"
     ]
    }
   ],
   "source": [
    "checkpoint_filepath = \"cifar/models/manual_tuning_checkpoints/keras.weights.h5\"\n",
    "\n",
    "history = manual_adversary.fit(\n",
    "    adv_X,\n",
    "    adv_y,\n",
    "    epochs=200,\n",
    "    validation_data=(adv_X_test, adv_y_test),\n",
    "    callbacks=[\n",
    "        keras.callbacks.EarlyStopping('val_r2_score', mode='max', patience=20, verbose=1),\n",
    "        keras.callbacks.ModelCheckpoint(\n",
    "            filepath=checkpoint_filepath,\n",
    "            save_weights_only=True,\n",
    "            monitor='val_r2_score',\n",
    "            mode='max',\n",
    "            save_best_only=True)\n",
    "    ])"
   ]
  },
  {
   "cell_type": "code",
   "execution_count": 10,
   "id": "d58b6ceca2269ba4",
   "metadata": {
    "ExecuteTime": {
     "end_time": "2024-03-13T08:31:27.235209Z",
     "start_time": "2024-03-13T08:31:26.731401Z"
    },
    "collapsed": false
   },
   "outputs": [
    {
     "data": {
      "image/png": "[encoded data removed]",
      "text/plain": [
       "<Figure size 1200x600 with 2 Axes>"
      ]
     },
     "metadata": {},
     "output_type": "display_data"
    }
   ],
   "source": [
    "plot_history(history)"
   ]
  },
  {
   "cell_type": "code",
   "execution_count": 9,
   "id": "100fc2f3c66f1f24",
   "metadata": {
    "ExecuteTime": {
     "end_time": "2024-03-13T08:31:23.309811Z",
     "start_time": "2024-03-13T08:31:23.302090Z"
    },
    "collapsed": false
   },
   "outputs": [],
   "source": [
    "import matplotlib.pyplot as plt\n",
    "def plot_history(history, dist=None):\n",
    "    plt.figure(figsize=(12, 6))\n",
    "    plt.subplot(1, 2, 1)\n",
    "    plt.plot(history.history['r2_score'][1:])\n",
    "    plt.plot(history.history['val_r2_score'][1:])\n",
    "    plt.title(f'Model r2 score ({\"\" if dist == None else dist*100}% old)')\n",
    "    plt.ylabel('R2 Score')\n",
    "    plt.xlabel('Epoch')\n",
    "    plt.legend(['Train', 'Test'], loc='upper left')\n",
    "\n",
    "    # Plot training & validation loss values\n",
    "    plt.subplot(1, 2, 2)\n",
    "    plt.plot(history.history['loss'][1:])\n",
    "    plt.plot(history.history['val_loss'][1:])\n",
    "    plt.title('Model loss')\n",
    "    plt.ylabel('Loss')\n",
    "    plt.xlabel('Epoch')\n",
    "    plt.legend(['Train', 'Test'], loc='upper left')\n",
    "    plt.tight_layout()"
   ]
  },
  {
   "cell_type": "code",
   "execution_count": 5,
   "id": "f67226fbed02ea07",
   "metadata": {
    "ExecuteTime": {
     "end_time": "2024-03-13T08:55:46.993153Z",
     "start_time": "2024-03-13T08:55:42.573448Z"
    },
    "collapsed": false
   },
   "outputs": [
    {
     "name": "stderr",
     "output_type": "stream",
     "text": [
      "2024-03-13 08:55:43.485370: E external/local_xla/xla/stream_executor/cuda/cuda_dnn.cc:9261] Unable to register cuDNN factory: Attempting to register factory for plugin cuDNN when one has already been registered\n",
      "2024-03-13 08:55:43.486715: E external/local_xla/xla/stream_executor/cuda/cuda_fft.cc:607] Unable to register cuFFT factory: Attempting to register factory for plugin cuFFT when one has already been registered\n",
      "2024-03-13 08:55:43.536194: E external/local_xla/xla/stream_executor/cuda/cuda_blas.cc:1515] Unable to register cuBLAS factory: Attempting to register factory for plugin cuBLAS when one has already been registered\n",
      "2024-03-13 08:55:43.617277: I tensorflow/core/platform/cpu_feature_guard.cc:182] This TensorFlow binary is optimized to use available CPU instructions in performance-critical operations.\n",
      "To enable the following instructions: AVX2 FMA, in other operations, rebuild TensorFlow with the appropriate compiler flags.\n",
      "2024-03-13 08:55:44.765050: W tensorflow/compiler/tf2tensorrt/utils/py_utils.cc:38] TF-TRT Warning: Could not find TensorRT\n"
     ]
    }
   ],
   "source": [
    "import keras_tuner\n",
    "from tensorflow import keras\n",
    "from keras_tuner.tuners import RandomSearch"
   ]
  },
  {
   "cell_type": "code",
   "execution_count": 9,
   "id": "9adcf4f9ebd0c4da",
   "metadata": {
    "ExecuteTime": {
     "end_time": "2024-03-13T08:57:12.352598Z",
     "start_time": "2024-03-13T08:57:12.342353Z"
    },
    "collapsed": false
   },
   "outputs": [],
   "source": [
    "class MyHyperModel(keras_tuner.HyperModel):\n",
    "    def build(self, hp):\n",
    "        model = keras.Sequential()\n",
    "        model.add(keras.layers.Dense(hp.Int('units_dense0', min_value=24, max_value=40, step=4)))\n",
    "        if hp.Boolean(\"relu_dense0\"):\n",
    "            model.add(keras.layers.Activation(keras.activations.relu))\n",
    "        #model.add(keras.layers.Dropout(rate=hp.Float('dropout_rate', min_value=0.01, max_value=0.03, step=0.01)))\n",
    "        model.add(keras.layers.Dense(hp.Int('units_dense1', min_value=6, max_value=14, step=2)))\n",
    "        if hp.Boolean(\"relu_dense1\"):\n",
    "            model.add(keras.layers.Activation(keras.activations.relu))\n",
    "        model.add(keras.layers.Dense(1))\n",
    "        model.compile(optimizer=\"adam\", loss=keras.losses.MeanSquaredError(), metrics=[keras.metrics.R2Score()])\n",
    "        return model\n",
    "    def fit(self, hp, model, *args, **kwargs):\n",
    "        return model.fit(\n",
    "            *args,\n",
    "            batch_size=hp.Choice(\"batch_size\", [10, 18, 24]),\n",
    "            **kwargs,\n",
    "        )\n"
   ]
  },
  {
   "cell_type": "code",
   "execution_count": 10,
   "id": "2ee51702fd6ad5df",
   "metadata": {
    "ExecuteTime": {
     "end_time": "2024-03-13T08:57:12.596605Z",
     "start_time": "2024-03-13T08:57:12.522177Z"
    },
    "collapsed": false
   },
   "outputs": [],
   "source": [
    "from keras_tuner import Objective\n",
    "tuner = RandomSearch(\n",
    "    MyHyperModel(),\n",
    "    #objective=keras_tuner.Objective('val_r2_score', direction='max'),\n",
    "    objective = Objective(name=\"val_r2_score\", direction=\"max\"),\n",
    "    max_trials = 50,\n",
    "    executions_per_trial = 4,\n",
    "    tuner_id=\"17.01.regression.adversary.cgpt\"\n",
    ")"
   ]
  },
  {
   "cell_type": "code",
   "execution_count": 11,
   "id": "58d8fb5b74ce9112",
   "metadata": {
    "collapsed": false
   },
   "outputs": [
    {
     "name": "stdout",
     "output_type": "stream",
     "text": [
      "Trial 50 Complete [00h 05m 06s]\n",
      "val_r2_score: 0.4704882949590683\n",
      "\n",
      "Best val_r2_score So Far: 0.6202707141637802\n",
      "Total elapsed time: 04h 41m 16s\n"
     ]
    }
   ],
   "source": [
    "tuner.search(adv_X, adv_y, epochs=200, validation_data=(adv_X_test, adv_y_test), callbacks=[keras.callbacks.EarlyStopping('val_r2_score', mode='max', patience=20),])"
   ]
  },
  {
   "cell_type": "code",
   "execution_count": 12,
   "id": "2da7baa7ccfa2dd7",
   "metadata": {
    "ExecuteTime": {
     "end_time": "2024-03-13T17:06:21.454925Z",
     "start_time": "2024-03-13T17:06:16.297788Z"
    },
    "collapsed": false
   },
   "outputs": [
    {
     "name": "stderr",
     "output_type": "stream",
     "text": [
      "/home/jstock/.local/lib/python3.10/site-packages/keras/src/saving/saving_lib.py:394: UserWarning: Skipping variable loading for optimizer 'adam', because it has 2 variables whereas the saved optimizer has 14 variables. \n",
      "  trackable.load_own_variables(weights_store.get(inner_path))\n"
     ]
    }
   ],
   "source": [
    "models = tuner.get_best_models(num_models=5)"
   ]
  },
  {
   "cell_type": "code",
   "execution_count": 13,
   "id": "7226e3adb52895f6",
   "metadata": {
    "ExecuteTime": {
     "end_time": "2024-03-13T17:06:31.473426Z",
     "start_time": "2024-03-13T17:06:31.467097Z"
    },
    "collapsed": false
   },
   "outputs": [
    {
     "name": "stdout",
     "output_type": "stream",
     "text": [
      "Results summary\n",
      "Results in ./untitled_project\n",
      "Showing 10 best trials\n",
      "Objective(name=\"val_r2_score\", direction=\"max\")\n",
      "\n",
      "Trial 10 summary\n",
      "Hyperparameters:\n",
      "units_dense0: 36\n",
      "relu_dense0: True\n",
      "units_dense1: 8\n",
      "relu_dense1: True\n",
      "batch_size: 24\n",
      "Score: 0.6202707141637802\n",
      "\n",
      "Trial 42 summary\n",
      "Hyperparameters:\n",
      "units_dense0: 28\n",
      "relu_dense0: True\n",
      "units_dense1: 10\n",
      "relu_dense1: True\n",
      "batch_size: 18\n",
      "Score: 0.6037189066410065\n",
      "\n",
      "Trial 29 summary\n",
      "Hyperparameters:\n",
      "units_dense0: 24\n",
      "relu_dense0: False\n",
      "units_dense1: 14\n",
      "relu_dense1: True\n",
      "batch_size: 18\n",
      "Score: 0.5935608893632889\n",
      "\n",
      "Trial 39 summary\n",
      "Hyperparameters:\n",
      "units_dense0: 32\n",
      "relu_dense0: False\n",
      "units_dense1: 14\n",
      "relu_dense1: False\n",
      "batch_size: 10\n",
      "Score: 0.5910771191120148\n",
      "\n",
      "Trial 48 summary\n",
      "Hyperparameters:\n",
      "units_dense0: 24\n",
      "relu_dense0: False\n",
      "units_dense1: 12\n",
      "relu_dense1: True\n",
      "batch_size: 10\n",
      "Score: 0.5906173139810562\n",
      "\n",
      "Trial 20 summary\n",
      "Hyperparameters:\n",
      "units_dense0: 40\n",
      "relu_dense0: False\n",
      "units_dense1: 12\n",
      "relu_dense1: True\n",
      "batch_size: 10\n",
      "Score: 0.5887070596218109\n",
      "\n",
      "Trial 23 summary\n",
      "Hyperparameters:\n",
      "units_dense0: 32\n",
      "relu_dense0: False\n",
      "units_dense1: 8\n",
      "relu_dense1: False\n",
      "batch_size: 10\n",
      "Score: 0.587965115904808\n",
      "\n",
      "Trial 43 summary\n",
      "Hyperparameters:\n",
      "units_dense0: 28\n",
      "relu_dense0: True\n",
      "units_dense1: 8\n",
      "relu_dense1: True\n",
      "batch_size: 18\n",
      "Score: 0.5753715336322784\n",
      "\n",
      "Trial 35 summary\n",
      "Hyperparameters:\n",
      "units_dense0: 40\n",
      "relu_dense0: False\n",
      "units_dense1: 10\n",
      "relu_dense1: False\n",
      "batch_size: 18\n",
      "Score: 0.574166551232338\n",
      "\n",
      "Trial 00 summary\n",
      "Hyperparameters:\n",
      "units_dense0: 28\n",
      "relu_dense0: False\n",
      "units_dense1: 6\n",
      "relu_dense1: False\n",
      "batch_size: 10\n",
      "Score: 0.5734031796455383\n"
     ]
    }
   ],
   "source": [
    "tuner.results_summary()"
   ]
  },
  {
   "cell_type": "code",
   "execution_count": 14,
   "id": "9ca14462a0a0879e",
   "metadata": {
    "ExecuteTime": {
     "end_time": "2024-03-13T17:07:38.894445Z",
     "start_time": "2024-03-13T17:07:38.889200Z"
    },
    "collapsed": false
   },
   "outputs": [],
   "source": [
    "best_model = models[0]"
   ]
  },
  {
   "cell_type": "code",
   "execution_count": 15,
   "id": "16ec002dcd781d6e",
   "metadata": {
    "ExecuteTime": {
     "end_time": "2024-03-13T17:07:57.643617Z",
     "start_time": "2024-03-13T17:07:57.607828Z"
    },
    "collapsed": false
   },
   "outputs": [],
   "source": [
    "best_model.build(input_shape=(None,adv_X.shape[1],))"
   ]
  },
  {
   "cell_type": "code",
   "execution_count": null,
   "id": "3e2f88799033d537",
   "metadata": {
    "collapsed": false,
    "is_executing": true
   },
   "outputs": [],
   "source": [
    "best_model.save(\"cifar/models/cifar-adv_0.62_test_r2.keras\")"
   ]
  },
  {
   "cell_type": "code",
   "id": "580e28fe3543cd74",
   "metadata": {
    "collapsed": false
   },
   "outputs": [],
   "source": []
  }
 ],
 "metadata": {
  "kernelspec": {
   "display_name": "pia1",
   "language": "python",
   "name": "pia1"
  },
  "language_info": {
   "codemirror_mode": {
    "name": "ipython",
    "version": 3
   },
   "file_extension": ".py",
   "mimetype": "text/x-python",
   "name": "python",
   "nbconvert_exporter": "python",
   "pygments_lexer": "ipython3",
   "version": "3.10.9"
  }
 },
 "nbformat": 4,
 "nbformat_minor": 5
}
