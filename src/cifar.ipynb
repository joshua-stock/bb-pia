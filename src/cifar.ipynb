{
 "cells": [
  {
   "cell_type": "code",
   "execution_count": 3,
   "id": "initial_id",
   "metadata": {
    "ExecuteTime": {
     "end_time": "2024-03-17T17:28:10.848559Z",
     "start_time": "2024-03-17T17:27:59.715506Z"
    },
    "collapsed": true,
    "jupyter": {
     "outputs_hidden": true
    }
   },
   "outputs": [],
   "source": [
    "import numpy as np\n",
    "\n",
    "from cifar_functions import *\n",
    "\n",
    "X_train, X_test, Y_train, Y_test, sensitive, sensitive_t = data_train_test_cifar()"
   ]
  },
  {
   "cell_type": "code",
   "execution_count": 8,
   "id": "9dacf402c25e0aa6",
   "metadata": {
    "ExecuteTime": {
     "end_time": "2024-03-13T08:31:20.242543Z",
     "start_time": "2024-03-13T08:31:19.825307Z"
    },
    "collapsed": false,
    "jupyter": {
     "outputs_hidden": false
    }
   },
   "outputs": [],
   "source": [
    "import matplotlib.pyplot as plt\n",
    "\n",
    "def plot_history(history, dist=None):\n",
    "    plt.figure(figsize=(12, 6))\n",
    "    plt.subplot(1, 2, 1)\n",
    "    plt.plot(history.history['accuracy'])\n",
    "    plt.plot(history.history['val_accuracy'])\n",
    "    plt.title(f'Model accuracy ({\"\" if dist == None else dist*100}% old)')\n",
    "    plt.ylabel('Accuracy')\n",
    "    plt.xlabel('Epoch')\n",
    "    plt.legend(['Train', 'Test'], loc='upper left')\n",
    "\n",
    "    # Plot training & validation loss values\n",
    "    plt.subplot(1, 2, 2)\n",
    "    plt.plot(history.history['loss'])\n",
    "    plt.plot(history.history['val_loss'])\n",
    "    plt.title('Model loss')\n",
    "    plt.ylabel('Loss')\n",
    "    plt.xlabel('Epoch')\n",
    "    plt.legend(['Train', 'Test'], loc='upper left')\n",
    "    plt.tight_layout()"
   ]
  },
  {
   "cell_type": "code",
   "execution_count": 2,
   "id": "1be3f736898b9ebf",
   "metadata": {
    "ExecuteTime": {
     "end_time": "2024-02-26T17:06:02.040649Z",
     "start_time": "2024-02-26T17:06:01.978975Z"
    },
    "collapsed": false,
    "jupyter": {
     "outputs_hidden": false
    }
   },
   "outputs": [
    {
     "data": {
      "text/plain": [
       "(30000, 32, 32, 3)"
      ]
     },
     "execution_count": 2,
     "metadata": {},
     "output_type": "execute_result"
    }
   ],
   "source": [
    "X_train.shape"
   ]
  },
  {
   "cell_type": "code",
   "execution_count": 3,
   "id": "630ce17490f17dd9",
   "metadata": {
    "ExecuteTime": {
     "end_time": "2024-02-26T17:06:03.091757Z",
     "start_time": "2024-02-26T17:06:02.041815Z"
    },
    "collapsed": false,
    "jupyter": {
     "outputs_hidden": false
    }
   },
   "outputs": [
    {
     "data": {
      "text/plain": [
       "TensorShape([30000, 10])"
      ]
     },
     "execution_count": 3,
     "metadata": {},
     "output_type": "execute_result"
    }
   ],
   "source": [
    "Y_train.shape"
   ]
  },
  {
   "cell_type": "code",
   "execution_count": 5,
   "id": "992bef9f86e121e7",
   "metadata": {
    "ExecuteTime": {
     "end_time": "2024-03-17T17:28:15.966042Z",
     "start_time": "2024-03-17T17:28:15.960851Z"
    },
    "collapsed": false,
    "jupyter": {
     "outputs_hidden": false
    }
   },
   "outputs": [],
   "source": [
    "from common.functions import *"
   ]
  },
  {
   "cell_type": "code",
   "execution_count": 6,
   "id": "134d76ae5c6a9df7",
   "metadata": {
    "ExecuteTime": {
     "end_time": "2024-03-17T17:30:55.159249Z",
     "start_time": "2024-03-17T17:28:16.108504Z"
    },
    "collapsed": false,
    "jupyter": {
     "outputs_hidden": false
    }
   },
   "outputs": [
    {
     "name": "stderr",
     "output_type": "stream",
     "text": [
      "2024-03-17 17:28:19.754622: W external/local_tsl/tsl/framework/cpu_allocator_impl.cc:83] Allocation of 368640000 exceeds 10% of free system memory.\n"
     ]
    },
    {
     "name": "stdout",
     "output_type": "stream",
     "text": [
      "Epoch 1/5\n",
      "937/938 [============================>.] - ETA: 0s - loss: 1.3786 - accuracy: 0.5150"
     ]
    },
    {
     "name": "stderr",
     "output_type": "stream",
     "text": [
      "2024-03-17 17:28:45.888029: W external/local_tsl/tsl/framework/cpu_allocator_impl.cc:83] Allocation of 368640000 exceeds 10% of free system memory.\n"
     ]
    },
    {
     "name": "stdout",
     "output_type": "stream",
     "text": [
      "938/938 [==============================] - 35s 33ms/step - loss: 1.3785 - accuracy: 0.5151 - val_loss: 1.1407 - val_accuracy: 0.5924\n",
      "Epoch 2/5\n",
      "938/938 [==============================] - 26s 28ms/step - loss: 0.9873 - accuracy: 0.6524 - val_loss: 0.9022 - val_accuracy: 0.6855\n",
      "Epoch 3/5\n",
      "938/938 [==============================] - 28s 30ms/step - loss: 0.8265 - accuracy: 0.7097 - val_loss: 0.8990 - val_accuracy: 0.6853\n",
      "Epoch 4/5\n",
      "938/938 [==============================] - 33s 35ms/step - loss: 0.7208 - accuracy: 0.7471 - val_loss: 0.8163 - val_accuracy: 0.7201\n",
      "Epoch 5/5\n",
      "938/938 [==============================] - 32s 34ms/step - loss: 0.6330 - accuracy: 0.7769 - val_loss: 0.8186 - val_accuracy: 0.7213\n"
     ]
    }
   ],
   "source": [
    "model, history = fit_lucasnet(X_train, Y_train, X_test, Y_test, verbose=1, input_shape=(32, 32, 3), num_classes=10)"
   ]
  },
  {
   "cell_type": "code",
   "execution_count": 8,
   "id": "8342b40f84e9407f",
   "metadata": {
    "ExecuteTime": {
     "end_time": "2024-02-26T16:52:20.380930Z",
     "start_time": "2024-02-26T16:52:20.367671Z"
    },
    "collapsed": false,
    "jupyter": {
     "outputs_hidden": false
    }
   },
   "outputs": [
    {
     "data": {
      "text/plain": [
       "<tf.Tensor: shape=(1, 10), dtype=float32, numpy=array([[0., 0., 0., 1., 0., 0., 0., 0., 0., 0.]], dtype=float32)>"
      ]
     },
     "execution_count": 8,
     "metadata": {},
     "output_type": "execute_result"
    }
   ],
   "source": [
    "Y_train[3]"
   ]
  },
  {
   "cell_type": "code",
   "execution_count": 7,
   "id": "a3f0842d32e66716",
   "metadata": {
    "ExecuteTime": {
     "end_time": "2024-02-27T17:27:07.673886Z",
     "start_time": "2024-02-27T17:26:58.672855Z"
    },
    "collapsed": false,
    "jupyter": {
     "outputs_hidden": false
    }
   },
   "outputs": [
    {
     "name": "stdout",
     "output_type": "stream",
     "text": [
      "Downloading data from https://www.cs.toronto.edu/~kriz/cifar-100-python.tar.gz\n",
      "\u001b[1m169001437/169001437\u001b[0m \u001b[32m━━━━━━━━━━━━━━━━━━━━\u001b[0m\u001b[37m\u001b[0m \u001b[1m7s\u001b[0m 0us/step\n"
     ]
    }
   ],
   "source": [
    "import keras\n",
    "\n",
    "cifar100 = keras.datasets.cifar100\n",
    "(x_train, y_train), (x_test, y_test) = cifar100.load_data()"
   ]
  },
  {
   "cell_type": "code",
   "execution_count": 8,
   "id": "8c83ca449b41a500",
   "metadata": {
    "ExecuteTime": {
     "end_time": "2024-02-27T17:28:27.750389Z",
     "start_time": "2024-02-27T17:28:27.745757Z"
    },
    "collapsed": false,
    "jupyter": {
     "outputs_hidden": false
    }
   },
   "outputs": [
    {
     "data": {
      "text/plain": [
       "(50000, 1)"
      ]
     },
     "execution_count": 8,
     "metadata": {},
     "output_type": "execute_result"
    }
   ],
   "source": [
    "\n",
    "y_train.shape"
   ]
  },
  {
   "cell_type": "code",
   "execution_count": 9,
   "id": "1f57457c38a94fa0",
   "metadata": {
    "ExecuteTime": {
     "end_time": "2024-02-27T17:28:34.791414Z",
     "start_time": "2024-02-27T17:28:34.783665Z"
    },
    "collapsed": false,
    "jupyter": {
     "outputs_hidden": false
    }
   },
   "outputs": [
    {
     "data": {
      "text/plain": [
       "array([[19],\n",
       "       [29],\n",
       "       [ 0],\n",
       "       ...,\n",
       "       [ 3],\n",
       "       [ 7],\n",
       "       [73]])"
      ]
     },
     "execution_count": 9,
     "metadata": {},
     "output_type": "execute_result"
    }
   ],
   "source": [
    "y_train"
   ]
  },
  {
   "cell_type": "code",
   "execution_count": 1,
   "id": "519b1940d7a8e748",
   "metadata": {
    "ExecuteTime": {
     "end_time": "2024-02-27T17:47:13.519748Z",
     "start_time": "2024-02-27T17:47:07.824188Z"
    },
    "collapsed": false,
    "jupyter": {
     "outputs_hidden": false
    }
   },
   "outputs": [
    {
     "name": "stderr",
     "output_type": "stream",
     "text": [
      "2024-02-27 17:47:08.853590: E external/local_xla/xla/stream_executor/cuda/cuda_dnn.cc:9261] Unable to register cuDNN factory: Attempting to register factory for plugin cuDNN when one has already been registered\n",
      "2024-02-27 17:47:08.853718: E external/local_xla/xla/stream_executor/cuda/cuda_fft.cc:607] Unable to register cuFFT factory: Attempting to register factory for plugin cuFFT when one has already been registered\n",
      "2024-02-27 17:47:08.915711: E external/local_xla/xla/stream_executor/cuda/cuda_blas.cc:1515] Unable to register cuBLAS factory: Attempting to register factory for plugin cuBLAS when one has already been registered\n",
      "2024-02-27 17:47:09.046325: I tensorflow/core/platform/cpu_feature_guard.cc:182] This TensorFlow binary is optimized to use available CPU instructions in performance-critical operations.\n",
      "To enable the following instructions: AVX2 FMA, in other operations, rebuild TensorFlow with the appropriate compiler flags.\n",
      "2024-02-27 17:47:10.102645: W tensorflow/compiler/tf2tensorrt/utils/py_utils.cc:38] TF-TRT Warning: Could not find TensorRT\n"
     ]
    }
   ],
   "source": [
    "from cifar_functions import get_cifar_input_set\n",
    "\n",
    "x, y = get_cifar_input_set()"
   ]
  },
  {
   "cell_type": "code",
   "execution_count": 2,
   "id": "1a6d2e3744216fcd",
   "metadata": {
    "ExecuteTime": {
     "end_time": "2024-02-27T17:47:20.335759Z",
     "start_time": "2024-02-27T17:47:20.329553Z"
    },
    "collapsed": false,
    "jupyter": {
     "outputs_hidden": false
    }
   },
   "outputs": [
    {
     "data": {
      "text/plain": [
       "(18000, 32, 32, 3)"
      ]
     },
     "execution_count": 2,
     "metadata": {},
     "output_type": "execute_result"
    }
   ],
   "source": [
    "x.shape"
   ]
  },
  {
   "cell_type": "code",
   "execution_count": 3,
   "id": "2549fc9470291385",
   "metadata": {
    "ExecuteTime": {
     "end_time": "2024-02-27T17:47:23.279683Z",
     "start_time": "2024-02-27T17:47:23.275428Z"
    },
    "collapsed": false,
    "jupyter": {
     "outputs_hidden": false
    }
   },
   "outputs": [
    {
     "data": {
      "text/plain": [
       "(18000, 1)"
      ]
     },
     "execution_count": 3,
     "metadata": {},
     "output_type": "execute_result"
    }
   ],
   "source": [
    "y.shape"
   ]
  },
  {
   "cell_type": "code",
   "execution_count": 1,
   "id": "633fea0b9b40dbad",
   "metadata": {
    "ExecuteTime": {
     "end_time": "2024-02-28T10:28:33.917718Z",
     "start_time": "2024-02-28T10:27:49.917714Z"
    },
    "collapsed": false,
    "jupyter": {
     "outputs_hidden": false
    }
   },
   "outputs": [
    {
     "name": "stderr",
     "output_type": "stream",
     "text": [
      "2024-02-28 10:27:50.475194: E external/local_xla/xla/stream_executor/cuda/cuda_dnn.cc:9261] Unable to register cuDNN factory: Attempting to register factory for plugin cuDNN when one has already been registered\n",
      "2024-02-28 10:27:50.475259: E external/local_xla/xla/stream_executor/cuda/cuda_fft.cc:607] Unable to register cuFFT factory: Attempting to register factory for plugin cuFFT when one has already been registered\n",
      "2024-02-28 10:27:50.477290: E external/local_xla/xla/stream_executor/cuda/cuda_blas.cc:1515] Unable to register cuBLAS factory: Attempting to register factory for plugin cuBLAS when one has already been registered\n",
      "2024-02-28 10:27:50.490027: I tensorflow/core/platform/cpu_feature_guard.cc:182] This TensorFlow binary is optimized to use available CPU instructions in performance-critical operations.\n",
      "To enable the following instructions: AVX2 FMA, in other operations, rebuild TensorFlow with the appropriate compiler flags.\n",
      "2024-02-28 10:27:51.354480: W tensorflow/compiler/tf2tensorrt/utils/py_utils.cc:38] TF-TRT Warning: Could not find TensorRT\n"
     ]
    },
    {
     "name": "stdout",
     "output_type": "stream",
     "text": [
      "now computing dist 0.7\n",
      "now computing dist 0.8\n",
      "now computing dist 0.9\n"
     ]
    }
   ],
   "source": [
    "from cifar_functions import *\n",
    "distributed_datasets = get_distributed_cifar_sets(distributions=[0.7,0.8,0.9])"
   ]
  },
  {
   "cell_type": "code",
   "execution_count": 2,
   "id": "3572f5d6166eabaa",
   "metadata": {
    "ExecuteTime": {
     "end_time": "2024-02-28T10:30:54.089787Z",
     "start_time": "2024-02-28T10:30:54.084098Z"
    },
    "collapsed": false,
    "jupyter": {
     "outputs_hidden": false
    }
   },
   "outputs": [
    {
     "name": "stdout",
     "output_type": "stream",
     "text": [
      "(17142, 10)\n",
      "(15000, 10)\n",
      "(13333, 10)\n"
     ]
    }
   ],
   "source": [
    "for ds in distributed_datasets:\n",
    "    print(ds.y_train.shape)"
   ]
  },
  {
   "cell_type": "code",
   "execution_count": 1,
   "id": "be5bf7739cb4f3f4",
   "metadata": {
    "ExecuteTime": {
     "end_time": "2024-02-29T09:01:32.986592Z",
     "start_time": "2024-02-29T09:01:29.230012Z"
    },
    "collapsed": false,
    "jupyter": {
     "outputs_hidden": false
    }
   },
   "outputs": [
    {
     "name": "stderr",
     "output_type": "stream",
     "text": [
      "2024-02-29 10:01:29.508875: I tensorflow/tsl/cuda/cudart_stub.cc:28] Could not find cuda drivers on your machine, GPU will not be used.\n",
      "2024-02-29 10:01:29.571705: E tensorflow/compiler/xla/stream_executor/cuda/cuda_dnn.cc:9342] Unable to register cuDNN factory: Attempting to register factory for plugin cuDNN when one has already been registered\n",
      "2024-02-29 10:01:29.571745: E tensorflow/compiler/xla/stream_executor/cuda/cuda_fft.cc:609] Unable to register cuFFT factory: Attempting to register factory for plugin cuFFT when one has already been registered\n",
      "2024-02-29 10:01:29.571788: E tensorflow/compiler/xla/stream_executor/cuda/cuda_blas.cc:1518] Unable to register cuBLAS factory: Attempting to register factory for plugin cuBLAS when one has already been registered\n",
      "2024-02-29 10:01:29.583407: I tensorflow/tsl/cuda/cudart_stub.cc:28] Could not find cuda drivers on your machine, GPU will not be used.\n",
      "2024-02-29 10:01:29.584408: I tensorflow/core/platform/cpu_feature_guard.cc:182] This TensorFlow binary is optimized to use available CPU instructions in performance-critical operations.\n",
      "To enable the following instructions: AVX2 FMA, in other operations, rebuild TensorFlow with the appropriate compiler flags.\n",
      "2024-02-29 10:01:30.854141: W tensorflow/compiler/tf2tensorrt/utils/py_utils.cc:38] TF-TRT Warning: Could not find TensorRT\n"
     ]
    }
   ],
   "source": [
    "from cifar_functions import get_distributed_cifar_sets, get_cifar_input_set\n",
    "from common.functions import train_shadow_models"
   ]
  },
  {
   "cell_type": "code",
   "execution_count": 2,
   "id": "84840cc302a65282",
   "metadata": {
    "ExecuteTime": {
     "end_time": "2024-02-29T09:02:16.394393Z",
     "start_time": "2024-02-29T09:01:57.256853Z"
    },
    "collapsed": false,
    "jupyter": {
     "outputs_hidden": false
    }
   },
   "outputs": [
    {
     "name": "stdout",
     "output_type": "stream",
     "text": [
      "now computing dist 0.1\n"
     ]
    }
   ],
   "source": [
    "base_path = \"cifar\"  # for saving models and output data\n",
    "test_run = True\n",
    "n_shadow_models = 2\n",
    "distributions = [0.1]#, 0.2, 0.3, 0.4, 0.5, 0.6, 0.7, 0.8, 0.9]\n",
    "save_models = False\n",
    "input_shape = (32, 32, 3)\n",
    "num_classes = 10\n",
    "model_input = get_cifar_input_set()\n",
    "distributed_datasets = get_distributed_cifar_sets(distributions=distributions)"
   ]
  },
  {
   "cell_type": "code",
   "execution_count": 4,
   "id": "3888e5cd1cf66c77",
   "metadata": {
    "ExecuteTime": {
     "end_time": "2024-02-29T09:05:32.069313Z",
     "start_time": "2024-02-29T09:03:46.488529Z"
    },
    "collapsed": false,
    "jupyter": {
     "outputs_hidden": false
    }
   },
   "outputs": [],
   "source": [
    "from common.functions import generate_shadow_model_outputs\n",
    "ds = distributed_datasets[0]\n",
    "load_model_path = f\"{base_path}/models/shadow_models/{str(ds.distribution)}/{'test' if test_run else 'train'}/\"\n",
    "\n",
    "save_model_path = None\n",
    "outputs = generate_shadow_model_outputs(ds, model_input, load_model_path, save_model_path, n_shadow_models=n_shadow_models, use_test_data=test_run, input_shape=input_shape, num_classes=num_classes)\n"
   ]
  },
  {
   "cell_type": "code",
   "execution_count": 5,
   "id": "4ed45e7f3a41fc63",
   "metadata": {
    "ExecuteTime": {
     "end_time": "2024-02-29T09:05:32.081285Z",
     "start_time": "2024-02-29T09:05:32.072389Z"
    },
    "collapsed": false,
    "jupyter": {
     "outputs_hidden": false
    }
   },
   "outputs": [
    {
     "data": {
      "text/plain": [
       "(2, 16200)"
      ]
     },
     "execution_count": 5,
     "metadata": {},
     "output_type": "execute_result"
    }
   ],
   "source": [
    "outputs.shape\n",
    "#adv_df = pd.DataFrame(outputs)"
   ]
  },
  {
   "cell_type": "markdown",
   "id": "683dfec6620d299",
   "metadata": {},
   "source": [
    "# Adversary"
   ]
  },
  {
   "cell_type": "code",
   "execution_count": 25,
   "id": "13a5060a999c4cdb",
   "metadata": {
    "ExecuteTime": {
     "end_time": "2024-03-15T13:47:26.210919Z",
     "start_time": "2024-03-15T13:46:58.882343Z"
    },
    "collapsed": false,
    "jupyter": {
     "outputs_hidden": false
    }
   },
   "outputs": [],
   "source": [
    "import pandas as pd\n",
    "from joblib import Parallel, delayed\n",
    "\n",
    "def load_and_concat(dist):\n",
    "    a = pd.read_csv(f\"cifar/data/shadow_model_outputs/{dist}/train.csv\")\n",
    "    b = pd.read_csv(f\"cifar_new/data/shadow_model_outputs/{dist}/train.csv\")\n",
    "    return pd.concat([a,b])\n",
    "\n",
    "dists = [0.1, 0.2, 0.3, 0.4, 0.5, 0.6, 0.7, 0.8, 0.9]\n",
    "\n",
    "all_train = [load_and_concat(dist) for dist in dists]\n",
    "adv_train = pd.concat(all_train)\n",
    "\n",
    "adv_test = [pd.read_csv(f\"cifar_new_new/data/shadow_model_outputs/{dist}/test.csv\") for dist in dists]\n",
    "adv_test = pd.concat(adv_test)"
   ]
  },
  {
   "cell_type": "code",
   "execution_count": 26,
   "id": "84751ffe4fa36d31",
   "metadata": {
    "ExecuteTime": {
     "end_time": "2024-03-15T13:47:34.331310Z",
     "start_time": "2024-03-15T13:47:26.242279Z"
    },
    "collapsed": false,
    "jupyter": {
     "outputs_hidden": false
    }
   },
   "outputs": [],
   "source": [
    "adv_y = adv_train[\"y\"]\n",
    "adv_X = adv_train.drop(columns=[\"y\"])\n",
    "adv_y_test = adv_test[\"y\"]\n",
    "adv_X_test = adv_test.drop(columns=[\"y\"])"
   ]
  },
  {
   "cell_type": "code",
   "execution_count": 4,
   "id": "51db4959138935db",
   "metadata": {
    "ExecuteTime": {
     "end_time": "2024-03-13T08:55:34.564681Z",
     "start_time": "2024-03-13T08:55:34.498839Z"
    },
    "collapsed": false,
    "jupyter": {
     "outputs_hidden": false
    }
   },
   "outputs": [
    {
     "data": {
      "text/plain": [
       "(3600, 45360)"
      ]
     },
     "execution_count": 4,
     "metadata": {},
     "output_type": "execute_result"
    }
   ],
   "source": [
    "adv_X.shape"
   ]
  },
  {
   "cell_type": "code",
   "execution_count": 5,
   "id": "35c981a70ce5fa4e",
   "metadata": {
    "ExecuteTime": {
     "end_time": "2024-03-13T08:55:36.505061Z",
     "start_time": "2024-03-13T08:55:34.568567Z"
    },
    "collapsed": false,
    "jupyter": {
     "outputs_hidden": false
    }
   },
   "outputs": [
    {
     "data": {
      "text/plain": [
       "(900, 45360)"
      ]
     },
     "execution_count": 5,
     "metadata": {},
     "output_type": "execute_result"
    }
   ],
   "source": [
    "adv_X_test.shape"
   ]
  },
  {
   "cell_type": "markdown",
   "id": "baca2e8c78efee61",
   "metadata": {},
   "source": [
    "units_dense0: 36\n",
    "relu_dense0: True\n",
    "units_dense1: 8\n",
    "relu_dense1: True\n",
    "batch_size: 24"
   ]
  },
  {
   "cell_type": "code",
   "execution_count": 27,
   "id": "26a0820d6dac46a5",
   "metadata": {
    "ExecuteTime": {
     "end_time": "2024-03-15T14:12:18.430892Z",
     "start_time": "2024-03-15T14:12:18.122389Z"
    },
    "collapsed": false,
    "jupyter": {
     "outputs_hidden": false
    }
   },
   "outputs": [],
   "source": [
    "import keras\n",
    "from keras import regularizers\n",
    "\n",
    "def create_and_compile(input_shape):\n",
    "    manual_adversary = keras.Sequential()\n",
    "    manual_adversary.add(keras.Input(shape=input_shape))\n",
    "    manual_adversary.add(keras.layers.Dense(30, activation='relu'))#, kernel_regularizer=regularizers.l2(0.01)))\n",
    "    manual_adversary.add(keras.layers.Dropout(0.05))\n",
    "    manual_adversary.add(keras.layers.Dense(8, activation='relu'))#, kernel_regularizer=regularizers.l2(0.04)))\n",
    "    manual_adversary.add(keras.layers.Dense(1))\n",
    "    manual_adversary.compile(optimizer=keras.optimizers.Adam(), loss=keras.losses.MeanSquaredError(), metrics=[keras.metrics.R2Score()])\n",
    "    return manual_adversary"
   ]
  },
  {
   "cell_type": "code",
   "execution_count": 10,
   "id": "3e0f3a9d-65bf-42ee-be92-b89de0043cf9",
   "metadata": {
    "collapsed": true,
    "jupyter": {
     "outputs_hidden": true
    },
    "scrolled": true
   },
   "outputs": [
    {
     "ename": "FileNotFoundError",
     "evalue": "[Errno 2] Unable to synchronously open file (unable to open file: name = 'cifar/models/manual_tuning_checkpoints/keras.weights.h5', errno = 2, error message = 'No such file or directory', flags = 0, o_flags = 0)",
     "output_type": "error",
     "traceback": [
      "\u001b[0;31m---------------------------------------------------------------------------\u001b[0m",
      "\u001b[0;31mFileNotFoundError\u001b[0m                         Traceback (most recent call last)",
      "Cell \u001b[0;32mIn[10], line 2\u001b[0m\n\u001b[1;32m      1\u001b[0m old_adv \u001b[38;5;241m=\u001b[39m create_and_compile((adv_X\u001b[38;5;241m.\u001b[39mshape[\u001b[38;5;241m1\u001b[39m],))\n\u001b[0;32m----> 2\u001b[0m \u001b[43mold_adv\u001b[49m\u001b[38;5;241;43m.\u001b[39;49m\u001b[43mload_weights\u001b[49m\u001b[43m(\u001b[49m\u001b[38;5;124;43m\"\u001b[39;49m\u001b[38;5;124;43mcifar/models/manual_tuning_checkpoints/keras.weights.h5\u001b[39;49m\u001b[38;5;124;43m\"\u001b[39;49m\u001b[43m)\u001b[49m\n",
      "File \u001b[0;32m/informatik2/svs/home/stock/anaconda3/envs/pia-tf/lib/python3.10/site-packages/keras/src/utils/traceback_utils.py:122\u001b[0m, in \u001b[0;36mfilter_traceback.<locals>.error_handler\u001b[0;34m(*args, **kwargs)\u001b[0m\n\u001b[1;32m    119\u001b[0m     filtered_tb \u001b[38;5;241m=\u001b[39m _process_traceback_frames(e\u001b[38;5;241m.\u001b[39m__traceback__)\n\u001b[1;32m    120\u001b[0m     \u001b[38;5;66;03m# To get the full stack trace, call:\u001b[39;00m\n\u001b[1;32m    121\u001b[0m     \u001b[38;5;66;03m# `keras.config.disable_traceback_filtering()`\u001b[39;00m\n\u001b[0;32m--> 122\u001b[0m     \u001b[38;5;28;01mraise\u001b[39;00m e\u001b[38;5;241m.\u001b[39mwith_traceback(filtered_tb) \u001b[38;5;28;01mfrom\u001b[39;00m \u001b[38;5;28;01mNone\u001b[39;00m\n\u001b[1;32m    123\u001b[0m \u001b[38;5;28;01mfinally\u001b[39;00m:\n\u001b[1;32m    124\u001b[0m     \u001b[38;5;28;01mdel\u001b[39;00m filtered_tb\n",
      "File \u001b[0;32m/informatik2/svs/home/stock/anaconda3/envs/pia-tf/lib/python3.10/site-packages/h5py/_hl/files.py:562\u001b[0m, in \u001b[0;36mFile.__init__\u001b[0;34m(self, name, mode, driver, libver, userblock_size, swmr, rdcc_nslots, rdcc_nbytes, rdcc_w0, track_order, fs_strategy, fs_persist, fs_threshold, fs_page_size, page_buf_size, min_meta_keep, min_raw_keep, locking, alignment_threshold, alignment_interval, meta_block_size, **kwds)\u001b[0m\n\u001b[1;32m    553\u001b[0m     fapl \u001b[38;5;241m=\u001b[39m make_fapl(driver, libver, rdcc_nslots, rdcc_nbytes, rdcc_w0,\n\u001b[1;32m    554\u001b[0m                      locking, page_buf_size, min_meta_keep, min_raw_keep,\n\u001b[1;32m    555\u001b[0m                      alignment_threshold\u001b[38;5;241m=\u001b[39malignment_threshold,\n\u001b[1;32m    556\u001b[0m                      alignment_interval\u001b[38;5;241m=\u001b[39malignment_interval,\n\u001b[1;32m    557\u001b[0m                      meta_block_size\u001b[38;5;241m=\u001b[39mmeta_block_size,\n\u001b[1;32m    558\u001b[0m                      \u001b[38;5;241m*\u001b[39m\u001b[38;5;241m*\u001b[39mkwds)\n\u001b[1;32m    559\u001b[0m     fcpl \u001b[38;5;241m=\u001b[39m make_fcpl(track_order\u001b[38;5;241m=\u001b[39mtrack_order, fs_strategy\u001b[38;5;241m=\u001b[39mfs_strategy,\n\u001b[1;32m    560\u001b[0m                      fs_persist\u001b[38;5;241m=\u001b[39mfs_persist, fs_threshold\u001b[38;5;241m=\u001b[39mfs_threshold,\n\u001b[1;32m    561\u001b[0m                      fs_page_size\u001b[38;5;241m=\u001b[39mfs_page_size)\n\u001b[0;32m--> 562\u001b[0m     fid \u001b[38;5;241m=\u001b[39m \u001b[43mmake_fid\u001b[49m\u001b[43m(\u001b[49m\u001b[43mname\u001b[49m\u001b[43m,\u001b[49m\u001b[43m \u001b[49m\u001b[43mmode\u001b[49m\u001b[43m,\u001b[49m\u001b[43m \u001b[49m\u001b[43muserblock_size\u001b[49m\u001b[43m,\u001b[49m\u001b[43m \u001b[49m\u001b[43mfapl\u001b[49m\u001b[43m,\u001b[49m\u001b[43m \u001b[49m\u001b[43mfcpl\u001b[49m\u001b[43m,\u001b[49m\u001b[43m \u001b[49m\u001b[43mswmr\u001b[49m\u001b[38;5;241;43m=\u001b[39;49m\u001b[43mswmr\u001b[49m\u001b[43m)\u001b[49m\n\u001b[1;32m    564\u001b[0m \u001b[38;5;28;01mif\u001b[39;00m \u001b[38;5;28misinstance\u001b[39m(libver, \u001b[38;5;28mtuple\u001b[39m):\n\u001b[1;32m    565\u001b[0m     \u001b[38;5;28mself\u001b[39m\u001b[38;5;241m.\u001b[39m_libver \u001b[38;5;241m=\u001b[39m libver\n",
      "File \u001b[0;32m/informatik2/svs/home/stock/anaconda3/envs/pia-tf/lib/python3.10/site-packages/h5py/_hl/files.py:235\u001b[0m, in \u001b[0;36mmake_fid\u001b[0;34m(name, mode, userblock_size, fapl, fcpl, swmr)\u001b[0m\n\u001b[1;32m    233\u001b[0m     \u001b[38;5;28;01mif\u001b[39;00m swmr \u001b[38;5;129;01mand\u001b[39;00m swmr_support:\n\u001b[1;32m    234\u001b[0m         flags \u001b[38;5;241m|\u001b[39m\u001b[38;5;241m=\u001b[39m h5f\u001b[38;5;241m.\u001b[39mACC_SWMR_READ\n\u001b[0;32m--> 235\u001b[0m     fid \u001b[38;5;241m=\u001b[39m \u001b[43mh5f\u001b[49m\u001b[38;5;241;43m.\u001b[39;49m\u001b[43mopen\u001b[49m\u001b[43m(\u001b[49m\u001b[43mname\u001b[49m\u001b[43m,\u001b[49m\u001b[43m \u001b[49m\u001b[43mflags\u001b[49m\u001b[43m,\u001b[49m\u001b[43m \u001b[49m\u001b[43mfapl\u001b[49m\u001b[38;5;241;43m=\u001b[39;49m\u001b[43mfapl\u001b[49m\u001b[43m)\u001b[49m\n\u001b[1;32m    236\u001b[0m \u001b[38;5;28;01melif\u001b[39;00m mode \u001b[38;5;241m==\u001b[39m \u001b[38;5;124m'\u001b[39m\u001b[38;5;124mr+\u001b[39m\u001b[38;5;124m'\u001b[39m:\n\u001b[1;32m    237\u001b[0m     fid \u001b[38;5;241m=\u001b[39m h5f\u001b[38;5;241m.\u001b[39mopen(name, h5f\u001b[38;5;241m.\u001b[39mACC_RDWR, fapl\u001b[38;5;241m=\u001b[39mfapl)\n",
      "File \u001b[0;32mh5py/_objects.pyx:54\u001b[0m, in \u001b[0;36mh5py._objects.with_phil.wrapper\u001b[0;34m()\u001b[0m\n",
      "File \u001b[0;32mh5py/_objects.pyx:55\u001b[0m, in \u001b[0;36mh5py._objects.with_phil.wrapper\u001b[0;34m()\u001b[0m\n",
      "File \u001b[0;32mh5py/h5f.pyx:102\u001b[0m, in \u001b[0;36mh5py.h5f.open\u001b[0;34m()\u001b[0m\n",
      "\u001b[0;31mFileNotFoundError\u001b[0m: [Errno 2] Unable to synchronously open file (unable to open file: name = 'cifar/models/manual_tuning_checkpoints/keras.weights.h5', errno = 2, error message = 'No such file or directory', flags = 0, o_flags = 0)"
     ]
    }
   ],
   "source": [
    "old_adv = create_and_compile((adv_X.shape[1],))\n",
    "old_adv.load_weights(\"cifar/models/manual_tuning_checkpoints/keras.weights.h5\")"
   ]
  },
  {
   "cell_type": "code",
   "execution_count": 12,
   "id": "aa29e36d1d596223",
   "metadata": {
    "ExecuteTime": {
     "end_time": "2024-03-15T14:15:28.776927Z",
     "start_time": "2024-03-15T14:12:18.432733Z"
    },
    "collapsed": true,
    "jupyter": {
     "outputs_hidden": true
    }
   },
   "outputs": [
    {
     "name": "stdout",
     "output_type": "stream",
     "text": [
      "Epoch 23: early stopping\n",
      "new max r2: 0.5919499397277832\n",
      "Epoch 23: early stopping\n",
      "new max r2: 0.6009912490844727\n",
      "Epoch 21: early stopping\n",
      "new max r2: 0.6123344898223877\n",
      "Epoch 22: early stopping\n",
      "Epoch 32: early stopping\n",
      "Epoch 26: early stopping\n"
     ]
    },
    {
     "ename": "KeyboardInterrupt",
     "evalue": "",
     "output_type": "error",
     "traceback": [
      "\u001b[0;31m---------------------------------------------------------------------------\u001b[0m",
      "\u001b[0;31mKeyboardInterrupt\u001b[0m                         Traceback (most recent call last)",
      "Cell \u001b[0;32mIn[12], line 6\u001b[0m\n\u001b[1;32m      4\u001b[0m \u001b[38;5;28;01mfor\u001b[39;00m i \u001b[38;5;129;01min\u001b[39;00m \u001b[38;5;28mrange\u001b[39m(\u001b[38;5;241m100\u001b[39m):\n\u001b[1;32m      5\u001b[0m     manual_adversary \u001b[38;5;241m=\u001b[39m create_and_compile((adv_X\u001b[38;5;241m.\u001b[39mshape[\u001b[38;5;241m1\u001b[39m],))\n\u001b[0;32m----> 6\u001b[0m     history \u001b[38;5;241m=\u001b[39m \u001b[43mmanual_adversary\u001b[49m\u001b[38;5;241;43m.\u001b[39;49m\u001b[43mfit\u001b[49m\u001b[43m(\u001b[49m\n\u001b[1;32m      7\u001b[0m \u001b[43m        \u001b[49m\u001b[43madv_X\u001b[49m\u001b[43m,\u001b[49m\n\u001b[1;32m      8\u001b[0m \u001b[43m        \u001b[49m\u001b[43madv_y\u001b[49m\u001b[43m,\u001b[49m\n\u001b[1;32m      9\u001b[0m \u001b[43m        \u001b[49m\u001b[43mepochs\u001b[49m\u001b[38;5;241;43m=\u001b[39;49m\u001b[38;5;241;43m200\u001b[39;49m\u001b[43m,\u001b[49m\n\u001b[1;32m     10\u001b[0m \u001b[43m        \u001b[49m\u001b[43mvalidation_data\u001b[49m\u001b[38;5;241;43m=\u001b[39;49m\u001b[43m(\u001b[49m\u001b[43madv_X_test\u001b[49m\u001b[43m,\u001b[49m\u001b[43m \u001b[49m\u001b[43madv_y_test\u001b[49m\u001b[43m)\u001b[49m\u001b[43m,\u001b[49m\n\u001b[1;32m     11\u001b[0m \u001b[43m        \u001b[49m\u001b[43mbatch_size\u001b[49m\u001b[38;5;241;43m=\u001b[39;49m\u001b[38;5;241;43m18\u001b[39;49m\u001b[43m,\u001b[49m\n\u001b[1;32m     12\u001b[0m \u001b[43m        \u001b[49m\u001b[43mverbose\u001b[49m\u001b[38;5;241;43m=\u001b[39;49m\u001b[38;5;241;43m0\u001b[39;49m\u001b[43m,\u001b[49m\n\u001b[1;32m     13\u001b[0m \u001b[43m        \u001b[49m\u001b[43mcallbacks\u001b[49m\u001b[38;5;241;43m=\u001b[39;49m\u001b[43m[\u001b[49m\n\u001b[1;32m     14\u001b[0m \u001b[43m            \u001b[49m\u001b[43mkeras\u001b[49m\u001b[38;5;241;43m.\u001b[39;49m\u001b[43mcallbacks\u001b[49m\u001b[38;5;241;43m.\u001b[39;49m\u001b[43mEarlyStopping\u001b[49m\u001b[43m(\u001b[49m\u001b[38;5;124;43m'\u001b[39;49m\u001b[38;5;124;43mval_r2_score\u001b[39;49m\u001b[38;5;124;43m'\u001b[39;49m\u001b[43m,\u001b[49m\u001b[43m \u001b[49m\u001b[43mmode\u001b[49m\u001b[38;5;241;43m=\u001b[39;49m\u001b[38;5;124;43m'\u001b[39;49m\u001b[38;5;124;43mmax\u001b[39;49m\u001b[38;5;124;43m'\u001b[39;49m\u001b[43m,\u001b[49m\u001b[43m \u001b[49m\u001b[43mpatience\u001b[49m\u001b[38;5;241;43m=\u001b[39;49m\u001b[38;5;241;43m20\u001b[39;49m\u001b[43m,\u001b[49m\u001b[43m \u001b[49m\u001b[43mverbose\u001b[49m\u001b[38;5;241;43m=\u001b[39;49m\u001b[38;5;241;43m1\u001b[39;49m\u001b[43m)\u001b[49m\u001b[43m,\u001b[49m\n\u001b[1;32m     15\u001b[0m \u001b[43m            \u001b[49m\u001b[43mkeras\u001b[49m\u001b[38;5;241;43m.\u001b[39;49m\u001b[43mcallbacks\u001b[49m\u001b[38;5;241;43m.\u001b[39;49m\u001b[43mModelCheckpoint\u001b[49m\u001b[43m(\u001b[49m\n\u001b[1;32m     16\u001b[0m \u001b[43m                \u001b[49m\u001b[43mfilepath\u001b[49m\u001b[38;5;241;43m=\u001b[39;49m\u001b[43mcheckpoint_filepath\u001b[49m\u001b[43m,\u001b[49m\n\u001b[1;32m     17\u001b[0m \u001b[43m                \u001b[49m\u001b[43msave_weights_only\u001b[49m\u001b[38;5;241;43m=\u001b[39;49m\u001b[38;5;28;43;01mTrue\u001b[39;49;00m\u001b[43m,\u001b[49m\n\u001b[1;32m     18\u001b[0m \u001b[43m                \u001b[49m\u001b[43mmonitor\u001b[49m\u001b[38;5;241;43m=\u001b[39;49m\u001b[38;5;124;43m'\u001b[39;49m\u001b[38;5;124;43mval_r2_score\u001b[39;49m\u001b[38;5;124;43m'\u001b[39;49m\u001b[43m,\u001b[49m\n\u001b[1;32m     19\u001b[0m \u001b[43m                \u001b[49m\u001b[43mmode\u001b[49m\u001b[38;5;241;43m=\u001b[39;49m\u001b[38;5;124;43m'\u001b[39;49m\u001b[38;5;124;43mmax\u001b[39;49m\u001b[38;5;124;43m'\u001b[39;49m\u001b[43m,\u001b[49m\n\u001b[1;32m     20\u001b[0m \u001b[43m                \u001b[49m\u001b[43msave_best_only\u001b[49m\u001b[38;5;241;43m=\u001b[39;49m\u001b[38;5;28;43;01mTrue\u001b[39;49;00m\u001b[43m)\u001b[49m\n\u001b[1;32m     21\u001b[0m \u001b[43m        \u001b[49m\u001b[43m]\u001b[49m\u001b[43m)\u001b[49m\n\u001b[1;32m     22\u001b[0m     newmax \u001b[38;5;241m=\u001b[39m \u001b[38;5;28mmax\u001b[39m(history\u001b[38;5;241m.\u001b[39mhistory[\u001b[38;5;124m'\u001b[39m\u001b[38;5;124mval_r2_score\u001b[39m\u001b[38;5;124m'\u001b[39m])\n\u001b[1;32m     23\u001b[0m     \u001b[38;5;28;01mif\u001b[39;00m newmax \u001b[38;5;241m>\u001b[39m currentmax:\n",
      "File \u001b[0;32m/informatik2/svs/home/stock/anaconda3/envs/pia-tf/lib/python3.10/site-packages/keras/src/utils/traceback_utils.py:117\u001b[0m, in \u001b[0;36mfilter_traceback.<locals>.error_handler\u001b[0;34m(*args, **kwargs)\u001b[0m\n\u001b[1;32m    115\u001b[0m filtered_tb \u001b[38;5;241m=\u001b[39m \u001b[38;5;28;01mNone\u001b[39;00m\n\u001b[1;32m    116\u001b[0m \u001b[38;5;28;01mtry\u001b[39;00m:\n\u001b[0;32m--> 117\u001b[0m     \u001b[38;5;28;01mreturn\u001b[39;00m \u001b[43mfn\u001b[49m\u001b[43m(\u001b[49m\u001b[38;5;241;43m*\u001b[39;49m\u001b[43margs\u001b[49m\u001b[43m,\u001b[49m\u001b[43m \u001b[49m\u001b[38;5;241;43m*\u001b[39;49m\u001b[38;5;241;43m*\u001b[39;49m\u001b[43mkwargs\u001b[49m\u001b[43m)\u001b[49m\n\u001b[1;32m    118\u001b[0m \u001b[38;5;28;01mexcept\u001b[39;00m \u001b[38;5;167;01mException\u001b[39;00m \u001b[38;5;28;01mas\u001b[39;00m e:\n\u001b[1;32m    119\u001b[0m     filtered_tb \u001b[38;5;241m=\u001b[39m _process_traceback_frames(e\u001b[38;5;241m.\u001b[39m__traceback__)\n",
      "File \u001b[0;32m/informatik2/svs/home/stock/anaconda3/envs/pia-tf/lib/python3.10/site-packages/keras/src/backend/tensorflow/trainer.py:325\u001b[0m, in \u001b[0;36mTensorFlowTrainer.fit\u001b[0;34m(self, x, y, batch_size, epochs, verbose, callbacks, validation_split, validation_data, shuffle, class_weight, sample_weight, initial_epoch, steps_per_epoch, validation_steps, validation_batch_size, validation_freq)\u001b[0m\n\u001b[1;32m    323\u001b[0m \u001b[38;5;28;01mfor\u001b[39;00m step, iterator \u001b[38;5;129;01min\u001b[39;00m epoch_iterator\u001b[38;5;241m.\u001b[39menumerate_epoch():\n\u001b[1;32m    324\u001b[0m     callbacks\u001b[38;5;241m.\u001b[39mon_train_batch_begin(step)\n\u001b[0;32m--> 325\u001b[0m     logs \u001b[38;5;241m=\u001b[39m \u001b[38;5;28;43mself\u001b[39;49m\u001b[38;5;241;43m.\u001b[39;49m\u001b[43mtrain_function\u001b[49m\u001b[43m(\u001b[49m\u001b[43miterator\u001b[49m\u001b[43m)\u001b[49m\n\u001b[1;32m    326\u001b[0m     callbacks\u001b[38;5;241m.\u001b[39mon_train_batch_end(\n\u001b[1;32m    327\u001b[0m         step, \u001b[38;5;28mself\u001b[39m\u001b[38;5;241m.\u001b[39m_pythonify_logs(logs)\n\u001b[1;32m    328\u001b[0m     )\n\u001b[1;32m    329\u001b[0m     \u001b[38;5;28;01mif\u001b[39;00m \u001b[38;5;28mself\u001b[39m\u001b[38;5;241m.\u001b[39mstop_training:\n",
      "File \u001b[0;32m/informatik2/svs/home/stock/anaconda3/envs/pia-tf/lib/python3.10/site-packages/tensorflow/python/util/traceback_utils.py:150\u001b[0m, in \u001b[0;36mfilter_traceback.<locals>.error_handler\u001b[0;34m(*args, **kwargs)\u001b[0m\n\u001b[1;32m    148\u001b[0m filtered_tb \u001b[38;5;241m=\u001b[39m \u001b[38;5;28;01mNone\u001b[39;00m\n\u001b[1;32m    149\u001b[0m \u001b[38;5;28;01mtry\u001b[39;00m:\n\u001b[0;32m--> 150\u001b[0m   \u001b[38;5;28;01mreturn\u001b[39;00m \u001b[43mfn\u001b[49m\u001b[43m(\u001b[49m\u001b[38;5;241;43m*\u001b[39;49m\u001b[43margs\u001b[49m\u001b[43m,\u001b[49m\u001b[43m \u001b[49m\u001b[38;5;241;43m*\u001b[39;49m\u001b[38;5;241;43m*\u001b[39;49m\u001b[43mkwargs\u001b[49m\u001b[43m)\u001b[49m\n\u001b[1;32m    151\u001b[0m \u001b[38;5;28;01mexcept\u001b[39;00m \u001b[38;5;167;01mException\u001b[39;00m \u001b[38;5;28;01mas\u001b[39;00m e:\n\u001b[1;32m    152\u001b[0m   filtered_tb \u001b[38;5;241m=\u001b[39m _process_traceback_frames(e\u001b[38;5;241m.\u001b[39m__traceback__)\n",
      "File \u001b[0;32m/informatik2/svs/home/stock/anaconda3/envs/pia-tf/lib/python3.10/site-packages/tensorflow/python/eager/polymorphic_function/polymorphic_function.py:833\u001b[0m, in \u001b[0;36mFunction.__call__\u001b[0;34m(self, *args, **kwds)\u001b[0m\n\u001b[1;32m    830\u001b[0m compiler \u001b[38;5;241m=\u001b[39m \u001b[38;5;124m\"\u001b[39m\u001b[38;5;124mxla\u001b[39m\u001b[38;5;124m\"\u001b[39m \u001b[38;5;28;01mif\u001b[39;00m \u001b[38;5;28mself\u001b[39m\u001b[38;5;241m.\u001b[39m_jit_compile \u001b[38;5;28;01melse\u001b[39;00m \u001b[38;5;124m\"\u001b[39m\u001b[38;5;124mnonXla\u001b[39m\u001b[38;5;124m\"\u001b[39m\n\u001b[1;32m    832\u001b[0m \u001b[38;5;28;01mwith\u001b[39;00m OptionalXlaContext(\u001b[38;5;28mself\u001b[39m\u001b[38;5;241m.\u001b[39m_jit_compile):\n\u001b[0;32m--> 833\u001b[0m   result \u001b[38;5;241m=\u001b[39m \u001b[38;5;28;43mself\u001b[39;49m\u001b[38;5;241;43m.\u001b[39;49m\u001b[43m_call\u001b[49m\u001b[43m(\u001b[49m\u001b[38;5;241;43m*\u001b[39;49m\u001b[43margs\u001b[49m\u001b[43m,\u001b[49m\u001b[43m \u001b[49m\u001b[38;5;241;43m*\u001b[39;49m\u001b[38;5;241;43m*\u001b[39;49m\u001b[43mkwds\u001b[49m\u001b[43m)\u001b[49m\n\u001b[1;32m    835\u001b[0m new_tracing_count \u001b[38;5;241m=\u001b[39m \u001b[38;5;28mself\u001b[39m\u001b[38;5;241m.\u001b[39mexperimental_get_tracing_count()\n\u001b[1;32m    836\u001b[0m without_tracing \u001b[38;5;241m=\u001b[39m (tracing_count \u001b[38;5;241m==\u001b[39m new_tracing_count)\n",
      "File \u001b[0;32m/informatik2/svs/home/stock/anaconda3/envs/pia-tf/lib/python3.10/site-packages/tensorflow/python/eager/polymorphic_function/polymorphic_function.py:878\u001b[0m, in \u001b[0;36mFunction._call\u001b[0;34m(self, *args, **kwds)\u001b[0m\n\u001b[1;32m    875\u001b[0m \u001b[38;5;28mself\u001b[39m\u001b[38;5;241m.\u001b[39m_lock\u001b[38;5;241m.\u001b[39mrelease()\n\u001b[1;32m    876\u001b[0m \u001b[38;5;66;03m# In this case we have not created variables on the first call. So we can\u001b[39;00m\n\u001b[1;32m    877\u001b[0m \u001b[38;5;66;03m# run the first trace but we should fail if variables are created.\u001b[39;00m\n\u001b[0;32m--> 878\u001b[0m results \u001b[38;5;241m=\u001b[39m \u001b[43mtracing_compilation\u001b[49m\u001b[38;5;241;43m.\u001b[39;49m\u001b[43mcall_function\u001b[49m\u001b[43m(\u001b[49m\n\u001b[1;32m    879\u001b[0m \u001b[43m    \u001b[49m\u001b[43margs\u001b[49m\u001b[43m,\u001b[49m\u001b[43m \u001b[49m\u001b[43mkwds\u001b[49m\u001b[43m,\u001b[49m\u001b[43m \u001b[49m\u001b[38;5;28;43mself\u001b[39;49m\u001b[38;5;241;43m.\u001b[39;49m\u001b[43m_variable_creation_config\u001b[49m\n\u001b[1;32m    880\u001b[0m \u001b[43m\u001b[49m\u001b[43m)\u001b[49m\n\u001b[1;32m    881\u001b[0m \u001b[38;5;28;01mif\u001b[39;00m \u001b[38;5;28mself\u001b[39m\u001b[38;5;241m.\u001b[39m_created_variables:\n\u001b[1;32m    882\u001b[0m   \u001b[38;5;28;01mraise\u001b[39;00m \u001b[38;5;167;01mValueError\u001b[39;00m(\u001b[38;5;124m\"\u001b[39m\u001b[38;5;124mCreating variables on a non-first call to a function\u001b[39m\u001b[38;5;124m\"\u001b[39m\n\u001b[1;32m    883\u001b[0m                    \u001b[38;5;124m\"\u001b[39m\u001b[38;5;124m decorated with tf.function.\u001b[39m\u001b[38;5;124m\"\u001b[39m)\n",
      "File \u001b[0;32m/informatik2/svs/home/stock/anaconda3/envs/pia-tf/lib/python3.10/site-packages/tensorflow/python/eager/polymorphic_function/tracing_compilation.py:139\u001b[0m, in \u001b[0;36mcall_function\u001b[0;34m(args, kwargs, tracing_options)\u001b[0m\n\u001b[1;32m    137\u001b[0m bound_args \u001b[38;5;241m=\u001b[39m function\u001b[38;5;241m.\u001b[39mfunction_type\u001b[38;5;241m.\u001b[39mbind(\u001b[38;5;241m*\u001b[39margs, \u001b[38;5;241m*\u001b[39m\u001b[38;5;241m*\u001b[39mkwargs)\n\u001b[1;32m    138\u001b[0m flat_inputs \u001b[38;5;241m=\u001b[39m function\u001b[38;5;241m.\u001b[39mfunction_type\u001b[38;5;241m.\u001b[39munpack_inputs(bound_args)\n\u001b[0;32m--> 139\u001b[0m \u001b[38;5;28;01mreturn\u001b[39;00m \u001b[43mfunction\u001b[49m\u001b[38;5;241;43m.\u001b[39;49m\u001b[43m_call_flat\u001b[49m\u001b[43m(\u001b[49m\u001b[43m  \u001b[49m\u001b[38;5;66;43;03m# pylint: disable=protected-access\u001b[39;49;00m\n\u001b[1;32m    140\u001b[0m \u001b[43m    \u001b[49m\u001b[43mflat_inputs\u001b[49m\u001b[43m,\u001b[49m\u001b[43m \u001b[49m\u001b[43mcaptured_inputs\u001b[49m\u001b[38;5;241;43m=\u001b[39;49m\u001b[43mfunction\u001b[49m\u001b[38;5;241;43m.\u001b[39;49m\u001b[43mcaptured_inputs\u001b[49m\n\u001b[1;32m    141\u001b[0m \u001b[43m\u001b[49m\u001b[43m)\u001b[49m\n",
      "File \u001b[0;32m/informatik2/svs/home/stock/anaconda3/envs/pia-tf/lib/python3.10/site-packages/tensorflow/python/eager/polymorphic_function/concrete_function.py:1322\u001b[0m, in \u001b[0;36mConcreteFunction._call_flat\u001b[0;34m(self, tensor_inputs, captured_inputs)\u001b[0m\n\u001b[1;32m   1318\u001b[0m possible_gradient_type \u001b[38;5;241m=\u001b[39m gradients_util\u001b[38;5;241m.\u001b[39mPossibleTapeGradientTypes(args)\n\u001b[1;32m   1319\u001b[0m \u001b[38;5;28;01mif\u001b[39;00m (possible_gradient_type \u001b[38;5;241m==\u001b[39m gradients_util\u001b[38;5;241m.\u001b[39mPOSSIBLE_GRADIENT_TYPES_NONE\n\u001b[1;32m   1320\u001b[0m     \u001b[38;5;129;01mand\u001b[39;00m executing_eagerly):\n\u001b[1;32m   1321\u001b[0m   \u001b[38;5;66;03m# No tape is watching; skip to running the function.\u001b[39;00m\n\u001b[0;32m-> 1322\u001b[0m   \u001b[38;5;28;01mreturn\u001b[39;00m \u001b[38;5;28;43mself\u001b[39;49m\u001b[38;5;241;43m.\u001b[39;49m\u001b[43m_inference_function\u001b[49m\u001b[38;5;241;43m.\u001b[39;49m\u001b[43mcall_preflattened\u001b[49m\u001b[43m(\u001b[49m\u001b[43margs\u001b[49m\u001b[43m)\u001b[49m\n\u001b[1;32m   1323\u001b[0m forward_backward \u001b[38;5;241m=\u001b[39m \u001b[38;5;28mself\u001b[39m\u001b[38;5;241m.\u001b[39m_select_forward_and_backward_functions(\n\u001b[1;32m   1324\u001b[0m     args,\n\u001b[1;32m   1325\u001b[0m     possible_gradient_type,\n\u001b[1;32m   1326\u001b[0m     executing_eagerly)\n\u001b[1;32m   1327\u001b[0m forward_function, args_with_tangents \u001b[38;5;241m=\u001b[39m forward_backward\u001b[38;5;241m.\u001b[39mforward()\n",
      "File \u001b[0;32m/informatik2/svs/home/stock/anaconda3/envs/pia-tf/lib/python3.10/site-packages/tensorflow/python/eager/polymorphic_function/atomic_function.py:216\u001b[0m, in \u001b[0;36mAtomicFunction.call_preflattened\u001b[0;34m(self, args)\u001b[0m\n\u001b[1;32m    214\u001b[0m \u001b[38;5;28;01mdef\u001b[39;00m \u001b[38;5;21mcall_preflattened\u001b[39m(\u001b[38;5;28mself\u001b[39m, args: Sequence[core\u001b[38;5;241m.\u001b[39mTensor]) \u001b[38;5;241m-\u001b[39m\u001b[38;5;241m>\u001b[39m Any:\n\u001b[1;32m    215\u001b[0m \u001b[38;5;250m  \u001b[39m\u001b[38;5;124;03m\"\"\"Calls with flattened tensor inputs and returns the structured output.\"\"\"\u001b[39;00m\n\u001b[0;32m--> 216\u001b[0m   flat_outputs \u001b[38;5;241m=\u001b[39m \u001b[38;5;28;43mself\u001b[39;49m\u001b[38;5;241;43m.\u001b[39;49m\u001b[43mcall_flat\u001b[49m\u001b[43m(\u001b[49m\u001b[38;5;241;43m*\u001b[39;49m\u001b[43margs\u001b[49m\u001b[43m)\u001b[49m\n\u001b[1;32m    217\u001b[0m   \u001b[38;5;28;01mreturn\u001b[39;00m \u001b[38;5;28mself\u001b[39m\u001b[38;5;241m.\u001b[39mfunction_type\u001b[38;5;241m.\u001b[39mpack_output(flat_outputs)\n",
      "File \u001b[0;32m/informatik2/svs/home/stock/anaconda3/envs/pia-tf/lib/python3.10/site-packages/tensorflow/python/eager/polymorphic_function/atomic_function.py:251\u001b[0m, in \u001b[0;36mAtomicFunction.call_flat\u001b[0;34m(self, *args)\u001b[0m\n\u001b[1;32m    249\u001b[0m \u001b[38;5;28;01mwith\u001b[39;00m record\u001b[38;5;241m.\u001b[39mstop_recording():\n\u001b[1;32m    250\u001b[0m   \u001b[38;5;28;01mif\u001b[39;00m \u001b[38;5;28mself\u001b[39m\u001b[38;5;241m.\u001b[39m_bound_context\u001b[38;5;241m.\u001b[39mexecuting_eagerly():\n\u001b[0;32m--> 251\u001b[0m     outputs \u001b[38;5;241m=\u001b[39m \u001b[38;5;28;43mself\u001b[39;49m\u001b[38;5;241;43m.\u001b[39;49m\u001b[43m_bound_context\u001b[49m\u001b[38;5;241;43m.\u001b[39;49m\u001b[43mcall_function\u001b[49m\u001b[43m(\u001b[49m\n\u001b[1;32m    252\u001b[0m \u001b[43m        \u001b[49m\u001b[38;5;28;43mself\u001b[39;49m\u001b[38;5;241;43m.\u001b[39;49m\u001b[43mname\u001b[49m\u001b[43m,\u001b[49m\n\u001b[1;32m    253\u001b[0m \u001b[43m        \u001b[49m\u001b[38;5;28;43mlist\u001b[39;49m\u001b[43m(\u001b[49m\u001b[43margs\u001b[49m\u001b[43m)\u001b[49m\u001b[43m,\u001b[49m\n\u001b[1;32m    254\u001b[0m \u001b[43m        \u001b[49m\u001b[38;5;28;43mlen\u001b[39;49m\u001b[43m(\u001b[49m\u001b[38;5;28;43mself\u001b[39;49m\u001b[38;5;241;43m.\u001b[39;49m\u001b[43mfunction_type\u001b[49m\u001b[38;5;241;43m.\u001b[39;49m\u001b[43mflat_outputs\u001b[49m\u001b[43m)\u001b[49m\u001b[43m,\u001b[49m\n\u001b[1;32m    255\u001b[0m \u001b[43m    \u001b[49m\u001b[43m)\u001b[49m\n\u001b[1;32m    256\u001b[0m   \u001b[38;5;28;01melse\u001b[39;00m:\n\u001b[1;32m    257\u001b[0m     outputs \u001b[38;5;241m=\u001b[39m make_call_op_in_graph(\n\u001b[1;32m    258\u001b[0m         \u001b[38;5;28mself\u001b[39m,\n\u001b[1;32m    259\u001b[0m         \u001b[38;5;28mlist\u001b[39m(args),\n\u001b[1;32m    260\u001b[0m         \u001b[38;5;28mself\u001b[39m\u001b[38;5;241m.\u001b[39m_bound_context\u001b[38;5;241m.\u001b[39mfunction_call_options\u001b[38;5;241m.\u001b[39mas_attrs(),\n\u001b[1;32m    261\u001b[0m     )\n",
      "File \u001b[0;32m/informatik2/svs/home/stock/anaconda3/envs/pia-tf/lib/python3.10/site-packages/tensorflow/python/eager/context.py:1500\u001b[0m, in \u001b[0;36mContext.call_function\u001b[0;34m(self, name, tensor_inputs, num_outputs)\u001b[0m\n\u001b[1;32m   1498\u001b[0m cancellation_context \u001b[38;5;241m=\u001b[39m cancellation\u001b[38;5;241m.\u001b[39mcontext()\n\u001b[1;32m   1499\u001b[0m \u001b[38;5;28;01mif\u001b[39;00m cancellation_context \u001b[38;5;129;01mis\u001b[39;00m \u001b[38;5;28;01mNone\u001b[39;00m:\n\u001b[0;32m-> 1500\u001b[0m   outputs \u001b[38;5;241m=\u001b[39m \u001b[43mexecute\u001b[49m\u001b[38;5;241;43m.\u001b[39;49m\u001b[43mexecute\u001b[49m\u001b[43m(\u001b[49m\n\u001b[1;32m   1501\u001b[0m \u001b[43m      \u001b[49m\u001b[43mname\u001b[49m\u001b[38;5;241;43m.\u001b[39;49m\u001b[43mdecode\u001b[49m\u001b[43m(\u001b[49m\u001b[38;5;124;43m\"\u001b[39;49m\u001b[38;5;124;43mutf-8\u001b[39;49m\u001b[38;5;124;43m\"\u001b[39;49m\u001b[43m)\u001b[49m\u001b[43m,\u001b[49m\n\u001b[1;32m   1502\u001b[0m \u001b[43m      \u001b[49m\u001b[43mnum_outputs\u001b[49m\u001b[38;5;241;43m=\u001b[39;49m\u001b[43mnum_outputs\u001b[49m\u001b[43m,\u001b[49m\n\u001b[1;32m   1503\u001b[0m \u001b[43m      \u001b[49m\u001b[43minputs\u001b[49m\u001b[38;5;241;43m=\u001b[39;49m\u001b[43mtensor_inputs\u001b[49m\u001b[43m,\u001b[49m\n\u001b[1;32m   1504\u001b[0m \u001b[43m      \u001b[49m\u001b[43mattrs\u001b[49m\u001b[38;5;241;43m=\u001b[39;49m\u001b[43mattrs\u001b[49m\u001b[43m,\u001b[49m\n\u001b[1;32m   1505\u001b[0m \u001b[43m      \u001b[49m\u001b[43mctx\u001b[49m\u001b[38;5;241;43m=\u001b[39;49m\u001b[38;5;28;43mself\u001b[39;49m\u001b[43m,\u001b[49m\n\u001b[1;32m   1506\u001b[0m \u001b[43m  \u001b[49m\u001b[43m)\u001b[49m\n\u001b[1;32m   1507\u001b[0m \u001b[38;5;28;01melse\u001b[39;00m:\n\u001b[1;32m   1508\u001b[0m   outputs \u001b[38;5;241m=\u001b[39m execute\u001b[38;5;241m.\u001b[39mexecute_with_cancellation(\n\u001b[1;32m   1509\u001b[0m       name\u001b[38;5;241m.\u001b[39mdecode(\u001b[38;5;124m\"\u001b[39m\u001b[38;5;124mutf-8\u001b[39m\u001b[38;5;124m\"\u001b[39m),\n\u001b[1;32m   1510\u001b[0m       num_outputs\u001b[38;5;241m=\u001b[39mnum_outputs,\n\u001b[0;32m   (...)\u001b[0m\n\u001b[1;32m   1514\u001b[0m       cancellation_manager\u001b[38;5;241m=\u001b[39mcancellation_context,\n\u001b[1;32m   1515\u001b[0m   )\n",
      "File \u001b[0;32m/informatik2/svs/home/stock/anaconda3/envs/pia-tf/lib/python3.10/site-packages/tensorflow/python/eager/execute.py:53\u001b[0m, in \u001b[0;36mquick_execute\u001b[0;34m(op_name, num_outputs, inputs, attrs, ctx, name)\u001b[0m\n\u001b[1;32m     51\u001b[0m \u001b[38;5;28;01mtry\u001b[39;00m:\n\u001b[1;32m     52\u001b[0m   ctx\u001b[38;5;241m.\u001b[39mensure_initialized()\n\u001b[0;32m---> 53\u001b[0m   tensors \u001b[38;5;241m=\u001b[39m \u001b[43mpywrap_tfe\u001b[49m\u001b[38;5;241;43m.\u001b[39;49m\u001b[43mTFE_Py_Execute\u001b[49m\u001b[43m(\u001b[49m\u001b[43mctx\u001b[49m\u001b[38;5;241;43m.\u001b[39;49m\u001b[43m_handle\u001b[49m\u001b[43m,\u001b[49m\u001b[43m \u001b[49m\u001b[43mdevice_name\u001b[49m\u001b[43m,\u001b[49m\u001b[43m \u001b[49m\u001b[43mop_name\u001b[49m\u001b[43m,\u001b[49m\n\u001b[1;32m     54\u001b[0m \u001b[43m                                      \u001b[49m\u001b[43minputs\u001b[49m\u001b[43m,\u001b[49m\u001b[43m \u001b[49m\u001b[43mattrs\u001b[49m\u001b[43m,\u001b[49m\u001b[43m \u001b[49m\u001b[43mnum_outputs\u001b[49m\u001b[43m)\u001b[49m\n\u001b[1;32m     55\u001b[0m \u001b[38;5;28;01mexcept\u001b[39;00m core\u001b[38;5;241m.\u001b[39m_NotOkStatusException \u001b[38;5;28;01mas\u001b[39;00m e:\n\u001b[1;32m     56\u001b[0m   \u001b[38;5;28;01mif\u001b[39;00m name \u001b[38;5;129;01mis\u001b[39;00m \u001b[38;5;129;01mnot\u001b[39;00m \u001b[38;5;28;01mNone\u001b[39;00m:\n",
      "\u001b[0;31mKeyboardInterrupt\u001b[0m: "
     ]
    }
   ],
   "source": [
    "checkpoint_filepath = \"cifar/models/manual_tuning_checkpoints_v2/keras.weights.h5\"\n",
    "\n",
    "currentmax = 0.5\n",
    "for i in range(100):\n",
    "    manual_adversary = create_and_compile((adv_X.shape[1],))\n",
    "    history = manual_adversary.fit(\n",
    "        adv_X,\n",
    "        adv_y,\n",
    "        epochs=200,\n",
    "        validation_data=(adv_X_test, adv_y_test),\n",
    "        batch_size=18,\n",
    "        verbose=0,\n",
    "        callbacks=[\n",
    "            keras.callbacks.EarlyStopping('val_r2_score', mode='max', patience=20, verbose=1),\n",
    "            keras.callbacks.ModelCheckpoint(\n",
    "                filepath=checkpoint_filepath,\n",
    "                save_weights_only=True,\n",
    "                monitor='val_r2_score',\n",
    "                mode='max',\n",
    "                save_best_only=True)\n",
    "        ])\n",
    "    newmax = max(history.history['val_r2_score'])\n",
    "    if newmax > currentmax:\n",
    "        print(f\"new max r2: {newmax}\")\n",
    "        currentmax = newmax\n",
    "        manual_adversary.load_weights(checkpoint_filepath)\n",
    "        manual_adversary.save(f\"cifar/models/cifar_adv_v2_{round(newmax, 2)}_test_r2.keras\")"
   ]
  },
  {
   "cell_type": "code",
   "execution_count": 13,
   "id": "a1e18cdb-bab6-4be3-bd89-d8fa4ee47ffa",
   "metadata": {},
   "outputs": [],
   "source": [
    "advv = keras.models.load_model(\"cifar/models/cifar_adv_v2_0.61_test_r2.keras\")"
   ]
  },
  {
   "cell_type": "code",
   "execution_count": null,
   "id": "2c3fb54e-f5ee-4add-a68d-d9af9115d3d4",
   "metadata": {},
   "outputs": [],
   "source": []
  },
  {
   "cell_type": "code",
   "execution_count": 24,
   "id": "d58b6ceca2269ba4",
   "metadata": {
    "ExecuteTime": {
     "end_time": "2024-03-15T11:50:31.105219Z",
     "start_time": "2024-03-15T11:50:30.518889Z"
    },
    "collapsed": false,
    "jupyter": {
     "outputs_hidden": false
    }
   },
   "outputs": [
    {
     "data": {
      "image/png": "[encoded data removed]",
      "text/plain": [
       "<Figure size 1200x600 with 2 Axes>"
      ]
     },
     "metadata": {},
     "output_type": "display_data"
    }
   ],
   "source": [
    "plot_history(history)"
   ]
  },
  {
   "cell_type": "code",
   "execution_count": 12,
   "id": "100fc2f3c66f1f24",
   "metadata": {
    "ExecuteTime": {
     "end_time": "2024-03-15T11:21:17.574673Z",
     "start_time": "2024-03-15T11:21:16.990962Z"
    },
    "collapsed": false,
    "jupyter": {
     "outputs_hidden": false
    }
   },
   "outputs": [],
   "source": [
    "import matplotlib.pyplot as plt\n",
    "def plot_history(history, dist=None):\n",
    "    plt.figure(figsize=(12, 6))\n",
    "    plt.subplot(1, 2, 1)\n",
    "    plt.plot(history.history['r2_score'][1:])\n",
    "    plt.plot(history.history['val_r2_score'][1:])\n",
    "    plt.title(f'Model r2 score ({\"\" if dist == None else dist*100}% old)')\n",
    "    plt.ylabel('R2 Score')\n",
    "    plt.xlabel('Epoch')\n",
    "    plt.legend(['Train', 'Test'], loc='upper left')\n",
    "\n",
    "    # Plot training & validation loss values\n",
    "    plt.subplot(1, 2, 2)\n",
    "    plt.plot(history.history['loss'][1:])\n",
    "    plt.plot(history.history['val_loss'][1:])\n",
    "    plt.title('Model loss')\n",
    "    plt.ylabel('Loss')\n",
    "    plt.xlabel('Epoch')\n",
    "    plt.legend(['Train', 'Test'], loc='upper left')\n",
    "    plt.tight_layout()"
   ]
  },
  {
   "cell_type": "code",
   "execution_count": 15,
   "id": "89b9cb0ea31294ce",
   "metadata": {
    "ExecuteTime": {
     "end_time": "2024-03-15T14:16:43.895852Z",
     "start_time": "2024-03-15T14:16:43.723788Z"
    },
    "collapsed": false,
    "jupyter": {
     "outputs_hidden": false
    }
   },
   "outputs": [],
   "source": [
    "manual_adversary.load_weights(\"cifar/models/manual_tuning_checkpoints/keras.weights.h5\")"
   ]
  },
  {
   "cell_type": "code",
   "execution_count": 16,
   "id": "73448efcefc92133",
   "metadata": {
    "ExecuteTime": {
     "end_time": "2024-03-15T14:16:51.747374Z",
     "start_time": "2024-03-15T14:16:43.897746Z"
    },
    "collapsed": false,
    "jupyter": {
     "outputs_hidden": false
    }
   },
   "outputs": [
    {
     "name": "stdout",
     "output_type": "stream",
     "text": [
      "29/29 [==============================] - 1s 13ms/step - loss: 0.0240 - r2_score: 0.6400\n"
     ]
    },
    {
     "data": {
      "text/plain": [
       "[0.024002226069569588, 0.639966607093811]"
      ]
     },
     "execution_count": 16,
     "metadata": {},
     "output_type": "execute_result"
    }
   ],
   "source": [
    "manual_adversary.evaluate(adv_X_test, adv_y_test)"
   ]
  },
  {
   "cell_type": "code",
   "execution_count": 17,
   "id": "69da33a020fcc4b0",
   "metadata": {
    "ExecuteTime": {
     "end_time": "2024-03-15T14:17:01.673907Z",
     "start_time": "2024-03-15T14:17:01.525270Z"
    },
    "collapsed": false,
    "jupyter": {
     "outputs_hidden": false
    }
   },
   "outputs": [],
   "source": [
    "manual_adversary.save(\"cifar/models/cifar-adv_0.64_test_r2.keras\")"
   ]
  },
  {
   "cell_type": "code",
   "execution_count": 5,
   "id": "f67226fbed02ea07",
   "metadata": {
    "ExecuteTime": {
     "end_time": "2024-03-13T08:55:46.993153Z",
     "start_time": "2024-03-13T08:55:42.573448Z"
    },
    "collapsed": false,
    "jupyter": {
     "outputs_hidden": false
    }
   },
   "outputs": [
    {
     "name": "stderr",
     "output_type": "stream",
     "text": [
      "2024-03-13 08:55:43.485370: E external/local_xla/xla/stream_executor/cuda/cuda_dnn.cc:9261] Unable to register cuDNN factory: Attempting to register factory for plugin cuDNN when one has already been registered\n",
      "2024-03-13 08:55:43.486715: E external/local_xla/xla/stream_executor/cuda/cuda_fft.cc:607] Unable to register cuFFT factory: Attempting to register factory for plugin cuFFT when one has already been registered\n",
      "2024-03-13 08:55:43.536194: E external/local_xla/xla/stream_executor/cuda/cuda_blas.cc:1515] Unable to register cuBLAS factory: Attempting to register factory for plugin cuBLAS when one has already been registered\n",
      "2024-03-13 08:55:43.617277: I tensorflow/core/platform/cpu_feature_guard.cc:182] This TensorFlow binary is optimized to use available CPU instructions in performance-critical operations.\n",
      "To enable the following instructions: AVX2 FMA, in other operations, rebuild TensorFlow with the appropriate compiler flags.\n",
      "2024-03-13 08:55:44.765050: W tensorflow/compiler/tf2tensorrt/utils/py_utils.cc:38] TF-TRT Warning: Could not find TensorRT\n"
     ]
    }
   ],
   "source": [
    "import keras_tuner\n",
    "from tensorflow import keras\n",
    "from keras_tuner.tuners import RandomSearch"
   ]
  },
  {
   "cell_type": "code",
   "execution_count": 9,
   "id": "9adcf4f9ebd0c4da",
   "metadata": {
    "ExecuteTime": {
     "end_time": "2024-03-13T08:57:12.352598Z",
     "start_time": "2024-03-13T08:57:12.342353Z"
    },
    "collapsed": false,
    "jupyter": {
     "outputs_hidden": false
    }
   },
   "outputs": [],
   "source": [
    "class MyHyperModel(keras_tuner.HyperModel):\n",
    "    def build(self, hp):\n",
    "        model = keras.Sequential()\n",
    "        model.add(keras.layers.Dense(hp.Int('units_dense0', min_value=24, max_value=40, step=4)))\n",
    "        if hp.Boolean(\"relu_dense0\"):\n",
    "            model.add(keras.layers.Activation(keras.activations.relu))\n",
    "        #model.add(keras.layers.Dropout(rate=hp.Float('dropout_rate', min_value=0.01, max_value=0.03, step=0.01)))\n",
    "        model.add(keras.layers.Dense(hp.Int('units_dense1', min_value=6, max_value=14, step=2)))\n",
    "        if hp.Boolean(\"relu_dense1\"):\n",
    "            model.add(keras.layers.Activation(keras.activations.relu))\n",
    "        model.add(keras.layers.Dense(1))\n",
    "        model.compile(optimizer=\"adam\", loss=keras.losses.MeanSquaredError(), metrics=[keras.metrics.R2Score()])\n",
    "        return model\n",
    "    def fit(self, hp, model, *args, **kwargs):\n",
    "        return model.fit(\n",
    "            *args,\n",
    "            batch_size=hp.Choice(\"batch_size\", [10, 18, 24]),\n",
    "            **kwargs,\n",
    "        )\n"
   ]
  },
  {
   "cell_type": "code",
   "execution_count": 10,
   "id": "2ee51702fd6ad5df",
   "metadata": {
    "ExecuteTime": {
     "end_time": "2024-03-13T08:57:12.596605Z",
     "start_time": "2024-03-13T08:57:12.522177Z"
    },
    "collapsed": false,
    "jupyter": {
     "outputs_hidden": false
    }
   },
   "outputs": [],
   "source": [
    "from keras_tuner import Objective\n",
    "tuner = RandomSearch(\n",
    "    MyHyperModel(),\n",
    "    #objective=keras_tuner.Objective('val_r2_score', direction='max'),\n",
    "    objective = Objective(name=\"val_r2_score\", direction=\"max\"),\n",
    "    max_trials = 50,\n",
    "    executions_per_trial = 4,\n",
    "    tuner_id=\"17.01.regression.adversary.cgpt\"\n",
    ")"
   ]
  },
  {
   "cell_type": "code",
   "execution_count": 11,
   "id": "58d8fb5b74ce9112",
   "metadata": {
    "collapsed": false,
    "jupyter": {
     "outputs_hidden": false
    }
   },
   "outputs": [
    {
     "name": "stdout",
     "output_type": "stream",
     "text": [
      "Trial 50 Complete [00h 05m 06s]\n",
      "val_r2_score: 0.4704882949590683\n",
      "\n",
      "Best val_r2_score So Far: 0.6202707141637802\n",
      "Total elapsed time: 04h 41m 16s\n"
     ]
    }
   ],
   "source": [
    "tuner.search(adv_X, adv_y, epochs=200, validation_data=(adv_X_test, adv_y_test), callbacks=[keras.callbacks.EarlyStopping('val_r2_score', mode='max', patience=20),])"
   ]
  },
  {
   "cell_type": "code",
   "execution_count": 12,
   "id": "2da7baa7ccfa2dd7",
   "metadata": {
    "ExecuteTime": {
     "end_time": "2024-03-13T17:06:21.454925Z",
     "start_time": "2024-03-13T17:06:16.297788Z"
    },
    "collapsed": false,
    "jupyter": {
     "outputs_hidden": false
    }
   },
   "outputs": [
    {
     "name": "stderr",
     "output_type": "stream",
     "text": [
      "/home/jstock/.local/lib/python3.10/site-packages/keras/src/saving/saving_lib.py:394: UserWarning: Skipping variable loading for optimizer 'adam', because it has 2 variables whereas the saved optimizer has 14 variables. \n",
      "  trackable.load_own_variables(weights_store.get(inner_path))\n"
     ]
    }
   ],
   "source": [
    "models = tuner.get_best_models(num_models=5)"
   ]
  },
  {
   "cell_type": "code",
   "execution_count": 13,
   "id": "7226e3adb52895f6",
   "metadata": {
    "ExecuteTime": {
     "end_time": "2024-03-13T17:06:31.473426Z",
     "start_time": "2024-03-13T17:06:31.467097Z"
    },
    "collapsed": false,
    "jupyter": {
     "outputs_hidden": false
    },
    "scrolled": true
   },
   "outputs": [
    {
     "name": "stdout",
     "output_type": "stream",
     "text": [
      "Results summary\n",
      "Results in ./untitled_project\n",
      "Showing 10 best trials\n",
      "Objective(name=\"val_r2_score\", direction=\"max\")\n",
      "\n",
      "Trial 10 summary\n",
      "Hyperparameters:\n",
      "units_dense0: 36\n",
      "relu_dense0: True\n",
      "units_dense1: 8\n",
      "relu_dense1: True\n",
      "batch_size: 24\n",
      "Score: 0.6202707141637802\n",
      "\n",
      "Trial 42 summary\n",
      "Hyperparameters:\n",
      "units_dense0: 28\n",
      "relu_dense0: True\n",
      "units_dense1: 10\n",
      "relu_dense1: True\n",
      "batch_size: 18\n",
      "Score: 0.6037189066410065\n",
      "\n",
      "Trial 29 summary\n",
      "Hyperparameters:\n",
      "units_dense0: 24\n",
      "relu_dense0: False\n",
      "units_dense1: 14\n",
      "relu_dense1: True\n",
      "batch_size: 18\n",
      "Score: 0.5935608893632889\n",
      "\n",
      "Trial 39 summary\n",
      "Hyperparameters:\n",
      "units_dense0: 32\n",
      "relu_dense0: False\n",
      "units_dense1: 14\n",
      "relu_dense1: False\n",
      "batch_size: 10\n",
      "Score: 0.5910771191120148\n",
      "\n",
      "Trial 48 summary\n",
      "Hyperparameters:\n",
      "units_dense0: 24\n",
      "relu_dense0: False\n",
      "units_dense1: 12\n",
      "relu_dense1: True\n",
      "batch_size: 10\n",
      "Score: 0.5906173139810562\n",
      "\n",
      "Trial 20 summary\n",
      "Hyperparameters:\n",
      "units_dense0: 40\n",
      "relu_dense0: False\n",
      "units_dense1: 12\n",
      "relu_dense1: True\n",
      "batch_size: 10\n",
      "Score: 0.5887070596218109\n",
      "\n",
      "Trial 23 summary\n",
      "Hyperparameters:\n",
      "units_dense0: 32\n",
      "relu_dense0: False\n",
      "units_dense1: 8\n",
      "relu_dense1: False\n",
      "batch_size: 10\n",
      "Score: 0.587965115904808\n",
      "\n",
      "Trial 43 summary\n",
      "Hyperparameters:\n",
      "units_dense0: 28\n",
      "relu_dense0: True\n",
      "units_dense1: 8\n",
      "relu_dense1: True\n",
      "batch_size: 18\n",
      "Score: 0.5753715336322784\n",
      "\n",
      "Trial 35 summary\n",
      "Hyperparameters:\n",
      "units_dense0: 40\n",
      "relu_dense0: False\n",
      "units_dense1: 10\n",
      "relu_dense1: False\n",
      "batch_size: 18\n",
      "Score: 0.574166551232338\n",
      "\n",
      "Trial 00 summary\n",
      "Hyperparameters:\n",
      "units_dense0: 28\n",
      "relu_dense0: False\n",
      "units_dense1: 6\n",
      "relu_dense1: False\n",
      "batch_size: 10\n",
      "Score: 0.5734031796455383\n"
     ]
    }
   ],
   "source": [
    "tuner.results_summary()"
   ]
  },
  {
   "cell_type": "code",
   "execution_count": 14,
   "id": "9ca14462a0a0879e",
   "metadata": {
    "ExecuteTime": {
     "end_time": "2024-03-13T17:07:38.894445Z",
     "start_time": "2024-03-13T17:07:38.889200Z"
    },
    "collapsed": false,
    "jupyter": {
     "outputs_hidden": false
    }
   },
   "outputs": [],
   "source": [
    "best_model = models[0]"
   ]
  },
  {
   "cell_type": "code",
   "execution_count": 15,
   "id": "16ec002dcd781d6e",
   "metadata": {
    "ExecuteTime": {
     "end_time": "2024-03-13T17:07:57.643617Z",
     "start_time": "2024-03-13T17:07:57.607828Z"
    },
    "collapsed": false,
    "jupyter": {
     "outputs_hidden": false
    }
   },
   "outputs": [],
   "source": [
    "best_model.build(input_shape=(None,adv_X.shape[1],))"
   ]
  },
  {
   "cell_type": "code",
   "execution_count": 18,
   "id": "3e2f88799033d537",
   "metadata": {
    "ExecuteTime": {
     "end_time": "2024-03-13T17:08:44.522056Z",
     "start_time": "2024-03-13T17:08:44.426209Z"
    },
    "collapsed": false,
    "jupyter": {
     "outputs_hidden": false
    }
   },
   "outputs": [],
   "source": [
    "best_model.save(\"cifar/models/cifar-adv_0.62_test_r2.keras\")"
   ]
  },
  {
   "cell_type": "code",
   "execution_count": 15,
   "id": "580e28fe3543cd74",
   "metadata": {
    "ExecuteTime": {
     "end_time": "2024-03-17T17:27:05.869395Z",
     "start_time": "2024-03-17T17:27:01.654730Z"
    },
    "collapsed": false,
    "jupyter": {
     "outputs_hidden": false
    }
   },
   "outputs": [],
   "source": [
    "import keras\n",
    "adversary = keras.models.load_model(\"cifar/models/cifar-adv_0.64_test_r2.keras\")"
   ]
  },
  {
   "cell_type": "code",
   "execution_count": 2,
   "id": "5d2c9e259e621475",
   "metadata": {
    "ExecuteTime": {
     "end_time": "2024-03-17T17:27:36.308120Z",
     "start_time": "2024-03-17T17:27:35.205796Z"
    },
    "collapsed": false,
    "jupyter": {
     "outputs_hidden": false
    }
   },
   "outputs": [],
   "source": [
    "from cifar_functions import get_cifar_input_set\n",
    "\n",
    "model_input = get_cifar_input_set()"
   ]
  },
  {
   "cell_type": "code",
   "execution_count": 7,
   "id": "6fa58e2299d9c50c",
   "metadata": {
    "ExecuteTime": {
     "end_time": "2024-03-17T17:30:57.469097Z",
     "start_time": "2024-03-17T17:30:55.170088Z"
    },
    "collapsed": false,
    "jupyter": {
     "outputs_hidden": false
    }
   },
   "outputs": [
    {
     "name": "stdout",
     "output_type": "stream",
     "text": [
      "158/158 [==============================] - 2s 11ms/step\n"
     ]
    }
   ],
   "source": [
    "pred = model.predict(model_input)"
   ]
  },
  {
   "cell_type": "code",
   "execution_count": 8,
   "id": "b5cc41862c35bee0",
   "metadata": {
    "ExecuteTime": {
     "end_time": "2024-03-17T18:48:56.387386Z",
     "start_time": "2024-03-17T18:48:56.367606Z"
    },
    "collapsed": false,
    "jupyter": {
     "outputs_hidden": false
    }
   },
   "outputs": [
    {
     "data": {
      "text/plain": [
       "(5040, 10)"
      ]
     },
     "execution_count": 8,
     "metadata": {},
     "output_type": "execute_result"
    }
   ],
   "source": [
    "pred.shape"
   ]
  },
  {
   "cell_type": "code",
   "execution_count": 9,
   "id": "e2c921001053d17",
   "metadata": {
    "ExecuteTime": {
     "end_time": "2024-03-17T18:49:26.499046Z",
     "start_time": "2024-03-17T18:49:26.493827Z"
    },
    "collapsed": false,
    "jupyter": {
     "outputs_hidden": false
    }
   },
   "outputs": [],
   "source": [
    "y_pred_for_adv = pred[:, 0:pred.shape[1]-1].flatten()"
   ]
  },
  {
   "cell_type": "code",
   "execution_count": 10,
   "id": "32ea8b071124f44f",
   "metadata": {
    "ExecuteTime": {
     "end_time": "2024-03-17T18:49:36.788151Z",
     "start_time": "2024-03-17T18:49:36.778224Z"
    },
    "collapsed": false,
    "jupyter": {
     "outputs_hidden": false
    }
   },
   "outputs": [],
   "source": [
    "my_x = tf.reshape(y_pred_for_adv, (1, y_pred_for_adv.shape[0]))"
   ]
  },
  {
   "cell_type": "code",
   "execution_count": 11,
   "id": "e4ba47b614c0c21",
   "metadata": {
    "ExecuteTime": {
     "end_time": "2024-03-17T18:49:47.284156Z",
     "start_time": "2024-03-17T18:49:47.279238Z"
    },
    "collapsed": false,
    "jupyter": {
     "outputs_hidden": false
    }
   },
   "outputs": [
    {
     "data": {
      "text/plain": [
       "TensorShape([1, 45360])"
      ]
     },
     "execution_count": 11,
     "metadata": {},
     "output_type": "execute_result"
    }
   ],
   "source": [
    "my_x.shape"
   ]
  },
  {
   "cell_type": "code",
   "execution_count": 12,
   "id": "9c563bb324496385",
   "metadata": {
    "ExecuteTime": {
     "end_time": "2024-03-17T18:49:57.987502Z",
     "start_time": "2024-03-17T18:49:57.866436Z"
    },
    "collapsed": false,
    "jupyter": {
     "outputs_hidden": false
    }
   },
   "outputs": [
    {
     "name": "stdout",
     "output_type": "stream",
     "text": [
      "1/1 [==============================] - 0s 76ms/step\n"
     ]
    }
   ],
   "source": [
    "adv_pred = adversary.predict(my_x)"
   ]
  },
  {
   "cell_type": "code",
   "execution_count": 15,
   "id": "2869ef46ffbf5d97",
   "metadata": {
    "ExecuteTime": {
     "end_time": "2024-03-17T18:50:22.186153Z",
     "start_time": "2024-03-17T18:50:22.182238Z"
    },
    "collapsed": false,
    "jupyter": {
     "outputs_hidden": false
    }
   },
   "outputs": [
    {
     "data": {
      "text/plain": [
       "(1, 1)"
      ]
     },
     "execution_count": 15,
     "metadata": {},
     "output_type": "execute_result"
    }
   ],
   "source": [
    "adv_pred.shape\n"
   ]
  },
  {
   "cell_type": "markdown",
   "id": "24203bb5-1bb0-4482-b340-f6b765259a60",
   "metadata": {
    "jupyter": {
     "outputs_hidden": false
    }
   },
   "source": [
    "## Test if defense works for multiple adversaries"
   ]
  },
  {
   "cell_type": "code",
   "execution_count": 16,
   "id": "e34100e6-7c35-4f9a-a994-6be113d83f1c",
   "metadata": {},
   "outputs": [
    {
     "name": "stdout",
     "output_type": "stream",
     "text": [
      "now computing dist 0.1\n",
      "now computing dist 0.9\n"
     ]
    }
   ],
   "source": [
    "from cifar_functions import get_cifar_input_set, get_distributed_cifar_sets\n",
    "distributed_datasets = get_distributed_cifar_sets(distributions=[0.1, 0.9])"
   ]
  },
  {
   "cell_type": "code",
   "execution_count": 17,
   "id": "f2199450-7c2b-4660-bf81-c21b91921e8e",
   "metadata": {},
   "outputs": [],
   "source": [
    "model_input = get_cifar_input_set()"
   ]
  },
  {
   "cell_type": "code",
   "execution_count": 20,
   "id": "7098b4d9-b517-400e-8676-3fb187c0dd03",
   "metadata": {},
   "outputs": [
    {
     "name": "stdout",
     "output_type": "stream",
     "text": [
      "Epoch 1/4\n",
      "625/625 [==============================] - 1577s 2s/step - loss: 1.4364 - accuracy: 0.4978 - adversary_prediction: 0.5543 - val_loss: 1.1398 - val_accuracy: 0.6011 - val_adversary_prediction: 0.0000e+00\n",
      "Epoch 2/4\n",
      "625/625 [==============================] - 1530s 2s/step - loss: 1.0494 - accuracy: 0.6300 - adversary_prediction: 0.4990 - val_loss: 1.0203 - val_accuracy: 0.6438 - val_adversary_prediction: 0.0000e+00\n",
      "Epoch 3/4\n",
      "625/625 [==============================] - 1531s 2s/step - loss: 0.8896 - accuracy: 0.6880 - adversary_prediction: 0.4870 - val_loss: 1.0026 - val_accuracy: 0.6645 - val_adversary_prediction: 0.0000e+00\n",
      "Epoch 4/4\n",
      "625/625 [==============================] - 1532s 2s/step - loss: 0.7787 - accuracy: 0.7290 - adversary_prediction: 0.4862 - val_loss: 0.8575 - val_accuracy: 0.7040 - val_adversary_prediction: 0.0000e+00\n",
      "158/158 [==============================] - 2s 10ms/step\n"
     ]
    },
    {
     "ename": "NameError",
     "evalue": "name 'Flatten' is not defined",
     "output_type": "error",
     "traceback": [
      "\u001b[0;31m---------------------------------------------------------------------------\u001b[0m",
      "\u001b[0;31mNameError\u001b[0m                                 Traceback (most recent call last)",
      "Cell \u001b[0;32mIn[20], line 29\u001b[0m\n\u001b[1;32m     27\u001b[0m num_columns \u001b[38;5;241m=\u001b[39m output\u001b[38;5;241m.\u001b[39mshape[\u001b[38;5;241m1\u001b[39m]\u001b[38;5;241m-\u001b[39m\u001b[38;5;241m1\u001b[39m\n\u001b[1;32m     28\u001b[0m output \u001b[38;5;241m=\u001b[39m output[:, \u001b[38;5;241m0\u001b[39m:num_columns]\n\u001b[0;32m---> 29\u001b[0m output \u001b[38;5;241m=\u001b[39m \u001b[43mFlatten\u001b[49m()(output)\n\u001b[1;32m     30\u001b[0m \u001b[38;5;66;03m# reshape as model input\u001b[39;00m\n\u001b[1;32m     31\u001b[0m my_x \u001b[38;5;241m=\u001b[39m tf\u001b[38;5;241m.\u001b[39mreshape(output, (\u001b[38;5;241m1\u001b[39m, output\u001b[38;5;241m.\u001b[39mshape[\u001b[38;5;241m0\u001b[39m]\u001b[38;5;241m*\u001b[39moutput\u001b[38;5;241m.\u001b[39mshape[\u001b[38;5;241m1\u001b[39m]))\n",
      "\u001b[0;31mNameError\u001b[0m: name 'Flatten' is not defined"
     ]
    }
   ],
   "source": [
    "from common.functions import get_defending_lucasnet_model, compile_categorical_model, ensure_path_exists\n",
    "\n",
    "training_lambda = 0.15\n",
    "run = 0\n",
    "ds=distributed_datasets[0]\n",
    "\n",
    "model = get_defending_lucasnet_model(\n",
    "    adversary=adversary,\n",
    "    adversary_target=0.5,\n",
    "    input_for_adversary=model_input,\n",
    "    training_lambda=training_lambda,\n",
    "    num_classes=10,\n",
    "    input_shape=(32, 32, 3))\n",
    "\n",
    "model = compile_categorical_model(model)\n",
    "model_history = model.fit(\n",
    "    ds.X_test,\n",
    "    ds.y_test,\n",
    "    epochs=4,\n",
    "    validation_data=(ds.X_train, ds.y_train),\n",
    "    batch_size=32,\n",
    "    #callbacks=[tboard_callback],\n",
    "    verbose=1)\n",
    "#model.save_inner_model(f\"{save_path}cifardef-ds{ds.distribution}-l{training_lambda}-run{run}.keras\")"
   ]
  },
  {
   "cell_type": "code",
   "execution_count": 21,
   "id": "4753fc38-1920-440e-a4aa-93a46981ddd7",
   "metadata": {},
   "outputs": [
    {
     "name": "stdout",
     "output_type": "stream",
     "text": [
      "158/158 [==============================] - 2s 11ms/step\n",
      "625/625 [==============================] - 5s 7ms/step - loss: 0.8575 - accuracy: 0.7040 - adversary_prediction: 0.0000e+00\n"
     ]
    }
   ],
   "source": [
    "from keras.layers import Flatten\n",
    "output = model.predict(model_input)\n",
    "num_columns = output.shape[1]-1\n",
    "output = output[:, 0:num_columns]\n",
    "output = Flatten()(output)\n",
    "# reshape as model input\n",
    "my_x = tf.reshape(output, (1, output.shape[0]*output.shape[1]))\n",
    "# get adversary prediction\n",
    "adv_out = adversary(my_x).numpy().flatten()[0]\n",
    "test_acc = model.evaluate(ds.X_train, ds.y_train)"
   ]
  },
  {
   "cell_type": "code",
   "execution_count": 28,
   "id": "3424e7fa-508f-4ee2-8ab3-d611a90e4050",
   "metadata": {},
   "outputs": [],
   "source": [
    "adv2 = create_and_compile((adv_X.shape[1],))"
   ]
  },
  {
   "cell_type": "code",
   "execution_count": 29,
   "id": "d6e22a22-614d-4269-b2d6-ff54c2191bd0",
   "metadata": {},
   "outputs": [
    {
     "name": "stderr",
     "output_type": "stream",
     "text": [
      "WARNING:absl:Skipping variable loading for optimizer 'Adam', because it has 1 variables whereas the saved optimizer has 14 variables. \n"
     ]
    }
   ],
   "source": [
    "adv2.load_weights(\"cifar/models/cifar_adv_v2_0.61_test_r2.keras\")\n",
    "# oder aus manual_tuning_checkpoints"
   ]
  },
  {
   "cell_type": "code",
   "execution_count": 30,
   "id": "2ee3a62d-0c15-4de9-b920-1ec2f3a4c733",
   "metadata": {},
   "outputs": [],
   "source": [
    "adv_out2 = adv2(my_x).numpy().flatten()[0]"
   ]
  },
  {
   "cell_type": "code",
   "execution_count": 31,
   "id": "fb91b548-c3de-4e62-a760-f2133eed63fb",
   "metadata": {},
   "outputs": [
    {
     "name": "stdout",
     "output_type": "stream",
     "text": [
      "1st adversary after defense: 0.5099999904632568, 2nd: 0.47699999809265137\n"
     ]
    }
   ],
   "source": [
    "print(f\"1st adversary after defense: {round(adv_out, 3)}, 2nd: {round(adv_out2, 3)}\")"
   ]
  },
  {
   "cell_type": "code",
   "execution_count": null,
   "id": "8c3eabc5-b2f6-4082-8a36-e46be658ae08",
   "metadata": {},
   "outputs": [],
   "source": []
  }
 ],
 "metadata": {
  "kernelspec": {
   "display_name": "pia-tensorboard",
   "language": "python",
   "name": "pia-tensorboard"
  },
  "language_info": {
   "codemirror_mode": {
    "name": "ipython",
    "version": 3
   },
   "file_extension": ".py",
   "mimetype": "text/x-python",
   "name": "python",
   "nbconvert_exporter": "python",
   "pygments_lexer": "ipython3",
   "version": "3.10.9"
  }
 },
 "nbformat": 4,
 "nbformat_minor": 5
}
