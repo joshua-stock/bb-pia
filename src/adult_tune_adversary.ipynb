{
 "cells": [
  {
   "cell_type": "code",
   "execution_count": 1,
   "id": "initial_id",
   "metadata": {
    "ExecuteTime": {
     "end_time": "2024-01-17T11:40:12.812482168Z",
     "start_time": "2024-01-17T11:40:09.808456824Z"
    },
    "tags": []
   },
   "outputs": [
    {
     "name": "stderr",
     "output_type": "stream",
     "text": [
      "2024-04-28 08:11:38.258592: I external/local_tsl/tsl/cuda/cudart_stub.cc:32] Could not find cuda drivers on your machine, GPU will not be used.\n",
      "2024-04-28 08:11:38.271972: I external/local_tsl/tsl/cuda/cudart_stub.cc:32] Could not find cuda drivers on your machine, GPU will not be used.\n",
      "2024-04-28 08:11:38.388016: I tensorflow/core/platform/cpu_feature_guard.cc:210] This TensorFlow binary is optimized to use available CPU instructions in performance-critical operations.\n",
      "To enable the following instructions: AVX2 FMA, in other operations, rebuild TensorFlow with the appropriate compiler flags.\n",
      "2024-04-28 08:11:39.686648: W tensorflow/compiler/tf2tensorrt/utils/py_utils.cc:38] TF-TRT Warning: Could not find TensorRT\n"
     ]
    }
   ],
   "source": [
    "import keras_tuner\n",
    "from tensorflow import keras\n",
    "from keras_tuner.tuners import RandomSearch\n",
    "import pandas as pd"
   ]
  },
  {
   "cell_type": "code",
   "execution_count": 3,
   "id": "f15ee4d695a97d72",
   "metadata": {
    "ExecuteTime": {
     "end_time": "2024-01-17T11:40:22.092755345Z",
     "start_time": "2024-01-17T11:40:12.805851637Z"
    },
    "collapsed": false,
    "jupyter": {
     "outputs_hidden": false
    }
   },
   "outputs": [],
   "source": [
    "#adv_df = pd.read_csv(\"./data/shadow_model_outputs.csv\")\n",
    "adv_df = pd.read_csv(\"adult/data/shadow_model_outputs_proba-new.csv\")\n",
    "adv_ddf_shuffled = adv_df.sample(frac=1, random_state=1).reset_index(drop=True)#.drop(columns=[\"Unnamed: 0\"])\n",
    "adv_y = adv_ddf_shuffled[\"y\"]\n",
    "adv_X = adv_ddf_shuffled.drop(columns=[\"y\"])"
   ]
  },
  {
   "cell_type": "code",
   "execution_count": 4,
   "id": "3d8a9d532a4d438c",
   "metadata": {
    "ExecuteTime": {
     "end_time": "2024-01-17T11:40:26.468499372Z",
     "start_time": "2024-01-17T11:40:22.093280945Z"
    },
    "collapsed": false,
    "jupyter": {
     "outputs_hidden": false
    }
   },
   "outputs": [],
   "source": [
    "adv_df_test = pd.read_csv(\"adult/data/shadow_model_outputs_proba-new_test_set.csv\")\n",
    "#adv_df_test = pd.read_csv(\"./data/shadow_model_outputs_test_set.csv\")\n",
    "adv_ddf_shuffled_test = adv_df_test.sample(frac=1, random_state=1).reset_index(drop=True)#.drop(columns=[\"Unnamed: 0\"])\n",
    "adv_y_test = adv_ddf_shuffled_test[\"y\"]\n",
    "adv_X_test = adv_ddf_shuffled_test.drop(columns=[\"y\"])"
   ]
  },
  {
   "cell_type": "code",
   "execution_count": 13,
   "id": "3b2e58c46c956160",
   "metadata": {
    "ExecuteTime": {
     "end_time": "2024-01-17T14:17:25.062005227Z",
     "start_time": "2024-01-17T14:17:25.020458783Z"
    },
    "collapsed": false,
    "jupyter": {
     "outputs_hidden": false
    }
   },
   "outputs": [],
   "source": [
    "class MyHyperModel(keras_tuner.HyperModel):\n",
    "    def build(self, hp):\n",
    "        model = keras.Sequential()\n",
    "        model.add(keras.layers.Dense(hp.Int('units_dense0', min_value=24, max_value=40, step=4)))\n",
    "        #if hp.Boolean(\"relu_dense0\"):\n",
    "        #    model.add(keras.layers.Activation(keras.activations.relu))\n",
    "        #model.add(keras.layers.Dropout(rate=hp.Float('dropout_rate', min_value=0.01, max_value=0.03, step=0.01)))\n",
    "        model.add(keras.layers.Dense(hp.Int('units_dense1', min_value=6, max_value=14, step=2)))\n",
    "        #if hp.Boolean(\"relu_dense1\"):\n",
    "        #    model.add(keras.layers.Activation(keras.activations.relu))\n",
    "        model.add(keras.layers.Dense(1))\n",
    "        model.compile(optimizer=\"adam\", loss=keras.losses.MeanSquaredError(), metrics=keras.metrics.R2Score())\n",
    "        return model\n",
    "    def fit(self, hp, model, *args, **kwargs):\n",
    "        return model.fit(\n",
    "            *args,\n",
    "            batch_size=hp.Choice(\"batch_size\", [10, 18, 24]),\n",
    "            **kwargs,\n",
    "        )\n"
   ]
  },
  {
   "cell_type": "code",
   "execution_count": 14,
   "id": "62ce3f3754416f4",
   "metadata": {
    "ExecuteTime": {
     "end_time": "2024-01-17T14:17:25.704984307Z",
     "start_time": "2024-01-17T14:17:25.685121582Z"
    },
    "collapsed": false,
    "jupyter": {
     "outputs_hidden": false
    }
   },
   "outputs": [],
   "source": [
    "from keras_tuner import Objective\n",
    "tuner = RandomSearch(\n",
    "    MyHyperModel(),\n",
    "    #objective=keras_tuner.Objective('val_r2_score', direction='max'),\n",
    "    objective = Objective(name=\"val_r2_score\", direction=\"max\"),\n",
    "    max_trials = 50,\n",
    "    executions_per_trial = 4,\n",
    "    tuner_id=\"17.01.regression.adversary.cgpt\"\n",
    ")"
   ]
  },
  {
   "cell_type": "code",
   "execution_count": null,
   "id": "870e521b3fa80836",
   "metadata": {
    "collapsed": false,
    "is_executing": true,
    "jupyter": {
     "outputs_hidden": false
    }
   },
   "outputs": [
    {
     "name": "stdout",
     "output_type": "stream",
     "text": [
      "Trial 36 Complete [00h 02m 30s]\n",
      "val_r2_score: 0.3863646537065506\n",
      "\n",
      "Best val_r2_score So Far: 0.38754263520240784\n",
      "Total elapsed time: 01h 40m 05s\n",
      "\n",
      "Search: Running Trial #37\n",
      "\n",
      "Value             |Best Value So Far |Hyperparameter\n",
      "24                |28                |units_dense0\n",
      "14                |6                 |units_dense1\n",
      "18                |10                |batch_size\n",
      "Epoch 1/200\n",
      "200/200 [==============================] - 2s 6ms/step - loss: 46.9086 - r2_score: -702.6303 - val_loss: 0.1252 - val_r2_score: -0.8780\n",
      "Epoch 2/200\n",
      "200/200 [==============================] - 1s 4ms/step - loss: 0.0047 - r2_score: 0.9292 - val_loss: 0.1079 - val_r2_score: -0.6191\n",
      "Epoch 3/200\n",
      "200/200 [==============================] - 1s 4ms/step - loss: 0.0024 - r2_score: 0.9647 - val_loss: 0.1082 - val_r2_score: -0.6226\n",
      "Epoch 4/200\n",
      "200/200 [==============================] - 1s 4ms/step - loss: 0.0016 - r2_score: 0.9758 - val_loss: 0.1070 - val_r2_score: -0.6051\n",
      "Epoch 5/200\n",
      "200/200 [==============================] - 1s 4ms/step - loss: 0.0014 - r2_score: 0.9793 - val_loss: 0.1086 - val_r2_score: -0.6285\n",
      "Epoch 6/200\n",
      "200/200 [==============================] - 1s 4ms/step - loss: 0.0011 - r2_score: 0.9839 - val_loss: 0.1026 - val_r2_score: -0.5391\n",
      "Epoch 7/200\n",
      "200/200 [==============================] - 1s 4ms/step - loss: 0.0013 - r2_score: 0.9809 - val_loss: 0.1069 - val_r2_score: -0.6037\n",
      "Epoch 8/200\n",
      "200/200 [==============================] - 1s 4ms/step - loss: 0.0016 - r2_score: 0.9762 - val_loss: 0.1087 - val_r2_score: -0.6298\n",
      "Epoch 9/200\n",
      "200/200 [==============================] - 1s 4ms/step - loss: 8.1010e-04 - r2_score: 0.9878 - val_loss: 0.1208 - val_r2_score: -0.8121\n",
      "Epoch 10/200\n",
      "200/200 [==============================] - 1s 3ms/step - loss: 0.0020 - r2_score: 0.9697 - val_loss: 0.1062 - val_r2_score: -0.5925\n",
      "Epoch 11/200\n",
      "200/200 [==============================] - 1s 4ms/step - loss: 0.0012 - r2_score: 0.9823 - val_loss: 0.1095 - val_r2_score: -0.6425\n",
      "Epoch 12/200\n",
      "200/200 [==============================] - 1s 4ms/step - loss: 0.0018 - r2_score: 0.9734 - val_loss: 0.1033 - val_r2_score: -0.5491\n",
      "Epoch 13/200\n",
      "200/200 [==============================] - 1s 4ms/step - loss: 0.0041 - r2_score: 0.9379 - val_loss: 0.1018 - val_r2_score: -0.5273\n",
      "Epoch 14/200\n",
      "200/200 [==============================] - 1s 4ms/step - loss: 0.6444 - r2_score: -8.6660 - val_loss: 0.0902 - val_r2_score: -0.3531\n",
      "Epoch 15/200\n",
      "200/200 [==============================] - 1s 4ms/step - loss: 0.0021 - r2_score: 0.9684 - val_loss: 0.0935 - val_r2_score: -0.4020\n",
      "Epoch 16/200\n",
      "200/200 [==============================] - 1s 3ms/step - loss: 0.0038 - r2_score: 0.9434 - val_loss: 0.0959 - val_r2_score: -0.4380\n",
      "Epoch 17/200\n",
      "200/200 [==============================] - 1s 4ms/step - loss: 0.2389 - r2_score: -2.5835 - val_loss: 0.2314 - val_r2_score: -2.4717\n",
      "Epoch 18/200\n",
      "200/200 [==============================] - 1s 4ms/step - loss: 0.0478 - r2_score: 0.2825 - val_loss: 0.4208 - val_r2_score: -5.3127\n",
      "Epoch 19/200\n",
      "200/200 [==============================] - 1s 4ms/step - loss: 0.1217 - r2_score: -0.8252 - val_loss: 0.0925 - val_r2_score: -0.3875\n",
      "Epoch 20/200\n",
      "200/200 [==============================] - 1s 3ms/step - loss: 0.1536 - r2_score: -1.3047 - val_loss: 0.1180 - val_r2_score: -0.7703\n",
      "Epoch 21/200\n",
      "200/200 [==============================] - 1s 4ms/step - loss: 0.0774 - r2_score: -0.1606 - val_loss: 0.1745 - val_r2_score: -1.6171\n",
      "Epoch 22/200\n",
      "200/200 [==============================] - 1s 3ms/step - loss: 0.1240 - r2_score: -0.8597 - val_loss: 0.1087 - val_r2_score: -0.6310\n",
      "Epoch 23/200\n",
      "200/200 [==============================] - 1s 3ms/step - loss: 0.0044 - r2_score: 0.9337 - val_loss: 0.0946 - val_r2_score: -0.4196\n",
      "Epoch 24/200\n",
      "200/200 [==============================] - 1s 3ms/step - loss: 0.0466 - r2_score: 0.3013 - val_loss: 0.2734 - val_r2_score: -3.1016\n",
      "Epoch 25/200\n",
      "200/200 [==============================] - 1s 3ms/step - loss: 0.0378 - r2_score: 0.4332 - val_loss: 0.1467 - val_r2_score: -1.1999\n",
      "Epoch 26/200\n",
      "200/200 [==============================] - 1s 3ms/step - loss: 0.0396 - r2_score: 0.4056 - val_loss: 0.0927 - val_r2_score: -0.3908\n",
      "Epoch 27/200\n",
      "200/200 [==============================] - 1s 3ms/step - loss: 0.0456 - r2_score: 0.3166 - val_loss: 0.0924 - val_r2_score: -0.3866\n",
      "Epoch 28/200\n",
      "200/200 [==============================] - 1s 4ms/step - loss: 0.0272 - r2_score: 0.5923 - val_loss: 0.0895 - val_r2_score: -0.3428\n",
      "Epoch 29/200\n",
      "200/200 [==============================] - 1s 3ms/step - loss: 0.0168 - r2_score: 0.7479 - val_loss: 0.0903 - val_r2_score: -0.3542\n",
      "Epoch 30/200\n",
      "200/200 [==============================] - 1s 4ms/step - loss: 0.0224 - r2_score: 0.6633 - val_loss: 0.0872 - val_r2_score: -0.3082\n",
      "Epoch 31/200\n",
      "200/200 [==============================] - 1s 4ms/step - loss: 0.0137 - r2_score: 0.7944 - val_loss: 0.0862 - val_r2_score: -0.2923\n",
      "Epoch 32/200\n",
      "200/200 [==============================] - 1s 3ms/step - loss: 0.0174 - r2_score: 0.7385 - val_loss: 0.0845 - val_r2_score: -0.2676\n",
      "Epoch 33/200\n",
      "200/200 [==============================] - 1s 3ms/step - loss: 0.0142 - r2_score: 0.7872 - val_loss: 0.0877 - val_r2_score: -0.3157\n",
      "Epoch 34/200\n",
      "200/200 [==============================] - 1s 3ms/step - loss: 0.0071 - r2_score: 0.8936 - val_loss: 0.0981 - val_r2_score: -0.4710\n",
      "Epoch 35/200\n",
      "200/200 [==============================] - 1s 4ms/step - loss: 0.0169 - r2_score: 0.7470 - val_loss: 0.0847 - val_r2_score: -0.2712\n",
      "Epoch 36/200\n",
      "200/200 [==============================] - 1s 3ms/step - loss: 0.0034 - r2_score: 0.9495 - val_loss: 0.0892 - val_r2_score: -0.3381\n",
      "Epoch 37/200\n",
      "200/200 [==============================] - 1s 5ms/step - loss: 0.0063 - r2_score: 0.9056 - val_loss: 0.0874 - val_r2_score: -0.3113\n",
      "Epoch 38/200\n",
      "200/200 [==============================] - 1s 7ms/step - loss: 0.0043 - r2_score: 0.9362 - val_loss: 0.0964 - val_r2_score: -0.4467\n",
      "Epoch 39/200\n",
      "200/200 [==============================] - 1s 7ms/step - loss: 0.0042 - r2_score: 0.9365 - val_loss: 0.0825 - val_r2_score: -0.2381\n",
      "Epoch 40/200\n",
      "200/200 [==============================] - 1s 4ms/step - loss: 0.0038 - r2_score: 0.9429 - val_loss: 0.0905 - val_r2_score: -0.3581\n",
      "Epoch 41/200\n",
      "200/200 [==============================] - 1s 3ms/step - loss: 0.0036 - r2_score: 0.9458 - val_loss: 0.0876 - val_r2_score: -0.3142\n",
      "Epoch 42/200\n",
      "200/200 [==============================] - 1s 6ms/step - loss: 0.0031 - r2_score: 0.9533 - val_loss: 0.0875 - val_r2_score: -0.3120\n",
      "Epoch 43/200\n",
      "200/200 [==============================] - 2s 8ms/step - loss: 0.0028 - r2_score: 0.9574 - val_loss: 0.0906 - val_r2_score: -0.3592\n",
      "Epoch 44/200\n",
      "200/200 [==============================] - 1s 6ms/step - loss: 0.0012 - r2_score: 0.9827 - val_loss: 0.0907 - val_r2_score: -0.3609\n",
      "Epoch 45/200\n",
      "200/200 [==============================] - 1s 4ms/step - loss: 0.0019 - r2_score: 0.9708 - val_loss: 0.0799 - val_r2_score: -0.1979\n",
      "Epoch 46/200\n",
      "200/200 [==============================] - 1s 6ms/step - loss: 0.0016 - r2_score: 0.9757 - val_loss: 0.0855 - val_r2_score: -0.2829\n",
      "Epoch 47/200\n",
      "200/200 [==============================] - 1s 7ms/step - loss: 4.6388e-04 - r2_score: 0.9930 - val_loss: 0.0833 - val_r2_score: -0.2491\n",
      "Epoch 48/200\n",
      "200/200 [==============================] - 1s 6ms/step - loss: 0.0012 - r2_score: 0.9823 - val_loss: 0.0830 - val_r2_score: -0.2453\n",
      "Epoch 1/200\n",
      "200/200 [==============================] - 2s 6ms/step - loss: 42.8229 - r2_score: -641.3427 - val_loss: 0.0833 - val_r2_score: -0.2492\n",
      "Epoch 2/200\n",
      "200/200 [==============================] - 1s 7ms/step - loss: 0.0081 - r2_score: 0.8781 - val_loss: 0.0784 - val_r2_score: -0.1766\n",
      "Epoch 3/200\n",
      "200/200 [==============================] - 1s 6ms/step - loss: 0.0034 - r2_score: 0.9496 - val_loss: 0.0812 - val_r2_score: -0.2180\n",
      "Epoch 4/200\n",
      "200/200 [==============================] - 1s 6ms/step - loss: 0.0018 - r2_score: 0.9724 - val_loss: 0.0835 - val_r2_score: -0.2526\n",
      "Epoch 5/200\n",
      "200/200 [==============================] - 1s 3ms/step - loss: 0.0013 - r2_score: 0.9805 - val_loss: 0.0821 - val_r2_score: -0.2318\n",
      "Epoch 6/200\n",
      "200/200 [==============================] - 1s 3ms/step - loss: 0.0015 - r2_score: 0.9778 - val_loss: 0.0779 - val_r2_score: -0.1688\n",
      "Epoch 7/200\n",
      "200/200 [==============================] - 1s 3ms/step - loss: 0.0012 - r2_score: 0.9818 - val_loss: 0.0825 - val_r2_score: -0.2379\n",
      "Epoch 8/200\n",
      "200/200 [==============================] - 1s 7ms/step - loss: 8.4600e-04 - r2_score: 0.9873 - val_loss: 0.0888 - val_r2_score: -0.3313\n",
      "Epoch 9/200\n",
      "200/200 [==============================] - 1s 4ms/step - loss: 9.3959e-04 - r2_score: 0.9859 - val_loss: 0.0919 - val_r2_score: -0.3790\n",
      "Epoch 10/200\n",
      "200/200 [==============================] - 1s 3ms/step - loss: 8.3700e-04 - r2_score: 0.9874 - val_loss: 0.0872 - val_r2_score: -0.3075\n",
      "Epoch 11/200\n",
      "  1/200 [..............................] - ETA: 1s - loss: 3.9266e-04 - r2_score: 0.9942"
     ]
    }
   ],
   "source": [
    "tuner.search(adv_X, adv_y, epochs=200, validation_data=(adv_X_test, adv_y_test), callbacks=[keras.callbacks.EarlyStopping('val_r2_score', patience=30)])"
   ]
  },
  {
   "cell_type": "code",
   "execution_count": null,
   "id": "f373e4e89d97638c",
   "metadata": {
    "collapsed": false,
    "jupyter": {
     "outputs_hidden": false
    }
   },
   "outputs": [],
   "source": [
    "models = tuner.get_best_models(num_models=5)"
   ]
  },
  {
   "cell_type": "code",
   "execution_count": 17,
   "id": "190d4075d56d9237",
   "metadata": {
    "ExecuteTime": {
     "end_time": "2024-01-18T11:42:21.984008108Z",
     "start_time": "2024-01-18T11:42:21.555564322Z"
    },
    "collapsed": false,
    "jupyter": {
     "outputs_hidden": false
    }
   },
   "outputs": [
    {
     "name": "stdout",
     "output_type": "stream",
     "text": [
      "Results summary\n",
      "Results in ./untitled_project\n",
      "Showing 10 best trials\n",
      "Objective(name=\"val_r2_score\", direction=\"max\")\n",
      "\n",
      "Trial 07 summary\n",
      "Hyperparameters:\n",
      "units_dense0: 28\n",
      "units_dense1: 6\n",
      "batch_size: 10\n",
      "Score: 0.38754263520240784\n",
      "\n",
      "Trial 35 summary\n",
      "Hyperparameters:\n",
      "units_dense0: 40\n",
      "units_dense1: 6\n",
      "batch_size: 24\n",
      "Score: 0.3863646537065506\n",
      "\n",
      "Trial 32 summary\n",
      "Hyperparameters:\n",
      "units_dense0: 36\n",
      "units_dense1: 6\n",
      "batch_size: 10\n",
      "Score: 0.3810035139322281\n",
      "\n",
      "Trial 29 summary\n",
      "Hyperparameters:\n",
      "units_dense0: 24\n",
      "units_dense1: 8\n",
      "batch_size: 24\n",
      "Score: 0.3312181830406189\n",
      "\n",
      "Trial 05 summary\n",
      "Hyperparameters:\n",
      "units_dense0: 32\n",
      "units_dense1: 12\n",
      "batch_size: 10\n",
      "Score: 0.32719068229198456\n",
      "\n",
      "Trial 27 summary\n",
      "Hyperparameters:\n",
      "units_dense0: 24\n",
      "units_dense1: 14\n",
      "batch_size: 10\n",
      "Score: 0.3196559399366379\n",
      "\n",
      "Trial 17 summary\n",
      "Hyperparameters:\n",
      "units_dense0: 40\n",
      "units_dense1: 12\n",
      "batch_size: 24\n",
      "Score: 0.302568644285202\n",
      "\n",
      "Trial 23 summary\n",
      "Hyperparameters:\n",
      "units_dense0: 32\n",
      "units_dense1: 6\n",
      "batch_size: 10\n",
      "Score: 0.29553239047527313\n",
      "\n",
      "Trial 43 summary\n",
      "Hyperparameters:\n",
      "units_dense0: 24\n",
      "units_dense1: 6\n",
      "batch_size: 18\n",
      "Score: 0.2878763824701309\n",
      "\n",
      "Trial 39 summary\n",
      "Hyperparameters:\n",
      "units_dense0: 24\n",
      "units_dense1: 8\n",
      "batch_size: 18\n",
      "Score: 0.28309178352355957\n"
     ]
    }
   ],
   "source": [
    "tuner.results_summary()"
   ]
  },
  {
   "cell_type": "code",
   "execution_count": null,
   "id": "40a598637b000634",
   "metadata": {
    "collapsed": false,
    "jupyter": {
     "outputs_hidden": false
    }
   },
   "outputs": [],
   "source": [
    "best_model = models[0]"
   ]
  },
  {
   "cell_type": "code",
   "execution_count": 10,
   "id": "9e82a29b865e9809",
   "metadata": {
    "ExecuteTime": {
     "end_time": "2024-01-17T14:14:52.193884158Z",
     "start_time": "2024-01-17T14:14:52.163241705Z"
    },
    "collapsed": false,
    "jupyter": {
     "outputs_hidden": false
    }
   },
   "outputs": [],
   "source": [
    "best_model.build(input_shape=(None,adv_X.shape[1],))"
   ]
  },
  {
   "cell_type": "code",
   "execution_count": 12,
   "id": "faba38dab7f4a9ad",
   "metadata": {
    "ExecuteTime": {
     "end_time": "2024-01-17T14:15:05.708180168Z",
     "start_time": "2024-01-17T14:15:04.863406573Z"
    },
    "collapsed": false,
    "jupyter": {
     "outputs_hidden": false
    }
   },
   "outputs": [
    {
     "name": "stdout",
     "output_type": "stream",
     "text": [
      "WARNING:tensorflow:Skipping full serialization of Keras layer R2Score(name=r2_score,dtype=float32,class_aggregation=uniform_average,num_regressors=0), because it is not built.\n"
     ]
    },
    {
     "name": "stderr",
     "output_type": "stream",
     "text": [
      "WARNING:tensorflow:Skipping full serialization of Keras layer R2Score(name=r2_score,dtype=float32,class_aggregation=uniform_average,num_regressors=0), because it is not built.\n"
     ]
    },
    {
     "name": "stdout",
     "output_type": "stream",
     "text": [
      "INFO:tensorflow:Assets written to: adv_new_0.40_test_r2/assets\n"
     ]
    },
    {
     "name": "stderr",
     "output_type": "stream",
     "text": [
      "INFO:tensorflow:Assets written to: adv_new_0.40_test_r2/assets\n"
     ]
    }
   ],
   "source": [
    "best_model.save(\"models/adv_new_0.40_test_r2\")\n",
    "#X_train, y_train, X_test, y_test, _, _ = data_train_test(train_size=0.7)"
   ]
  },
  {
   "cell_type": "code",
   "execution_count": 40,
   "id": "6416edcaafdaac01",
   "metadata": {
    "ExecuteTime": {
     "end_time": "2023-12-14T08:40:53.062646670Z",
     "start_time": "2023-12-14T08:40:51.384868996Z"
    },
    "collapsed": false,
    "jupyter": {
     "outputs_hidden": false
    }
   },
   "outputs": [
    {
     "name": "stdout",
     "output_type": "stream",
     "text": [
      "57/57 [==============================] - 0s 2ms/step\n"
     ]
    },
    {
     "data": {
      "text/plain": [
       "array([[0.5596606 ],\n",
       "       [0.4603508 ],\n",
       "       [0.4807027 ],\n",
       "       ...,\n",
       "       [0.62426335],\n",
       "       [0.4381116 ],\n",
       "       [0.584784  ]], dtype=float32)"
      ]
     },
     "execution_count": 40,
     "metadata": {},
     "output_type": "execute_result"
    }
   ],
   "source": [
    "best_model.predict(adv_X_test)"
   ]
  },
  {
   "cell_type": "markdown",
   "id": "22c608497f2af32a",
   "metadata": {},
   "source": [
    "## Manual Tuning (new)"
   ]
  },
  {
   "cell_type": "code",
   "execution_count": 23,
   "id": "89da0cc1d72cf595",
   "metadata": {
    "ExecuteTime": {
     "end_time": "2024-01-18T15:22:00.160096835Z",
     "start_time": "2024-01-18T15:22:00.110640702Z"
    },
    "collapsed": false,
    "jupyter": {
     "outputs_hidden": false
    }
   },
   "outputs": [
    {
     "name": "stdout",
     "output_type": "stream",
     "text": [
      "\u001b[1m29/29\u001b[0m \u001b[32m━━━━━━━━━━━━━━━━━━━━\u001b[0m\u001b[37m\u001b[0m \u001b[1m0s\u001b[0m 1ms/step - loss: 0.0186 - r2_score: 0.7307  \n"
     ]
    },
    {
     "data": {
      "text/plain": [
       "[0.018278300762176514, 0.7281985878944397]"
      ]
     },
     "execution_count": 23,
     "metadata": {},
     "output_type": "execute_result"
    }
   ],
   "source": [
    "manual_adversary.load_weights(\"adult/models/adult_adv_0.72_test_r2.keras\")\n",
    "manual_adversary.evaluate(adv_X_test, adv_y_test)"
   ]
  },
  {
   "cell_type": "code",
   "execution_count": null,
   "id": "9316ce0c-4a74-404d-bdaf-7c2ffb866652",
   "metadata": {},
   "outputs": [],
   "source": []
  },
  {
   "cell_type": "code",
   "execution_count": 22,
   "id": "be9df74a5fd2f9ff",
   "metadata": {
    "ExecuteTime": {
     "end_time": "2024-01-18T15:22:25.207457288Z",
     "start_time": "2024-01-18T15:22:00.197813723Z"
    },
    "collapsed": false,
    "jupyter": {
     "outputs_hidden": false
    }
   },
   "outputs": [
    {
     "name": "stdout",
     "output_type": "stream",
     "text": [
      "Epoch 103: early stopping\n",
      "Epoch 21: early stopping\n",
      "Epoch 84: early stopping\n",
      "Epoch 74: early stopping\n",
      "Epoch 24: early stopping\n",
      "Epoch 22: early stopping\n",
      "Epoch 102: early stopping\n",
      "Epoch 37: early stopping\n",
      "Epoch 39: early stopping\n",
      "Epoch 32: early stopping\n",
      "Epoch 21: early stopping\n",
      "new max r2: 0.7281985878944397\n",
      "Epoch 38: early stopping\n"
     ]
    },
    {
     "ename": "KeyboardInterrupt",
     "evalue": "",
     "output_type": "error",
     "traceback": [
      "\u001b[0;31m---------------------------------------------------------------------------\u001b[0m",
      "\u001b[0;31mKeyboardInterrupt\u001b[0m                         Traceback (most recent call last)",
      "Cell \u001b[0;32mIn[22], line 13\u001b[0m\n\u001b[1;32m     11\u001b[0m manual_adversary\u001b[38;5;241m.\u001b[39mcompile(optimizer\u001b[38;5;241m=\u001b[39mkeras\u001b[38;5;241m.\u001b[39moptimizers\u001b[38;5;241m.\u001b[39mAdam(), loss\u001b[38;5;241m=\u001b[39mkeras\u001b[38;5;241m.\u001b[39mlosses\u001b[38;5;241m.\u001b[39mMeanSquaredError(), metrics\u001b[38;5;241m=\u001b[39m[keras\u001b[38;5;241m.\u001b[39mmetrics\u001b[38;5;241m.\u001b[39mR2Score()])\n\u001b[1;32m     12\u001b[0m \u001b[38;5;66;03m#manual_adversary.load_weights(\"adv_new_new_keras_xx_test_r2.keras\")\u001b[39;00m\n\u001b[0;32m---> 13\u001b[0m history \u001b[38;5;241m=\u001b[39m \u001b[43mmanual_adversary\u001b[49m\u001b[38;5;241;43m.\u001b[39;49m\u001b[43mfit\u001b[49m\u001b[43m(\u001b[49m\n\u001b[1;32m     14\u001b[0m \u001b[43m    \u001b[49m\u001b[43madv_X\u001b[49m\u001b[43m,\u001b[49m\u001b[43m \u001b[49m\n\u001b[1;32m     15\u001b[0m \u001b[43m    \u001b[49m\u001b[43madv_y\u001b[49m\u001b[43m,\u001b[49m\u001b[43m \u001b[49m\n\u001b[1;32m     16\u001b[0m \u001b[43m    \u001b[49m\u001b[43mepochs\u001b[49m\u001b[38;5;241;43m=\u001b[39;49m\u001b[38;5;241;43m200\u001b[39;49m\u001b[43m,\u001b[49m\u001b[43m \u001b[49m\n\u001b[1;32m     17\u001b[0m \u001b[43m    \u001b[49m\u001b[43mvalidation_data\u001b[49m\u001b[38;5;241;43m=\u001b[39;49m\u001b[43m(\u001b[49m\u001b[43madv_X_test\u001b[49m\u001b[43m,\u001b[49m\u001b[43m \u001b[49m\u001b[43madv_y_test\u001b[49m\u001b[43m)\u001b[49m\u001b[43m,\u001b[49m\u001b[43m \u001b[49m\n\u001b[1;32m     18\u001b[0m \u001b[43m    \u001b[49m\u001b[43mverbose\u001b[49m\u001b[38;5;241;43m=\u001b[39;49m\u001b[38;5;241;43m0\u001b[39;49m\u001b[43m,\u001b[49m\n\u001b[1;32m     19\u001b[0m \u001b[43m    \u001b[49m\u001b[43mbatch_size\u001b[49m\u001b[38;5;241;43m=\u001b[39;49m\u001b[38;5;241;43m10\u001b[39;49m\u001b[43m,\u001b[49m\n\u001b[1;32m     20\u001b[0m \u001b[43m    \u001b[49m\u001b[43mcallbacks\u001b[49m\u001b[38;5;241;43m=\u001b[39;49m\u001b[43m[\u001b[49m\n\u001b[1;32m     21\u001b[0m \u001b[43m        \u001b[49m\u001b[43mkeras\u001b[49m\u001b[38;5;241;43m.\u001b[39;49m\u001b[43mcallbacks\u001b[49m\u001b[38;5;241;43m.\u001b[39;49m\u001b[43mEarlyStopping\u001b[49m\u001b[43m(\u001b[49m\u001b[38;5;124;43m'\u001b[39;49m\u001b[38;5;124;43mval_r2_score\u001b[39;49m\u001b[38;5;124;43m'\u001b[39;49m\u001b[43m,\u001b[49m\u001b[43m \u001b[49m\u001b[43mmode\u001b[49m\u001b[38;5;241;43m=\u001b[39;49m\u001b[38;5;124;43m'\u001b[39;49m\u001b[38;5;124;43mmax\u001b[39;49m\u001b[38;5;124;43m'\u001b[39;49m\u001b[43m,\u001b[49m\u001b[43m \u001b[49m\u001b[43mpatience\u001b[49m\u001b[38;5;241;43m=\u001b[39;49m\u001b[38;5;241;43m20\u001b[39;49m\u001b[43m,\u001b[49m\u001b[43m \u001b[49m\u001b[43mverbose\u001b[49m\u001b[38;5;241;43m=\u001b[39;49m\u001b[38;5;241;43m1\u001b[39;49m\u001b[43m)\u001b[49m\u001b[43m,\u001b[49m\n\u001b[1;32m     22\u001b[0m \u001b[43m        \u001b[49m\u001b[43mkeras\u001b[49m\u001b[38;5;241;43m.\u001b[39;49m\u001b[43mcallbacks\u001b[49m\u001b[38;5;241;43m.\u001b[39;49m\u001b[43mModelCheckpoint\u001b[49m\u001b[43m(\u001b[49m\n\u001b[1;32m     23\u001b[0m \u001b[43m            \u001b[49m\u001b[43mfilepath\u001b[49m\u001b[38;5;241;43m=\u001b[39;49m\u001b[43mcheckpoint_filepath\u001b[49m\u001b[43m,\u001b[49m\n\u001b[1;32m     24\u001b[0m \u001b[43m            \u001b[49m\u001b[43msave_weights_only\u001b[49m\u001b[38;5;241;43m=\u001b[39;49m\u001b[38;5;28;43;01mTrue\u001b[39;49;00m\u001b[43m,\u001b[49m\n\u001b[1;32m     25\u001b[0m \u001b[43m            \u001b[49m\u001b[43mmonitor\u001b[49m\u001b[38;5;241;43m=\u001b[39;49m\u001b[38;5;124;43m'\u001b[39;49m\u001b[38;5;124;43mval_r2_score\u001b[39;49m\u001b[38;5;124;43m'\u001b[39;49m\u001b[43m,\u001b[49m\n\u001b[1;32m     26\u001b[0m \u001b[43m            \u001b[49m\u001b[43mmode\u001b[49m\u001b[38;5;241;43m=\u001b[39;49m\u001b[38;5;124;43m'\u001b[39;49m\u001b[38;5;124;43mmax\u001b[39;49m\u001b[38;5;124;43m'\u001b[39;49m\u001b[43m,\u001b[49m\n\u001b[1;32m     27\u001b[0m \u001b[43m            \u001b[49m\u001b[43msave_best_only\u001b[49m\u001b[38;5;241;43m=\u001b[39;49m\u001b[38;5;28;43;01mTrue\u001b[39;49;00m\u001b[43m)\u001b[49m\n\u001b[1;32m     28\u001b[0m \u001b[43m    \u001b[49m\u001b[43m]\u001b[49m\u001b[43m)\u001b[49m\n\u001b[1;32m     29\u001b[0m newmax \u001b[38;5;241m=\u001b[39m \u001b[38;5;28mmax\u001b[39m(history\u001b[38;5;241m.\u001b[39mhistory[\u001b[38;5;124m'\u001b[39m\u001b[38;5;124mval_r2_score\u001b[39m\u001b[38;5;124m'\u001b[39m])\n\u001b[1;32m     30\u001b[0m \u001b[38;5;28;01mif\u001b[39;00m newmax \u001b[38;5;241m>\u001b[39m currentmax:\n",
      "File \u001b[0;32m~/anaconda3/envs/pia-tensorboard/lib/python3.10/site-packages/keras/src/utils/traceback_utils.py:118\u001b[0m, in \u001b[0;36mfilter_traceback.<locals>.error_handler\u001b[0;34m(*args, **kwargs)\u001b[0m\n\u001b[1;32m    116\u001b[0m filtered_tb \u001b[38;5;241m=\u001b[39m \u001b[38;5;28;01mNone\u001b[39;00m\n\u001b[1;32m    117\u001b[0m \u001b[38;5;28;01mtry\u001b[39;00m:\n\u001b[0;32m--> 118\u001b[0m     \u001b[38;5;28;01mreturn\u001b[39;00m \u001b[43mfn\u001b[49m\u001b[43m(\u001b[49m\u001b[38;5;241;43m*\u001b[39;49m\u001b[43margs\u001b[49m\u001b[43m,\u001b[49m\u001b[43m \u001b[49m\u001b[38;5;241;43m*\u001b[39;49m\u001b[38;5;241;43m*\u001b[39;49m\u001b[43mkwargs\u001b[49m\u001b[43m)\u001b[49m\n\u001b[1;32m    119\u001b[0m \u001b[38;5;28;01mexcept\u001b[39;00m \u001b[38;5;167;01mException\u001b[39;00m \u001b[38;5;28;01mas\u001b[39;00m e:\n\u001b[1;32m    120\u001b[0m     filtered_tb \u001b[38;5;241m=\u001b[39m _process_traceback_frames(e\u001b[38;5;241m.\u001b[39m__traceback__)\n",
      "File \u001b[0;32m~/anaconda3/envs/pia-tensorboard/lib/python3.10/site-packages/keras/src/backend/tensorflow/trainer.py:323\u001b[0m, in \u001b[0;36mTensorFlowTrainer.fit\u001b[0;34m(self, x, y, batch_size, epochs, verbose, callbacks, validation_split, validation_data, shuffle, class_weight, sample_weight, initial_epoch, steps_per_epoch, validation_steps, validation_batch_size, validation_freq)\u001b[0m\n\u001b[1;32m    321\u001b[0m \u001b[38;5;28;01mfor\u001b[39;00m step, iterator \u001b[38;5;129;01min\u001b[39;00m epoch_iterator\u001b[38;5;241m.\u001b[39menumerate_epoch():\n\u001b[1;32m    322\u001b[0m     callbacks\u001b[38;5;241m.\u001b[39mon_train_batch_begin(step)\n\u001b[0;32m--> 323\u001b[0m     logs \u001b[38;5;241m=\u001b[39m \u001b[38;5;28;43mself\u001b[39;49m\u001b[38;5;241;43m.\u001b[39;49m\u001b[43mtrain_function\u001b[49m\u001b[43m(\u001b[49m\u001b[43miterator\u001b[49m\u001b[43m)\u001b[49m\n\u001b[1;32m    324\u001b[0m     callbacks\u001b[38;5;241m.\u001b[39mon_train_batch_end(\n\u001b[1;32m    325\u001b[0m         step, \u001b[38;5;28mself\u001b[39m\u001b[38;5;241m.\u001b[39m_pythonify_logs(logs)\n\u001b[1;32m    326\u001b[0m     )\n\u001b[1;32m    327\u001b[0m     \u001b[38;5;28;01mif\u001b[39;00m \u001b[38;5;28mself\u001b[39m\u001b[38;5;241m.\u001b[39mstop_training:\n",
      "File \u001b[0;32m~/anaconda3/envs/pia-tensorboard/lib/python3.10/site-packages/tensorflow/python/util/traceback_utils.py:150\u001b[0m, in \u001b[0;36mfilter_traceback.<locals>.error_handler\u001b[0;34m(*args, **kwargs)\u001b[0m\n\u001b[1;32m    148\u001b[0m filtered_tb \u001b[38;5;241m=\u001b[39m \u001b[38;5;28;01mNone\u001b[39;00m\n\u001b[1;32m    149\u001b[0m \u001b[38;5;28;01mtry\u001b[39;00m:\n\u001b[0;32m--> 150\u001b[0m   \u001b[38;5;28;01mreturn\u001b[39;00m \u001b[43mfn\u001b[49m\u001b[43m(\u001b[49m\u001b[38;5;241;43m*\u001b[39;49m\u001b[43margs\u001b[49m\u001b[43m,\u001b[49m\u001b[43m \u001b[49m\u001b[38;5;241;43m*\u001b[39;49m\u001b[38;5;241;43m*\u001b[39;49m\u001b[43mkwargs\u001b[49m\u001b[43m)\u001b[49m\n\u001b[1;32m    151\u001b[0m \u001b[38;5;28;01mexcept\u001b[39;00m \u001b[38;5;167;01mException\u001b[39;00m \u001b[38;5;28;01mas\u001b[39;00m e:\n\u001b[1;32m    152\u001b[0m   filtered_tb \u001b[38;5;241m=\u001b[39m _process_traceback_frames(e\u001b[38;5;241m.\u001b[39m__traceback__)\n",
      "File \u001b[0;32m~/anaconda3/envs/pia-tensorboard/lib/python3.10/site-packages/tensorflow/python/eager/polymorphic_function/polymorphic_function.py:833\u001b[0m, in \u001b[0;36mFunction.__call__\u001b[0;34m(self, *args, **kwds)\u001b[0m\n\u001b[1;32m    830\u001b[0m compiler \u001b[38;5;241m=\u001b[39m \u001b[38;5;124m\"\u001b[39m\u001b[38;5;124mxla\u001b[39m\u001b[38;5;124m\"\u001b[39m \u001b[38;5;28;01mif\u001b[39;00m \u001b[38;5;28mself\u001b[39m\u001b[38;5;241m.\u001b[39m_jit_compile \u001b[38;5;28;01melse\u001b[39;00m \u001b[38;5;124m\"\u001b[39m\u001b[38;5;124mnonXla\u001b[39m\u001b[38;5;124m\"\u001b[39m\n\u001b[1;32m    832\u001b[0m \u001b[38;5;28;01mwith\u001b[39;00m OptionalXlaContext(\u001b[38;5;28mself\u001b[39m\u001b[38;5;241m.\u001b[39m_jit_compile):\n\u001b[0;32m--> 833\u001b[0m   result \u001b[38;5;241m=\u001b[39m \u001b[38;5;28;43mself\u001b[39;49m\u001b[38;5;241;43m.\u001b[39;49m\u001b[43m_call\u001b[49m\u001b[43m(\u001b[49m\u001b[38;5;241;43m*\u001b[39;49m\u001b[43margs\u001b[49m\u001b[43m,\u001b[49m\u001b[43m \u001b[49m\u001b[38;5;241;43m*\u001b[39;49m\u001b[38;5;241;43m*\u001b[39;49m\u001b[43mkwds\u001b[49m\u001b[43m)\u001b[49m\n\u001b[1;32m    835\u001b[0m new_tracing_count \u001b[38;5;241m=\u001b[39m \u001b[38;5;28mself\u001b[39m\u001b[38;5;241m.\u001b[39mexperimental_get_tracing_count()\n\u001b[1;32m    836\u001b[0m without_tracing \u001b[38;5;241m=\u001b[39m (tracing_count \u001b[38;5;241m==\u001b[39m new_tracing_count)\n",
      "File \u001b[0;32m~/anaconda3/envs/pia-tensorboard/lib/python3.10/site-packages/tensorflow/python/eager/polymorphic_function/polymorphic_function.py:878\u001b[0m, in \u001b[0;36mFunction._call\u001b[0;34m(self, *args, **kwds)\u001b[0m\n\u001b[1;32m    875\u001b[0m \u001b[38;5;28mself\u001b[39m\u001b[38;5;241m.\u001b[39m_lock\u001b[38;5;241m.\u001b[39mrelease()\n\u001b[1;32m    876\u001b[0m \u001b[38;5;66;03m# In this case we have not created variables on the first call. So we can\u001b[39;00m\n\u001b[1;32m    877\u001b[0m \u001b[38;5;66;03m# run the first trace but we should fail if variables are created.\u001b[39;00m\n\u001b[0;32m--> 878\u001b[0m results \u001b[38;5;241m=\u001b[39m \u001b[43mtracing_compilation\u001b[49m\u001b[38;5;241;43m.\u001b[39;49m\u001b[43mcall_function\u001b[49m\u001b[43m(\u001b[49m\n\u001b[1;32m    879\u001b[0m \u001b[43m    \u001b[49m\u001b[43margs\u001b[49m\u001b[43m,\u001b[49m\u001b[43m \u001b[49m\u001b[43mkwds\u001b[49m\u001b[43m,\u001b[49m\u001b[43m \u001b[49m\u001b[38;5;28;43mself\u001b[39;49m\u001b[38;5;241;43m.\u001b[39;49m\u001b[43m_variable_creation_config\u001b[49m\n\u001b[1;32m    880\u001b[0m \u001b[43m\u001b[49m\u001b[43m)\u001b[49m\n\u001b[1;32m    881\u001b[0m \u001b[38;5;28;01mif\u001b[39;00m \u001b[38;5;28mself\u001b[39m\u001b[38;5;241m.\u001b[39m_created_variables:\n\u001b[1;32m    882\u001b[0m   \u001b[38;5;28;01mraise\u001b[39;00m \u001b[38;5;167;01mValueError\u001b[39;00m(\u001b[38;5;124m\"\u001b[39m\u001b[38;5;124mCreating variables on a non-first call to a function\u001b[39m\u001b[38;5;124m\"\u001b[39m\n\u001b[1;32m    883\u001b[0m                    \u001b[38;5;124m\"\u001b[39m\u001b[38;5;124m decorated with tf.function.\u001b[39m\u001b[38;5;124m\"\u001b[39m)\n",
      "File \u001b[0;32m~/anaconda3/envs/pia-tensorboard/lib/python3.10/site-packages/tensorflow/python/eager/polymorphic_function/tracing_compilation.py:139\u001b[0m, in \u001b[0;36mcall_function\u001b[0;34m(args, kwargs, tracing_options)\u001b[0m\n\u001b[1;32m    137\u001b[0m bound_args \u001b[38;5;241m=\u001b[39m function\u001b[38;5;241m.\u001b[39mfunction_type\u001b[38;5;241m.\u001b[39mbind(\u001b[38;5;241m*\u001b[39margs, \u001b[38;5;241m*\u001b[39m\u001b[38;5;241m*\u001b[39mkwargs)\n\u001b[1;32m    138\u001b[0m flat_inputs \u001b[38;5;241m=\u001b[39m function\u001b[38;5;241m.\u001b[39mfunction_type\u001b[38;5;241m.\u001b[39munpack_inputs(bound_args)\n\u001b[0;32m--> 139\u001b[0m \u001b[38;5;28;01mreturn\u001b[39;00m \u001b[43mfunction\u001b[49m\u001b[38;5;241;43m.\u001b[39;49m\u001b[43m_call_flat\u001b[49m\u001b[43m(\u001b[49m\u001b[43m  \u001b[49m\u001b[38;5;66;43;03m# pylint: disable=protected-access\u001b[39;49;00m\n\u001b[1;32m    140\u001b[0m \u001b[43m    \u001b[49m\u001b[43mflat_inputs\u001b[49m\u001b[43m,\u001b[49m\u001b[43m \u001b[49m\u001b[43mcaptured_inputs\u001b[49m\u001b[38;5;241;43m=\u001b[39;49m\u001b[43mfunction\u001b[49m\u001b[38;5;241;43m.\u001b[39;49m\u001b[43mcaptured_inputs\u001b[49m\n\u001b[1;32m    141\u001b[0m \u001b[43m\u001b[49m\u001b[43m)\u001b[49m\n",
      "File \u001b[0;32m~/anaconda3/envs/pia-tensorboard/lib/python3.10/site-packages/tensorflow/python/eager/polymorphic_function/concrete_function.py:1322\u001b[0m, in \u001b[0;36mConcreteFunction._call_flat\u001b[0;34m(self, tensor_inputs, captured_inputs)\u001b[0m\n\u001b[1;32m   1318\u001b[0m possible_gradient_type \u001b[38;5;241m=\u001b[39m gradients_util\u001b[38;5;241m.\u001b[39mPossibleTapeGradientTypes(args)\n\u001b[1;32m   1319\u001b[0m \u001b[38;5;28;01mif\u001b[39;00m (possible_gradient_type \u001b[38;5;241m==\u001b[39m gradients_util\u001b[38;5;241m.\u001b[39mPOSSIBLE_GRADIENT_TYPES_NONE\n\u001b[1;32m   1320\u001b[0m     \u001b[38;5;129;01mand\u001b[39;00m executing_eagerly):\n\u001b[1;32m   1321\u001b[0m   \u001b[38;5;66;03m# No tape is watching; skip to running the function.\u001b[39;00m\n\u001b[0;32m-> 1322\u001b[0m   \u001b[38;5;28;01mreturn\u001b[39;00m \u001b[38;5;28;43mself\u001b[39;49m\u001b[38;5;241;43m.\u001b[39;49m\u001b[43m_inference_function\u001b[49m\u001b[38;5;241;43m.\u001b[39;49m\u001b[43mcall_preflattened\u001b[49m\u001b[43m(\u001b[49m\u001b[43margs\u001b[49m\u001b[43m)\u001b[49m\n\u001b[1;32m   1323\u001b[0m forward_backward \u001b[38;5;241m=\u001b[39m \u001b[38;5;28mself\u001b[39m\u001b[38;5;241m.\u001b[39m_select_forward_and_backward_functions(\n\u001b[1;32m   1324\u001b[0m     args,\n\u001b[1;32m   1325\u001b[0m     possible_gradient_type,\n\u001b[1;32m   1326\u001b[0m     executing_eagerly)\n\u001b[1;32m   1327\u001b[0m forward_function, args_with_tangents \u001b[38;5;241m=\u001b[39m forward_backward\u001b[38;5;241m.\u001b[39mforward()\n",
      "File \u001b[0;32m~/anaconda3/envs/pia-tensorboard/lib/python3.10/site-packages/tensorflow/python/eager/polymorphic_function/atomic_function.py:216\u001b[0m, in \u001b[0;36mAtomicFunction.call_preflattened\u001b[0;34m(self, args)\u001b[0m\n\u001b[1;32m    214\u001b[0m \u001b[38;5;28;01mdef\u001b[39;00m \u001b[38;5;21mcall_preflattened\u001b[39m(\u001b[38;5;28mself\u001b[39m, args: Sequence[core\u001b[38;5;241m.\u001b[39mTensor]) \u001b[38;5;241m-\u001b[39m\u001b[38;5;241m>\u001b[39m Any:\n\u001b[1;32m    215\u001b[0m \u001b[38;5;250m  \u001b[39m\u001b[38;5;124;03m\"\"\"Calls with flattened tensor inputs and returns the structured output.\"\"\"\u001b[39;00m\n\u001b[0;32m--> 216\u001b[0m   flat_outputs \u001b[38;5;241m=\u001b[39m \u001b[38;5;28;43mself\u001b[39;49m\u001b[38;5;241;43m.\u001b[39;49m\u001b[43mcall_flat\u001b[49m\u001b[43m(\u001b[49m\u001b[38;5;241;43m*\u001b[39;49m\u001b[43margs\u001b[49m\u001b[43m)\u001b[49m\n\u001b[1;32m    217\u001b[0m   \u001b[38;5;28;01mreturn\u001b[39;00m \u001b[38;5;28mself\u001b[39m\u001b[38;5;241m.\u001b[39mfunction_type\u001b[38;5;241m.\u001b[39mpack_output(flat_outputs)\n",
      "File \u001b[0;32m~/anaconda3/envs/pia-tensorboard/lib/python3.10/site-packages/tensorflow/python/eager/polymorphic_function/atomic_function.py:251\u001b[0m, in \u001b[0;36mAtomicFunction.call_flat\u001b[0;34m(self, *args)\u001b[0m\n\u001b[1;32m    249\u001b[0m \u001b[38;5;28;01mwith\u001b[39;00m record\u001b[38;5;241m.\u001b[39mstop_recording():\n\u001b[1;32m    250\u001b[0m   \u001b[38;5;28;01mif\u001b[39;00m \u001b[38;5;28mself\u001b[39m\u001b[38;5;241m.\u001b[39m_bound_context\u001b[38;5;241m.\u001b[39mexecuting_eagerly():\n\u001b[0;32m--> 251\u001b[0m     outputs \u001b[38;5;241m=\u001b[39m \u001b[38;5;28;43mself\u001b[39;49m\u001b[38;5;241;43m.\u001b[39;49m\u001b[43m_bound_context\u001b[49m\u001b[38;5;241;43m.\u001b[39;49m\u001b[43mcall_function\u001b[49m\u001b[43m(\u001b[49m\n\u001b[1;32m    252\u001b[0m \u001b[43m        \u001b[49m\u001b[38;5;28;43mself\u001b[39;49m\u001b[38;5;241;43m.\u001b[39;49m\u001b[43mname\u001b[49m\u001b[43m,\u001b[49m\n\u001b[1;32m    253\u001b[0m \u001b[43m        \u001b[49m\u001b[38;5;28;43mlist\u001b[39;49m\u001b[43m(\u001b[49m\u001b[43margs\u001b[49m\u001b[43m)\u001b[49m\u001b[43m,\u001b[49m\n\u001b[1;32m    254\u001b[0m \u001b[43m        \u001b[49m\u001b[38;5;28;43mlen\u001b[39;49m\u001b[43m(\u001b[49m\u001b[38;5;28;43mself\u001b[39;49m\u001b[38;5;241;43m.\u001b[39;49m\u001b[43mfunction_type\u001b[49m\u001b[38;5;241;43m.\u001b[39;49m\u001b[43mflat_outputs\u001b[49m\u001b[43m)\u001b[49m\u001b[43m,\u001b[49m\n\u001b[1;32m    255\u001b[0m \u001b[43m    \u001b[49m\u001b[43m)\u001b[49m\n\u001b[1;32m    256\u001b[0m   \u001b[38;5;28;01melse\u001b[39;00m:\n\u001b[1;32m    257\u001b[0m     outputs \u001b[38;5;241m=\u001b[39m make_call_op_in_graph(\n\u001b[1;32m    258\u001b[0m         \u001b[38;5;28mself\u001b[39m,\n\u001b[1;32m    259\u001b[0m         \u001b[38;5;28mlist\u001b[39m(args),\n\u001b[1;32m    260\u001b[0m         \u001b[38;5;28mself\u001b[39m\u001b[38;5;241m.\u001b[39m_bound_context\u001b[38;5;241m.\u001b[39mfunction_call_options\u001b[38;5;241m.\u001b[39mas_attrs(),\n\u001b[1;32m    261\u001b[0m     )\n",
      "File \u001b[0;32m~/anaconda3/envs/pia-tensorboard/lib/python3.10/site-packages/tensorflow/python/eager/context.py:1500\u001b[0m, in \u001b[0;36mContext.call_function\u001b[0;34m(self, name, tensor_inputs, num_outputs)\u001b[0m\n\u001b[1;32m   1498\u001b[0m cancellation_context \u001b[38;5;241m=\u001b[39m cancellation\u001b[38;5;241m.\u001b[39mcontext()\n\u001b[1;32m   1499\u001b[0m \u001b[38;5;28;01mif\u001b[39;00m cancellation_context \u001b[38;5;129;01mis\u001b[39;00m \u001b[38;5;28;01mNone\u001b[39;00m:\n\u001b[0;32m-> 1500\u001b[0m   outputs \u001b[38;5;241m=\u001b[39m \u001b[43mexecute\u001b[49m\u001b[38;5;241;43m.\u001b[39;49m\u001b[43mexecute\u001b[49m\u001b[43m(\u001b[49m\n\u001b[1;32m   1501\u001b[0m \u001b[43m      \u001b[49m\u001b[43mname\u001b[49m\u001b[38;5;241;43m.\u001b[39;49m\u001b[43mdecode\u001b[49m\u001b[43m(\u001b[49m\u001b[38;5;124;43m\"\u001b[39;49m\u001b[38;5;124;43mutf-8\u001b[39;49m\u001b[38;5;124;43m\"\u001b[39;49m\u001b[43m)\u001b[49m\u001b[43m,\u001b[49m\n\u001b[1;32m   1502\u001b[0m \u001b[43m      \u001b[49m\u001b[43mnum_outputs\u001b[49m\u001b[38;5;241;43m=\u001b[39;49m\u001b[43mnum_outputs\u001b[49m\u001b[43m,\u001b[49m\n\u001b[1;32m   1503\u001b[0m \u001b[43m      \u001b[49m\u001b[43minputs\u001b[49m\u001b[38;5;241;43m=\u001b[39;49m\u001b[43mtensor_inputs\u001b[49m\u001b[43m,\u001b[49m\n\u001b[1;32m   1504\u001b[0m \u001b[43m      \u001b[49m\u001b[43mattrs\u001b[49m\u001b[38;5;241;43m=\u001b[39;49m\u001b[43mattrs\u001b[49m\u001b[43m,\u001b[49m\n\u001b[1;32m   1505\u001b[0m \u001b[43m      \u001b[49m\u001b[43mctx\u001b[49m\u001b[38;5;241;43m=\u001b[39;49m\u001b[38;5;28;43mself\u001b[39;49m\u001b[43m,\u001b[49m\n\u001b[1;32m   1506\u001b[0m \u001b[43m  \u001b[49m\u001b[43m)\u001b[49m\n\u001b[1;32m   1507\u001b[0m \u001b[38;5;28;01melse\u001b[39;00m:\n\u001b[1;32m   1508\u001b[0m   outputs \u001b[38;5;241m=\u001b[39m execute\u001b[38;5;241m.\u001b[39mexecute_with_cancellation(\n\u001b[1;32m   1509\u001b[0m       name\u001b[38;5;241m.\u001b[39mdecode(\u001b[38;5;124m\"\u001b[39m\u001b[38;5;124mutf-8\u001b[39m\u001b[38;5;124m\"\u001b[39m),\n\u001b[1;32m   1510\u001b[0m       num_outputs\u001b[38;5;241m=\u001b[39mnum_outputs,\n\u001b[0;32m   (...)\u001b[0m\n\u001b[1;32m   1514\u001b[0m       cancellation_manager\u001b[38;5;241m=\u001b[39mcancellation_context,\n\u001b[1;32m   1515\u001b[0m   )\n",
      "File \u001b[0;32m~/anaconda3/envs/pia-tensorboard/lib/python3.10/site-packages/tensorflow/python/eager/execute.py:53\u001b[0m, in \u001b[0;36mquick_execute\u001b[0;34m(op_name, num_outputs, inputs, attrs, ctx, name)\u001b[0m\n\u001b[1;32m     51\u001b[0m \u001b[38;5;28;01mtry\u001b[39;00m:\n\u001b[1;32m     52\u001b[0m   ctx\u001b[38;5;241m.\u001b[39mensure_initialized()\n\u001b[0;32m---> 53\u001b[0m   tensors \u001b[38;5;241m=\u001b[39m \u001b[43mpywrap_tfe\u001b[49m\u001b[38;5;241;43m.\u001b[39;49m\u001b[43mTFE_Py_Execute\u001b[49m\u001b[43m(\u001b[49m\u001b[43mctx\u001b[49m\u001b[38;5;241;43m.\u001b[39;49m\u001b[43m_handle\u001b[49m\u001b[43m,\u001b[49m\u001b[43m \u001b[49m\u001b[43mdevice_name\u001b[49m\u001b[43m,\u001b[49m\u001b[43m \u001b[49m\u001b[43mop_name\u001b[49m\u001b[43m,\u001b[49m\n\u001b[1;32m     54\u001b[0m \u001b[43m                                      \u001b[49m\u001b[43minputs\u001b[49m\u001b[43m,\u001b[49m\u001b[43m \u001b[49m\u001b[43mattrs\u001b[49m\u001b[43m,\u001b[49m\u001b[43m \u001b[49m\u001b[43mnum_outputs\u001b[49m\u001b[43m)\u001b[49m\n\u001b[1;32m     55\u001b[0m \u001b[38;5;28;01mexcept\u001b[39;00m core\u001b[38;5;241m.\u001b[39m_NotOkStatusException \u001b[38;5;28;01mas\u001b[39;00m e:\n\u001b[1;32m     56\u001b[0m   \u001b[38;5;28;01mif\u001b[39;00m name \u001b[38;5;129;01mis\u001b[39;00m \u001b[38;5;129;01mnot\u001b[39;00m \u001b[38;5;28;01mNone\u001b[39;00m:\n",
      "\u001b[0;31mKeyboardInterrupt\u001b[0m: "
     ]
    }
   ],
   "source": [
    "checkpoint_filepath = 'models/manual_tuning_checkpoints/keras.weights.h5'\n",
    "\n",
    "\n",
    "currentmax = 0.6\n",
    "for i in range(100):\n",
    "    manual_adversary = keras.Sequential()\n",
    "    manual_adversary.add(keras.Input(shape=(adv_X.shape[1],)))\n",
    "    manual_adversary.add(keras.layers.Dense(28))\n",
    "    manual_adversary.add(keras.layers.Dense(6))\n",
    "    manual_adversary.add(keras.layers.Dense(1))\n",
    "    manual_adversary.compile(optimizer=keras.optimizers.Adam(), loss=keras.losses.MeanSquaredError(), metrics=[keras.metrics.R2Score()])\n",
    "    #manual_adversary.load_weights(\"adv_new_new_keras_xx_test_r2.keras\")\n",
    "    history = manual_adversary.fit(\n",
    "        adv_X, \n",
    "        adv_y, \n",
    "        epochs=200, \n",
    "        validation_data=(adv_X_test, adv_y_test), \n",
    "        verbose=0,\n",
    "        batch_size=10,\n",
    "        callbacks=[\n",
    "            keras.callbacks.EarlyStopping('val_r2_score', mode='max', patience=20, verbose=1),\n",
    "            keras.callbacks.ModelCheckpoint(\n",
    "                filepath=checkpoint_filepath,\n",
    "                save_weights_only=True,\n",
    "                monitor='val_r2_score',\n",
    "                mode='max',\n",
    "                save_best_only=True)\n",
    "        ])\n",
    "    newmax = max(history.history['val_r2_score'])\n",
    "    if newmax > currentmax:\n",
    "        print(f\"new max r2: {newmax}\")\n",
    "        currentmax = newmax\n",
    "        manual_adversary.load_weights(\"models/manual_tuning_checkpoints/keras.weights.h5\")\n",
    "        manual_adversary.save(\"adv_new_new_keras_xx_test_r2.keras\")"
   ]
  },
  {
   "cell_type": "code",
   "execution_count": 17,
   "id": "dd93a50f-1e37-4dfc-9e1a-27e5dbafc218",
   "metadata": {},
   "outputs": [
    {
     "data": {
      "text/plain": [
       "0.27153974771499634"
      ]
     },
     "execution_count": 17,
     "metadata": {},
     "output_type": "execute_result"
    }
   ],
   "source": [
    "\n"
   ]
  },
  {
   "cell_type": "code",
   "execution_count": 62,
   "id": "524b5723e40df1e",
   "metadata": {
    "ExecuteTime": {
     "end_time": "2024-01-18T15:22:49.883249471Z",
     "start_time": "2024-01-18T15:22:49.873779085Z"
    },
    "collapsed": false,
    "jupyter": {
     "outputs_hidden": false
    }
   },
   "outputs": [
    {
     "data": {
      "text/plain": [
       "<tensorflow.python.checkpoint.checkpoint.CheckpointLoadStatus at 0x7f52a8197c40>"
      ]
     },
     "execution_count": 62,
     "metadata": {},
     "output_type": "execute_result"
    }
   ],
   "source": [
    "manual_adversary.load_weights(\"models/manual_tuning_checkpoints/keras.weights.h\")"
   ]
  },
  {
   "cell_type": "code",
   "execution_count": 63,
   "id": "2981728c74bc4d9a",
   "metadata": {
    "ExecuteTime": {
     "end_time": "2024-01-18T15:23:07.666908996Z",
     "start_time": "2024-01-18T15:23:07.186852827Z"
    },
    "collapsed": false,
    "jupyter": {
     "outputs_hidden": false
    }
   },
   "outputs": [
    {
     "name": "stdout",
     "output_type": "stream",
     "text": [
      "57/57 [==============================] - 0s 2ms/step - loss: 0.0232 - r2_score: 0.6518\n"
     ]
    },
    {
     "data": {
      "text/plain": [
       "[0.02321377582848072, 0.6517935395240784]"
      ]
     },
     "execution_count": 63,
     "metadata": {},
     "output_type": "execute_result"
    }
   ],
   "source": [
    "manual_adversary.evaluate(adv_X_test, adv_y_test)"
   ]
  },
  {
   "cell_type": "code",
   "execution_count": 64,
   "id": "261039ea8f54d882",
   "metadata": {
    "ExecuteTime": {
     "end_time": "2024-01-18T15:23:49.295722667Z",
     "start_time": "2024-01-18T15:23:48.850945699Z"
    },
    "collapsed": false,
    "jupyter": {
     "outputs_hidden": false
    }
   },
   "outputs": [
    {
     "name": "stdout",
     "output_type": "stream",
     "text": [
      "INFO:tensorflow:Assets written to: adv_new_0.65_test_r2/assets\n"
     ]
    },
    {
     "name": "stderr",
     "output_type": "stream",
     "text": [
      "INFO:tensorflow:Assets written to: adv_new_0.65_test_r2/assets\n"
     ]
    }
   ],
   "source": [
    "manual_adversary.save(\"adv_new_0.65_test_r2\")"
   ]
  },
  {
   "cell_type": "code",
   "execution_count": null,
   "id": "5c6a31a82b4d7b92",
   "metadata": {
    "collapsed": false,
    "jupyter": {
     "outputs_hidden": false
    }
   },
   "outputs": [],
   "source": []
  }
 ],
 "metadata": {
  "kernelspec": {
   "display_name": "pia-tf",
   "language": "python",
   "name": "pia-tf"
  },
  "language_info": {
   "codemirror_mode": {
    "name": "ipython",
    "version": 3
   },
   "file_extension": ".py",
   "mimetype": "text/x-python",
   "name": "python",
   "nbconvert_exporter": "python",
   "pygments_lexer": "ipython3",
   "version": "3.10.9"
  }
 },
 "nbformat": 4,
 "nbformat_minor": 5
}
