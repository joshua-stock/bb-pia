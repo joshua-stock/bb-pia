{
 "cells": [
  {
   "cell_type": "markdown",
   "id": "432361102d149bcf",
   "metadata": {
    "collapsed": false
   },
   "source": [
    "## UTKFace Experiments (Black-Box PIA)\n",
    "### Load UTKFace dataset"
   ]
  },
  {
   "cell_type": "code",
   "execution_count": 1,
   "id": "bb542404e1ef0b40",
   "metadata": {
    "ExecuteTime": {
     "end_time": "2024-01-30T15:47:10.806742460Z",
     "start_time": "2024-01-30T15:47:07.160247498Z"
    },
    "collapsed": false
   },
   "outputs": [
    {
     "name": "stderr",
     "output_type": "stream",
     "text": [
      "2024-01-30 15:46:29.457006: I tensorflow/tsl/cuda/cudart_stub.cc:28] Could not find cuda drivers on your machine, GPU will not be used.\n",
      "2024-01-30 15:46:29.610719: E tensorflow/compiler/xla/stream_executor/cuda/cuda_dnn.cc:9342] Unable to register cuDNN factory: Attempting to register factory for plugin cuDNN when one has already been registered\n",
      "2024-01-30 15:46:29.610751: E tensorflow/compiler/xla/stream_executor/cuda/cuda_fft.cc:609] Unable to register cuFFT factory: Attempting to register factory for plugin cuFFT when one has already been registered\n",
      "2024-01-30 15:46:29.611589: E tensorflow/compiler/xla/stream_executor/cuda/cuda_blas.cc:1518] Unable to register cuBLAS factory: Attempting to register factory for plugin cuBLAS when one has already been registered\n",
      "2024-01-30 15:46:29.699602: I tensorflow/tsl/cuda/cudart_stub.cc:28] Could not find cuda drivers on your machine, GPU will not be used.\n",
      "2024-01-30 15:46:29.700956: I tensorflow/core/platform/cpu_feature_guard.cc:182] This TensorFlow binary is optimized to use available CPU instructions in performance-critical operations.\n",
      "To enable the following instructions: AVX2 FMA, in other operations, rebuild TensorFlow with the appropriate compiler flags.\n",
      "2024-01-30 15:46:30.681955: W tensorflow/compiler/tf2tensorrt/utils/py_utils.cc:38] TF-TRT Warning: Could not find TensorRT\n"
     ]
    }
   ],
   "source": [
    "from random import shuffle\n",
    "import os\n",
    "from keras.utils import load_img, img_to_array, to_categorical\n",
    "from keras.applications.mobilenet import preprocess_input\n",
    "import numpy as np\n",
    "\n",
    "\n",
    "def get_gender_classes(filelist):\n",
    "    gender = [i.split('_')[1] for i in filelist]\n",
    "\n",
    "    result = []\n",
    "    for i in gender:\n",
    "        i = int(i)\n",
    "        if i == 0:\n",
    "            result.append(0)\n",
    "        elif i == 1:\n",
    "            result.append(1)\n",
    "    return result\n",
    "\n",
    "\n",
    "def get_utkface_gender_prediction_dataset(files_dir):\n",
    "    onlyfiles = os.listdir(files_dir)\n",
    "    #if do_shuffle:\n",
    "    #    shuffle(onlyfiles)\n",
    "\n",
    "    gender_classes = get_gender_classes(onlyfiles)\n",
    "\n",
    "    # convert images to vectors\n",
    "    X = []\n",
    "    for file in onlyfiles:\n",
    "        image_path = os.path.join(files_dir, file)\n",
    "        rgb_image = load_img(image_path, target_size=(64, 64))\n",
    "        x = img_to_array(rgb_image)\n",
    "        #x = np.expand_dims(x, axis=0)\n",
    "        x = preprocess_input(x)\n",
    "        X.append(x)\n",
    "\n",
    "\n",
    "    # normalize data\n",
    "    #X = X.astype('float32')\n",
    "    #X /= 255\n",
    "\n",
    "    Y = to_categorical(gender_classes, num_classes=2)\n",
    "    X = np.asarray(X)\n",
    "    \n",
    "    return X, Y, onlyfiles\n"
   ]
  },
  {
   "cell_type": "code",
   "execution_count": 2,
   "id": "a48a86f70e83c45",
   "metadata": {
    "ExecuteTime": {
     "end_time": "2024-01-30T15:47:24.236592703Z",
     "start_time": "2024-01-30T15:47:10.773476941Z"
    },
    "collapsed": false
   },
   "outputs": [],
   "source": [
    "utk_root = 'data/utkface'\n",
    "X, Y, onlyfiles = get_utkface_gender_prediction_dataset(utk_root)"
   ]
  },
  {
   "cell_type": "code",
   "execution_count": 3,
   "id": "b6d189abd8885c60",
   "metadata": {
    "ExecuteTime": {
     "end_time": "2024-01-30T15:47:24.290914477Z",
     "start_time": "2024-01-30T15:47:24.240825511Z"
    },
    "collapsed": false
   },
   "outputs": [
    {
     "data": {
      "text/plain": [
       "(64, 64, 3)"
      ]
     },
     "execution_count": 3,
     "metadata": {},
     "output_type": "execute_result"
    }
   ],
   "source": [
    "X[0].shape"
   ]
  },
  {
   "cell_type": "code",
   "execution_count": 4,
   "id": "551036a0584515ac",
   "metadata": {
    "ExecuteTime": {
     "end_time": "2024-01-30T15:47:30.926561316Z",
     "start_time": "2024-01-30T15:47:24.294696033Z"
    },
    "collapsed": false
   },
   "outputs": [],
   "source": [
    "from sklearn.model_selection import train_test_split\n",
    "X_train, X_test, y_train, y_test = train_test_split(X, Y, test_size=0.2, random_state=42)"
   ]
  },
  {
   "cell_type": "markdown",
   "id": "a684a79bb8c9a10d",
   "metadata": {
    "collapsed": false
   },
   "source": [
    "### MobileNet for UTKFace"
   ]
  },
  {
   "cell_type": "code",
   "execution_count": 5,
   "id": "6551bcd7b4b220d2",
   "metadata": {
    "ExecuteTime": {
     "end_time": "2024-01-30T15:47:32.758632235Z",
     "start_time": "2024-01-30T15:47:30.926392376Z"
    },
    "collapsed": false
   },
   "outputs": [
    {
     "name": "stdout",
     "output_type": "stream",
     "text": [
      "WARNING:tensorflow:`input_shape` is undefined or non-square, or `rows` is not 224. Weights for input shape (224, 224) will be loaded as the default.\n"
     ]
    }
   ],
   "source": [
    "from keras.applications import MobileNetV3Small\n",
    "from keras.models import Model, Sequential\n",
    "from keras.layers import Dense, Dropout, GlobalAveragePooling2D\n",
    "from keras.optimizers import Adam, AdamW, RMSprop, SGD\n",
    "from keras.losses import CategoricalCrossentropy\n",
    "\n",
    "mobilenet_mdl = MobileNetV3Small(\n",
    "    include_top=False,\n",
    "    input_shape=(64, 64, 3),\n",
    "    weights=\"imagenet\",\n",
    "    alpha=0.75\n",
    ")"
   ]
  },
  {
   "cell_type": "code",
   "execution_count": 6,
   "id": "f1aa06afdd32c348",
   "metadata": {
    "ExecuteTime": {
     "end_time": "2024-01-30T15:47:32.759809128Z",
     "start_time": "2024-01-30T15:47:32.758487721Z"
    },
    "collapsed": false
   },
   "outputs": [],
   "source": [
    "def head_model(base_model, n_classes):\n",
    "    top_model = base_model.output\n",
    "    top_model = GlobalAveragePooling2D()(top_model)\n",
    "    top_model = Dropout(0.2)(top_model)\n",
    "    top_model = Dense(n_classes, activation=\"softmax\")(top_model)\n",
    "    return top_model"
   ]
  },
  {
   "cell_type": "code",
   "execution_count": 7,
   "id": "1da886367711d3d5",
   "metadata": {
    "ExecuteTime": {
     "end_time": "2024-01-30T15:47:33.044027627Z",
     "start_time": "2024-01-30T15:47:32.758736369Z"
    },
    "collapsed": false
   },
   "outputs": [],
   "source": [
    "model_mobilenet_head = head_model(mobilenet_mdl, len(Y[0]))\n",
    "model_mobilenet = Model(inputs = mobilenet_mdl.input, outputs = model_mobilenet_head)"
   ]
  },
  {
   "cell_type": "code",
   "execution_count": 10,
   "id": "f3d45bdb83458ba",
   "metadata": {
    "ExecuteTime": {
     "end_time": "2024-01-30T15:47:33.089055180Z",
     "start_time": "2024-01-30T15:47:33.055852930Z"
    },
    "collapsed": false
   },
   "outputs": [],
   "source": [
    "model_mobilenet.compile(\n",
    "    optimizer=AdamW(learning_rate=0.0001, weight_decay=0.0001),\n",
    "    loss=CategoricalCrossentropy(),\n",
    "    metrics=['accuracy']\n",
    ")"
   ]
  },
  {
   "cell_type": "code",
   "execution_count": 11,
   "id": "60f887e5748dba06",
   "metadata": {
    "ExecuteTime": {
     "end_time": "2024-01-30T15:55:33.056235839Z",
     "start_time": "2024-01-30T15:47:33.066236171Z"
    },
    "collapsed": false
   },
   "outputs": [
    {
     "name": "stderr",
     "output_type": "stream",
     "text": [
      "2024-01-30 15:47:00.809917: W tensorflow/tsl/framework/cpu_allocator_impl.cc:83] Allocation of 932216832 exceeds 10% of free system memory.\n"
     ]
    },
    {
     "name": "stdout",
     "output_type": "stream",
     "text": [
      "Epoch 1/12\n",
      "592/593 [============================>.] - ETA: 0s - loss: 0.8612 - accuracy: 0.6100"
     ]
    },
    {
     "name": "stderr",
     "output_type": "stream",
     "text": [
      "2024-01-30 15:47:55.582384: W tensorflow/tsl/framework/cpu_allocator_impl.cc:83] Allocation of 233078784 exceeds 10% of free system memory.\n"
     ]
    },
    {
     "name": "stdout",
     "output_type": "stream",
     "text": [
      "593/593 [==============================] - 56s 77ms/step - loss: 0.8607 - accuracy: 0.6101 - val_loss: 0.6915 - val_accuracy: 0.5363\n",
      "Epoch 2/12\n",
      "593/593 [==============================] - 35s 60ms/step - loss: 0.6268 - accuracy: 0.6855 - val_loss: 0.6886 - val_accuracy: 0.5236\n",
      "Epoch 3/12\n",
      "593/593 [==============================] - 34s 58ms/step - loss: 0.5454 - accuracy: 0.7305 - val_loss: 0.6708 - val_accuracy: 0.5865\n",
      "Epoch 4/12\n",
      "593/593 [==============================] - 36s 60ms/step - loss: 0.4929 - accuracy: 0.7616 - val_loss: 0.6917 - val_accuracy: 0.5451\n",
      "Epoch 5/12\n",
      "593/593 [==============================] - 41s 69ms/step - loss: 0.4466 - accuracy: 0.7912 - val_loss: 0.7508 - val_accuracy: 0.5472\n",
      "Epoch 6/12\n",
      "593/593 [==============================] - 40s 67ms/step - loss: 0.4087 - accuracy: 0.8104 - val_loss: 0.8500 - val_accuracy: 0.5559\n",
      "Epoch 7/12\n",
      "593/593 [==============================] - 38s 65ms/step - loss: 0.3797 - accuracy: 0.8274 - val_loss: 0.6089 - val_accuracy: 0.6913\n",
      "Epoch 8/12\n",
      "593/593 [==============================] - 39s 66ms/step - loss: 0.3463 - accuracy: 0.8437 - val_loss: 0.5584 - val_accuracy: 0.7229\n",
      "Epoch 9/12\n",
      "593/593 [==============================] - 36s 61ms/step - loss: 0.3263 - accuracy: 0.8510 - val_loss: 0.9408 - val_accuracy: 0.5953\n",
      "Epoch 10/12\n",
      "593/593 [==============================] - 37s 62ms/step - loss: 0.3038 - accuracy: 0.8653 - val_loss: 0.4557 - val_accuracy: 0.7889\n",
      "Epoch 11/12\n",
      "593/593 [==============================] - 40s 67ms/step - loss: 0.2801 - accuracy: 0.8757 - val_loss: 0.5911 - val_accuracy: 0.6968\n",
      "Epoch 12/12\n",
      "593/593 [==============================] - 38s 63ms/step - loss: 0.2713 - accuracy: 0.8809 - val_loss: 0.4347 - val_accuracy: 0.8113\n"
     ]
    }
   ],
   "source": [
    "history = model_mobilenet.fit(\n",
    "    X_train, y_train,\n",
    "    epochs=12,\n",
    "    batch_size=32,\n",
    "    validation_data=(X_test, y_test)\n",
    ")"
   ]
  },
  {
   "cell_type": "code",
   "id": "354cc79dcb3627ac",
   "metadata": {
    "ExecuteTime": {
     "start_time": "2024-01-30T15:46:28.287923012Z"
    },
    "collapsed": false
   },
   "outputs": [],
   "source": [
    "# additional training round\n",
    "model_mobilenet.fit(\n",
    "    X_train, y_train,\n",
    "    epochs=1,\n",
    "    batch_size=32,\n",
    "    validation_data=(X_test, y_test)\n",
    ")"
   ]
  },
  {
   "cell_type": "code",
   "execution_count": 13,
   "id": "c8774c8872dfead1",
   "metadata": {
    "ExecuteTime": {
     "end_time": "2024-01-30T15:55:55.512714475Z",
     "start_time": "2024-01-30T15:55:53.326026626Z"
    },
    "collapsed": false
   },
   "outputs": [],
   "source": [
    "model_mobilenet.save('models/mobilenet_utkface.keras')"
   ]
  },
  {
   "cell_type": "code",
   "execution_count": 14,
   "id": "963be2ae30cac002",
   "metadata": {
    "ExecuteTime": {
     "end_time": "2024-01-30T15:56:00.451038594Z",
     "start_time": "2024-01-30T15:55:59.819580010Z"
    },
    "collapsed": false
   },
   "outputs": [
    {
     "data": {
      "image/png": "[encoded data removed]",
      "text/plain": [
       "<Figure size 1200x600 with 2 Axes>"
      ]
     },
     "metadata": {},
     "output_type": "display_data"
    }
   ],
   "source": [
    "import matplotlib.pyplot as plt\n",
    "\n",
    "# Plot training & validation accuracy values\n",
    "plt.figure(figsize=(12, 6))\n",
    "plt.subplot(1, 2, 1)\n",
    "plt.plot(history.history['accuracy'])\n",
    "plt.plot(history.history['val_accuracy'])\n",
    "plt.title('Model accuracy')\n",
    "plt.ylabel('Accuracy')\n",
    "plt.xlabel('Epoch')\n",
    "plt.legend(['Train', 'Test'], loc='upper left')\n",
    "\n",
    "# Plot training & validation loss values\n",
    "plt.subplot(1, 2, 2)\n",
    "plt.plot(history.history['loss'])\n",
    "plt.plot(history.history['val_loss'])\n",
    "plt.title('Model loss')\n",
    "plt.ylabel('Loss')\n",
    "plt.xlabel('Epoch')\n",
    "plt.legend(['Train', 'Test'], loc='upper left')\n",
    "\n",
    "plt.tight_layout()\n",
    "plt.show()"
   ]
  },
  {
   "cell_type": "markdown",
   "id": "a5b4bf2770e31f9e",
   "metadata": {
    "collapsed": false
   },
   "source": [
    "## Labelled Faces in the Wild (LFW)\n",
    "used to generate the adversary input"
   ]
  },
  {
   "cell_type": "code",
   "execution_count": 19,
   "id": "a9013f6bef69ce33",
   "metadata": {
    "ExecuteTime": {
     "end_time": "2024-01-30T15:57:02.432038406Z",
     "start_time": "2024-01-30T15:57:02.396151428Z"
    },
    "collapsed": false
   },
   "outputs": [],
   "source": [
    "import os\n",
    "lfw_root = 'data/lfw-deepfunneled'\n",
    "all_lfw_names = os.listdir(lfw_root)"
   ]
  },
  {
   "cell_type": "code",
   "execution_count": 20,
   "id": "959e3cbcd148ec4c",
   "metadata": {
    "ExecuteTime": {
     "end_time": "2024-01-30T15:57:11.342270734Z",
     "start_time": "2024-01-30T15:57:02.581333324Z"
    },
    "collapsed": false
   },
   "outputs": [],
   "source": [
    "from keras.utils import load_img, img_to_array\n",
    "from keras.applications.mobilenet import preprocess_input\n",
    "import numpy as np\n",
    "\n",
    "X = []\n",
    "\n",
    "for name in all_lfw_names:\n",
    "    dir_path = os.path.join(lfw_root, name)\n",
    "    list_images_name = os.listdir(dir_path)\n",
    "    \n",
    "    for image_name in list_images_name:\n",
    "        image_path = os.path.join(dir_path, image_name)\n",
    "        rgb_image = load_img(image_path, target_size=(64, 64))\n",
    "        x = img_to_array(rgb_image)\n",
    "        x = preprocess_input(x)\n",
    "        X.append(x)\n",
    "\n",
    "X = np.asarray(X)"
   ]
  },
  {
   "cell_type": "code",
   "execution_count": 22,
   "id": "e98fdab1e1839a2",
   "metadata": {
    "ExecuteTime": {
     "end_time": "2024-01-30T15:57:31.724507742Z",
     "start_time": "2024-01-30T15:57:31.698541675Z"
    },
    "collapsed": false
   },
   "outputs": [
    {
     "data": {
      "text/plain": [
       "(13233, 64, 64, 3)"
      ]
     },
     "execution_count": 22,
     "metadata": {},
     "output_type": "execute_result"
    }
   ],
   "source": [
    "X.shape"
   ]
  },
  {
   "cell_type": "code",
   "execution_count": 23,
   "id": "bedcefbebe46c901",
   "metadata": {
    "ExecuteTime": {
     "end_time": "2024-01-30T15:59:20.028923931Z",
     "start_time": "2024-01-30T15:59:19.960941800Z"
    },
    "collapsed": false
   },
   "outputs": [
    {
     "name": "stdout",
     "output_type": "stream",
     "text": [
      "1/1 [==============================] - 0s 28ms/step\n"
     ]
    },
    {
     "data": {
      "text/plain": [
       "array([0.7559279 , 0.48840132, 0.7340921 , 0.8609187 , 0.7699364 ,\n",
       "       0.68796015, 0.21983624, 0.8552622 , 0.889545  , 0.8320167 ],\n",
       "      dtype=float32)"
      ]
     },
     "execution_count": 23,
     "metadata": {},
     "output_type": "execute_result"
    }
   ],
   "source": [
    "model_mobilenet.predict(X[0:10])[:, 0]"
   ]
  },
  {
   "cell_type": "code",
   "id": "81f447fa860d101",
   "metadata": {
    "collapsed": false
   },
   "outputs": [],
   "source": []
  }
 ],
 "metadata": {
  "kernelspec": {
   "display_name": "pia1",
   "language": "python",
   "name": "pia1"
  },
  "language_info": {
   "codemirror_mode": {
    "name": "ipython",
    "version": 2
   },
   "file_extension": ".py",
   "mimetype": "text/x-python",
   "name": "python",
   "nbconvert_exporter": "python",
   "pygments_lexer": "ipython2",
   "version": "2.7.6"
  }
 },
 "nbformat": 4,
 "nbformat_minor": 5
}
